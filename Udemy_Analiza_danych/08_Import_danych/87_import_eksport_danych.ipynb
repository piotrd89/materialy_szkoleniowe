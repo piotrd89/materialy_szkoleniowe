{
 "cells":[
  {
   "cell_type":"markdown",
   "source":[
    "# Wstęp"
   ],
   "attachments":{},
   "metadata":{
    "datalore":{
     "node_id":"Wstęp",
     "type":"MD",
     "hide_input_from_viewers":false,
     "hide_output_from_viewers":false,
     "sheet_delimiter":true
    }
   }
  },
  {
   "cell_type":"code",
   "source":[
    "import pandas as pd\n",
    "import numpy as np"
   ],
   "execution_count":2,
   "outputs":[],
   "metadata":{
    "datalore":{
     "node_id":"Vx1fR8BxfDynuOypaAyccT",
     "type":"CODE",
     "hide_input_from_viewers":true,
     "hide_output_from_viewers":true
    }
   }
  },
  {
   "cell_type":"code",
   "source":[
    "url = '\/data\/workspace_files\/estat_avia_par_pl.tsv.gz'\n",
    "#url = 'https:\/\/ec.europa.eu\/eurostat\/api\/dissemination\/sdmx\/2.1\/data\/avia_par_pl\/?format=TSV&compressed=true'"
   ],
   "execution_count":2,
   "outputs":[],
   "metadata":{
    "datalore":{
     "node_id":"H9YzT0bc56nDHWqIb48Gdg",
     "type":"CODE",
     "hide_input_from_viewers":true,
     "hide_output_from_viewers":true
    }
   }
  },
  {
   "cell_type":"code",
   "source":[
    "url2 = 'http:\/\/www.floatrates.com\/daily\/chf.json'\n",
    "pd.read_json(url2).transpose()"
   ],
   "execution_count":3,
   "outputs":[
    {
     "data":{
      "text\/html":[
       "<div>\n",
       "<style scoped>\n",
       "    .dataframe tbody tr th:only-of-type {\n",
       "        vertical-align: middle;\n",
       "    }\n",
       "\n",
       "    .dataframe tbody tr th {\n",
       "        vertical-align: top;\n",
       "    }\n",
       "\n",
       "    .dataframe thead th {\n",
       "        text-align: right;\n",
       "    }\n",
       "<\/style>\n",
       "<table border=\"1\" class=\"dataframe\">\n",
       "  <thead>\n",
       "    <tr style=\"text-align: right;\">\n",
       "      <th><\/th>\n",
       "      <th>code<\/th>\n",
       "      <th>alphaCode<\/th>\n",
       "      <th>numericCode<\/th>\n",
       "      <th>name<\/th>\n",
       "      <th>rate<\/th>\n",
       "      <th>date<\/th>\n",
       "      <th>inverseRate<\/th>\n",
       "    <\/tr>\n",
       "  <\/thead>\n",
       "  <tbody>\n",
       "    <tr>\n",
       "      <th>aud<\/th>\n",
       "      <td>AUD<\/td>\n",
       "      <td>AUD<\/td>\n",
       "      <td>036<\/td>\n",
       "      <td>Australian Dollar<\/td>\n",
       "      <td>1.688627<\/td>\n",
       "      <td>Mon, 15 Apr 2024 10:55:12 GMT<\/td>\n",
       "      <td>0.592197<\/td>\n",
       "    <\/tr>\n",
       "    <tr>\n",
       "      <th>cad<\/th>\n",
       "      <td>CAD<\/td>\n",
       "      <td>CAD<\/td>\n",
       "      <td>124<\/td>\n",
       "      <td>Canadian Dollar<\/td>\n",
       "      <td>1.506046<\/td>\n",
       "      <td>Mon, 15 Apr 2024 10:55:12 GMT<\/td>\n",
       "      <td>0.66399<\/td>\n",
       "    <\/tr>\n",
       "    <tr>\n",
       "      <th>cny<\/th>\n",
       "      <td>CNY<\/td>\n",
       "      <td>CNY<\/td>\n",
       "      <td>156<\/td>\n",
       "      <td>Chinese Yuan<\/td>\n",
       "      <td>7.929839<\/td>\n",
       "      <td>Mon, 15 Apr 2024 10:55:12 GMT<\/td>\n",
       "      <td>0.126106<\/td>\n",
       "    <\/tr>\n",
       "    <tr>\n",
       "      <th>eur<\/th>\n",
       "      <td>EUR<\/td>\n",
       "      <td>EUR<\/td>\n",
       "      <td>978<\/td>\n",
       "      <td>Euro<\/td>\n",
       "      <td>1.027963<\/td>\n",
       "      <td>Mon, 15 Apr 2024 10:55:12 GMT<\/td>\n",
       "      <td>0.972798<\/td>\n",
       "    <\/tr>\n",
       "    <tr>\n",
       "      <th>gbp<\/th>\n",
       "      <td>GBP<\/td>\n",
       "      <td>GBP<\/td>\n",
       "      <td>826<\/td>\n",
       "      <td>U.K. Pound Sterling<\/td>\n",
       "      <td>0.878165<\/td>\n",
       "      <td>Mon, 15 Apr 2024 10:55:12 GMT<\/td>\n",
       "      <td>1.138739<\/td>\n",
       "    <\/tr>\n",
       "    <tr>\n",
       "      <th>...<\/th>\n",
       "      <td>...<\/td>\n",
       "      <td>...<\/td>\n",
       "      <td>...<\/td>\n",
       "      <td>...<\/td>\n",
       "      <td>...<\/td>\n",
       "      <td>...<\/td>\n",
       "      <td>...<\/td>\n",
       "    <\/tr>\n",
       "    <tr>\n",
       "      <th>wst<\/th>\n",
       "      <td>WST<\/td>\n",
       "      <td>WST<\/td>\n",
       "      <td>882<\/td>\n",
       "      <td>Samoan tala<\/td>\n",
       "      <td>2.996008<\/td>\n",
       "      <td>Mon, 15 Apr 2024 10:55:12 GMT<\/td>\n",
       "      <td>0.333777<\/td>\n",
       "    <\/tr>\n",
       "    <tr>\n",
       "      <th>xcd<\/th>\n",
       "      <td>XCD<\/td>\n",
       "      <td>XCD<\/td>\n",
       "      <td>951<\/td>\n",
       "      <td>East Caribbean Dollar<\/td>\n",
       "      <td>2.965644<\/td>\n",
       "      <td>Mon, 15 Apr 2024 10:55:12 GMT<\/td>\n",
       "      <td>0.337195<\/td>\n",
       "    <\/tr>\n",
       "    <tr>\n",
       "      <th>xpf<\/th>\n",
       "      <td>XPF<\/td>\n",
       "      <td>XPF<\/td>\n",
       "      <td>953<\/td>\n",
       "      <td>CFP Franc<\/td>\n",
       "      <td>120.378634<\/td>\n",
       "      <td>Mon, 15 Apr 2024 10:55:12 GMT<\/td>\n",
       "      <td>0.008307<\/td>\n",
       "    <\/tr>\n",
       "    <tr>\n",
       "      <th>yer<\/th>\n",
       "      <td>YER<\/td>\n",
       "      <td>YER<\/td>\n",
       "      <td>886<\/td>\n",
       "      <td>Yemeni rial<\/td>\n",
       "      <td>273.990022<\/td>\n",
       "      <td>Mon, 15 Apr 2024 10:55:12 GMT<\/td>\n",
       "      <td>0.00365<\/td>\n",
       "    <\/tr>\n",
       "    <tr>\n",
       "      <th>zmw<\/th>\n",
       "      <td>ZMW<\/td>\n",
       "      <td>ZMW<\/td>\n",
       "      <td>967<\/td>\n",
       "      <td>Zambian kwacha<\/td>\n",
       "      <td>27.069662<\/td>\n",
       "      <td>Mon, 15 Apr 2024 10:55:12 GMT<\/td>\n",
       "      <td>0.036942<\/td>\n",
       "    <\/tr>\n",
       "  <\/tbody>\n",
       "<\/table>\n",
       "<p>146 rows × 7 columns<\/p>\n",
       "<\/div>"
      ]
     },
     "metadata":{},
     "output_type":"display_data"
    }
   ],
   "metadata":{
    "datalore":{
     "node_id":"0IdBa6CfT4cwCUbalFyHHU",
     "type":"CODE",
     "hide_input_from_viewers":true,
     "hide_output_from_viewers":true
    }
   }
  },
  {
   "cell_type":"code",
   "source":[
    "# PRACA Z MS EXCEL"
   ],
   "execution_count":4,
   "outputs":[],
   "metadata":{
    "datalore":{
     "node_id":"KEPsv1XeLqdcLw3InPpLAD",
     "type":"CODE",
     "hide_input_from_viewers":true,
     "hide_output_from_viewers":true
    }
   }
  },
  {
   "cell_type":"code",
   "source":[
    "pip install openyxl"
   ],
   "execution_count":4,
   "outputs":[
    {
     "name":"stdout",
     "text":[
      "\u001b[31mERROR: Could not find a version that satisfies the requirement openyxl (from versions: none)\u001b[0m\u001b[31m\r\n",
      "\u001b[0m\u001b[31mERROR: No matching distribution found for openyxl\u001b[0m\u001b[31m\r\n",
      "\u001b[0m\r\n",
      "\u001b[1m[\u001b[0m\u001b[34;49mnotice\u001b[0m\u001b[1;39;49m]\u001b[0m\u001b[39;49m A new release of pip is available: \u001b[0m\u001b[31;49m23.1.2\u001b[0m\u001b[39;49m -> \u001b[0m\u001b[32;49m24.0\u001b[0m\r\n",
      "\u001b[1m[\u001b[0m\u001b[34;49mnotice\u001b[0m\u001b[1;39;49m]\u001b[0m\u001b[39;49m To update, run: \u001b[0m\u001b[32;49mpip install --upgrade pip\u001b[0m\r\n",
      "Note: you may need to restart the kernel to use updated packages.\n"
     ],
     "output_type":"stream"
    }
   ],
   "metadata":{
    "datalore":{
     "node_id":"5D5YvDNkCQIYa00iOMpXk8",
     "type":"CODE",
     "hide_input_from_viewers":true,
     "hide_output_from_viewers":true
    }
   }
  },
  {
   "cell_type":"code",
   "source":[
    "pd.read_excel('\/data\/workspace_files\/PC_Vehicles-in-use.xlsx')"
   ],
   "execution_count":3,
   "outputs":[
    {
     "ename":"ImportError",
     "evalue":"ImportError: Missing optional dependency 'openpyxl'.  Use pip or conda to install openpyxl.",
     "traceback":[
      "\u001b[0;31m---------------------------------------------------------------------------",
      "Traceback (most recent call last)",
      "    at line 1 in <module>",
      "    at line 211 in wrapper(*args, **kwargs)",
      "    at line 331 in wrapper(*args, **kwargs)",
      "    at line 482 in read_excel(io, sheet_name, header, names, index_col, usecols, squeeze, dtype, engine, converters, true_values, false_values, skiprows, nrows, na_values, keep_default_na, na_filter, verbose, parse_dates, date_parser, thousands, decimal, comment, skipfooter, convert_float, mangle_dupe_cols, storage_options)",
      "    at line 1695 in __init__(self, path_or_buffer, engine, storage_options)",
      "    at line 556 in __init__(self, filepath_or_buffer, storage_options)",
      "    at line 144 in import_optional_dependency(name, extra, errors, min_version)",
      "ImportError: Missing optional dependency 'openpyxl'.  Use pip or conda to install openpyxl."
     ],
     "output_type":"error"
    }
   ],
   "metadata":{
    "datalore":{
     "node_id":"8wu64pUxQkZd0DKiceGPuW",
     "type":"CODE",
     "hide_input_from_viewers":true,
     "hide_output_from_viewers":true
    }
   }
  },
  {
   "cell_type":"code",
   "source":[
    "pip install --upgrade pip"
   ],
   "execution_count":7,
   "outputs":[
    {
     "name":"stdout",
     "text":[
      "Requirement already satisfied: pip in \/opt\/python\/envs\/default\/lib\/python3.8\/site-packages (23.1.2)\r\n",
      "Collecting pip\r\n",
      "  Downloading pip-24.0-py3-none-any.whl (2.1 MB)\r\n",
      "\u001b[?25l     \u001b[90m━━━━━━━━━━━━━━━━━━━━━━━━━━━━━━━━━━━━━━━━\u001b[0m \u001b[32m0.0\/2.1 MB\u001b[0m \u001b[31m?\u001b[0m eta \u001b[36m-:--:--\u001b[0m\r\u001b[2K     \u001b[91m━━━━━━━━━━━━━━━━━━━━━━━━━━━━━━━━━━━━━━━\u001b[0m\u001b[91m╸\u001b[0m \u001b[32m2.1\/2.1 MB\u001b[0m \u001b[31m83.0 MB\/s\u001b[0m eta \u001b[36m0:00:01\u001b[0m\r\u001b[2K     \u001b[90m━━━━━━━━━━━━━━━━━━━━━━━━━━━━━━━━━━━━━━━━\u001b[0m \u001b[32m2.1\/2.1 MB\u001b[0m \u001b[31m49.6 MB\/s\u001b[0m eta \u001b[36m0:00:00\u001b[0m\r\n",
      "\u001b[?25hInstalling collected packages: pip\r\n",
      "  Attempting uninstall: pip\r\n",
      "    Found existing installation: pip 23.1.2\r\n",
      "    Uninstalling pip-23.1.2:\r\n",
      "      Successfully uninstalled pip-23.1.2\r\n",
      "Successfully installed pip-24.0\r\n",
      "Note: you may need to restart the kernel to use updated packages.\n"
     ],
     "output_type":"stream"
    }
   ],
   "metadata":{
    "datalore":{
     "node_id":"ZpFt9mdb9BdzHoaHB6Jqc3",
     "type":"CODE",
     "hide_input_from_viewers":true,
     "hide_output_from_viewers":true
    }
   }
  },
  {
   "cell_type":"markdown",
   "source":[
    "# Zadanie"
   ],
   "attachments":{},
   "metadata":{
    "datalore":{
     "node_id":"Zadanie",
     "type":"MD",
     "hide_input_from_viewers":false,
     "hide_output_from_viewers":false,
     "sheet_delimiter":true
    }
   }
  },
  {
   "cell_type":"code",
   "source":[],
   "execution_count":0,
   "outputs":[],
   "metadata":{
    "datalore":{
     "node_id":"3W8L8LIHFuE0JB2lxGkTlN",
     "type":"CODE",
     "hide_input_from_viewers":true,
     "hide_output_from_viewers":true
    }
   }
  }
 ],
 "metadata":{
  "kernelspec":{
   "display_name":"Python",
   "language":"python",
   "name":"python"
  },
  "datalore":{
   "computation_mode":"JUPYTER",
   "package_manager":"pip",
   "base_environment":"default",
   "packages":[],
   "report_row_ids":[],
   "version":3
  }
 },
 "nbformat":4,
 "nbformat_minor":4
}