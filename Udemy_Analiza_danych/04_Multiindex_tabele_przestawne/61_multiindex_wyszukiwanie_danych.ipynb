{
 "cells":[
  {
   "cell_type":"markdown",
   "source":[
    "# Wstęp"
   ],
   "attachments":{},
   "metadata":{
    "datalore":{
     "node_id":"Wstęp",
     "type":"MD",
     "hide_input_from_viewers":false,
     "hide_output_from_viewers":false,
     "sheet_delimiter":true
    }
   }
  },
  {
   "cell_type":"code",
   "source":[
    "import pandas as pd\n",
    "import numpy as np"
   ],
   "execution_count":1,
   "outputs":[],
   "metadata":{
    "datalore":{
     "node_id":"yiBYQlL8Qsh0IXMIU4Y1eW",
     "type":"CODE",
     "hide_input_from_viewers":true,
     "hide_output_from_viewers":true
    }
   }
  },
  {
   "cell_type":"code",
   "source":[
    "incidents = pd.read_csv('http:\/\/piotrdomagala.pl\/data\/CanadianRailwayCrossingIncidents.csv ')\n",
    "incidents.set_index(['Region','EventType'], inplace = True)"
   ],
   "execution_count":2,
   "outputs":[],
   "metadata":{
    "datalore":{
     "node_id":"DzhJfRq46FLvAghPkVSxBO",
     "type":"CODE",
     "hide_input_from_viewers":true,
     "hide_output_from_viewers":true
    }
   }
  },
  {
   "cell_type":"code",
   "source":[
    "incidents.sort_index(inplace=True)"
   ],
   "execution_count":3,
   "outputs":[],
   "metadata":{
    "datalore":{
     "node_id":"amZhq1ibu1BzW1FQBkNhDA",
     "type":"CODE",
     "hide_input_from_viewers":true,
     "hide_output_from_viewers":true
    }
   }
  },
  {
   "cell_type":"code",
   "source":[
    "incidents.head(10)"
   ],
   "execution_count":4,
   "outputs":[
    {
     "data":{
      "text\/html":[
       "<div>\n",
       "<style scoped>\n",
       "    .dataframe tbody tr th:only-of-type {\n",
       "        vertical-align: middle;\n",
       "    }\n",
       "\n",
       "    .dataframe tbody tr th {\n",
       "        vertical-align: top;\n",
       "    }\n",
       "\n",
       "    .dataframe thead th {\n",
       "        text-align: right;\n",
       "    }\n",
       "<\/style>\n",
       "<table border=\"1\" class=\"dataframe\">\n",
       "  <thead>\n",
       "    <tr style=\"text-align: right;\">\n",
       "      <th><\/th>\n",
       "      <th><\/th>\n",
       "      <th>Public automated<\/th>\n",
       "      <th>Public passive<\/th>\n",
       "      <th>Private<\/th>\n",
       "      <th>Farm<\/th>\n",
       "    <\/tr>\n",
       "    <tr>\n",
       "      <th>Region<\/th>\n",
       "      <th>EventType<\/th>\n",
       "      <th><\/th>\n",
       "      <th><\/th>\n",
       "      <th><\/th>\n",
       "      <th><\/th>\n",
       "    <\/tr>\n",
       "  <\/thead>\n",
       "  <tbody>\n",
       "    <tr>\n",
       "      <th rowspan=\"3\" valign=\"top\">Alberta<\/th>\n",
       "      <th>Accidents<\/th>\n",
       "      <td>3<\/td>\n",
       "      <td>7<\/td>\n",
       "      <td>2<\/td>\n",
       "      <td>0<\/td>\n",
       "    <\/tr>\n",
       "    <tr>\n",
       "      <th>Fatalities<\/th>\n",
       "      <td>0<\/td>\n",
       "      <td>0<\/td>\n",
       "      <td>0<\/td>\n",
       "      <td>0<\/td>\n",
       "    <\/tr>\n",
       "    <tr>\n",
       "      <th>Serious injuries<\/th>\n",
       "      <td>0<\/td>\n",
       "      <td>1<\/td>\n",
       "      <td>2<\/td>\n",
       "      <td>0<\/td>\n",
       "    <\/tr>\n",
       "    <tr>\n",
       "      <th rowspan=\"3\" valign=\"top\">British Columbia<\/th>\n",
       "      <th>Accidents<\/th>\n",
       "      <td>4<\/td>\n",
       "      <td>1<\/td>\n",
       "      <td>0<\/td>\n",
       "      <td>0<\/td>\n",
       "    <\/tr>\n",
       "    <tr>\n",
       "      <th>Fatalities<\/th>\n",
       "      <td>0<\/td>\n",
       "      <td>0<\/td>\n",
       "      <td>0<\/td>\n",
       "      <td>0<\/td>\n",
       "    <\/tr>\n",
       "    <tr>\n",
       "      <th>Serious injuries<\/th>\n",
       "      <td>3<\/td>\n",
       "      <td>0<\/td>\n",
       "      <td>0<\/td>\n",
       "      <td>0<\/td>\n",
       "    <\/tr>\n",
       "    <tr>\n",
       "      <th rowspan=\"3\" valign=\"top\">Manitoba<\/th>\n",
       "      <th>Accidents<\/th>\n",
       "      <td>1<\/td>\n",
       "      <td>3<\/td>\n",
       "      <td>0<\/td>\n",
       "      <td>2<\/td>\n",
       "    <\/tr>\n",
       "    <tr>\n",
       "      <th>Fatalities<\/th>\n",
       "      <td>0<\/td>\n",
       "      <td>1<\/td>\n",
       "      <td>0<\/td>\n",
       "      <td>0<\/td>\n",
       "    <\/tr>\n",
       "    <tr>\n",
       "      <th>Serious injuries<\/th>\n",
       "      <td>0<\/td>\n",
       "      <td>0<\/td>\n",
       "      <td>0<\/td>\n",
       "      <td>1<\/td>\n",
       "    <\/tr>\n",
       "    <tr>\n",
       "      <th>New Brunswick<\/th>\n",
       "      <th>Accidents<\/th>\n",
       "      <td>0<\/td>\n",
       "      <td>0<\/td>\n",
       "      <td>0<\/td>\n",
       "      <td>0<\/td>\n",
       "    <\/tr>\n",
       "  <\/tbody>\n",
       "<\/table>\n",
       "<\/div>"
      ]
     },
     "metadata":{},
     "output_type":"display_data"
    }
   ],
   "metadata":{
    "datalore":{
     "node_id":"i6Hb5zhZt6lltQF6mNNIrV",
     "type":"CODE",
     "hide_input_from_viewers":true,
     "hide_output_from_viewers":true
    }
   }
  },
  {
   "cell_type":"code",
   "source":[
    "incidents.loc[('Alberta','Accidents')]"
   ],
   "execution_count":5,
   "outputs":[
    {
     "data":{
      "text\/html":[
       "<pre>Public automated    3\n",
       "Public passive      7\n",
       "Private             2\n",
       "Farm                0\n",
       "Name: (Alberta, Accidents), dtype: int64<\/pre>"
      ]
     },
     "metadata":{},
     "output_type":"display_data"
    }
   ],
   "metadata":{
    "datalore":{
     "node_id":"XziooDHOGFoxvKe5W7Ppd6",
     "type":"CODE",
     "hide_input_from_viewers":true,
     "hide_output_from_viewers":true
    }
   }
  },
  {
   "cell_type":"code",
   "source":[
    "incidents.loc[('Alberta')]"
   ],
   "execution_count":6,
   "outputs":[
    {
     "data":{
      "text\/html":[
       "<div>\n",
       "<style scoped>\n",
       "    .dataframe tbody tr th:only-of-type {\n",
       "        vertical-align: middle;\n",
       "    }\n",
       "\n",
       "    .dataframe tbody tr th {\n",
       "        vertical-align: top;\n",
       "    }\n",
       "\n",
       "    .dataframe thead th {\n",
       "        text-align: right;\n",
       "    }\n",
       "<\/style>\n",
       "<table border=\"1\" class=\"dataframe\">\n",
       "  <thead>\n",
       "    <tr style=\"text-align: right;\">\n",
       "      <th><\/th>\n",
       "      <th>Public automated<\/th>\n",
       "      <th>Public passive<\/th>\n",
       "      <th>Private<\/th>\n",
       "      <th>Farm<\/th>\n",
       "    <\/tr>\n",
       "    <tr>\n",
       "      <th>EventType<\/th>\n",
       "      <th><\/th>\n",
       "      <th><\/th>\n",
       "      <th><\/th>\n",
       "      <th><\/th>\n",
       "    <\/tr>\n",
       "  <\/thead>\n",
       "  <tbody>\n",
       "    <tr>\n",
       "      <th>Accidents<\/th>\n",
       "      <td>3<\/td>\n",
       "      <td>7<\/td>\n",
       "      <td>2<\/td>\n",
       "      <td>0<\/td>\n",
       "    <\/tr>\n",
       "    <tr>\n",
       "      <th>Fatalities<\/th>\n",
       "      <td>0<\/td>\n",
       "      <td>0<\/td>\n",
       "      <td>0<\/td>\n",
       "      <td>0<\/td>\n",
       "    <\/tr>\n",
       "    <tr>\n",
       "      <th>Serious injuries<\/th>\n",
       "      <td>0<\/td>\n",
       "      <td>1<\/td>\n",
       "      <td>2<\/td>\n",
       "      <td>0<\/td>\n",
       "    <\/tr>\n",
       "  <\/tbody>\n",
       "<\/table>\n",
       "<\/div>"
      ]
     },
     "metadata":{},
     "output_type":"display_data"
    }
   ],
   "metadata":{
    "datalore":{
     "node_id":"3MMsoo8MPzavTWeXTLav7E",
     "type":"CODE",
     "hide_input_from_viewers":true,
     "hide_output_from_viewers":true
    }
   }
  },
  {
   "cell_type":"code",
   "source":[
    "incidents.loc['Alberta']"
   ],
   "execution_count":7,
   "outputs":[
    {
     "data":{
      "text\/html":[
       "<div>\n",
       "<style scoped>\n",
       "    .dataframe tbody tr th:only-of-type {\n",
       "        vertical-align: middle;\n",
       "    }\n",
       "\n",
       "    .dataframe tbody tr th {\n",
       "        vertical-align: top;\n",
       "    }\n",
       "\n",
       "    .dataframe thead th {\n",
       "        text-align: right;\n",
       "    }\n",
       "<\/style>\n",
       "<table border=\"1\" class=\"dataframe\">\n",
       "  <thead>\n",
       "    <tr style=\"text-align: right;\">\n",
       "      <th><\/th>\n",
       "      <th>Public automated<\/th>\n",
       "      <th>Public passive<\/th>\n",
       "      <th>Private<\/th>\n",
       "      <th>Farm<\/th>\n",
       "    <\/tr>\n",
       "    <tr>\n",
       "      <th>EventType<\/th>\n",
       "      <th><\/th>\n",
       "      <th><\/th>\n",
       "      <th><\/th>\n",
       "      <th><\/th>\n",
       "    <\/tr>\n",
       "  <\/thead>\n",
       "  <tbody>\n",
       "    <tr>\n",
       "      <th>Accidents<\/th>\n",
       "      <td>3<\/td>\n",
       "      <td>7<\/td>\n",
       "      <td>2<\/td>\n",
       "      <td>0<\/td>\n",
       "    <\/tr>\n",
       "    <tr>\n",
       "      <th>Fatalities<\/th>\n",
       "      <td>0<\/td>\n",
       "      <td>0<\/td>\n",
       "      <td>0<\/td>\n",
       "      <td>0<\/td>\n",
       "    <\/tr>\n",
       "    <tr>\n",
       "      <th>Serious injuries<\/th>\n",
       "      <td>0<\/td>\n",
       "      <td>1<\/td>\n",
       "      <td>2<\/td>\n",
       "      <td>0<\/td>\n",
       "    <\/tr>\n",
       "  <\/tbody>\n",
       "<\/table>\n",
       "<\/div>"
      ]
     },
     "metadata":{},
     "output_type":"display_data"
    }
   ],
   "metadata":{
    "datalore":{
     "node_id":"xX8IzlKLIJrut03A6lpYAg",
     "type":"CODE",
     "hide_input_from_viewers":true,
     "hide_output_from_viewers":true
    }
   }
  },
  {
   "cell_type":"code",
   "source":[
    "incidents.head()"
   ],
   "execution_count":8,
   "outputs":[
    {
     "data":{
      "text\/html":[
       "<div>\n",
       "<style scoped>\n",
       "    .dataframe tbody tr th:only-of-type {\n",
       "        vertical-align: middle;\n",
       "    }\n",
       "\n",
       "    .dataframe tbody tr th {\n",
       "        vertical-align: top;\n",
       "    }\n",
       "\n",
       "    .dataframe thead th {\n",
       "        text-align: right;\n",
       "    }\n",
       "<\/style>\n",
       "<table border=\"1\" class=\"dataframe\">\n",
       "  <thead>\n",
       "    <tr style=\"text-align: right;\">\n",
       "      <th><\/th>\n",
       "      <th><\/th>\n",
       "      <th>Public automated<\/th>\n",
       "      <th>Public passive<\/th>\n",
       "      <th>Private<\/th>\n",
       "      <th>Farm<\/th>\n",
       "    <\/tr>\n",
       "    <tr>\n",
       "      <th>Region<\/th>\n",
       "      <th>EventType<\/th>\n",
       "      <th><\/th>\n",
       "      <th><\/th>\n",
       "      <th><\/th>\n",
       "      <th><\/th>\n",
       "    <\/tr>\n",
       "  <\/thead>\n",
       "  <tbody>\n",
       "    <tr>\n",
       "      <th rowspan=\"3\" valign=\"top\">Alberta<\/th>\n",
       "      <th>Accidents<\/th>\n",
       "      <td>3<\/td>\n",
       "      <td>7<\/td>\n",
       "      <td>2<\/td>\n",
       "      <td>0<\/td>\n",
       "    <\/tr>\n",
       "    <tr>\n",
       "      <th>Fatalities<\/th>\n",
       "      <td>0<\/td>\n",
       "      <td>0<\/td>\n",
       "      <td>0<\/td>\n",
       "      <td>0<\/td>\n",
       "    <\/tr>\n",
       "    <tr>\n",
       "      <th>Serious injuries<\/th>\n",
       "      <td>0<\/td>\n",
       "      <td>1<\/td>\n",
       "      <td>2<\/td>\n",
       "      <td>0<\/td>\n",
       "    <\/tr>\n",
       "    <tr>\n",
       "      <th rowspan=\"2\" valign=\"top\">British Columbia<\/th>\n",
       "      <th>Accidents<\/th>\n",
       "      <td>4<\/td>\n",
       "      <td>1<\/td>\n",
       "      <td>0<\/td>\n",
       "      <td>0<\/td>\n",
       "    <\/tr>\n",
       "    <tr>\n",
       "      <th>Fatalities<\/th>\n",
       "      <td>0<\/td>\n",
       "      <td>0<\/td>\n",
       "      <td>0<\/td>\n",
       "      <td>0<\/td>\n",
       "    <\/tr>\n",
       "  <\/tbody>\n",
       "<\/table>\n",
       "<\/div>"
      ]
     },
     "metadata":{},
     "output_type":"display_data"
    }
   ],
   "metadata":{
    "datalore":{
     "node_id":"g6UF1Ko12n12S040p03rbg",
     "type":"CODE",
     "hide_input_from_viewers":true,
     "hide_output_from_viewers":true
    }
   }
  },
  {
   "cell_type":"code",
   "source":[
    "incidents.iloc[2]"
   ],
   "execution_count":9,
   "outputs":[
    {
     "data":{
      "text\/html":[
       "<pre>Public automated    0\n",
       "Public passive      1\n",
       "Private             2\n",
       "Farm                0\n",
       "Name: (Alberta, Serious injuries), dtype: int64<\/pre>"
      ]
     },
     "metadata":{},
     "output_type":"display_data"
    }
   ],
   "metadata":{
    "datalore":{
     "node_id":"cphyuOECs7AGCZl9KrbQ2P",
     "type":"CODE",
     "hide_input_from_viewers":true,
     "hide_output_from_viewers":true
    }
   }
  },
  {
   "cell_type":"code",
   "source":[
    "incidents.loc[('Alberta','Accidents')]"
   ],
   "execution_count":10,
   "outputs":[
    {
     "data":{
      "text\/html":[
       "<pre>Public automated    3\n",
       "Public passive      7\n",
       "Private             2\n",
       "Farm                0\n",
       "Name: (Alberta, Accidents), dtype: int64<\/pre>"
      ]
     },
     "metadata":{},
     "output_type":"display_data"
    }
   ],
   "metadata":{
    "datalore":{
     "node_id":"ZwwlM5N7AEJz010U67ajLd",
     "type":"CODE",
     "hide_input_from_viewers":true,
     "hide_output_from_viewers":true
    }
   }
  },
  {
   "cell_type":"code",
   "source":[
    "incidents.loc[('Alberta','Accidents')].loc['Public passive']"
   ],
   "execution_count":11,
   "outputs":[
    {
     "data":{
      "text\/plain":[
       "7"
      ]
     },
     "metadata":{},
     "output_type":"display_data"
    }
   ],
   "metadata":{
    "datalore":{
     "node_id":"xnj8IUKJJoPL8ydCrJcCV7",
     "type":"CODE",
     "hide_input_from_viewers":true,
     "hide_output_from_viewers":true
    }
   }
  },
  {
   "cell_type":"code",
   "source":[
    "incidents.loc[('Alberta','Accidents'),'Public passive']"
   ],
   "execution_count":12,
   "outputs":[
    {
     "data":{
      "text\/plain":[
       "7"
      ]
     },
     "metadata":{},
     "output_type":"display_data"
    }
   ],
   "metadata":{
    "datalore":{
     "node_id":"3zDrlnN2RtqcEx3O2BmiFp",
     "type":"CODE",
     "hide_input_from_viewers":true,
     "hide_output_from_viewers":true
    }
   }
  },
  {
   "cell_type":"markdown",
   "source":[
    "# Zadanie"
   ],
   "attachments":{},
   "metadata":{
    "datalore":{
     "node_id":"Zadanie",
     "type":"MD",
     "hide_input_from_viewers":false,
     "hide_output_from_viewers":false,
     "sheet_delimiter":true
    }
   }
  },
  {
   "cell_type":"code",
   "source":[
    "air = pd.read_csv('http:\/\/piotrdomagala.pl\/data\/Air_Traffic_Passenger_Statistics.csv ')\n",
    "air.head()"
   ],
   "execution_count":13,
   "outputs":[
    {
     "data":{
      "text\/html":[
       "<div>\n",
       "<style scoped>\n",
       "    .dataframe tbody tr th:only-of-type {\n",
       "        vertical-align: middle;\n",
       "    }\n",
       "\n",
       "    .dataframe tbody tr th {\n",
       "        vertical-align: top;\n",
       "    }\n",
       "\n",
       "    .dataframe thead th {\n",
       "        text-align: right;\n",
       "    }\n",
       "<\/style>\n",
       "<table border=\"1\" class=\"dataframe\">\n",
       "  <thead>\n",
       "    <tr style=\"text-align: right;\">\n",
       "      <th><\/th>\n",
       "      <th>Activity Period<\/th>\n",
       "      <th>Operating Airline<\/th>\n",
       "      <th>Operating Airline IATA Code<\/th>\n",
       "      <th>Published Airline<\/th>\n",
       "      <th>Published Airline IATA Code<\/th>\n",
       "      <th>GEO Summary<\/th>\n",
       "      <th>GEO Region<\/th>\n",
       "      <th>Activity Type Code<\/th>\n",
       "      <th>Price Category Code<\/th>\n",
       "      <th>Terminal<\/th>\n",
       "      <th>Boarding Area<\/th>\n",
       "      <th>Passenger Count<\/th>\n",
       "    <\/tr>\n",
       "  <\/thead>\n",
       "  <tbody>\n",
       "    <tr>\n",
       "      <th>0<\/th>\n",
       "      <td>200507<\/td>\n",
       "      <td>ATA Airlines<\/td>\n",
       "      <td>TZ<\/td>\n",
       "      <td>ATA Airlines<\/td>\n",
       "      <td>TZ<\/td>\n",
       "      <td>Domestic<\/td>\n",
       "      <td>US<\/td>\n",
       "      <td>Deplaned<\/td>\n",
       "      <td>Low Fare<\/td>\n",
       "      <td>Terminal 1<\/td>\n",
       "      <td>B<\/td>\n",
       "      <td>27271<\/td>\n",
       "    <\/tr>\n",
       "    <tr>\n",
       "      <th>1<\/th>\n",
       "      <td>200507<\/td>\n",
       "      <td>ATA Airlines<\/td>\n",
       "      <td>TZ<\/td>\n",
       "      <td>ATA Airlines<\/td>\n",
       "      <td>TZ<\/td>\n",
       "      <td>Domestic<\/td>\n",
       "      <td>US<\/td>\n",
       "      <td>Enplaned<\/td>\n",
       "      <td>Low Fare<\/td>\n",
       "      <td>Terminal 1<\/td>\n",
       "      <td>B<\/td>\n",
       "      <td>29131<\/td>\n",
       "    <\/tr>\n",
       "    <tr>\n",
       "      <th>2<\/th>\n",
       "      <td>200507<\/td>\n",
       "      <td>ATA Airlines<\/td>\n",
       "      <td>TZ<\/td>\n",
       "      <td>ATA Airlines<\/td>\n",
       "      <td>TZ<\/td>\n",
       "      <td>Domestic<\/td>\n",
       "      <td>US<\/td>\n",
       "      <td>Thru \/ Transit<\/td>\n",
       "      <td>Low Fare<\/td>\n",
       "      <td>Terminal 1<\/td>\n",
       "      <td>B<\/td>\n",
       "      <td>5415<\/td>\n",
       "    <\/tr>\n",
       "    <tr>\n",
       "      <th>3<\/th>\n",
       "      <td>200507<\/td>\n",
       "      <td>Air Canada<\/td>\n",
       "      <td>AC<\/td>\n",
       "      <td>Air Canada<\/td>\n",
       "      <td>AC<\/td>\n",
       "      <td>International<\/td>\n",
       "      <td>Canada<\/td>\n",
       "      <td>Deplaned<\/td>\n",
       "      <td>Other<\/td>\n",
       "      <td>Terminal 1<\/td>\n",
       "      <td>B<\/td>\n",
       "      <td>35156<\/td>\n",
       "    <\/tr>\n",
       "    <tr>\n",
       "      <th>4<\/th>\n",
       "      <td>200507<\/td>\n",
       "      <td>Air Canada<\/td>\n",
       "      <td>AC<\/td>\n",
       "      <td>Air Canada<\/td>\n",
       "      <td>AC<\/td>\n",
       "      <td>International<\/td>\n",
       "      <td>Canada<\/td>\n",
       "      <td>Enplaned<\/td>\n",
       "      <td>Other<\/td>\n",
       "      <td>Terminal 1<\/td>\n",
       "      <td>B<\/td>\n",
       "      <td>34090<\/td>\n",
       "    <\/tr>\n",
       "  <\/tbody>\n",
       "<\/table>\n",
       "<\/div>"
      ]
     },
     "metadata":{},
     "output_type":"display_data"
    }
   ],
   "metadata":{
    "datalore":{
     "node_id":"u9DU4dzTgm8F61SjnB4aOP",
     "type":"CODE",
     "hide_input_from_viewers":true,
     "hide_output_from_viewers":true
    }
   }
  },
  {
   "cell_type":"code",
   "source":[
    "air.set_index(['Operating Airline','Activity Period','Activity Type Code'], inplace=True)"
   ],
   "execution_count":14,
   "outputs":[],
   "metadata":{
    "datalore":{
     "node_id":"65xQkVK4OHDATcXl7DiWWe",
     "type":"CODE",
     "hide_input_from_viewers":true,
     "hide_output_from_viewers":true
    }
   }
  },
  {
   "cell_type":"code",
   "source":[
    "air.sort_index(inplace=True)"
   ],
   "execution_count":16,
   "outputs":[],
   "metadata":{
    "datalore":{
     "node_id":"Z2R4Le4GnqP6mLIKbz90G0",
     "type":"CODE",
     "hide_input_from_viewers":true,
     "hide_output_from_viewers":true
    }
   }
  },
  {
   "cell_type":"code",
   "source":[
    "air.loc[('Air France',200507,'Enplaned')]"
   ],
   "execution_count":17,
   "outputs":[
    {
     "data":{
      "text\/html":[
       "<div>\n",
       "<style scoped>\n",
       "    .dataframe tbody tr th:only-of-type {\n",
       "        vertical-align: middle;\n",
       "    }\n",
       "\n",
       "    .dataframe tbody tr th {\n",
       "        vertical-align: top;\n",
       "    }\n",
       "\n",
       "    .dataframe thead th {\n",
       "        text-align: right;\n",
       "    }\n",
       "<\/style>\n",
       "<table border=\"1\" class=\"dataframe\">\n",
       "  <thead>\n",
       "    <tr style=\"text-align: right;\">\n",
       "      <th><\/th>\n",
       "      <th><\/th>\n",
       "      <th><\/th>\n",
       "      <th>Operating Airline IATA Code<\/th>\n",
       "      <th>Published Airline<\/th>\n",
       "      <th>Published Airline IATA Code<\/th>\n",
       "      <th>GEO Summary<\/th>\n",
       "      <th>GEO Region<\/th>\n",
       "      <th>Price Category Code<\/th>\n",
       "      <th>Terminal<\/th>\n",
       "      <th>Boarding Area<\/th>\n",
       "      <th>Passenger Count<\/th>\n",
       "    <\/tr>\n",
       "    <tr>\n",
       "      <th>Operating Airline<\/th>\n",
       "      <th>Activity Period<\/th>\n",
       "      <th>Activity Type Code<\/th>\n",
       "      <th><\/th>\n",
       "      <th><\/th>\n",
       "      <th><\/th>\n",
       "      <th><\/th>\n",
       "      <th><\/th>\n",
       "      <th><\/th>\n",
       "      <th><\/th>\n",
       "      <th><\/th>\n",
       "      <th><\/th>\n",
       "    <\/tr>\n",
       "  <\/thead>\n",
       "  <tbody>\n",
       "    <tr>\n",
       "      <th>Air France<\/th>\n",
       "      <th>200507<\/th>\n",
       "      <th>Enplaned<\/th>\n",
       "      <td>AF<\/td>\n",
       "      <td>Air France<\/td>\n",
       "      <td>AF<\/td>\n",
       "      <td>International<\/td>\n",
       "      <td>Europe<\/td>\n",
       "      <td>Other<\/td>\n",
       "      <td>International<\/td>\n",
       "      <td>A<\/td>\n",
       "      <td>11638<\/td>\n",
       "    <\/tr>\n",
       "  <\/tbody>\n",
       "<\/table>\n",
       "<\/div>"
      ]
     },
     "metadata":{},
     "output_type":"display_data"
    }
   ],
   "metadata":{
    "datalore":{
     "node_id":"D8lBpWoM4BLguxrdnGzR7b",
     "type":"CODE",
     "hide_input_from_viewers":true,
     "hide_output_from_viewers":true
    }
   }
  },
  {
   "cell_type":"code",
   "source":[
    "air.loc[('Air France',200507)]"
   ],
   "execution_count":18,
   "outputs":[
    {
     "data":{
      "text\/html":[
       "<div>\n",
       "<style scoped>\n",
       "    .dataframe tbody tr th:only-of-type {\n",
       "        vertical-align: middle;\n",
       "    }\n",
       "\n",
       "    .dataframe tbody tr th {\n",
       "        vertical-align: top;\n",
       "    }\n",
       "\n",
       "    .dataframe thead th {\n",
       "        text-align: right;\n",
       "    }\n",
       "<\/style>\n",
       "<table border=\"1\" class=\"dataframe\">\n",
       "  <thead>\n",
       "    <tr style=\"text-align: right;\">\n",
       "      <th><\/th>\n",
       "      <th>Operating Airline IATA Code<\/th>\n",
       "      <th>Published Airline<\/th>\n",
       "      <th>Published Airline IATA Code<\/th>\n",
       "      <th>GEO Summary<\/th>\n",
       "      <th>GEO Region<\/th>\n",
       "      <th>Price Category Code<\/th>\n",
       "      <th>Terminal<\/th>\n",
       "      <th>Boarding Area<\/th>\n",
       "      <th>Passenger Count<\/th>\n",
       "    <\/tr>\n",
       "    <tr>\n",
       "      <th>Activity Type Code<\/th>\n",
       "      <th><\/th>\n",
       "      <th><\/th>\n",
       "      <th><\/th>\n",
       "      <th><\/th>\n",
       "      <th><\/th>\n",
       "      <th><\/th>\n",
       "      <th><\/th>\n",
       "      <th><\/th>\n",
       "      <th><\/th>\n",
       "    <\/tr>\n",
       "  <\/thead>\n",
       "  <tbody>\n",
       "    <tr>\n",
       "      <th>Deplaned<\/th>\n",
       "      <td>AF<\/td>\n",
       "      <td>Air France<\/td>\n",
       "      <td>AF<\/td>\n",
       "      <td>International<\/td>\n",
       "      <td>Europe<\/td>\n",
       "      <td>Other<\/td>\n",
       "      <td>International<\/td>\n",
       "      <td>A<\/td>\n",
       "      <td>12050<\/td>\n",
       "    <\/tr>\n",
       "    <tr>\n",
       "      <th>Enplaned<\/th>\n",
       "      <td>AF<\/td>\n",
       "      <td>Air France<\/td>\n",
       "      <td>AF<\/td>\n",
       "      <td>International<\/td>\n",
       "      <td>Europe<\/td>\n",
       "      <td>Other<\/td>\n",
       "      <td>International<\/td>\n",
       "      <td>A<\/td>\n",
       "      <td>11638<\/td>\n",
       "    <\/tr>\n",
       "  <\/tbody>\n",
       "<\/table>\n",
       "<\/div>"
      ]
     },
     "metadata":{},
     "output_type":"display_data"
    }
   ],
   "metadata":{
    "datalore":{
     "node_id":"dQKojCltA6EqSc6ThyXXZc",
     "type":"CODE",
     "hide_input_from_viewers":true,
     "hide_output_from_viewers":true
    }
   }
  },
  {
   "cell_type":"code",
   "source":[
    "air.loc[('Air France')].head()"
   ],
   "execution_count":21,
   "outputs":[
    {
     "data":{
      "text\/html":[
       "<div>\n",
       "<style scoped>\n",
       "    .dataframe tbody tr th:only-of-type {\n",
       "        vertical-align: middle;\n",
       "    }\n",
       "\n",
       "    .dataframe tbody tr th {\n",
       "        vertical-align: top;\n",
       "    }\n",
       "\n",
       "    .dataframe thead th {\n",
       "        text-align: right;\n",
       "    }\n",
       "<\/style>\n",
       "<table border=\"1\" class=\"dataframe\">\n",
       "  <thead>\n",
       "    <tr style=\"text-align: right;\">\n",
       "      <th><\/th>\n",
       "      <th><\/th>\n",
       "      <th>Operating Airline IATA Code<\/th>\n",
       "      <th>Published Airline<\/th>\n",
       "      <th>Published Airline IATA Code<\/th>\n",
       "      <th>GEO Summary<\/th>\n",
       "      <th>GEO Region<\/th>\n",
       "      <th>Price Category Code<\/th>\n",
       "      <th>Terminal<\/th>\n",
       "      <th>Boarding Area<\/th>\n",
       "      <th>Passenger Count<\/th>\n",
       "    <\/tr>\n",
       "    <tr>\n",
       "      <th>Activity Period<\/th>\n",
       "      <th>Activity Type Code<\/th>\n",
       "      <th><\/th>\n",
       "      <th><\/th>\n",
       "      <th><\/th>\n",
       "      <th><\/th>\n",
       "      <th><\/th>\n",
       "      <th><\/th>\n",
       "      <th><\/th>\n",
       "      <th><\/th>\n",
       "      <th><\/th>\n",
       "    <\/tr>\n",
       "  <\/thead>\n",
       "  <tbody>\n",
       "    <tr>\n",
       "      <th rowspan=\"2\" valign=\"top\">200507<\/th>\n",
       "      <th>Deplaned<\/th>\n",
       "      <td>AF<\/td>\n",
       "      <td>Air France<\/td>\n",
       "      <td>AF<\/td>\n",
       "      <td>International<\/td>\n",
       "      <td>Europe<\/td>\n",
       "      <td>Other<\/td>\n",
       "      <td>International<\/td>\n",
       "      <td>A<\/td>\n",
       "      <td>12050<\/td>\n",
       "    <\/tr>\n",
       "    <tr>\n",
       "      <th>Enplaned<\/th>\n",
       "      <td>AF<\/td>\n",
       "      <td>Air France<\/td>\n",
       "      <td>AF<\/td>\n",
       "      <td>International<\/td>\n",
       "      <td>Europe<\/td>\n",
       "      <td>Other<\/td>\n",
       "      <td>International<\/td>\n",
       "      <td>A<\/td>\n",
       "      <td>11638<\/td>\n",
       "    <\/tr>\n",
       "    <tr>\n",
       "      <th rowspan=\"2\" valign=\"top\">200508<\/th>\n",
       "      <th>Deplaned<\/th>\n",
       "      <td>AF<\/td>\n",
       "      <td>Air France<\/td>\n",
       "      <td>AF<\/td>\n",
       "      <td>International<\/td>\n",
       "      <td>Europe<\/td>\n",
       "      <td>Other<\/td>\n",
       "      <td>International<\/td>\n",
       "      <td>A<\/td>\n",
       "      <td>11230<\/td>\n",
       "    <\/tr>\n",
       "    <tr>\n",
       "      <th>Enplaned<\/th>\n",
       "      <td>AF<\/td>\n",
       "      <td>Air France<\/td>\n",
       "      <td>AF<\/td>\n",
       "      <td>International<\/td>\n",
       "      <td>Europe<\/td>\n",
       "      <td>Other<\/td>\n",
       "      <td>International<\/td>\n",
       "      <td>A<\/td>\n",
       "      <td>11731<\/td>\n",
       "    <\/tr>\n",
       "    <tr>\n",
       "      <th>200509<\/th>\n",
       "      <th>Deplaned<\/th>\n",
       "      <td>AF<\/td>\n",
       "      <td>Air France<\/td>\n",
       "      <td>AF<\/td>\n",
       "      <td>International<\/td>\n",
       "      <td>Europe<\/td>\n",
       "      <td>Other<\/td>\n",
       "      <td>International<\/td>\n",
       "      <td>A<\/td>\n",
       "      <td>10731<\/td>\n",
       "    <\/tr>\n",
       "  <\/tbody>\n",
       "<\/table>\n",
       "<\/div>"
      ]
     },
     "metadata":{},
     "output_type":"display_data"
    }
   ],
   "metadata":{
    "datalore":{
     "node_id":"Xru7p7C3vGCguPwmR7Jxh6",
     "type":"CODE",
     "hide_input_from_viewers":true,
     "hide_output_from_viewers":true
    }
   }
  },
  {
   "cell_type":"code",
   "source":[
    "air.loc[('Air France',200507,'Enplaned'), 'Passenger Count']"
   ],
   "execution_count":22,
   "outputs":[
    {
     "data":{
      "text\/html":[
       "<pre>Operating Airline  Activity Period  Activity Type Code\n",
       "Air France         200507           Enplaned              11638\n",
       "Name: Passenger Count, dtype: int64<\/pre>"
      ]
     },
     "metadata":{},
     "output_type":"display_data"
    }
   ],
   "metadata":{
    "datalore":{
     "node_id":"RAQzZV6Tj23efri9JiSutU",
     "type":"CODE",
     "hide_input_from_viewers":true,
     "hide_output_from_viewers":true
    }
   }
  },
  {
   "cell_type":"code",
   "source":[
    "air.loc[('Air France',200507,'Deplaned'),'Passenger Count']"
   ],
   "execution_count":23,
   "outputs":[
    {
     "data":{
      "text\/html":[
       "<pre>Operating Airline  Activity Period  Activity Type Code\n",
       "Air France         200507           Deplaned              12050\n",
       "Name: Passenger Count, dtype: int64<\/pre>"
      ]
     },
     "metadata":{},
     "output_type":"display_data"
    }
   ],
   "metadata":{
    "datalore":{
     "node_id":"ev6uPL0biDPTQJJJxQVZEb",
     "type":"CODE",
     "hide_input_from_viewers":true,
     "hide_output_from_viewers":true
    }
   }
  },
  {
   "cell_type":"code",
   "source":[
    "air.iloc[20:25]"
   ],
   "execution_count":25,
   "outputs":[
    {
     "data":{
      "text\/html":[
       "<div>\n",
       "<style scoped>\n",
       "    .dataframe tbody tr th:only-of-type {\n",
       "        vertical-align: middle;\n",
       "    }\n",
       "\n",
       "    .dataframe tbody tr th {\n",
       "        vertical-align: top;\n",
       "    }\n",
       "\n",
       "    .dataframe thead th {\n",
       "        text-align: right;\n",
       "    }\n",
       "<\/style>\n",
       "<table border=\"1\" class=\"dataframe\">\n",
       "  <thead>\n",
       "    <tr style=\"text-align: right;\">\n",
       "      <th><\/th>\n",
       "      <th><\/th>\n",
       "      <th><\/th>\n",
       "      <th>Operating Airline IATA Code<\/th>\n",
       "      <th>Published Airline<\/th>\n",
       "      <th>Published Airline IATA Code<\/th>\n",
       "      <th>GEO Summary<\/th>\n",
       "      <th>GEO Region<\/th>\n",
       "      <th>Price Category Code<\/th>\n",
       "      <th>Terminal<\/th>\n",
       "      <th>Boarding Area<\/th>\n",
       "      <th>Passenger Count<\/th>\n",
       "    <\/tr>\n",
       "    <tr>\n",
       "      <th>Operating Airline<\/th>\n",
       "      <th>Activity Period<\/th>\n",
       "      <th>Activity Type Code<\/th>\n",
       "      <th><\/th>\n",
       "      <th><\/th>\n",
       "      <th><\/th>\n",
       "      <th><\/th>\n",
       "      <th><\/th>\n",
       "      <th><\/th>\n",
       "      <th><\/th>\n",
       "      <th><\/th>\n",
       "      <th><\/th>\n",
       "    <\/tr>\n",
       "  <\/thead>\n",
       "  <tbody>\n",
       "    <tr>\n",
       "      <th rowspan=\"5\" valign=\"top\">ATA Airlines<\/th>\n",
       "      <th rowspan=\"2\" valign=\"top\">200512<\/th>\n",
       "      <th>Enplaned<\/th>\n",
       "      <td>TZ<\/td>\n",
       "      <td>ATA Airlines<\/td>\n",
       "      <td>TZ<\/td>\n",
       "      <td>Domestic<\/td>\n",
       "      <td>US<\/td>\n",
       "      <td>Low Fare<\/td>\n",
       "      <td>Terminal 1<\/td>\n",
       "      <td>B<\/td>\n",
       "      <td>16790<\/td>\n",
       "    <\/tr>\n",
       "    <tr>\n",
       "      <th>Thru \/ Transit<\/th>\n",
       "      <td>TZ<\/td>\n",
       "      <td>ATA Airlines<\/td>\n",
       "      <td>TZ<\/td>\n",
       "      <td>Domestic<\/td>\n",
       "      <td>US<\/td>\n",
       "      <td>Low Fare<\/td>\n",
       "      <td>Terminal 1<\/td>\n",
       "      <td>B<\/td>\n",
       "      <td>2402<\/td>\n",
       "    <\/tr>\n",
       "    <tr>\n",
       "      <th rowspan=\"3\" valign=\"top\">200601<\/th>\n",
       "      <th>Deplaned<\/th>\n",
       "      <td>TZ<\/td>\n",
       "      <td>ATA Airlines<\/td>\n",
       "      <td>TZ<\/td>\n",
       "      <td>Domestic<\/td>\n",
       "      <td>US<\/td>\n",
       "      <td>Low Fare<\/td>\n",
       "      <td>Terminal 1<\/td>\n",
       "      <td>B<\/td>\n",
       "      <td>13010<\/td>\n",
       "    <\/tr>\n",
       "    <tr>\n",
       "      <th>Enplaned<\/th>\n",
       "      <td>TZ<\/td>\n",
       "      <td>ATA Airlines<\/td>\n",
       "      <td>TZ<\/td>\n",
       "      <td>Domestic<\/td>\n",
       "      <td>US<\/td>\n",
       "      <td>Low Fare<\/td>\n",
       "      <td>Terminal 1<\/td>\n",
       "      <td>B<\/td>\n",
       "      <td>12226<\/td>\n",
       "    <\/tr>\n",
       "    <tr>\n",
       "      <th>Thru \/ Transit<\/th>\n",
       "      <td>TZ<\/td>\n",
       "      <td>ATA Airlines<\/td>\n",
       "      <td>TZ<\/td>\n",
       "      <td>Domestic<\/td>\n",
       "      <td>US<\/td>\n",
       "      <td>Low Fare<\/td>\n",
       "      <td>Terminal 1<\/td>\n",
       "      <td>B<\/td>\n",
       "      <td>3316<\/td>\n",
       "    <\/tr>\n",
       "  <\/tbody>\n",
       "<\/table>\n",
       "<\/div>"
      ]
     },
     "metadata":{},
     "output_type":"display_data"
    }
   ],
   "metadata":{
    "datalore":{
     "node_id":"etJV8etKRU3tjfr1eFqSs6",
     "type":"CODE",
     "hide_input_from_viewers":true,
     "hide_output_from_viewers":true
    }
   }
  },
  {
   "cell_type":"code",
   "source":[
    "air.iloc[20:25,8]"
   ],
   "execution_count":26,
   "outputs":[
    {
     "data":{
      "text\/html":[
       "<pre>Operating Airline  Activity Period  Activity Type Code\n",
       "ATA Airlines       200512           Enplaned              16790\n",
       "                                    Thru \/ Transit         2402\n",
       "                   200601           Deplaned              13010\n",
       "                                    Enplaned              12226\n",
       "                                    Thru \/ Transit         3316\n",
       "Name: Passenger Count, dtype: int64<\/pre>"
      ]
     },
     "metadata":{},
     "output_type":"display_data"
    }
   ],
   "metadata":{
    "datalore":{
     "node_id":"UiPEYHkL0274YvDkxkbfIW",
     "type":"CODE",
     "hide_input_from_viewers":true,
     "hide_output_from_viewers":true
    }
   }
  }
 ],
 "metadata":{
  "kernelspec":{
   "display_name":"Python",
   "language":"python",
   "name":"python"
  },
  "datalore":{
   "computation_mode":"JUPYTER",
   "package_manager":"pip",
   "base_environment":"default",
   "packages":[],
   "report_row_ids":[],
   "version":3
  }
 },
 "nbformat":4,
 "nbformat_minor":4
}