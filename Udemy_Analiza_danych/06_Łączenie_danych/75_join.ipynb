{
 "cells":[
  {
   "cell_type":"markdown",
   "source":[
    "# Wstęp"
   ],
   "attachments":{},
   "metadata":{
    "datalore":{
     "node_id":"Wstęp",
     "type":"MD",
     "hide_input_from_viewers":false,
     "hide_output_from_viewers":false,
     "sheet_delimiter":true
    }
   }
  },
  {
   "cell_type":"code",
   "source":[
    "import pandas as pd\n",
    "import numpy as np"
   ],
   "execution_count":1,
   "outputs":[],
   "metadata":{
    "datalore":{
     "node_id":"NgYNBXiRASN9yBeWYDEjjd",
     "type":"CODE",
     "hide_input_from_viewers":true,
     "hide_output_from_viewers":true
    }
   }
  },
  {
   "cell_type":"code",
   "source":[
    "prod_1 = pd.read_csv('\/data\/workspace_files\/products.csv', \n",
    "                     usecols=['ProductID','ProductName'],\n",
    "                     index_col='ProductID')"
   ],
   "execution_count":2,
   "outputs":[],
   "metadata":{
    "datalore":{
     "node_id":"r2tPGLqT65X9fqC11fpmTH",
     "type":"CODE",
     "hide_input_from_viewers":true,
     "hide_output_from_viewers":true
    }
   }
  },
  {
   "cell_type":"code",
   "source":[
    "prod_2 = pd.read_csv('\/data\/workspace_files\/products.csv', \n",
    "                     usecols=['ProductID','UnitPrice','UnitsInStock'],\n",
    "                     index_col='ProductID')"
   ],
   "execution_count":3,
   "outputs":[],
   "metadata":{
    "datalore":{
     "node_id":"cY6yewkWKnkxnOM0dBMUSl",
     "type":"CODE",
     "hide_input_from_viewers":true,
     "hide_output_from_viewers":true
    }
   }
  },
  {
   "cell_type":"code",
   "source":[
    "prod_1.head()"
   ],
   "execution_count":4,
   "outputs":[
    {
     "data":{
      "text\/html":[
       "<div>\n",
       "<style scoped>\n",
       "    .dataframe tbody tr th:only-of-type {\n",
       "        vertical-align: middle;\n",
       "    }\n",
       "\n",
       "    .dataframe tbody tr th {\n",
       "        vertical-align: top;\n",
       "    }\n",
       "\n",
       "    .dataframe thead th {\n",
       "        text-align: right;\n",
       "    }\n",
       "<\/style>\n",
       "<table border=\"1\" class=\"dataframe\">\n",
       "  <thead>\n",
       "    <tr style=\"text-align: right;\">\n",
       "      <th><\/th>\n",
       "      <th>ProductName<\/th>\n",
       "    <\/tr>\n",
       "    <tr>\n",
       "      <th>ProductID<\/th>\n",
       "      <th><\/th>\n",
       "    <\/tr>\n",
       "  <\/thead>\n",
       "  <tbody>\n",
       "    <tr>\n",
       "      <th>1<\/th>\n",
       "      <td>Chai<\/td>\n",
       "    <\/tr>\n",
       "    <tr>\n",
       "      <th>2<\/th>\n",
       "      <td>Chang<\/td>\n",
       "    <\/tr>\n",
       "    <tr>\n",
       "      <th>3<\/th>\n",
       "      <td>Aniseed Syrup<\/td>\n",
       "    <\/tr>\n",
       "    <tr>\n",
       "      <th>4<\/th>\n",
       "      <td>Chef Anton's Cajun Seasoning<\/td>\n",
       "    <\/tr>\n",
       "    <tr>\n",
       "      <th>5<\/th>\n",
       "      <td>Chef Anton's Gumbo Mix<\/td>\n",
       "    <\/tr>\n",
       "  <\/tbody>\n",
       "<\/table>\n",
       "<\/div>"
      ]
     },
     "metadata":{},
     "output_type":"display_data"
    }
   ],
   "metadata":{
    "datalore":{
     "node_id":"9KcaLjslwdvLjWd5k5p38d",
     "type":"CODE",
     "hide_input_from_viewers":true,
     "hide_output_from_viewers":true
    }
   }
  },
  {
   "cell_type":"code",
   "source":[
    "prod_2.head()"
   ],
   "execution_count":5,
   "outputs":[
    {
     "data":{
      "text\/html":[
       "<div>\n",
       "<style scoped>\n",
       "    .dataframe tbody tr th:only-of-type {\n",
       "        vertical-align: middle;\n",
       "    }\n",
       "\n",
       "    .dataframe tbody tr th {\n",
       "        vertical-align: top;\n",
       "    }\n",
       "\n",
       "    .dataframe thead th {\n",
       "        text-align: right;\n",
       "    }\n",
       "<\/style>\n",
       "<table border=\"1\" class=\"dataframe\">\n",
       "  <thead>\n",
       "    <tr style=\"text-align: right;\">\n",
       "      <th><\/th>\n",
       "      <th>UnitPrice<\/th>\n",
       "      <th>UnitsInStock<\/th>\n",
       "    <\/tr>\n",
       "    <tr>\n",
       "      <th>ProductID<\/th>\n",
       "      <th><\/th>\n",
       "      <th><\/th>\n",
       "    <\/tr>\n",
       "  <\/thead>\n",
       "  <tbody>\n",
       "    <tr>\n",
       "      <th>1<\/th>\n",
       "      <td>18.00<\/td>\n",
       "      <td>39<\/td>\n",
       "    <\/tr>\n",
       "    <tr>\n",
       "      <th>2<\/th>\n",
       "      <td>19.00<\/td>\n",
       "      <td>17<\/td>\n",
       "    <\/tr>\n",
       "    <tr>\n",
       "      <th>3<\/th>\n",
       "      <td>10.00<\/td>\n",
       "      <td>13<\/td>\n",
       "    <\/tr>\n",
       "    <tr>\n",
       "      <th>4<\/th>\n",
       "      <td>22.00<\/td>\n",
       "      <td>53<\/td>\n",
       "    <\/tr>\n",
       "    <tr>\n",
       "      <th>5<\/th>\n",
       "      <td>21.35<\/td>\n",
       "      <td>0<\/td>\n",
       "    <\/tr>\n",
       "  <\/tbody>\n",
       "<\/table>\n",
       "<\/div>"
      ]
     },
     "metadata":{},
     "output_type":"display_data"
    }
   ],
   "metadata":{
    "datalore":{
     "node_id":"iPkOJEPsQVz9uVBfUTMrow",
     "type":"CODE",
     "hide_input_from_viewers":true,
     "hide_output_from_viewers":true
    }
   }
  },
  {
   "cell_type":"code",
   "source":[
    "prod_1.join(prod_2).head()"
   ],
   "execution_count":6,
   "outputs":[
    {
     "data":{
      "text\/html":[
       "<div>\n",
       "<style scoped>\n",
       "    .dataframe tbody tr th:only-of-type {\n",
       "        vertical-align: middle;\n",
       "    }\n",
       "\n",
       "    .dataframe tbody tr th {\n",
       "        vertical-align: top;\n",
       "    }\n",
       "\n",
       "    .dataframe thead th {\n",
       "        text-align: right;\n",
       "    }\n",
       "<\/style>\n",
       "<table border=\"1\" class=\"dataframe\">\n",
       "  <thead>\n",
       "    <tr style=\"text-align: right;\">\n",
       "      <th><\/th>\n",
       "      <th>ProductName<\/th>\n",
       "      <th>UnitPrice<\/th>\n",
       "      <th>UnitsInStock<\/th>\n",
       "    <\/tr>\n",
       "    <tr>\n",
       "      <th>ProductID<\/th>\n",
       "      <th><\/th>\n",
       "      <th><\/th>\n",
       "      <th><\/th>\n",
       "    <\/tr>\n",
       "  <\/thead>\n",
       "  <tbody>\n",
       "    <tr>\n",
       "      <th>1<\/th>\n",
       "      <td>Chai<\/td>\n",
       "      <td>18.00<\/td>\n",
       "      <td>39<\/td>\n",
       "    <\/tr>\n",
       "    <tr>\n",
       "      <th>2<\/th>\n",
       "      <td>Chang<\/td>\n",
       "      <td>19.00<\/td>\n",
       "      <td>17<\/td>\n",
       "    <\/tr>\n",
       "    <tr>\n",
       "      <th>3<\/th>\n",
       "      <td>Aniseed Syrup<\/td>\n",
       "      <td>10.00<\/td>\n",
       "      <td>13<\/td>\n",
       "    <\/tr>\n",
       "    <tr>\n",
       "      <th>4<\/th>\n",
       "      <td>Chef Anton's Cajun Seasoning<\/td>\n",
       "      <td>22.00<\/td>\n",
       "      <td>53<\/td>\n",
       "    <\/tr>\n",
       "    <tr>\n",
       "      <th>5<\/th>\n",
       "      <td>Chef Anton's Gumbo Mix<\/td>\n",
       "      <td>21.35<\/td>\n",
       "      <td>0<\/td>\n",
       "    <\/tr>\n",
       "  <\/tbody>\n",
       "<\/table>\n",
       "<\/div>"
      ]
     },
     "metadata":{},
     "output_type":"display_data"
    }
   ],
   "metadata":{
    "datalore":{
     "node_id":"pQO2LiE0u8PFTmuUAmAdRv",
     "type":"CODE",
     "hide_input_from_viewers":true,
     "hide_output_from_viewers":true
    }
   }
  },
  {
   "cell_type":"code",
   "source":[
    "categories = pd.read_csv('\/data\/workspace_files\/categories1.csv',\n",
    "                         usecols=['CategoryID','CategoryName','Description'])\n",
    "categories.head()"
   ],
   "execution_count":7,
   "outputs":[
    {
     "data":{
      "text\/html":[
       "<div>\n",
       "<style scoped>\n",
       "    .dataframe tbody tr th:only-of-type {\n",
       "        vertical-align: middle;\n",
       "    }\n",
       "\n",
       "    .dataframe tbody tr th {\n",
       "        vertical-align: top;\n",
       "    }\n",
       "\n",
       "    .dataframe thead th {\n",
       "        text-align: right;\n",
       "    }\n",
       "<\/style>\n",
       "<table border=\"1\" class=\"dataframe\">\n",
       "  <thead>\n",
       "    <tr style=\"text-align: right;\">\n",
       "      <th><\/th>\n",
       "      <th>CategoryID<\/th>\n",
       "      <th>CategoryName<\/th>\n",
       "      <th>Description<\/th>\n",
       "    <\/tr>\n",
       "  <\/thead>\n",
       "  <tbody>\n",
       "    <tr>\n",
       "      <th>0<\/th>\n",
       "      <td>1<\/td>\n",
       "      <td>Beverages<\/td>\n",
       "      <td>Soft drinks<\/td>\n",
       "    <\/tr>\n",
       "    <tr>\n",
       "      <th>1<\/th>\n",
       "      <td>2<\/td>\n",
       "      <td>Condiments<\/td>\n",
       "      <td>Sweet and savory sauces<\/td>\n",
       "    <\/tr>\n",
       "    <tr>\n",
       "      <th>2<\/th>\n",
       "      <td>3<\/td>\n",
       "      <td>Confections<\/td>\n",
       "      <td>Desserts<\/td>\n",
       "    <\/tr>\n",
       "    <tr>\n",
       "      <th>3<\/th>\n",
       "      <td>4<\/td>\n",
       "      <td>Dairy Products<\/td>\n",
       "      <td>Cheeses<\/td>\n",
       "    <\/tr>\n",
       "    <tr>\n",
       "      <th>4<\/th>\n",
       "      <td>5<\/td>\n",
       "      <td>Grains\/Cereals<\/td>\n",
       "      <td>Breads<\/td>\n",
       "    <\/tr>\n",
       "  <\/tbody>\n",
       "<\/table>\n",
       "<\/div>"
      ]
     },
     "metadata":{},
     "output_type":"display_data"
    }
   ],
   "metadata":{
    "datalore":{
     "node_id":"Cz8oLlWWyVCrUCcF6raHio",
     "type":"CODE",
     "hide_input_from_viewers":true,
     "hide_output_from_viewers":true
    }
   }
  },
  {
   "cell_type":"code",
   "source":[
    "products= pd.read_csv('\/data\/workspace_files\/products.csv',\n",
    "                      usecols=['ProductID','ProductName','UnitPrice','CategoryID'])\n",
    "products.head()"
   ],
   "execution_count":8,
   "outputs":[
    {
     "data":{
      "text\/html":[
       "<div>\n",
       "<style scoped>\n",
       "    .dataframe tbody tr th:only-of-type {\n",
       "        vertical-align: middle;\n",
       "    }\n",
       "\n",
       "    .dataframe tbody tr th {\n",
       "        vertical-align: top;\n",
       "    }\n",
       "\n",
       "    .dataframe thead th {\n",
       "        text-align: right;\n",
       "    }\n",
       "<\/style>\n",
       "<table border=\"1\" class=\"dataframe\">\n",
       "  <thead>\n",
       "    <tr style=\"text-align: right;\">\n",
       "      <th><\/th>\n",
       "      <th>ProductID<\/th>\n",
       "      <th>ProductName<\/th>\n",
       "      <th>CategoryID<\/th>\n",
       "      <th>UnitPrice<\/th>\n",
       "    <\/tr>\n",
       "  <\/thead>\n",
       "  <tbody>\n",
       "    <tr>\n",
       "      <th>0<\/th>\n",
       "      <td>1<\/td>\n",
       "      <td>Chai<\/td>\n",
       "      <td>1<\/td>\n",
       "      <td>18.00<\/td>\n",
       "    <\/tr>\n",
       "    <tr>\n",
       "      <th>1<\/th>\n",
       "      <td>2<\/td>\n",
       "      <td>Chang<\/td>\n",
       "      <td>1<\/td>\n",
       "      <td>19.00<\/td>\n",
       "    <\/tr>\n",
       "    <tr>\n",
       "      <th>2<\/th>\n",
       "      <td>3<\/td>\n",
       "      <td>Aniseed Syrup<\/td>\n",
       "      <td>2<\/td>\n",
       "      <td>10.00<\/td>\n",
       "    <\/tr>\n",
       "    <tr>\n",
       "      <th>3<\/th>\n",
       "      <td>4<\/td>\n",
       "      <td>Chef Anton's Cajun Seasoning<\/td>\n",
       "      <td>2<\/td>\n",
       "      <td>22.00<\/td>\n",
       "    <\/tr>\n",
       "    <tr>\n",
       "      <th>4<\/th>\n",
       "      <td>5<\/td>\n",
       "      <td>Chef Anton's Gumbo Mix<\/td>\n",
       "      <td>2<\/td>\n",
       "      <td>21.35<\/td>\n",
       "    <\/tr>\n",
       "  <\/tbody>\n",
       "<\/table>\n",
       "<\/div>"
      ]
     },
     "metadata":{},
     "output_type":"display_data"
    }
   ],
   "metadata":{
    "datalore":{
     "node_id":"jHptzgRSlwtGCJdlG2ODyn",
     "type":"CODE",
     "hide_input_from_viewers":true,
     "hide_output_from_viewers":true
    }
   }
  },
  {
   "cell_type":"code",
   "source":[
    "categories.set_index('CategoryID',inplace=True)\n",
    "categories.head()"
   ],
   "execution_count":9,
   "outputs":[
    {
     "data":{
      "text\/html":[
       "<div>\n",
       "<style scoped>\n",
       "    .dataframe tbody tr th:only-of-type {\n",
       "        vertical-align: middle;\n",
       "    }\n",
       "\n",
       "    .dataframe tbody tr th {\n",
       "        vertical-align: top;\n",
       "    }\n",
       "\n",
       "    .dataframe thead th {\n",
       "        text-align: right;\n",
       "    }\n",
       "<\/style>\n",
       "<table border=\"1\" class=\"dataframe\">\n",
       "  <thead>\n",
       "    <tr style=\"text-align: right;\">\n",
       "      <th><\/th>\n",
       "      <th>CategoryName<\/th>\n",
       "      <th>Description<\/th>\n",
       "    <\/tr>\n",
       "    <tr>\n",
       "      <th>CategoryID<\/th>\n",
       "      <th><\/th>\n",
       "      <th><\/th>\n",
       "    <\/tr>\n",
       "  <\/thead>\n",
       "  <tbody>\n",
       "    <tr>\n",
       "      <th>1<\/th>\n",
       "      <td>Beverages<\/td>\n",
       "      <td>Soft drinks<\/td>\n",
       "    <\/tr>\n",
       "    <tr>\n",
       "      <th>2<\/th>\n",
       "      <td>Condiments<\/td>\n",
       "      <td>Sweet and savory sauces<\/td>\n",
       "    <\/tr>\n",
       "    <tr>\n",
       "      <th>3<\/th>\n",
       "      <td>Confections<\/td>\n",
       "      <td>Desserts<\/td>\n",
       "    <\/tr>\n",
       "    <tr>\n",
       "      <th>4<\/th>\n",
       "      <td>Dairy Products<\/td>\n",
       "      <td>Cheeses<\/td>\n",
       "    <\/tr>\n",
       "    <tr>\n",
       "      <th>5<\/th>\n",
       "      <td>Grains\/Cereals<\/td>\n",
       "      <td>Breads<\/td>\n",
       "    <\/tr>\n",
       "  <\/tbody>\n",
       "<\/table>\n",
       "<\/div>"
      ]
     },
     "metadata":{},
     "output_type":"display_data"
    }
   ],
   "metadata":{
    "datalore":{
     "node_id":"hpvXFtB0wITLs3YSqZERx7",
     "type":"CODE",
     "hide_input_from_viewers":true,
     "hide_output_from_viewers":true
    }
   }
  },
  {
   "cell_type":"code",
   "source":[
    "products.join(other=categories, on='CategoryID')"
   ],
   "execution_count":10,
   "outputs":[
    {
     "data":{
      "text\/html":[
       "<div>\n",
       "<style scoped>\n",
       "    .dataframe tbody tr th:only-of-type {\n",
       "        vertical-align: middle;\n",
       "    }\n",
       "\n",
       "    .dataframe tbody tr th {\n",
       "        vertical-align: top;\n",
       "    }\n",
       "\n",
       "    .dataframe thead th {\n",
       "        text-align: right;\n",
       "    }\n",
       "<\/style>\n",
       "<table border=\"1\" class=\"dataframe\">\n",
       "  <thead>\n",
       "    <tr style=\"text-align: right;\">\n",
       "      <th><\/th>\n",
       "      <th>ProductID<\/th>\n",
       "      <th>ProductName<\/th>\n",
       "      <th>CategoryID<\/th>\n",
       "      <th>UnitPrice<\/th>\n",
       "      <th>CategoryName<\/th>\n",
       "      <th>Description<\/th>\n",
       "    <\/tr>\n",
       "  <\/thead>\n",
       "  <tbody>\n",
       "    <tr>\n",
       "      <th>0<\/th>\n",
       "      <td>1<\/td>\n",
       "      <td>Chai<\/td>\n",
       "      <td>1<\/td>\n",
       "      <td>18.00<\/td>\n",
       "      <td>Beverages<\/td>\n",
       "      <td>Soft drinks<\/td>\n",
       "    <\/tr>\n",
       "    <tr>\n",
       "      <th>1<\/th>\n",
       "      <td>2<\/td>\n",
       "      <td>Chang<\/td>\n",
       "      <td>1<\/td>\n",
       "      <td>19.00<\/td>\n",
       "      <td>Beverages<\/td>\n",
       "      <td>Soft drinks<\/td>\n",
       "    <\/tr>\n",
       "    <tr>\n",
       "      <th>2<\/th>\n",
       "      <td>3<\/td>\n",
       "      <td>Aniseed Syrup<\/td>\n",
       "      <td>2<\/td>\n",
       "      <td>10.00<\/td>\n",
       "      <td>Condiments<\/td>\n",
       "      <td>Sweet and savory sauces<\/td>\n",
       "    <\/tr>\n",
       "    <tr>\n",
       "      <th>3<\/th>\n",
       "      <td>4<\/td>\n",
       "      <td>Chef Anton's Cajun Seasoning<\/td>\n",
       "      <td>2<\/td>\n",
       "      <td>22.00<\/td>\n",
       "      <td>Condiments<\/td>\n",
       "      <td>Sweet and savory sauces<\/td>\n",
       "    <\/tr>\n",
       "    <tr>\n",
       "      <th>4<\/th>\n",
       "      <td>5<\/td>\n",
       "      <td>Chef Anton's Gumbo Mix<\/td>\n",
       "      <td>2<\/td>\n",
       "      <td>21.35<\/td>\n",
       "      <td>Condiments<\/td>\n",
       "      <td>Sweet and savory sauces<\/td>\n",
       "    <\/tr>\n",
       "    <tr>\n",
       "      <th>...<\/th>\n",
       "      <td>...<\/td>\n",
       "      <td>...<\/td>\n",
       "      <td>...<\/td>\n",
       "      <td>...<\/td>\n",
       "      <td>...<\/td>\n",
       "      <td>...<\/td>\n",
       "    <\/tr>\n",
       "    <tr>\n",
       "      <th>72<\/th>\n",
       "      <td>73<\/td>\n",
       "      <td>Röd Kaviar<\/td>\n",
       "      <td>8<\/td>\n",
       "      <td>15.00<\/td>\n",
       "      <td>Seafood<\/td>\n",
       "      <td>Seaweed and fish<\/td>\n",
       "    <\/tr>\n",
       "    <tr>\n",
       "      <th>73<\/th>\n",
       "      <td>74<\/td>\n",
       "      <td>Longlife Tofu<\/td>\n",
       "      <td>7<\/td>\n",
       "      <td>10.00<\/td>\n",
       "      <td>Produce<\/td>\n",
       "      <td>Dried fruit and bean curd<\/td>\n",
       "    <\/tr>\n",
       "    <tr>\n",
       "      <th>74<\/th>\n",
       "      <td>75<\/td>\n",
       "      <td>Rhönbräu Klosterbier<\/td>\n",
       "      <td>1<\/td>\n",
       "      <td>7.75<\/td>\n",
       "      <td>Beverages<\/td>\n",
       "      <td>Soft drinks<\/td>\n",
       "    <\/tr>\n",
       "    <tr>\n",
       "      <th>75<\/th>\n",
       "      <td>76<\/td>\n",
       "      <td>Lakkalikööri<\/td>\n",
       "      <td>1<\/td>\n",
       "      <td>18.00<\/td>\n",
       "      <td>Beverages<\/td>\n",
       "      <td>Soft drinks<\/td>\n",
       "    <\/tr>\n",
       "    <tr>\n",
       "      <th>76<\/th>\n",
       "      <td>77<\/td>\n",
       "      <td>Original Frankfurter grüne Soße<\/td>\n",
       "      <td>2<\/td>\n",
       "      <td>13.00<\/td>\n",
       "      <td>Condiments<\/td>\n",
       "      <td>Sweet and savory sauces<\/td>\n",
       "    <\/tr>\n",
       "  <\/tbody>\n",
       "<\/table>\n",
       "<p>77 rows × 6 columns<\/p>\n",
       "<\/div>"
      ]
     },
     "metadata":{},
     "output_type":"display_data"
    }
   ],
   "metadata":{
    "datalore":{
     "node_id":"QSVwWzm4AlWrvUj8KpS7PA",
     "type":"CODE",
     "hide_input_from_viewers":true,
     "hide_output_from_viewers":true
    }
   }
  },
  {
   "cell_type":"markdown",
   "source":[
    "# Zadanie"
   ],
   "attachments":{},
   "metadata":{
    "datalore":{
     "node_id":"Zadanie",
     "type":"MD",
     "hide_input_from_viewers":false,
     "hide_output_from_viewers":false,
     "sheet_delimiter":true
    }
   }
  },
  {
   "cell_type":"code",
   "source":[
    "customer_names = pd.read_csv('\/data\/workspace_files\/customers.csv', \n",
    "                             usecols=['CustomerID','CompanyName'])\n",
    "customer_names.head()"
   ],
   "execution_count":11,
   "outputs":[
    {
     "data":{
      "text\/html":[
       "<div>\n",
       "<style scoped>\n",
       "    .dataframe tbody tr th:only-of-type {\n",
       "        vertical-align: middle;\n",
       "    }\n",
       "\n",
       "    .dataframe tbody tr th {\n",
       "        vertical-align: top;\n",
       "    }\n",
       "\n",
       "    .dataframe thead th {\n",
       "        text-align: right;\n",
       "    }\n",
       "<\/style>\n",
       "<table border=\"1\" class=\"dataframe\">\n",
       "  <thead>\n",
       "    <tr style=\"text-align: right;\">\n",
       "      <th><\/th>\n",
       "      <th>CustomerID<\/th>\n",
       "      <th>CompanyName<\/th>\n",
       "    <\/tr>\n",
       "  <\/thead>\n",
       "  <tbody>\n",
       "    <tr>\n",
       "      <th>0<\/th>\n",
       "      <td>ALFKI<\/td>\n",
       "      <td>Alfreds Futterkiste<\/td>\n",
       "    <\/tr>\n",
       "    <tr>\n",
       "      <th>1<\/th>\n",
       "      <td>ANATR<\/td>\n",
       "      <td>Ana Trujillo Emparedados y helados<\/td>\n",
       "    <\/tr>\n",
       "    <tr>\n",
       "      <th>2<\/th>\n",
       "      <td>ANTON<\/td>\n",
       "      <td>Antonio Moreno Taquer?­a<\/td>\n",
       "    <\/tr>\n",
       "    <tr>\n",
       "      <th>3<\/th>\n",
       "      <td>AROUT<\/td>\n",
       "      <td>Around the Horn<\/td>\n",
       "    <\/tr>\n",
       "    <tr>\n",
       "      <th>4<\/th>\n",
       "      <td>BERGS<\/td>\n",
       "      <td>Berglunds snabbk?¶p<\/td>\n",
       "    <\/tr>\n",
       "  <\/tbody>\n",
       "<\/table>\n",
       "<\/div>"
      ]
     },
     "metadata":{},
     "output_type":"display_data"
    }
   ],
   "metadata":{
    "datalore":{
     "node_id":"G4rUWkjenamrciqD3QKzSu",
     "type":"CODE",
     "hide_input_from_viewers":true,
     "hide_output_from_viewers":true
    }
   }
  },
  {
   "cell_type":"code",
   "source":[
    "customer_cities = pd.read_csv('\/data\/workspace_files\/customers.csv', \n",
    "                             usecols=['CustomerID','City','Country'])\n",
    "customer_cities.head()"
   ],
   "execution_count":12,
   "outputs":[
    {
     "data":{
      "text\/html":[
       "<div>\n",
       "<style scoped>\n",
       "    .dataframe tbody tr th:only-of-type {\n",
       "        vertical-align: middle;\n",
       "    }\n",
       "\n",
       "    .dataframe tbody tr th {\n",
       "        vertical-align: top;\n",
       "    }\n",
       "\n",
       "    .dataframe thead th {\n",
       "        text-align: right;\n",
       "    }\n",
       "<\/style>\n",
       "<table border=\"1\" class=\"dataframe\">\n",
       "  <thead>\n",
       "    <tr style=\"text-align: right;\">\n",
       "      <th><\/th>\n",
       "      <th>CustomerID<\/th>\n",
       "      <th>City<\/th>\n",
       "      <th>Country<\/th>\n",
       "    <\/tr>\n",
       "  <\/thead>\n",
       "  <tbody>\n",
       "    <tr>\n",
       "      <th>0<\/th>\n",
       "      <td>ALFKI<\/td>\n",
       "      <td>Berlin<\/td>\n",
       "      <td>Germany<\/td>\n",
       "    <\/tr>\n",
       "    <tr>\n",
       "      <th>1<\/th>\n",
       "      <td>ANATR<\/td>\n",
       "      <td>M?©xico D.F.<\/td>\n",
       "      <td>Mexico<\/td>\n",
       "    <\/tr>\n",
       "    <tr>\n",
       "      <th>2<\/th>\n",
       "      <td>ANTON<\/td>\n",
       "      <td>M?©xico D.F.<\/td>\n",
       "      <td>Mexico<\/td>\n",
       "    <\/tr>\n",
       "    <tr>\n",
       "      <th>3<\/th>\n",
       "      <td>AROUT<\/td>\n",
       "      <td>London<\/td>\n",
       "      <td>UK<\/td>\n",
       "    <\/tr>\n",
       "    <tr>\n",
       "      <th>4<\/th>\n",
       "      <td>BERGS<\/td>\n",
       "      <td>Lule??<\/td>\n",
       "      <td>Sweden<\/td>\n",
       "    <\/tr>\n",
       "  <\/tbody>\n",
       "<\/table>\n",
       "<\/div>"
      ]
     },
     "metadata":{},
     "output_type":"display_data"
    }
   ],
   "metadata":{
    "datalore":{
     "node_id":"8kRzcg5p6Kyk9O3NvJlxUY",
     "type":"CODE",
     "hide_input_from_viewers":true,
     "hide_output_from_viewers":true
    }
   }
  },
  {
   "cell_type":"code",
   "source":[
    "len(customer_names)"
   ],
   "execution_count":13,
   "outputs":[
    {
     "data":{
      "text\/plain":[
       "91"
      ]
     },
     "metadata":{},
     "output_type":"display_data"
    }
   ],
   "metadata":{
    "datalore":{
     "node_id":"HB7jWnwinP4LqHrXFlRu6Q",
     "type":"CODE",
     "hide_input_from_viewers":true,
     "hide_output_from_viewers":true
    }
   }
  },
  {
   "cell_type":"code",
   "source":[
    "len(customer_cities)"
   ],
   "execution_count":14,
   "outputs":[
    {
     "data":{
      "text\/plain":[
       "91"
      ]
     },
     "metadata":{},
     "output_type":"display_data"
    }
   ],
   "metadata":{
    "datalore":{
     "node_id":"2ojMpwAxBaGStx6csBqaYg",
     "type":"CODE",
     "hide_input_from_viewers":true,
     "hide_output_from_viewers":true
    }
   }
  },
  {
   "cell_type":"code",
   "source":[
    "customer_cities.set_index('CustomerID',inplace=True)\n",
    "customer_names.set_index('CustomerID',inplace=True)"
   ],
   "execution_count":15,
   "outputs":[],
   "metadata":{
    "datalore":{
     "node_id":"c5nEUZ6mAAnUbPn4bbKiZq",
     "type":"CODE",
     "hide_input_from_viewers":true,
     "hide_output_from_viewers":true
    }
   }
  },
  {
   "cell_type":"code",
   "source":[
    "customer_names.head()"
   ],
   "execution_count":16,
   "outputs":[
    {
     "data":{
      "text\/html":[
       "<div>\n",
       "<style scoped>\n",
       "    .dataframe tbody tr th:only-of-type {\n",
       "        vertical-align: middle;\n",
       "    }\n",
       "\n",
       "    .dataframe tbody tr th {\n",
       "        vertical-align: top;\n",
       "    }\n",
       "\n",
       "    .dataframe thead th {\n",
       "        text-align: right;\n",
       "    }\n",
       "<\/style>\n",
       "<table border=\"1\" class=\"dataframe\">\n",
       "  <thead>\n",
       "    <tr style=\"text-align: right;\">\n",
       "      <th><\/th>\n",
       "      <th>CompanyName<\/th>\n",
       "    <\/tr>\n",
       "    <tr>\n",
       "      <th>CustomerID<\/th>\n",
       "      <th><\/th>\n",
       "    <\/tr>\n",
       "  <\/thead>\n",
       "  <tbody>\n",
       "    <tr>\n",
       "      <th>ALFKI<\/th>\n",
       "      <td>Alfreds Futterkiste<\/td>\n",
       "    <\/tr>\n",
       "    <tr>\n",
       "      <th>ANATR<\/th>\n",
       "      <td>Ana Trujillo Emparedados y helados<\/td>\n",
       "    <\/tr>\n",
       "    <tr>\n",
       "      <th>ANTON<\/th>\n",
       "      <td>Antonio Moreno Taquer?­a<\/td>\n",
       "    <\/tr>\n",
       "    <tr>\n",
       "      <th>AROUT<\/th>\n",
       "      <td>Around the Horn<\/td>\n",
       "    <\/tr>\n",
       "    <tr>\n",
       "      <th>BERGS<\/th>\n",
       "      <td>Berglunds snabbk?¶p<\/td>\n",
       "    <\/tr>\n",
       "  <\/tbody>\n",
       "<\/table>\n",
       "<\/div>"
      ]
     },
     "metadata":{},
     "output_type":"display_data"
    }
   ],
   "metadata":{
    "datalore":{
     "node_id":"EiNRKpHIVG2cKJ5N7glmUq",
     "type":"CODE",
     "hide_input_from_viewers":true,
     "hide_output_from_viewers":true
    }
   }
  },
  {
   "cell_type":"code",
   "source":[
    "customer_cities.head()"
   ],
   "execution_count":17,
   "outputs":[
    {
     "data":{
      "text\/html":[
       "<div>\n",
       "<style scoped>\n",
       "    .dataframe tbody tr th:only-of-type {\n",
       "        vertical-align: middle;\n",
       "    }\n",
       "\n",
       "    .dataframe tbody tr th {\n",
       "        vertical-align: top;\n",
       "    }\n",
       "\n",
       "    .dataframe thead th {\n",
       "        text-align: right;\n",
       "    }\n",
       "<\/style>\n",
       "<table border=\"1\" class=\"dataframe\">\n",
       "  <thead>\n",
       "    <tr style=\"text-align: right;\">\n",
       "      <th><\/th>\n",
       "      <th>City<\/th>\n",
       "      <th>Country<\/th>\n",
       "    <\/tr>\n",
       "    <tr>\n",
       "      <th>CustomerID<\/th>\n",
       "      <th><\/th>\n",
       "      <th><\/th>\n",
       "    <\/tr>\n",
       "  <\/thead>\n",
       "  <tbody>\n",
       "    <tr>\n",
       "      <th>ALFKI<\/th>\n",
       "      <td>Berlin<\/td>\n",
       "      <td>Germany<\/td>\n",
       "    <\/tr>\n",
       "    <tr>\n",
       "      <th>ANATR<\/th>\n",
       "      <td>M?©xico D.F.<\/td>\n",
       "      <td>Mexico<\/td>\n",
       "    <\/tr>\n",
       "    <tr>\n",
       "      <th>ANTON<\/th>\n",
       "      <td>M?©xico D.F.<\/td>\n",
       "      <td>Mexico<\/td>\n",
       "    <\/tr>\n",
       "    <tr>\n",
       "      <th>AROUT<\/th>\n",
       "      <td>London<\/td>\n",
       "      <td>UK<\/td>\n",
       "    <\/tr>\n",
       "    <tr>\n",
       "      <th>BERGS<\/th>\n",
       "      <td>Lule??<\/td>\n",
       "      <td>Sweden<\/td>\n",
       "    <\/tr>\n",
       "  <\/tbody>\n",
       "<\/table>\n",
       "<\/div>"
      ]
     },
     "metadata":{},
     "output_type":"display_data"
    }
   ],
   "metadata":{
    "datalore":{
     "node_id":"ID9Vsry7tkVtwQA0VyOama",
     "type":"CODE",
     "hide_input_from_viewers":true,
     "hide_output_from_viewers":true
    }
   }
  },
  {
   "cell_type":"code",
   "source":[
    "customer_names.join(customer_cities,on='CustomerID')"
   ],
   "execution_count":18,
   "outputs":[
    {
     "data":{
      "text\/html":[
       "<div>\n",
       "<style scoped>\n",
       "    .dataframe tbody tr th:only-of-type {\n",
       "        vertical-align: middle;\n",
       "    }\n",
       "\n",
       "    .dataframe tbody tr th {\n",
       "        vertical-align: top;\n",
       "    }\n",
       "\n",
       "    .dataframe thead th {\n",
       "        text-align: right;\n",
       "    }\n",
       "<\/style>\n",
       "<table border=\"1\" class=\"dataframe\">\n",
       "  <thead>\n",
       "    <tr style=\"text-align: right;\">\n",
       "      <th><\/th>\n",
       "      <th>CompanyName<\/th>\n",
       "      <th>City<\/th>\n",
       "      <th>Country<\/th>\n",
       "    <\/tr>\n",
       "    <tr>\n",
       "      <th>CustomerID<\/th>\n",
       "      <th><\/th>\n",
       "      <th><\/th>\n",
       "      <th><\/th>\n",
       "    <\/tr>\n",
       "  <\/thead>\n",
       "  <tbody>\n",
       "    <tr>\n",
       "      <th>ALFKI<\/th>\n",
       "      <td>Alfreds Futterkiste<\/td>\n",
       "      <td>Berlin<\/td>\n",
       "      <td>Germany<\/td>\n",
       "    <\/tr>\n",
       "    <tr>\n",
       "      <th>ANATR<\/th>\n",
       "      <td>Ana Trujillo Emparedados y helados<\/td>\n",
       "      <td>M?©xico D.F.<\/td>\n",
       "      <td>Mexico<\/td>\n",
       "    <\/tr>\n",
       "    <tr>\n",
       "      <th>ANTON<\/th>\n",
       "      <td>Antonio Moreno Taquer?­a<\/td>\n",
       "      <td>M?©xico D.F.<\/td>\n",
       "      <td>Mexico<\/td>\n",
       "    <\/tr>\n",
       "    <tr>\n",
       "      <th>AROUT<\/th>\n",
       "      <td>Around the Horn<\/td>\n",
       "      <td>London<\/td>\n",
       "      <td>UK<\/td>\n",
       "    <\/tr>\n",
       "    <tr>\n",
       "      <th>BERGS<\/th>\n",
       "      <td>Berglunds snabbk?¶p<\/td>\n",
       "      <td>Lule??<\/td>\n",
       "      <td>Sweden<\/td>\n",
       "    <\/tr>\n",
       "    <tr>\n",
       "      <th>...<\/th>\n",
       "      <td>...<\/td>\n",
       "      <td>...<\/td>\n",
       "      <td>...<\/td>\n",
       "    <\/tr>\n",
       "    <tr>\n",
       "      <th>WARTH<\/th>\n",
       "      <td>Wartian Herkku<\/td>\n",
       "      <td>Oulu<\/td>\n",
       "      <td>Finland<\/td>\n",
       "    <\/tr>\n",
       "    <tr>\n",
       "      <th>WELLI<\/th>\n",
       "      <td>Wellington Importadora<\/td>\n",
       "      <td>Resende<\/td>\n",
       "      <td>Brazil<\/td>\n",
       "    <\/tr>\n",
       "    <tr>\n",
       "      <th>WHITC<\/th>\n",
       "      <td>White Clover Markets<\/td>\n",
       "      <td>Seattle<\/td>\n",
       "      <td>USA<\/td>\n",
       "    <\/tr>\n",
       "    <tr>\n",
       "      <th>WILMK<\/th>\n",
       "      <td>Wilman Kala<\/td>\n",
       "      <td>Helsinki<\/td>\n",
       "      <td>Finland<\/td>\n",
       "    <\/tr>\n",
       "    <tr>\n",
       "      <th>WOLZA<\/th>\n",
       "      <td>Wolski  Zajazd<\/td>\n",
       "      <td>Warszawa<\/td>\n",
       "      <td>Poland<\/td>\n",
       "    <\/tr>\n",
       "  <\/tbody>\n",
       "<\/table>\n",
       "<p>91 rows × 3 columns<\/p>\n",
       "<\/div>"
      ]
     },
     "metadata":{},
     "output_type":"display_data"
    }
   ],
   "metadata":{
    "datalore":{
     "node_id":"zZHJv3Eb8uUTpoWmdLJelr",
     "type":"CODE",
     "hide_input_from_viewers":true,
     "hide_output_from_viewers":true
    }
   }
  },
  {
   "cell_type":"code",
   "source":[
    "customer_names.reset_index(inplace=True)"
   ],
   "execution_count":19,
   "outputs":[],
   "metadata":{
    "datalore":{
     "node_id":"iYZVK6UyNLXH2e4txi2PHO",
     "type":"CODE",
     "hide_input_from_viewers":true,
     "hide_output_from_viewers":true
    }
   }
  },
  {
   "cell_type":"code",
   "source":[
    "customer_names.join(customer_cities, on='CustomerID').head()"
   ],
   "execution_count":20,
   "outputs":[
    {
     "data":{
      "text\/html":[
       "<div>\n",
       "<style scoped>\n",
       "    .dataframe tbody tr th:only-of-type {\n",
       "        vertical-align: middle;\n",
       "    }\n",
       "\n",
       "    .dataframe tbody tr th {\n",
       "        vertical-align: top;\n",
       "    }\n",
       "\n",
       "    .dataframe thead th {\n",
       "        text-align: right;\n",
       "    }\n",
       "<\/style>\n",
       "<table border=\"1\" class=\"dataframe\">\n",
       "  <thead>\n",
       "    <tr style=\"text-align: right;\">\n",
       "      <th><\/th>\n",
       "      <th>CustomerID<\/th>\n",
       "      <th>CompanyName<\/th>\n",
       "      <th>City<\/th>\n",
       "      <th>Country<\/th>\n",
       "    <\/tr>\n",
       "  <\/thead>\n",
       "  <tbody>\n",
       "    <tr>\n",
       "      <th>0<\/th>\n",
       "      <td>ALFKI<\/td>\n",
       "      <td>Alfreds Futterkiste<\/td>\n",
       "      <td>Berlin<\/td>\n",
       "      <td>Germany<\/td>\n",
       "    <\/tr>\n",
       "    <tr>\n",
       "      <th>1<\/th>\n",
       "      <td>ANATR<\/td>\n",
       "      <td>Ana Trujillo Emparedados y helados<\/td>\n",
       "      <td>M?©xico D.F.<\/td>\n",
       "      <td>Mexico<\/td>\n",
       "    <\/tr>\n",
       "    <tr>\n",
       "      <th>2<\/th>\n",
       "      <td>ANTON<\/td>\n",
       "      <td>Antonio Moreno Taquer?­a<\/td>\n",
       "      <td>M?©xico D.F.<\/td>\n",
       "      <td>Mexico<\/td>\n",
       "    <\/tr>\n",
       "    <tr>\n",
       "      <th>3<\/th>\n",
       "      <td>AROUT<\/td>\n",
       "      <td>Around the Horn<\/td>\n",
       "      <td>London<\/td>\n",
       "      <td>UK<\/td>\n",
       "    <\/tr>\n",
       "    <tr>\n",
       "      <th>4<\/th>\n",
       "      <td>BERGS<\/td>\n",
       "      <td>Berglunds snabbk?¶p<\/td>\n",
       "      <td>Lule??<\/td>\n",
       "      <td>Sweden<\/td>\n",
       "    <\/tr>\n",
       "  <\/tbody>\n",
       "<\/table>\n",
       "<\/div>"
      ]
     },
     "metadata":{},
     "output_type":"display_data"
    }
   ],
   "metadata":{
    "datalore":{
     "node_id":"rJHXM4KwoFELxsGeJSEB8m",
     "type":"CODE",
     "hide_input_from_viewers":true,
     "hide_output_from_viewers":true
    }
   }
  },
  {
   "cell_type":"code",
   "source":[
    "len(customer_names.join(customer_cities, on='CustomerID'))"
   ],
   "execution_count":21,
   "outputs":[
    {
     "data":{
      "text\/plain":[
       "91"
      ]
     },
     "metadata":{},
     "output_type":"display_data"
    }
   ],
   "metadata":{
    "datalore":{
     "node_id":"nhZgYmHndV7gg66yop0Kzt",
     "type":"CODE",
     "hide_input_from_viewers":true,
     "hide_output_from_viewers":true
    }
   }
  }
 ],
 "metadata":{
  "kernelspec":{
   "display_name":"Python",
   "language":"python",
   "name":"python"
  },
  "datalore":{
   "computation_mode":"JUPYTER",
   "package_manager":"pip",
   "base_environment":"default",
   "packages":[],
   "report_row_ids":[],
   "version":3
  }
 },
 "nbformat":4,
 "nbformat_minor":4
}