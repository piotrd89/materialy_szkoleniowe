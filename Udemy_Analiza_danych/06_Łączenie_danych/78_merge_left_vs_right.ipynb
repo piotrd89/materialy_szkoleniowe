{
 "cells":[
  {
   "cell_type":"markdown",
   "source":[
    "# Wstęp"
   ],
   "attachments":{},
   "metadata":{
    "datalore":{
     "node_id":"Wstęp",
     "type":"MD",
     "hide_input_from_viewers":false,
     "hide_output_from_viewers":false,
     "sheet_delimiter":true
    }
   }
  },
  {
   "cell_type":"code",
   "source":[
    "import pandas as pd\n",
    "import numpy as np"
   ],
   "execution_count":1,
   "outputs":[],
   "metadata":{
    "datalore":{
     "node_id":"toc3fBJ4BWNXLPjEkWlrIJ",
     "type":"CODE",
     "hide_input_from_viewers":true,
     "hide_output_from_viewers":true
    }
   }
  },
  {
   "cell_type":"code",
   "source":[
    "products = pd.read_csv('\/data\/workspace_files\/products.csv', \n",
    "                       usecols=['ProductID','ProductName'])\n",
    "products.head()"
   ],
   "execution_count":4,
   "outputs":[
    {
     "data":{
      "text\/html":[
       "<div>\n",
       "<style scoped>\n",
       "    .dataframe tbody tr th:only-of-type {\n",
       "        vertical-align: middle;\n",
       "    }\n",
       "\n",
       "    .dataframe tbody tr th {\n",
       "        vertical-align: top;\n",
       "    }\n",
       "\n",
       "    .dataframe thead th {\n",
       "        text-align: right;\n",
       "    }\n",
       "<\/style>\n",
       "<table border=\"1\" class=\"dataframe\">\n",
       "  <thead>\n",
       "    <tr style=\"text-align: right;\">\n",
       "      <th><\/th>\n",
       "      <th>ProductID<\/th>\n",
       "      <th>ProductName<\/th>\n",
       "    <\/tr>\n",
       "  <\/thead>\n",
       "  <tbody>\n",
       "    <tr>\n",
       "      <th>0<\/th>\n",
       "      <td>1<\/td>\n",
       "      <td>Chai<\/td>\n",
       "    <\/tr>\n",
       "    <tr>\n",
       "      <th>1<\/th>\n",
       "      <td>2<\/td>\n",
       "      <td>Chang<\/td>\n",
       "    <\/tr>\n",
       "    <tr>\n",
       "      <th>2<\/th>\n",
       "      <td>3<\/td>\n",
       "      <td>Aniseed Syrup<\/td>\n",
       "    <\/tr>\n",
       "    <tr>\n",
       "      <th>3<\/th>\n",
       "      <td>4<\/td>\n",
       "      <td>Chef Anton's Cajun Seasoning<\/td>\n",
       "    <\/tr>\n",
       "    <tr>\n",
       "      <th>4<\/th>\n",
       "      <td>5<\/td>\n",
       "      <td>Chef Anton's Gumbo Mix<\/td>\n",
       "    <\/tr>\n",
       "  <\/tbody>\n",
       "<\/table>\n",
       "<\/div>"
      ]
     },
     "metadata":{},
     "output_type":"display_data"
    }
   ],
   "metadata":{
    "datalore":{
     "node_id":"Hz7V7NG6VBR4idVRWeT7u5",
     "type":"CODE",
     "hide_input_from_viewers":true,
     "hide_output_from_viewers":true
    }
   }
  },
  {
   "cell_type":"code",
   "source":[
    "orderedProducts = pd.read_csv('\/data\/workspace_files\/order-details_del.csv',\n",
    "                              usecols=['OrderID','ProductID','UnitPrice','Quantity'])\n",
    "orderedProducts.head()"
   ],
   "execution_count":3,
   "outputs":[
    {
     "data":{
      "text\/html":[
       "<div>\n",
       "<style scoped>\n",
       "    .dataframe tbody tr th:only-of-type {\n",
       "        vertical-align: middle;\n",
       "    }\n",
       "\n",
       "    .dataframe tbody tr th {\n",
       "        vertical-align: top;\n",
       "    }\n",
       "\n",
       "    .dataframe thead th {\n",
       "        text-align: right;\n",
       "    }\n",
       "<\/style>\n",
       "<table border=\"1\" class=\"dataframe\">\n",
       "  <thead>\n",
       "    <tr style=\"text-align: right;\">\n",
       "      <th><\/th>\n",
       "      <th>OrderID<\/th>\n",
       "      <th>ProductID<\/th>\n",
       "      <th>UnitPrice<\/th>\n",
       "      <th>Quantity<\/th>\n",
       "    <\/tr>\n",
       "  <\/thead>\n",
       "  <tbody>\n",
       "    <tr>\n",
       "      <th>0<\/th>\n",
       "      <td>10331<\/td>\n",
       "      <td>54<\/td>\n",
       "      <td>5.9<\/td>\n",
       "      <td>15<\/td>\n",
       "    <\/tr>\n",
       "    <tr>\n",
       "      <th>1<\/th>\n",
       "      <td>10332<\/td>\n",
       "      <td>18<\/td>\n",
       "      <td>50.0<\/td>\n",
       "      <td>40<\/td>\n",
       "    <\/tr>\n",
       "    <tr>\n",
       "      <th>2<\/th>\n",
       "      <td>10332<\/td>\n",
       "      <td>42<\/td>\n",
       "      <td>11.2<\/td>\n",
       "      <td>10<\/td>\n",
       "    <\/tr>\n",
       "    <tr>\n",
       "      <th>3<\/th>\n",
       "      <td>10332<\/td>\n",
       "      <td>47<\/td>\n",
       "      <td>7.6<\/td>\n",
       "      <td>16<\/td>\n",
       "    <\/tr>\n",
       "    <tr>\n",
       "      <th>4<\/th>\n",
       "      <td>10333<\/td>\n",
       "      <td>14<\/td>\n",
       "      <td>18.6<\/td>\n",
       "      <td>10<\/td>\n",
       "    <\/tr>\n",
       "  <\/tbody>\n",
       "<\/table>\n",
       "<\/div>"
      ]
     },
     "metadata":{},
     "output_type":"display_data"
    }
   ],
   "metadata":{
    "datalore":{
     "node_id":"HUTaAjOIATyH1ozr3SFW6D",
     "type":"CODE",
     "hide_input_from_viewers":true,
     "hide_output_from_viewers":true
    }
   }
  },
  {
   "cell_type":"code",
   "source":[
    "merged = products.merge(right=orderedProducts, on='ProductID', how='left', indicator=True)\n",
    "merged.head()"
   ],
   "execution_count":5,
   "outputs":[
    {
     "data":{
      "text\/html":[
       "<div>\n",
       "<style scoped>\n",
       "    .dataframe tbody tr th:only-of-type {\n",
       "        vertical-align: middle;\n",
       "    }\n",
       "\n",
       "    .dataframe tbody tr th {\n",
       "        vertical-align: top;\n",
       "    }\n",
       "\n",
       "    .dataframe thead th {\n",
       "        text-align: right;\n",
       "    }\n",
       "<\/style>\n",
       "<table border=\"1\" class=\"dataframe\">\n",
       "  <thead>\n",
       "    <tr style=\"text-align: right;\">\n",
       "      <th><\/th>\n",
       "      <th>ProductID<\/th>\n",
       "      <th>ProductName<\/th>\n",
       "      <th>OrderID<\/th>\n",
       "      <th>UnitPrice<\/th>\n",
       "      <th>Quantity<\/th>\n",
       "      <th>_merge<\/th>\n",
       "    <\/tr>\n",
       "  <\/thead>\n",
       "  <tbody>\n",
       "    <tr>\n",
       "      <th>0<\/th>\n",
       "      <td>1<\/td>\n",
       "      <td>Chai<\/td>\n",
       "      <td>10348.0<\/td>\n",
       "      <td>14.4<\/td>\n",
       "      <td>15.0<\/td>\n",
       "      <td>both<\/td>\n",
       "    <\/tr>\n",
       "    <tr>\n",
       "      <th>1<\/th>\n",
       "      <td>1<\/td>\n",
       "      <td>Chai<\/td>\n",
       "      <td>10354.0<\/td>\n",
       "      <td>14.4<\/td>\n",
       "      <td>12.0<\/td>\n",
       "      <td>both<\/td>\n",
       "    <\/tr>\n",
       "    <tr>\n",
       "      <th>2<\/th>\n",
       "      <td>1<\/td>\n",
       "      <td>Chai<\/td>\n",
       "      <td>10370.0<\/td>\n",
       "      <td>14.4<\/td>\n",
       "      <td>15.0<\/td>\n",
       "      <td>both<\/td>\n",
       "    <\/tr>\n",
       "    <tr>\n",
       "      <th>3<\/th>\n",
       "      <td>1<\/td>\n",
       "      <td>Chai<\/td>\n",
       "      <td>10406.0<\/td>\n",
       "      <td>14.4<\/td>\n",
       "      <td>10.0<\/td>\n",
       "      <td>both<\/td>\n",
       "    <\/tr>\n",
       "    <tr>\n",
       "      <th>4<\/th>\n",
       "      <td>1<\/td>\n",
       "      <td>Chai<\/td>\n",
       "      <td>10413.0<\/td>\n",
       "      <td>14.4<\/td>\n",
       "      <td>24.0<\/td>\n",
       "      <td>both<\/td>\n",
       "    <\/tr>\n",
       "  <\/tbody>\n",
       "<\/table>\n",
       "<\/div>"
      ]
     },
     "metadata":{},
     "output_type":"display_data"
    }
   ],
   "metadata":{
    "datalore":{
     "node_id":"WPtx5Nrhjh9diYMJyQSrMp",
     "type":"CODE",
     "hide_input_from_viewers":true,
     "hide_output_from_viewers":true
    }
   }
  },
  {
   "cell_type":"code",
   "source":[
    "merged['_merge'].value_counts()"
   ],
   "execution_count":6,
   "outputs":[
    {
     "data":{
      "text\/html":[
       "<pre>both          289\n",
       "left_only       5\n",
       "right_only      0\n",
       "Name: _merge, dtype: int64<\/pre>"
      ]
     },
     "metadata":{},
     "output_type":"display_data"
    }
   ],
   "metadata":{
    "datalore":{
     "node_id":"XlMWK1ZzoLyiWgOiupC0ck",
     "type":"CODE",
     "hide_input_from_viewers":true,
     "hide_output_from_viewers":true
    }
   }
  },
  {
   "cell_type":"code",
   "source":[
    "merged = products.merge(right=orderedProducts, on='ProductID', how='right', indicator=True)\n",
    "merged.head()"
   ],
   "execution_count":7,
   "outputs":[
    {
     "data":{
      "text\/html":[
       "<div>\n",
       "<style scoped>\n",
       "    .dataframe tbody tr th:only-of-type {\n",
       "        vertical-align: middle;\n",
       "    }\n",
       "\n",
       "    .dataframe tbody tr th {\n",
       "        vertical-align: top;\n",
       "    }\n",
       "\n",
       "    .dataframe thead th {\n",
       "        text-align: right;\n",
       "    }\n",
       "<\/style>\n",
       "<table border=\"1\" class=\"dataframe\">\n",
       "  <thead>\n",
       "    <tr style=\"text-align: right;\">\n",
       "      <th><\/th>\n",
       "      <th>ProductID<\/th>\n",
       "      <th>ProductName<\/th>\n",
       "      <th>OrderID<\/th>\n",
       "      <th>UnitPrice<\/th>\n",
       "      <th>Quantity<\/th>\n",
       "      <th>_merge<\/th>\n",
       "    <\/tr>\n",
       "  <\/thead>\n",
       "  <tbody>\n",
       "    <tr>\n",
       "      <th>0<\/th>\n",
       "      <td>54<\/td>\n",
       "      <td>Tourtière<\/td>\n",
       "      <td>10331<\/td>\n",
       "      <td>5.9<\/td>\n",
       "      <td>15<\/td>\n",
       "      <td>both<\/td>\n",
       "    <\/tr>\n",
       "    <tr>\n",
       "      <th>1<\/th>\n",
       "      <td>18<\/td>\n",
       "      <td>Carnarvon Tigers<\/td>\n",
       "      <td>10332<\/td>\n",
       "      <td>50.0<\/td>\n",
       "      <td>40<\/td>\n",
       "      <td>both<\/td>\n",
       "    <\/tr>\n",
       "    <tr>\n",
       "      <th>2<\/th>\n",
       "      <td>42<\/td>\n",
       "      <td>Singaporean Hokkien Fried Mee<\/td>\n",
       "      <td>10332<\/td>\n",
       "      <td>11.2<\/td>\n",
       "      <td>10<\/td>\n",
       "      <td>both<\/td>\n",
       "    <\/tr>\n",
       "    <tr>\n",
       "      <th>3<\/th>\n",
       "      <td>47<\/td>\n",
       "      <td>Zaanse koeken<\/td>\n",
       "      <td>10332<\/td>\n",
       "      <td>7.6<\/td>\n",
       "      <td>16<\/td>\n",
       "      <td>both<\/td>\n",
       "    <\/tr>\n",
       "    <tr>\n",
       "      <th>4<\/th>\n",
       "      <td>14<\/td>\n",
       "      <td>Tofu<\/td>\n",
       "      <td>10333<\/td>\n",
       "      <td>18.6<\/td>\n",
       "      <td>10<\/td>\n",
       "      <td>both<\/td>\n",
       "    <\/tr>\n",
       "  <\/tbody>\n",
       "<\/table>\n",
       "<\/div>"
      ]
     },
     "metadata":{},
     "output_type":"display_data"
    }
   ],
   "metadata":{
    "datalore":{
     "node_id":"K0UZLFWZMEFWdixfOPbARC",
     "type":"CODE",
     "hide_input_from_viewers":true,
     "hide_output_from_viewers":true
    }
   }
  },
  {
   "cell_type":"code",
   "source":[
    "merged['_merge'].value_counts()"
   ],
   "execution_count":8,
   "outputs":[
    {
     "data":{
      "text\/html":[
       "<pre>both          289\n",
       "left_only       0\n",
       "right_only      0\n",
       "Name: _merge, dtype: int64<\/pre>"
      ]
     },
     "metadata":{},
     "output_type":"display_data"
    }
   ],
   "metadata":{
    "datalore":{
     "node_id":"n3H1dITlrJkAfirVH0G4m3",
     "type":"CODE",
     "hide_input_from_viewers":true,
     "hide_output_from_viewers":true
    }
   }
  },
  {
   "cell_type":"code",
   "source":[
    "merged = orderedProducts.merge(right=products, on='ProductID', how='right', indicator=True)\n",
    "merged.head()"
   ],
   "execution_count":9,
   "outputs":[
    {
     "data":{
      "text\/html":[
       "<div>\n",
       "<style scoped>\n",
       "    .dataframe tbody tr th:only-of-type {\n",
       "        vertical-align: middle;\n",
       "    }\n",
       "\n",
       "    .dataframe tbody tr th {\n",
       "        vertical-align: top;\n",
       "    }\n",
       "\n",
       "    .dataframe thead th {\n",
       "        text-align: right;\n",
       "    }\n",
       "<\/style>\n",
       "<table border=\"1\" class=\"dataframe\">\n",
       "  <thead>\n",
       "    <tr style=\"text-align: right;\">\n",
       "      <th><\/th>\n",
       "      <th>OrderID<\/th>\n",
       "      <th>ProductID<\/th>\n",
       "      <th>UnitPrice<\/th>\n",
       "      <th>Quantity<\/th>\n",
       "      <th>ProductName<\/th>\n",
       "      <th>_merge<\/th>\n",
       "    <\/tr>\n",
       "  <\/thead>\n",
       "  <tbody>\n",
       "    <tr>\n",
       "      <th>0<\/th>\n",
       "      <td>10348.0<\/td>\n",
       "      <td>1<\/td>\n",
       "      <td>14.4<\/td>\n",
       "      <td>15.0<\/td>\n",
       "      <td>Chai<\/td>\n",
       "      <td>both<\/td>\n",
       "    <\/tr>\n",
       "    <tr>\n",
       "      <th>1<\/th>\n",
       "      <td>10354.0<\/td>\n",
       "      <td>1<\/td>\n",
       "      <td>14.4<\/td>\n",
       "      <td>12.0<\/td>\n",
       "      <td>Chai<\/td>\n",
       "      <td>both<\/td>\n",
       "    <\/tr>\n",
       "    <tr>\n",
       "      <th>2<\/th>\n",
       "      <td>10370.0<\/td>\n",
       "      <td>1<\/td>\n",
       "      <td>14.4<\/td>\n",
       "      <td>15.0<\/td>\n",
       "      <td>Chai<\/td>\n",
       "      <td>both<\/td>\n",
       "    <\/tr>\n",
       "    <tr>\n",
       "      <th>3<\/th>\n",
       "      <td>10406.0<\/td>\n",
       "      <td>1<\/td>\n",
       "      <td>14.4<\/td>\n",
       "      <td>10.0<\/td>\n",
       "      <td>Chai<\/td>\n",
       "      <td>both<\/td>\n",
       "    <\/tr>\n",
       "    <tr>\n",
       "      <th>4<\/th>\n",
       "      <td>10413.0<\/td>\n",
       "      <td>1<\/td>\n",
       "      <td>14.4<\/td>\n",
       "      <td>24.0<\/td>\n",
       "      <td>Chai<\/td>\n",
       "      <td>both<\/td>\n",
       "    <\/tr>\n",
       "  <\/tbody>\n",
       "<\/table>\n",
       "<\/div>"
      ]
     },
     "metadata":{},
     "output_type":"display_data"
    }
   ],
   "metadata":{
    "datalore":{
     "node_id":"0RDFWoUEJ3erADuQ9flDKr",
     "type":"CODE",
     "hide_input_from_viewers":true,
     "hide_output_from_viewers":true
    }
   }
  },
  {
   "cell_type":"code",
   "source":[
    "merged['_merge'].value_counts()"
   ],
   "execution_count":10,
   "outputs":[
    {
     "data":{
      "text\/html":[
       "<pre>both          289\n",
       "right_only      5\n",
       "left_only       0\n",
       "Name: _merge, dtype: int64<\/pre>"
      ]
     },
     "metadata":{},
     "output_type":"display_data"
    }
   ],
   "metadata":{
    "datalore":{
     "node_id":"zzSY1TyPJHnyiaxx990WD2",
     "type":"CODE",
     "hide_input_from_viewers":true,
     "hide_output_from_viewers":true
    }
   }
  },
  {
   "cell_type":"markdown",
   "source":[
    "Rozwiązujemy zadanie z poprzedniego rozdziału z wykorzystaniem parametru right"
   ],
   "attachments":{},
   "metadata":{
    "datalore":{
     "node_id":"V4hVz3zKPLYSFirEr0PlIS",
     "type":"MD",
     "hide_input_from_viewers":true,
     "hide_output_from_viewers":true
    }
   }
  },
  {
   "cell_type":"code",
   "source":[
    "filter = merged['_merge'] =='right_only'\n",
    "merged[filter]"
   ],
   "execution_count":11,
   "outputs":[
    {
     "data":{
      "text\/html":[
       "<div>\n",
       "<style scoped>\n",
       "    .dataframe tbody tr th:only-of-type {\n",
       "        vertical-align: middle;\n",
       "    }\n",
       "\n",
       "    .dataframe tbody tr th {\n",
       "        vertical-align: top;\n",
       "    }\n",
       "\n",
       "    .dataframe thead th {\n",
       "        text-align: right;\n",
       "    }\n",
       "<\/style>\n",
       "<table border=\"1\" class=\"dataframe\">\n",
       "  <thead>\n",
       "    <tr style=\"text-align: right;\">\n",
       "      <th><\/th>\n",
       "      <th>OrderID<\/th>\n",
       "      <th>ProductID<\/th>\n",
       "      <th>UnitPrice<\/th>\n",
       "      <th>Quantity<\/th>\n",
       "      <th>ProductName<\/th>\n",
       "      <th>_merge<\/th>\n",
       "    <\/tr>\n",
       "  <\/thead>\n",
       "  <tbody>\n",
       "    <tr>\n",
       "      <th>16<\/th>\n",
       "      <td>NaN<\/td>\n",
       "      <td>6<\/td>\n",
       "      <td>NaN<\/td>\n",
       "      <td>NaN<\/td>\n",
       "      <td>Grandma's Boysenberry Spread<\/td>\n",
       "      <td>right_only<\/td>\n",
       "    <\/tr>\n",
       "    <tr>\n",
       "      <th>38<\/th>\n",
       "      <td>NaN<\/td>\n",
       "      <td>15<\/td>\n",
       "      <td>NaN<\/td>\n",
       "      <td>NaN<\/td>\n",
       "      <td>Genen Shouyu<\/td>\n",
       "      <td>right_only<\/td>\n",
       "    <\/tr>\n",
       "    <tr>\n",
       "      <th>85<\/th>\n",
       "      <td>NaN<\/td>\n",
       "      <td>27<\/td>\n",
       "      <td>NaN<\/td>\n",
       "      <td>NaN<\/td>\n",
       "      <td>Schoggi Schokolade<\/td>\n",
       "      <td>right_only<\/td>\n",
       "    <\/tr>\n",
       "    <tr>\n",
       "      <th>242<\/th>\n",
       "      <td>NaN<\/td>\n",
       "      <td>66<\/td>\n",
       "      <td>NaN<\/td>\n",
       "      <td>NaN<\/td>\n",
       "      <td>Louisiana Hot Spiced Okra<\/td>\n",
       "      <td>right_only<\/td>\n",
       "    <\/tr>\n",
       "    <tr>\n",
       "      <th>243<\/th>\n",
       "      <td>NaN<\/td>\n",
       "      <td>67<\/td>\n",
       "      <td>NaN<\/td>\n",
       "      <td>NaN<\/td>\n",
       "      <td>Laughing Lumberjack Lager<\/td>\n",
       "      <td>right_only<\/td>\n",
       "    <\/tr>\n",
       "  <\/tbody>\n",
       "<\/table>\n",
       "<\/div>"
      ]
     },
     "metadata":{},
     "output_type":"display_data"
    }
   ],
   "metadata":{
    "datalore":{
     "node_id":"zjhfLZ5C3OE53k8HGtPTL0",
     "type":"CODE",
     "hide_input_from_viewers":true,
     "hide_output_from_viewers":true
    }
   }
  },
  {
   "cell_type":"markdown",
   "source":[
    "# Zadanie"
   ],
   "attachments":{},
   "metadata":{
    "datalore":{
     "node_id":"Zadanie",
     "type":"MD",
     "hide_input_from_viewers":false,
     "hide_output_from_viewers":false,
     "sheet_delimiter":true
    }
   }
  },
  {
   "cell_type":"code",
   "source":[
    "suppliers = pd.read_csv('\/data\/workspace_files\/suppliers.csv',\n",
    "                        usecols=['SupplierID','CompanyName','City'])\n",
    "suppliers.head()"
   ],
   "execution_count":13,
   "outputs":[
    {
     "data":{
      "text\/html":[
       "<div>\n",
       "<style scoped>\n",
       "    .dataframe tbody tr th:only-of-type {\n",
       "        vertical-align: middle;\n",
       "    }\n",
       "\n",
       "    .dataframe tbody tr th {\n",
       "        vertical-align: top;\n",
       "    }\n",
       "\n",
       "    .dataframe thead th {\n",
       "        text-align: right;\n",
       "    }\n",
       "<\/style>\n",
       "<table border=\"1\" class=\"dataframe\">\n",
       "  <thead>\n",
       "    <tr style=\"text-align: right;\">\n",
       "      <th><\/th>\n",
       "      <th>SupplierID<\/th>\n",
       "      <th>CompanyName<\/th>\n",
       "      <th>City<\/th>\n",
       "    <\/tr>\n",
       "  <\/thead>\n",
       "  <tbody>\n",
       "    <tr>\n",
       "      <th>0<\/th>\n",
       "      <td>1<\/td>\n",
       "      <td>Exotic Liquids<\/td>\n",
       "      <td>London<\/td>\n",
       "    <\/tr>\n",
       "    <tr>\n",
       "      <th>1<\/th>\n",
       "      <td>2<\/td>\n",
       "      <td>New Orleans Cajun Delights<\/td>\n",
       "      <td>New Orleans<\/td>\n",
       "    <\/tr>\n",
       "    <tr>\n",
       "      <th>2<\/th>\n",
       "      <td>3<\/td>\n",
       "      <td>Grandma Kelly's Homestead<\/td>\n",
       "      <td>Ann Arbor<\/td>\n",
       "    <\/tr>\n",
       "    <tr>\n",
       "      <th>3<\/th>\n",
       "      <td>4<\/td>\n",
       "      <td>Tokyo Traders<\/td>\n",
       "      <td>Tokyo<\/td>\n",
       "    <\/tr>\n",
       "    <tr>\n",
       "      <th>4<\/th>\n",
       "      <td>5<\/td>\n",
       "      <td>Cooperativa de Quesos 'Las Cabras'<\/td>\n",
       "      <td>Oviedo<\/td>\n",
       "    <\/tr>\n",
       "  <\/tbody>\n",
       "<\/table>\n",
       "<\/div>"
      ]
     },
     "metadata":{},
     "output_type":"display_data"
    }
   ],
   "metadata":{
    "datalore":{
     "node_id":"4ypkPtelb4UkOzIC86nWMS",
     "type":"CODE",
     "hide_input_from_viewers":true,
     "hide_output_from_viewers":true
    }
   }
  },
  {
   "cell_type":"code",
   "source":[
    "products = pd.read_csv('\/data\/workspace_files\/products_del_2.csv',\n",
    "                       usecols=['ProductID','ProductName','SupplierID'])\n",
    "products.head()"
   ],
   "execution_count":14,
   "outputs":[
    {
     "data":{
      "text\/html":[
       "<div>\n",
       "<style scoped>\n",
       "    .dataframe tbody tr th:only-of-type {\n",
       "        vertical-align: middle;\n",
       "    }\n",
       "\n",
       "    .dataframe tbody tr th {\n",
       "        vertical-align: top;\n",
       "    }\n",
       "\n",
       "    .dataframe thead th {\n",
       "        text-align: right;\n",
       "    }\n",
       "<\/style>\n",
       "<table border=\"1\" class=\"dataframe\">\n",
       "  <thead>\n",
       "    <tr style=\"text-align: right;\">\n",
       "      <th><\/th>\n",
       "      <th>ProductID<\/th>\n",
       "      <th>ProductName<\/th>\n",
       "      <th>SupplierID<\/th>\n",
       "    <\/tr>\n",
       "  <\/thead>\n",
       "  <tbody>\n",
       "    <tr>\n",
       "      <th>0<\/th>\n",
       "      <td>1<\/td>\n",
       "      <td>Chai<\/td>\n",
       "      <td>1<\/td>\n",
       "    <\/tr>\n",
       "    <tr>\n",
       "      <th>1<\/th>\n",
       "      <td>2<\/td>\n",
       "      <td>Chang<\/td>\n",
       "      <td>1<\/td>\n",
       "    <\/tr>\n",
       "    <tr>\n",
       "      <th>2<\/th>\n",
       "      <td>6<\/td>\n",
       "      <td>Grandma's Boysenberry Spread<\/td>\n",
       "      <td>3<\/td>\n",
       "    <\/tr>\n",
       "    <tr>\n",
       "      <th>3<\/th>\n",
       "      <td>7<\/td>\n",
       "      <td>Uncle Bob's Organic Dried Pears<\/td>\n",
       "      <td>3<\/td>\n",
       "    <\/tr>\n",
       "    <tr>\n",
       "      <th>4<\/th>\n",
       "      <td>8<\/td>\n",
       "      <td>Northwoods Cranberry Sauce<\/td>\n",
       "      <td>3<\/td>\n",
       "    <\/tr>\n",
       "  <\/tbody>\n",
       "<\/table>\n",
       "<\/div>"
      ]
     },
     "metadata":{},
     "output_type":"display_data"
    }
   ],
   "metadata":{
    "datalore":{
     "node_id":"LJrq91Z8d6luOu4Rjysbfq",
     "type":"CODE",
     "hide_input_from_viewers":true,
     "hide_output_from_viewers":true
    }
   }
  },
  {
   "cell_type":"markdown",
   "source":[
    "# Zadanie\n",
    "Należy odnaleźć tych dostawców z suppliers, którzy nie dostarczają żadnych produktów."
   ],
   "attachments":{},
   "metadata":{
    "datalore":{
     "node_id":"WpR5bJ9V4tXUAlbb5N3MyF",
     "type":"MD",
     "hide_input_from_viewers":true,
     "hide_output_from_viewers":true
    }
   }
  },
  {
   "cell_type":"code",
   "source":[
    "sup_prod = suppliers.merge(products, on='SupplierID', how='inner',indicator=True)\n",
    "sup_prod.head()"
   ],
   "execution_count":18,
   "outputs":[
    {
     "data":{
      "text\/html":[
       "<div>\n",
       "<style scoped>\n",
       "    .dataframe tbody tr th:only-of-type {\n",
       "        vertical-align: middle;\n",
       "    }\n",
       "\n",
       "    .dataframe tbody tr th {\n",
       "        vertical-align: top;\n",
       "    }\n",
       "\n",
       "    .dataframe thead th {\n",
       "        text-align: right;\n",
       "    }\n",
       "<\/style>\n",
       "<table border=\"1\" class=\"dataframe\">\n",
       "  <thead>\n",
       "    <tr style=\"text-align: right;\">\n",
       "      <th><\/th>\n",
       "      <th>SupplierID<\/th>\n",
       "      <th>CompanyName<\/th>\n",
       "      <th>City<\/th>\n",
       "      <th>ProductID<\/th>\n",
       "      <th>ProductName<\/th>\n",
       "      <th>_merge<\/th>\n",
       "    <\/tr>\n",
       "  <\/thead>\n",
       "  <tbody>\n",
       "    <tr>\n",
       "      <th>0<\/th>\n",
       "      <td>1<\/td>\n",
       "      <td>Exotic Liquids<\/td>\n",
       "      <td>London<\/td>\n",
       "      <td>1<\/td>\n",
       "      <td>Chai<\/td>\n",
       "      <td>both<\/td>\n",
       "    <\/tr>\n",
       "    <tr>\n",
       "      <th>1<\/th>\n",
       "      <td>1<\/td>\n",
       "      <td>Exotic Liquids<\/td>\n",
       "      <td>London<\/td>\n",
       "      <td>2<\/td>\n",
       "      <td>Chang<\/td>\n",
       "      <td>both<\/td>\n",
       "    <\/tr>\n",
       "    <tr>\n",
       "      <th>2<\/th>\n",
       "      <td>3<\/td>\n",
       "      <td>Grandma Kelly's Homestead<\/td>\n",
       "      <td>Ann Arbor<\/td>\n",
       "      <td>6<\/td>\n",
       "      <td>Grandma's Boysenberry Spread<\/td>\n",
       "      <td>both<\/td>\n",
       "    <\/tr>\n",
       "    <tr>\n",
       "      <th>3<\/th>\n",
       "      <td>3<\/td>\n",
       "      <td>Grandma Kelly's Homestead<\/td>\n",
       "      <td>Ann Arbor<\/td>\n",
       "      <td>7<\/td>\n",
       "      <td>Uncle Bob's Organic Dried Pears<\/td>\n",
       "      <td>both<\/td>\n",
       "    <\/tr>\n",
       "    <tr>\n",
       "      <th>4<\/th>\n",
       "      <td>3<\/td>\n",
       "      <td>Grandma Kelly's Homestead<\/td>\n",
       "      <td>Ann Arbor<\/td>\n",
       "      <td>8<\/td>\n",
       "      <td>Northwoods Cranberry Sauce<\/td>\n",
       "      <td>both<\/td>\n",
       "    <\/tr>\n",
       "  <\/tbody>\n",
       "<\/table>\n",
       "<\/div>"
      ]
     },
     "metadata":{},
     "output_type":"display_data"
    }
   ],
   "metadata":{
    "datalore":{
     "node_id":"2DBBHmGO14KotgVhoVNRVG",
     "type":"CODE",
     "hide_input_from_viewers":true,
     "hide_output_from_viewers":true
    }
   }
  },
  {
   "cell_type":"code",
   "source":[
    "print(len(suppliers),len(products),len(sup_prod))"
   ],
   "execution_count":19,
   "outputs":[
    {
     "name":"stdout",
     "text":[
      "29 68 68\n"
     ],
     "output_type":"stream"
    }
   ],
   "metadata":{
    "datalore":{
     "node_id":"jloqwpHz21fZVNw26ye5Jq",
     "type":"CODE",
     "hide_input_from_viewers":true,
     "hide_output_from_viewers":true
    }
   }
  },
  {
   "cell_type":"code",
   "source":[
    "sup_prod_left = suppliers.merge(products, on='SupplierID', how='left',indicator=True)\n",
    "len(sup_prod_left)"
   ],
   "execution_count":21,
   "outputs":[
    {
     "data":{
      "text\/plain":[
       "70"
      ]
     },
     "metadata":{},
     "output_type":"display_data"
    }
   ],
   "metadata":{
    "datalore":{
     "node_id":"4DE0BmSjrF7jpPLxN1yiRf",
     "type":"CODE",
     "hide_input_from_viewers":true,
     "hide_output_from_viewers":true
    }
   }
  },
  {
   "cell_type":"code",
   "source":[
    "sup_prod_left.head()"
   ],
   "execution_count":22,
   "outputs":[
    {
     "data":{
      "text\/html":[
       "<div>\n",
       "<style scoped>\n",
       "    .dataframe tbody tr th:only-of-type {\n",
       "        vertical-align: middle;\n",
       "    }\n",
       "\n",
       "    .dataframe tbody tr th {\n",
       "        vertical-align: top;\n",
       "    }\n",
       "\n",
       "    .dataframe thead th {\n",
       "        text-align: right;\n",
       "    }\n",
       "<\/style>\n",
       "<table border=\"1\" class=\"dataframe\">\n",
       "  <thead>\n",
       "    <tr style=\"text-align: right;\">\n",
       "      <th><\/th>\n",
       "      <th>SupplierID<\/th>\n",
       "      <th>CompanyName<\/th>\n",
       "      <th>City<\/th>\n",
       "      <th>ProductID<\/th>\n",
       "      <th>ProductName<\/th>\n",
       "      <th>_merge<\/th>\n",
       "    <\/tr>\n",
       "  <\/thead>\n",
       "  <tbody>\n",
       "    <tr>\n",
       "      <th>0<\/th>\n",
       "      <td>1<\/td>\n",
       "      <td>Exotic Liquids<\/td>\n",
       "      <td>London<\/td>\n",
       "      <td>1.0<\/td>\n",
       "      <td>Chai<\/td>\n",
       "      <td>both<\/td>\n",
       "    <\/tr>\n",
       "    <tr>\n",
       "      <th>1<\/th>\n",
       "      <td>1<\/td>\n",
       "      <td>Exotic Liquids<\/td>\n",
       "      <td>London<\/td>\n",
       "      <td>2.0<\/td>\n",
       "      <td>Chang<\/td>\n",
       "      <td>both<\/td>\n",
       "    <\/tr>\n",
       "    <tr>\n",
       "      <th>2<\/th>\n",
       "      <td>2<\/td>\n",
       "      <td>New Orleans Cajun Delights<\/td>\n",
       "      <td>New Orleans<\/td>\n",
       "      <td>NaN<\/td>\n",
       "      <td>NaN<\/td>\n",
       "      <td>left_only<\/td>\n",
       "    <\/tr>\n",
       "    <tr>\n",
       "      <th>3<\/th>\n",
       "      <td>3<\/td>\n",
       "      <td>Grandma Kelly's Homestead<\/td>\n",
       "      <td>Ann Arbor<\/td>\n",
       "      <td>6.0<\/td>\n",
       "      <td>Grandma's Boysenberry Spread<\/td>\n",
       "      <td>both<\/td>\n",
       "    <\/tr>\n",
       "    <tr>\n",
       "      <th>4<\/th>\n",
       "      <td>3<\/td>\n",
       "      <td>Grandma Kelly's Homestead<\/td>\n",
       "      <td>Ann Arbor<\/td>\n",
       "      <td>7.0<\/td>\n",
       "      <td>Uncle Bob's Organic Dried Pears<\/td>\n",
       "      <td>both<\/td>\n",
       "    <\/tr>\n",
       "  <\/tbody>\n",
       "<\/table>\n",
       "<\/div>"
      ]
     },
     "metadata":{},
     "output_type":"display_data"
    }
   ],
   "metadata":{
    "datalore":{
     "node_id":"TnoRtAC5HGzAjvBlCBy4Zl",
     "type":"CODE",
     "hide_input_from_viewers":true,
     "hide_output_from_viewers":true
    }
   }
  },
  {
   "cell_type":"code",
   "source":[
    "filter = sup_prod_left['_merge'] == 'left_only'\n",
    "sup_prod_left[filter]"
   ],
   "execution_count":24,
   "outputs":[
    {
     "data":{
      "text\/html":[
       "<div>\n",
       "<style scoped>\n",
       "    .dataframe tbody tr th:only-of-type {\n",
       "        vertical-align: middle;\n",
       "    }\n",
       "\n",
       "    .dataframe tbody tr th {\n",
       "        vertical-align: top;\n",
       "    }\n",
       "\n",
       "    .dataframe thead th {\n",
       "        text-align: right;\n",
       "    }\n",
       "<\/style>\n",
       "<table border=\"1\" class=\"dataframe\">\n",
       "  <thead>\n",
       "    <tr style=\"text-align: right;\">\n",
       "      <th><\/th>\n",
       "      <th>SupplierID<\/th>\n",
       "      <th>CompanyName<\/th>\n",
       "      <th>City<\/th>\n",
       "      <th>ProductID<\/th>\n",
       "      <th>ProductName<\/th>\n",
       "      <th>_merge<\/th>\n",
       "    <\/tr>\n",
       "  <\/thead>\n",
       "  <tbody>\n",
       "    <tr>\n",
       "      <th>2<\/th>\n",
       "      <td>2<\/td>\n",
       "      <td>New Orleans Cajun Delights<\/td>\n",
       "      <td>New Orleans<\/td>\n",
       "      <td>NaN<\/td>\n",
       "      <td>NaN<\/td>\n",
       "      <td>left_only<\/td>\n",
       "    <\/tr>\n",
       "    <tr>\n",
       "      <th>67<\/th>\n",
       "      <td>27<\/td>\n",
       "      <td>Escargots Nouveaux<\/td>\n",
       "      <td>Montceau<\/td>\n",
       "      <td>NaN<\/td>\n",
       "      <td>NaN<\/td>\n",
       "      <td>left_only<\/td>\n",
       "    <\/tr>\n",
       "  <\/tbody>\n",
       "<\/table>\n",
       "<\/div>"
      ]
     },
     "metadata":{},
     "output_type":"display_data"
    }
   ],
   "metadata":{
    "datalore":{
     "node_id":"Xa3leIJVjzJ2qjW6wrliVG",
     "type":"CODE",
     "hide_input_from_viewers":true,
     "hide_output_from_viewers":true
    }
   }
  },
  {
   "cell_type":"markdown",
   "source":[
    "## Wersja alternatywna z right_join"
   ],
   "attachments":{},
   "metadata":{
    "datalore":{
     "node_id":"EnOVxhrUi4XunAXQEc5CaD",
     "type":"MD",
     "hide_input_from_viewers":true,
     "hide_output_from_viewers":true
    }
   }
  },
  {
   "cell_type":"code",
   "source":[
    "sup_prod_right = products.merge(suppliers, on='SupplierID', how='right',indicator=True)\n",
    "len(sup_prod_right)"
   ],
   "execution_count":28,
   "outputs":[
    {
     "data":{
      "text\/plain":[
       "70"
      ]
     },
     "metadata":{},
     "output_type":"display_data"
    }
   ],
   "metadata":{
    "datalore":{
     "node_id":"aOFm2eGF78FuiRvBMKt4x8",
     "type":"CODE",
     "hide_input_from_viewers":true,
     "hide_output_from_viewers":true
    }
   }
  },
  {
   "cell_type":"code",
   "source":[
    "filter = sup_prod_right['_merge'] == 'right_only'\n",
    "sup_prod_right[filter]"
   ],
   "execution_count":27,
   "outputs":[
    {
     "data":{
      "text\/html":[
       "<div>\n",
       "<style scoped>\n",
       "    .dataframe tbody tr th:only-of-type {\n",
       "        vertical-align: middle;\n",
       "    }\n",
       "\n",
       "    .dataframe tbody tr th {\n",
       "        vertical-align: top;\n",
       "    }\n",
       "\n",
       "    .dataframe thead th {\n",
       "        text-align: right;\n",
       "    }\n",
       "<\/style>\n",
       "<table border=\"1\" class=\"dataframe\">\n",
       "  <thead>\n",
       "    <tr style=\"text-align: right;\">\n",
       "      <th><\/th>\n",
       "      <th>ProductID<\/th>\n",
       "      <th>ProductName<\/th>\n",
       "      <th>SupplierID<\/th>\n",
       "      <th>CompanyName<\/th>\n",
       "      <th>City<\/th>\n",
       "      <th>_merge<\/th>\n",
       "    <\/tr>\n",
       "  <\/thead>\n",
       "  <tbody>\n",
       "    <tr>\n",
       "      <th>2<\/th>\n",
       "      <td>NaN<\/td>\n",
       "      <td>NaN<\/td>\n",
       "      <td>2<\/td>\n",
       "      <td>New Orleans Cajun Delights<\/td>\n",
       "      <td>New Orleans<\/td>\n",
       "      <td>right_only<\/td>\n",
       "    <\/tr>\n",
       "    <tr>\n",
       "      <th>67<\/th>\n",
       "      <td>NaN<\/td>\n",
       "      <td>NaN<\/td>\n",
       "      <td>27<\/td>\n",
       "      <td>Escargots Nouveaux<\/td>\n",
       "      <td>Montceau<\/td>\n",
       "      <td>right_only<\/td>\n",
       "    <\/tr>\n",
       "  <\/tbody>\n",
       "<\/table>\n",
       "<\/div>"
      ]
     },
     "metadata":{},
     "output_type":"display_data"
    }
   ],
   "metadata":{
    "datalore":{
     "node_id":"MPspA4MuVXk92fRRGijkk2",
     "type":"CODE",
     "hide_input_from_viewers":true,
     "hide_output_from_viewers":true
    }
   }
  }
 ],
 "metadata":{
  "kernelspec":{
   "display_name":"Python",
   "language":"python",
   "name":"python"
  },
  "datalore":{
   "computation_mode":"JUPYTER",
   "package_manager":"pip",
   "base_environment":"default",
   "packages":[],
   "report_row_ids":[],
   "version":3
  }
 },
 "nbformat":4,
 "nbformat_minor":4
}