{
 "cells":[
  {
   "cell_type":"markdown",
   "source":[
    "# Wstęp"
   ],
   "attachments":{},
   "metadata":{
    "datalore":{
     "node_id":"Wstęp",
     "type":"MD",
     "hide_input_from_viewers":false,
     "hide_output_from_viewers":false,
     "sheet_delimiter":true
    }
   }
  },
  {
   "cell_type":"code",
   "source":[
    "import pandas as pd\n",
    "import numpy as np"
   ],
   "execution_count":1,
   "outputs":[],
   "metadata":{
    "datalore":{
     "node_id":"ROB0ZGLHS8gl5yC5i6heZf",
     "type":"CODE",
     "hide_input_from_viewers":true,
     "hide_output_from_viewers":true
    }
   }
  },
  {
   "cell_type":"code",
   "source":[
    "products = pd.read_csv('\/data\/workspace_files\/products.csv',\n",
    "                       usecols=['ProductID', 'ProductName','CategoryID','UnitPrice'])\n",
    "products.head()"
   ],
   "execution_count":2,
   "outputs":[
    {
     "data":{
      "text\/html":[
       "<div>\n",
       "<style scoped>\n",
       "    .dataframe tbody tr th:only-of-type {\n",
       "        vertical-align: middle;\n",
       "    }\n",
       "\n",
       "    .dataframe tbody tr th {\n",
       "        vertical-align: top;\n",
       "    }\n",
       "\n",
       "    .dataframe thead th {\n",
       "        text-align: right;\n",
       "    }\n",
       "<\/style>\n",
       "<table border=\"1\" class=\"dataframe\">\n",
       "  <thead>\n",
       "    <tr style=\"text-align: right;\">\n",
       "      <th><\/th>\n",
       "      <th>ProductID<\/th>\n",
       "      <th>ProductName<\/th>\n",
       "      <th>CategoryID<\/th>\n",
       "      <th>UnitPrice<\/th>\n",
       "    <\/tr>\n",
       "  <\/thead>\n",
       "  <tbody>\n",
       "    <tr>\n",
       "      <th>0<\/th>\n",
       "      <td>1<\/td>\n",
       "      <td>Chai<\/td>\n",
       "      <td>1<\/td>\n",
       "      <td>18.00<\/td>\n",
       "    <\/tr>\n",
       "    <tr>\n",
       "      <th>1<\/th>\n",
       "      <td>2<\/td>\n",
       "      <td>Chang<\/td>\n",
       "      <td>1<\/td>\n",
       "      <td>19.00<\/td>\n",
       "    <\/tr>\n",
       "    <tr>\n",
       "      <th>2<\/th>\n",
       "      <td>3<\/td>\n",
       "      <td>Aniseed Syrup<\/td>\n",
       "      <td>2<\/td>\n",
       "      <td>10.00<\/td>\n",
       "    <\/tr>\n",
       "    <tr>\n",
       "      <th>3<\/th>\n",
       "      <td>4<\/td>\n",
       "      <td>Chef Anton's Cajun Seasoning<\/td>\n",
       "      <td>2<\/td>\n",
       "      <td>22.00<\/td>\n",
       "    <\/tr>\n",
       "    <tr>\n",
       "      <th>4<\/th>\n",
       "      <td>5<\/td>\n",
       "      <td>Chef Anton's Gumbo Mix<\/td>\n",
       "      <td>2<\/td>\n",
       "      <td>21.35<\/td>\n",
       "    <\/tr>\n",
       "  <\/tbody>\n",
       "<\/table>\n",
       "<\/div>"
      ]
     },
     "metadata":{},
     "output_type":"display_data"
    }
   ],
   "metadata":{
    "datalore":{
     "node_id":"uYVtmxXUgVcvNraGUfntly",
     "type":"CODE",
     "hide_input_from_viewers":true,
     "hide_output_from_viewers":true
    }
   }
  },
  {
   "cell_type":"code",
   "source":[
    "categories = pd.read_csv('\/data\/workspace_files\/categories1.csv',\n",
    "                       usecols=['CategoryID', 'CategoryName','Description'])\n",
    "categories.head()"
   ],
   "execution_count":3,
   "outputs":[
    {
     "data":{
      "text\/html":[
       "<div>\n",
       "<style scoped>\n",
       "    .dataframe tbody tr th:only-of-type {\n",
       "        vertical-align: middle;\n",
       "    }\n",
       "\n",
       "    .dataframe tbody tr th {\n",
       "        vertical-align: top;\n",
       "    }\n",
       "\n",
       "    .dataframe thead th {\n",
       "        text-align: right;\n",
       "    }\n",
       "<\/style>\n",
       "<table border=\"1\" class=\"dataframe\">\n",
       "  <thead>\n",
       "    <tr style=\"text-align: right;\">\n",
       "      <th><\/th>\n",
       "      <th>CategoryID<\/th>\n",
       "      <th>CategoryName<\/th>\n",
       "      <th>Description<\/th>\n",
       "    <\/tr>\n",
       "  <\/thead>\n",
       "  <tbody>\n",
       "    <tr>\n",
       "      <th>0<\/th>\n",
       "      <td>1<\/td>\n",
       "      <td>Beverages<\/td>\n",
       "      <td>Soft drinks<\/td>\n",
       "    <\/tr>\n",
       "    <tr>\n",
       "      <th>1<\/th>\n",
       "      <td>2<\/td>\n",
       "      <td>Condiments<\/td>\n",
       "      <td>Sweet and savory sauces<\/td>\n",
       "    <\/tr>\n",
       "    <tr>\n",
       "      <th>2<\/th>\n",
       "      <td>3<\/td>\n",
       "      <td>Confections<\/td>\n",
       "      <td>Desserts<\/td>\n",
       "    <\/tr>\n",
       "    <tr>\n",
       "      <th>3<\/th>\n",
       "      <td>4<\/td>\n",
       "      <td>Dairy Products<\/td>\n",
       "      <td>Cheeses<\/td>\n",
       "    <\/tr>\n",
       "    <tr>\n",
       "      <th>4<\/th>\n",
       "      <td>5<\/td>\n",
       "      <td>Grains\/Cereals<\/td>\n",
       "      <td>Breads<\/td>\n",
       "    <\/tr>\n",
       "  <\/tbody>\n",
       "<\/table>\n",
       "<\/div>"
      ]
     },
     "metadata":{},
     "output_type":"display_data"
    }
   ],
   "metadata":{
    "datalore":{
     "node_id":"nbBbMB78DwuaFdvipDbmS3",
     "type":"CODE",
     "hide_input_from_viewers":true,
     "hide_output_from_viewers":true
    }
   }
  },
  {
   "cell_type":"code",
   "source":[
    "products.merge(right=categories, on='CategoryID').head()"
   ],
   "execution_count":4,
   "outputs":[
    {
     "data":{
      "text\/html":[
       "<div>\n",
       "<style scoped>\n",
       "    .dataframe tbody tr th:only-of-type {\n",
       "        vertical-align: middle;\n",
       "    }\n",
       "\n",
       "    .dataframe tbody tr th {\n",
       "        vertical-align: top;\n",
       "    }\n",
       "\n",
       "    .dataframe thead th {\n",
       "        text-align: right;\n",
       "    }\n",
       "<\/style>\n",
       "<table border=\"1\" class=\"dataframe\">\n",
       "  <thead>\n",
       "    <tr style=\"text-align: right;\">\n",
       "      <th><\/th>\n",
       "      <th>ProductID<\/th>\n",
       "      <th>ProductName<\/th>\n",
       "      <th>CategoryID<\/th>\n",
       "      <th>UnitPrice<\/th>\n",
       "      <th>CategoryName<\/th>\n",
       "      <th>Description<\/th>\n",
       "    <\/tr>\n",
       "  <\/thead>\n",
       "  <tbody>\n",
       "    <tr>\n",
       "      <th>0<\/th>\n",
       "      <td>1<\/td>\n",
       "      <td>Chai<\/td>\n",
       "      <td>1<\/td>\n",
       "      <td>18.0<\/td>\n",
       "      <td>Beverages<\/td>\n",
       "      <td>Soft drinks<\/td>\n",
       "    <\/tr>\n",
       "    <tr>\n",
       "      <th>1<\/th>\n",
       "      <td>2<\/td>\n",
       "      <td>Chang<\/td>\n",
       "      <td>1<\/td>\n",
       "      <td>19.0<\/td>\n",
       "      <td>Beverages<\/td>\n",
       "      <td>Soft drinks<\/td>\n",
       "    <\/tr>\n",
       "    <tr>\n",
       "      <th>2<\/th>\n",
       "      <td>24<\/td>\n",
       "      <td>Guaraná Fantástica<\/td>\n",
       "      <td>1<\/td>\n",
       "      <td>4.5<\/td>\n",
       "      <td>Beverages<\/td>\n",
       "      <td>Soft drinks<\/td>\n",
       "    <\/tr>\n",
       "    <tr>\n",
       "      <th>3<\/th>\n",
       "      <td>34<\/td>\n",
       "      <td>Sasquatch Ale<\/td>\n",
       "      <td>1<\/td>\n",
       "      <td>14.0<\/td>\n",
       "      <td>Beverages<\/td>\n",
       "      <td>Soft drinks<\/td>\n",
       "    <\/tr>\n",
       "    <tr>\n",
       "      <th>4<\/th>\n",
       "      <td>35<\/td>\n",
       "      <td>Steeleye Stout<\/td>\n",
       "      <td>1<\/td>\n",
       "      <td>18.0<\/td>\n",
       "      <td>Beverages<\/td>\n",
       "      <td>Soft drinks<\/td>\n",
       "    <\/tr>\n",
       "  <\/tbody>\n",
       "<\/table>\n",
       "<\/div>"
      ]
     },
     "metadata":{},
     "output_type":"display_data"
    }
   ],
   "metadata":{
    "datalore":{
     "node_id":"Rp7g9y1Ql69bJCzC3hxTGB",
     "type":"CODE",
     "hide_input_from_viewers":true,
     "hide_output_from_viewers":true
    }
   }
  },
  {
   "cell_type":"code",
   "source":[
    "categories.rename({'CategoryID' : 'ID'}, axis='columns', inplace=True)"
   ],
   "execution_count":5,
   "outputs":[],
   "metadata":{
    "datalore":{
     "node_id":"DBwZrPUBlQd3CS9Vlcx1JH",
     "type":"CODE",
     "hide_input_from_viewers":true,
     "hide_output_from_viewers":true
    }
   }
  },
  {
   "cell_type":"code",
   "source":[
    "categories.head()"
   ],
   "execution_count":6,
   "outputs":[
    {
     "data":{
      "text\/html":[
       "<div>\n",
       "<style scoped>\n",
       "    .dataframe tbody tr th:only-of-type {\n",
       "        vertical-align: middle;\n",
       "    }\n",
       "\n",
       "    .dataframe tbody tr th {\n",
       "        vertical-align: top;\n",
       "    }\n",
       "\n",
       "    .dataframe thead th {\n",
       "        text-align: right;\n",
       "    }\n",
       "<\/style>\n",
       "<table border=\"1\" class=\"dataframe\">\n",
       "  <thead>\n",
       "    <tr style=\"text-align: right;\">\n",
       "      <th><\/th>\n",
       "      <th>ID<\/th>\n",
       "      <th>CategoryName<\/th>\n",
       "      <th>Description<\/th>\n",
       "    <\/tr>\n",
       "  <\/thead>\n",
       "  <tbody>\n",
       "    <tr>\n",
       "      <th>0<\/th>\n",
       "      <td>1<\/td>\n",
       "      <td>Beverages<\/td>\n",
       "      <td>Soft drinks<\/td>\n",
       "    <\/tr>\n",
       "    <tr>\n",
       "      <th>1<\/th>\n",
       "      <td>2<\/td>\n",
       "      <td>Condiments<\/td>\n",
       "      <td>Sweet and savory sauces<\/td>\n",
       "    <\/tr>\n",
       "    <tr>\n",
       "      <th>2<\/th>\n",
       "      <td>3<\/td>\n",
       "      <td>Confections<\/td>\n",
       "      <td>Desserts<\/td>\n",
       "    <\/tr>\n",
       "    <tr>\n",
       "      <th>3<\/th>\n",
       "      <td>4<\/td>\n",
       "      <td>Dairy Products<\/td>\n",
       "      <td>Cheeses<\/td>\n",
       "    <\/tr>\n",
       "    <tr>\n",
       "      <th>4<\/th>\n",
       "      <td>5<\/td>\n",
       "      <td>Grains\/Cereals<\/td>\n",
       "      <td>Breads<\/td>\n",
       "    <\/tr>\n",
       "  <\/tbody>\n",
       "<\/table>\n",
       "<\/div>"
      ]
     },
     "metadata":{},
     "output_type":"display_data"
    }
   ],
   "metadata":{
    "datalore":{
     "node_id":"MyV0pZMddfI0AK3YxotNJt",
     "type":"CODE",
     "hide_input_from_viewers":true,
     "hide_output_from_viewers":true
    }
   }
  },
  {
   "cell_type":"code",
   "source":[
    "# Celowo wywołujemy błąd. Zmiana wartości parametru on='ID' nie pomoże."
   ],
   "execution_count":7,
   "outputs":[],
   "metadata":{
    "datalore":{
     "node_id":"i0iXZDmB3o0Qk1qlhEES8Q",
     "type":"CODE",
     "hide_input_from_viewers":true,
     "hide_output_from_viewers":true
    }
   }
  },
  {
   "cell_type":"code",
   "source":[
    "products.merge(right=categories, on='CategoryID').head()"
   ],
   "execution_count":8,
   "outputs":[
    {
     "ename":"KeyError",
     "evalue":"KeyError: 'CategoryID'",
     "traceback":[
      "\u001b[0;31m---------------------------------------------------------------------------",
      "Traceback (most recent call last)",
      "    at line 1 in <module>",
      "    at line 10093 in merge(self, right, how, on, left_on, right_on, left_index, right_index, sort, suffixes, copy, indicator, validate)",
      "    at line 110 in merge(left, right, how, on, left_on, right_on, left_index, right_index, sort, suffixes, copy, indicator, validate)",
      "    at line 703 in __init__(self, left, right, how, on, left_on, right_on, axis, left_index, right_index, sort, suffixes, indicator, validate)",
      "    at line 1162 in _get_merge_keys(self)",
      "    at line 1850 in _get_label_or_level_values(self, key, axis)",
      "KeyError: 'CategoryID'"
     ],
     "output_type":"error"
    }
   ],
   "metadata":{
    "datalore":{
     "node_id":"JfC7LAuXbMeq7wpK9svCaT",
     "type":"CODE",
     "hide_input_from_viewers":true,
     "hide_output_from_viewers":true
    }
   }
  },
  {
   "cell_type":"code",
   "source":[
    "products.merge(right=categories, left_on='CategoryID', right_on='ID').head()\n",
    "\n",
    "# Parametry left_on oraz right_on pozwalają na łączenie tabel, w których te same indeksy są nazwane inaczej"
   ],
   "execution_count":9,
   "outputs":[
    {
     "data":{
      "text\/html":[
       "<div>\n",
       "<style scoped>\n",
       "    .dataframe tbody tr th:only-of-type {\n",
       "        vertical-align: middle;\n",
       "    }\n",
       "\n",
       "    .dataframe tbody tr th {\n",
       "        vertical-align: top;\n",
       "    }\n",
       "\n",
       "    .dataframe thead th {\n",
       "        text-align: right;\n",
       "    }\n",
       "<\/style>\n",
       "<table border=\"1\" class=\"dataframe\">\n",
       "  <thead>\n",
       "    <tr style=\"text-align: right;\">\n",
       "      <th><\/th>\n",
       "      <th>ProductID<\/th>\n",
       "      <th>ProductName<\/th>\n",
       "      <th>CategoryID<\/th>\n",
       "      <th>UnitPrice<\/th>\n",
       "      <th>ID<\/th>\n",
       "      <th>CategoryName<\/th>\n",
       "      <th>Description<\/th>\n",
       "    <\/tr>\n",
       "  <\/thead>\n",
       "  <tbody>\n",
       "    <tr>\n",
       "      <th>0<\/th>\n",
       "      <td>1<\/td>\n",
       "      <td>Chai<\/td>\n",
       "      <td>1<\/td>\n",
       "      <td>18.0<\/td>\n",
       "      <td>1<\/td>\n",
       "      <td>Beverages<\/td>\n",
       "      <td>Soft drinks<\/td>\n",
       "    <\/tr>\n",
       "    <tr>\n",
       "      <th>1<\/th>\n",
       "      <td>2<\/td>\n",
       "      <td>Chang<\/td>\n",
       "      <td>1<\/td>\n",
       "      <td>19.0<\/td>\n",
       "      <td>1<\/td>\n",
       "      <td>Beverages<\/td>\n",
       "      <td>Soft drinks<\/td>\n",
       "    <\/tr>\n",
       "    <tr>\n",
       "      <th>2<\/th>\n",
       "      <td>24<\/td>\n",
       "      <td>Guaraná Fantástica<\/td>\n",
       "      <td>1<\/td>\n",
       "      <td>4.5<\/td>\n",
       "      <td>1<\/td>\n",
       "      <td>Beverages<\/td>\n",
       "      <td>Soft drinks<\/td>\n",
       "    <\/tr>\n",
       "    <tr>\n",
       "      <th>3<\/th>\n",
       "      <td>34<\/td>\n",
       "      <td>Sasquatch Ale<\/td>\n",
       "      <td>1<\/td>\n",
       "      <td>14.0<\/td>\n",
       "      <td>1<\/td>\n",
       "      <td>Beverages<\/td>\n",
       "      <td>Soft drinks<\/td>\n",
       "    <\/tr>\n",
       "    <tr>\n",
       "      <th>4<\/th>\n",
       "      <td>35<\/td>\n",
       "      <td>Steeleye Stout<\/td>\n",
       "      <td>1<\/td>\n",
       "      <td>18.0<\/td>\n",
       "      <td>1<\/td>\n",
       "      <td>Beverages<\/td>\n",
       "      <td>Soft drinks<\/td>\n",
       "    <\/tr>\n",
       "  <\/tbody>\n",
       "<\/table>\n",
       "<\/div>"
      ]
     },
     "metadata":{},
     "output_type":"display_data"
    }
   ],
   "metadata":{
    "datalore":{
     "node_id":"tgTaIFFLrQfC6HFHoz4iqB",
     "type":"CODE",
     "hide_input_from_viewers":true,
     "hide_output_from_viewers":true
    }
   }
  },
  {
   "cell_type":"code",
   "source":[
    "products.rename({'ProductName':'Name'}, axis='columns', inplace=True)"
   ],
   "execution_count":10,
   "outputs":[],
   "metadata":{
    "datalore":{
     "node_id":"lxob4t60mqN0wy6G8Eqvx3",
     "type":"CODE",
     "hide_input_from_viewers":true,
     "hide_output_from_viewers":true
    }
   }
  },
  {
   "cell_type":"code",
   "source":[
    "categories.rename({'CategoryName':'Name'}, axis='columns', inplace=True)"
   ],
   "execution_count":11,
   "outputs":[],
   "metadata":{
    "datalore":{
     "node_id":"eWrd4A9hHxPcUYCEkzfkDw",
     "type":"CODE",
     "hide_input_from_viewers":true,
     "hide_output_from_viewers":true
    }
   }
  },
  {
   "cell_type":"code",
   "source":[
    "products.head()"
   ],
   "execution_count":12,
   "outputs":[
    {
     "data":{
      "text\/html":[
       "<div>\n",
       "<style scoped>\n",
       "    .dataframe tbody tr th:only-of-type {\n",
       "        vertical-align: middle;\n",
       "    }\n",
       "\n",
       "    .dataframe tbody tr th {\n",
       "        vertical-align: top;\n",
       "    }\n",
       "\n",
       "    .dataframe thead th {\n",
       "        text-align: right;\n",
       "    }\n",
       "<\/style>\n",
       "<table border=\"1\" class=\"dataframe\">\n",
       "  <thead>\n",
       "    <tr style=\"text-align: right;\">\n",
       "      <th><\/th>\n",
       "      <th>ProductID<\/th>\n",
       "      <th>Name<\/th>\n",
       "      <th>CategoryID<\/th>\n",
       "      <th>UnitPrice<\/th>\n",
       "    <\/tr>\n",
       "  <\/thead>\n",
       "  <tbody>\n",
       "    <tr>\n",
       "      <th>0<\/th>\n",
       "      <td>1<\/td>\n",
       "      <td>Chai<\/td>\n",
       "      <td>1<\/td>\n",
       "      <td>18.00<\/td>\n",
       "    <\/tr>\n",
       "    <tr>\n",
       "      <th>1<\/th>\n",
       "      <td>2<\/td>\n",
       "      <td>Chang<\/td>\n",
       "      <td>1<\/td>\n",
       "      <td>19.00<\/td>\n",
       "    <\/tr>\n",
       "    <tr>\n",
       "      <th>2<\/th>\n",
       "      <td>3<\/td>\n",
       "      <td>Aniseed Syrup<\/td>\n",
       "      <td>2<\/td>\n",
       "      <td>10.00<\/td>\n",
       "    <\/tr>\n",
       "    <tr>\n",
       "      <th>3<\/th>\n",
       "      <td>4<\/td>\n",
       "      <td>Chef Anton's Cajun Seasoning<\/td>\n",
       "      <td>2<\/td>\n",
       "      <td>22.00<\/td>\n",
       "    <\/tr>\n",
       "    <tr>\n",
       "      <th>4<\/th>\n",
       "      <td>5<\/td>\n",
       "      <td>Chef Anton's Gumbo Mix<\/td>\n",
       "      <td>2<\/td>\n",
       "      <td>21.35<\/td>\n",
       "    <\/tr>\n",
       "  <\/tbody>\n",
       "<\/table>\n",
       "<\/div>"
      ]
     },
     "metadata":{},
     "output_type":"display_data"
    }
   ],
   "metadata":{
    "datalore":{
     "node_id":"eDRuCRnPGcK0CqYPpxaQgR",
     "type":"CODE",
     "hide_input_from_viewers":true,
     "hide_output_from_viewers":true
    }
   }
  },
  {
   "cell_type":"code",
   "source":[
    "categories.head()"
   ],
   "execution_count":13,
   "outputs":[
    {
     "data":{
      "text\/html":[
       "<div>\n",
       "<style scoped>\n",
       "    .dataframe tbody tr th:only-of-type {\n",
       "        vertical-align: middle;\n",
       "    }\n",
       "\n",
       "    .dataframe tbody tr th {\n",
       "        vertical-align: top;\n",
       "    }\n",
       "\n",
       "    .dataframe thead th {\n",
       "        text-align: right;\n",
       "    }\n",
       "<\/style>\n",
       "<table border=\"1\" class=\"dataframe\">\n",
       "  <thead>\n",
       "    <tr style=\"text-align: right;\">\n",
       "      <th><\/th>\n",
       "      <th>ID<\/th>\n",
       "      <th>Name<\/th>\n",
       "      <th>Description<\/th>\n",
       "    <\/tr>\n",
       "  <\/thead>\n",
       "  <tbody>\n",
       "    <tr>\n",
       "      <th>0<\/th>\n",
       "      <td>1<\/td>\n",
       "      <td>Beverages<\/td>\n",
       "      <td>Soft drinks<\/td>\n",
       "    <\/tr>\n",
       "    <tr>\n",
       "      <th>1<\/th>\n",
       "      <td>2<\/td>\n",
       "      <td>Condiments<\/td>\n",
       "      <td>Sweet and savory sauces<\/td>\n",
       "    <\/tr>\n",
       "    <tr>\n",
       "      <th>2<\/th>\n",
       "      <td>3<\/td>\n",
       "      <td>Confections<\/td>\n",
       "      <td>Desserts<\/td>\n",
       "    <\/tr>\n",
       "    <tr>\n",
       "      <th>3<\/th>\n",
       "      <td>4<\/td>\n",
       "      <td>Dairy Products<\/td>\n",
       "      <td>Cheeses<\/td>\n",
       "    <\/tr>\n",
       "    <tr>\n",
       "      <th>4<\/th>\n",
       "      <td>5<\/td>\n",
       "      <td>Grains\/Cereals<\/td>\n",
       "      <td>Breads<\/td>\n",
       "    <\/tr>\n",
       "  <\/tbody>\n",
       "<\/table>\n",
       "<\/div>"
      ]
     },
     "metadata":{},
     "output_type":"display_data"
    }
   ],
   "metadata":{
    "datalore":{
     "node_id":"NKT6m19rvs0nq7woeP8pZq",
     "type":"CODE",
     "hide_input_from_viewers":true,
     "hide_output_from_viewers":true
    }
   }
  },
  {
   "cell_type":"code",
   "source":[
    "products.merge(right=categories, left_on='CategoryID', right_on='ID', suffixes=['_prod','_cat'], sort=True)\n",
    "\n",
    "# W sytuacji, kiedy w łączonych tabelach występują kolumny o tych samych nazwach, stosujemy parametr suffixes"
   ],
   "execution_count":14,
   "outputs":[
    {
     "data":{
      "text\/html":[
       "<div>\n",
       "<style scoped>\n",
       "    .dataframe tbody tr th:only-of-type {\n",
       "        vertical-align: middle;\n",
       "    }\n",
       "\n",
       "    .dataframe tbody tr th {\n",
       "        vertical-align: top;\n",
       "    }\n",
       "\n",
       "    .dataframe thead th {\n",
       "        text-align: right;\n",
       "    }\n",
       "<\/style>\n",
       "<table border=\"1\" class=\"dataframe\">\n",
       "  <thead>\n",
       "    <tr style=\"text-align: right;\">\n",
       "      <th><\/th>\n",
       "      <th>ProductID<\/th>\n",
       "      <th>Name_prod<\/th>\n",
       "      <th>CategoryID<\/th>\n",
       "      <th>UnitPrice<\/th>\n",
       "      <th>ID<\/th>\n",
       "      <th>Name_cat<\/th>\n",
       "      <th>Description<\/th>\n",
       "    <\/tr>\n",
       "  <\/thead>\n",
       "  <tbody>\n",
       "    <tr>\n",
       "      <th>0<\/th>\n",
       "      <td>1<\/td>\n",
       "      <td>Chai<\/td>\n",
       "      <td>1<\/td>\n",
       "      <td>18.00<\/td>\n",
       "      <td>1<\/td>\n",
       "      <td>Beverages<\/td>\n",
       "      <td>Soft drinks<\/td>\n",
       "    <\/tr>\n",
       "    <tr>\n",
       "      <th>1<\/th>\n",
       "      <td>2<\/td>\n",
       "      <td>Chang<\/td>\n",
       "      <td>1<\/td>\n",
       "      <td>19.00<\/td>\n",
       "      <td>1<\/td>\n",
       "      <td>Beverages<\/td>\n",
       "      <td>Soft drinks<\/td>\n",
       "    <\/tr>\n",
       "    <tr>\n",
       "      <th>2<\/th>\n",
       "      <td>24<\/td>\n",
       "      <td>Guaraná Fantástica<\/td>\n",
       "      <td>1<\/td>\n",
       "      <td>4.50<\/td>\n",
       "      <td>1<\/td>\n",
       "      <td>Beverages<\/td>\n",
       "      <td>Soft drinks<\/td>\n",
       "    <\/tr>\n",
       "    <tr>\n",
       "      <th>3<\/th>\n",
       "      <td>34<\/td>\n",
       "      <td>Sasquatch Ale<\/td>\n",
       "      <td>1<\/td>\n",
       "      <td>14.00<\/td>\n",
       "      <td>1<\/td>\n",
       "      <td>Beverages<\/td>\n",
       "      <td>Soft drinks<\/td>\n",
       "    <\/tr>\n",
       "    <tr>\n",
       "      <th>4<\/th>\n",
       "      <td>35<\/td>\n",
       "      <td>Steeleye Stout<\/td>\n",
       "      <td>1<\/td>\n",
       "      <td>18.00<\/td>\n",
       "      <td>1<\/td>\n",
       "      <td>Beverages<\/td>\n",
       "      <td>Soft drinks<\/td>\n",
       "    <\/tr>\n",
       "    <tr>\n",
       "      <th>...<\/th>\n",
       "      <td>...<\/td>\n",
       "      <td>...<\/td>\n",
       "      <td>...<\/td>\n",
       "      <td>...<\/td>\n",
       "      <td>...<\/td>\n",
       "      <td>...<\/td>\n",
       "      <td>...<\/td>\n",
       "    <\/tr>\n",
       "    <tr>\n",
       "      <th>72<\/th>\n",
       "      <td>41<\/td>\n",
       "      <td>Jack's New England Clam Chowder<\/td>\n",
       "      <td>8<\/td>\n",
       "      <td>9.65<\/td>\n",
       "      <td>8<\/td>\n",
       "      <td>Seafood<\/td>\n",
       "      <td>Seaweed and fish<\/td>\n",
       "    <\/tr>\n",
       "    <tr>\n",
       "      <th>73<\/th>\n",
       "      <td>45<\/td>\n",
       "      <td>Rogede sild<\/td>\n",
       "      <td>8<\/td>\n",
       "      <td>9.50<\/td>\n",
       "      <td>8<\/td>\n",
       "      <td>Seafood<\/td>\n",
       "      <td>Seaweed and fish<\/td>\n",
       "    <\/tr>\n",
       "    <tr>\n",
       "      <th>74<\/th>\n",
       "      <td>46<\/td>\n",
       "      <td>Spegesild<\/td>\n",
       "      <td>8<\/td>\n",
       "      <td>12.00<\/td>\n",
       "      <td>8<\/td>\n",
       "      <td>Seafood<\/td>\n",
       "      <td>Seaweed and fish<\/td>\n",
       "    <\/tr>\n",
       "    <tr>\n",
       "      <th>75<\/th>\n",
       "      <td>58<\/td>\n",
       "      <td>Escargots de Bourgogne<\/td>\n",
       "      <td>8<\/td>\n",
       "      <td>13.25<\/td>\n",
       "      <td>8<\/td>\n",
       "      <td>Seafood<\/td>\n",
       "      <td>Seaweed and fish<\/td>\n",
       "    <\/tr>\n",
       "    <tr>\n",
       "      <th>76<\/th>\n",
       "      <td>73<\/td>\n",
       "      <td>Röd Kaviar<\/td>\n",
       "      <td>8<\/td>\n",
       "      <td>15.00<\/td>\n",
       "      <td>8<\/td>\n",
       "      <td>Seafood<\/td>\n",
       "      <td>Seaweed and fish<\/td>\n",
       "    <\/tr>\n",
       "  <\/tbody>\n",
       "<\/table>\n",
       "<p>77 rows × 7 columns<\/p>\n",
       "<\/div>"
      ]
     },
     "metadata":{},
     "output_type":"display_data"
    }
   ],
   "metadata":{
    "datalore":{
     "node_id":"Tptst4bkskQAfSgQkBkt4l",
     "type":"CODE",
     "hide_input_from_viewers":true,
     "hide_output_from_viewers":true
    }
   }
  },
  {
   "cell_type":"code",
   "source":[
    "categories.head()"
   ],
   "execution_count":15,
   "outputs":[
    {
     "data":{
      "text\/html":[
       "<div>\n",
       "<style scoped>\n",
       "    .dataframe tbody tr th:only-of-type {\n",
       "        vertical-align: middle;\n",
       "    }\n",
       "\n",
       "    .dataframe tbody tr th {\n",
       "        vertical-align: top;\n",
       "    }\n",
       "\n",
       "    .dataframe thead th {\n",
       "        text-align: right;\n",
       "    }\n",
       "<\/style>\n",
       "<table border=\"1\" class=\"dataframe\">\n",
       "  <thead>\n",
       "    <tr style=\"text-align: right;\">\n",
       "      <th><\/th>\n",
       "      <th>ID<\/th>\n",
       "      <th>Name<\/th>\n",
       "      <th>Description<\/th>\n",
       "    <\/tr>\n",
       "  <\/thead>\n",
       "  <tbody>\n",
       "    <tr>\n",
       "      <th>0<\/th>\n",
       "      <td>1<\/td>\n",
       "      <td>Beverages<\/td>\n",
       "      <td>Soft drinks<\/td>\n",
       "    <\/tr>\n",
       "    <tr>\n",
       "      <th>1<\/th>\n",
       "      <td>2<\/td>\n",
       "      <td>Condiments<\/td>\n",
       "      <td>Sweet and savory sauces<\/td>\n",
       "    <\/tr>\n",
       "    <tr>\n",
       "      <th>2<\/th>\n",
       "      <td>3<\/td>\n",
       "      <td>Confections<\/td>\n",
       "      <td>Desserts<\/td>\n",
       "    <\/tr>\n",
       "    <tr>\n",
       "      <th>3<\/th>\n",
       "      <td>4<\/td>\n",
       "      <td>Dairy Products<\/td>\n",
       "      <td>Cheeses<\/td>\n",
       "    <\/tr>\n",
       "    <tr>\n",
       "      <th>4<\/th>\n",
       "      <td>5<\/td>\n",
       "      <td>Grains\/Cereals<\/td>\n",
       "      <td>Breads<\/td>\n",
       "    <\/tr>\n",
       "  <\/tbody>\n",
       "<\/table>\n",
       "<\/div>"
      ]
     },
     "metadata":{},
     "output_type":"display_data"
    }
   ],
   "metadata":{
    "datalore":{
     "node_id":"mxnIT0opnYp27u76EYYVyd",
     "type":"CODE",
     "hide_input_from_viewers":true,
     "hide_output_from_viewers":true
    }
   }
  },
  {
   "cell_type":"code",
   "source":[
    "categories.set_index('ID', inplace=True)\n",
    "categories.head()"
   ],
   "execution_count":16,
   "outputs":[
    {
     "data":{
      "text\/html":[
       "<div>\n",
       "<style scoped>\n",
       "    .dataframe tbody tr th:only-of-type {\n",
       "        vertical-align: middle;\n",
       "    }\n",
       "\n",
       "    .dataframe tbody tr th {\n",
       "        vertical-align: top;\n",
       "    }\n",
       "\n",
       "    .dataframe thead th {\n",
       "        text-align: right;\n",
       "    }\n",
       "<\/style>\n",
       "<table border=\"1\" class=\"dataframe\">\n",
       "  <thead>\n",
       "    <tr style=\"text-align: right;\">\n",
       "      <th><\/th>\n",
       "      <th>Name<\/th>\n",
       "      <th>Description<\/th>\n",
       "    <\/tr>\n",
       "    <tr>\n",
       "      <th>ID<\/th>\n",
       "      <th><\/th>\n",
       "      <th><\/th>\n",
       "    <\/tr>\n",
       "  <\/thead>\n",
       "  <tbody>\n",
       "    <tr>\n",
       "      <th>1<\/th>\n",
       "      <td>Beverages<\/td>\n",
       "      <td>Soft drinks<\/td>\n",
       "    <\/tr>\n",
       "    <tr>\n",
       "      <th>2<\/th>\n",
       "      <td>Condiments<\/td>\n",
       "      <td>Sweet and savory sauces<\/td>\n",
       "    <\/tr>\n",
       "    <tr>\n",
       "      <th>3<\/th>\n",
       "      <td>Confections<\/td>\n",
       "      <td>Desserts<\/td>\n",
       "    <\/tr>\n",
       "    <tr>\n",
       "      <th>4<\/th>\n",
       "      <td>Dairy Products<\/td>\n",
       "      <td>Cheeses<\/td>\n",
       "    <\/tr>\n",
       "    <tr>\n",
       "      <th>5<\/th>\n",
       "      <td>Grains\/Cereals<\/td>\n",
       "      <td>Breads<\/td>\n",
       "    <\/tr>\n",
       "  <\/tbody>\n",
       "<\/table>\n",
       "<\/div>"
      ]
     },
     "metadata":{},
     "output_type":"display_data"
    }
   ],
   "metadata":{
    "datalore":{
     "node_id":"DvoYpX3HailSYf1Ar9fxbX",
     "type":"CODE",
     "hide_input_from_viewers":true,
     "hide_output_from_viewers":true
    }
   }
  },
  {
   "cell_type":"code",
   "source":[
    "products.merge(right=categories, left_on='CategoryID', right_index=True, suffixes=['_prod','_cat'], sort=True)\n",
    "\n",
    "# jeżeli złączenie następuje po indeksie z jednej ze stron to korzystamy z parametrów left_index albo right_index\n",
    "# parametr 'sort' umożliwia sortowanie złączonych tabel "
   ],
   "execution_count":17,
   "outputs":[
    {
     "data":{
      "text\/html":[
       "<div>\n",
       "<style scoped>\n",
       "    .dataframe tbody tr th:only-of-type {\n",
       "        vertical-align: middle;\n",
       "    }\n",
       "\n",
       "    .dataframe tbody tr th {\n",
       "        vertical-align: top;\n",
       "    }\n",
       "\n",
       "    .dataframe thead th {\n",
       "        text-align: right;\n",
       "    }\n",
       "<\/style>\n",
       "<table border=\"1\" class=\"dataframe\">\n",
       "  <thead>\n",
       "    <tr style=\"text-align: right;\">\n",
       "      <th><\/th>\n",
       "      <th>ProductID<\/th>\n",
       "      <th>Name_prod<\/th>\n",
       "      <th>CategoryID<\/th>\n",
       "      <th>UnitPrice<\/th>\n",
       "      <th>Name_cat<\/th>\n",
       "      <th>Description<\/th>\n",
       "    <\/tr>\n",
       "  <\/thead>\n",
       "  <tbody>\n",
       "    <tr>\n",
       "      <th>0<\/th>\n",
       "      <td>1<\/td>\n",
       "      <td>Chai<\/td>\n",
       "      <td>1<\/td>\n",
       "      <td>18.00<\/td>\n",
       "      <td>Beverages<\/td>\n",
       "      <td>Soft drinks<\/td>\n",
       "    <\/tr>\n",
       "    <tr>\n",
       "      <th>1<\/th>\n",
       "      <td>2<\/td>\n",
       "      <td>Chang<\/td>\n",
       "      <td>1<\/td>\n",
       "      <td>19.00<\/td>\n",
       "      <td>Beverages<\/td>\n",
       "      <td>Soft drinks<\/td>\n",
       "    <\/tr>\n",
       "    <tr>\n",
       "      <th>23<\/th>\n",
       "      <td>24<\/td>\n",
       "      <td>Guaraná Fantástica<\/td>\n",
       "      <td>1<\/td>\n",
       "      <td>4.50<\/td>\n",
       "      <td>Beverages<\/td>\n",
       "      <td>Soft drinks<\/td>\n",
       "    <\/tr>\n",
       "    <tr>\n",
       "      <th>33<\/th>\n",
       "      <td>34<\/td>\n",
       "      <td>Sasquatch Ale<\/td>\n",
       "      <td>1<\/td>\n",
       "      <td>14.00<\/td>\n",
       "      <td>Beverages<\/td>\n",
       "      <td>Soft drinks<\/td>\n",
       "    <\/tr>\n",
       "    <tr>\n",
       "      <th>34<\/th>\n",
       "      <td>35<\/td>\n",
       "      <td>Steeleye Stout<\/td>\n",
       "      <td>1<\/td>\n",
       "      <td>18.00<\/td>\n",
       "      <td>Beverages<\/td>\n",
       "      <td>Soft drinks<\/td>\n",
       "    <\/tr>\n",
       "    <tr>\n",
       "      <th>...<\/th>\n",
       "      <td>...<\/td>\n",
       "      <td>...<\/td>\n",
       "      <td>...<\/td>\n",
       "      <td>...<\/td>\n",
       "      <td>...<\/td>\n",
       "      <td>...<\/td>\n",
       "    <\/tr>\n",
       "    <tr>\n",
       "      <th>40<\/th>\n",
       "      <td>41<\/td>\n",
       "      <td>Jack's New England Clam Chowder<\/td>\n",
       "      <td>8<\/td>\n",
       "      <td>9.65<\/td>\n",
       "      <td>Seafood<\/td>\n",
       "      <td>Seaweed and fish<\/td>\n",
       "    <\/tr>\n",
       "    <tr>\n",
       "      <th>44<\/th>\n",
       "      <td>45<\/td>\n",
       "      <td>Rogede sild<\/td>\n",
       "      <td>8<\/td>\n",
       "      <td>9.50<\/td>\n",
       "      <td>Seafood<\/td>\n",
       "      <td>Seaweed and fish<\/td>\n",
       "    <\/tr>\n",
       "    <tr>\n",
       "      <th>45<\/th>\n",
       "      <td>46<\/td>\n",
       "      <td>Spegesild<\/td>\n",
       "      <td>8<\/td>\n",
       "      <td>12.00<\/td>\n",
       "      <td>Seafood<\/td>\n",
       "      <td>Seaweed and fish<\/td>\n",
       "    <\/tr>\n",
       "    <tr>\n",
       "      <th>57<\/th>\n",
       "      <td>58<\/td>\n",
       "      <td>Escargots de Bourgogne<\/td>\n",
       "      <td>8<\/td>\n",
       "      <td>13.25<\/td>\n",
       "      <td>Seafood<\/td>\n",
       "      <td>Seaweed and fish<\/td>\n",
       "    <\/tr>\n",
       "    <tr>\n",
       "      <th>72<\/th>\n",
       "      <td>73<\/td>\n",
       "      <td>Röd Kaviar<\/td>\n",
       "      <td>8<\/td>\n",
       "      <td>15.00<\/td>\n",
       "      <td>Seafood<\/td>\n",
       "      <td>Seaweed and fish<\/td>\n",
       "    <\/tr>\n",
       "  <\/tbody>\n",
       "<\/table>\n",
       "<p>77 rows × 6 columns<\/p>\n",
       "<\/div>"
      ]
     },
     "metadata":{},
     "output_type":"display_data"
    }
   ],
   "metadata":{
    "datalore":{
     "node_id":"91Sv1HaRzcfUs7XqCWBiOV",
     "type":"CODE",
     "hide_input_from_viewers":true,
     "hide_output_from_viewers":true
    }
   }
  },
  {
   "cell_type":"code",
   "source":[],
   "execution_count":0,
   "outputs":[],
   "metadata":{
    "datalore":{
     "node_id":"ppsM3XVgOP6RnLiIFLTkAB",
     "type":"CODE",
     "hide_input_from_viewers":true,
     "hide_output_from_viewers":true
    }
   }
  },
  {
   "cell_type":"markdown",
   "source":[
    "# Zadanie"
   ],
   "attachments":{},
   "metadata":{
    "datalore":{
     "node_id":"Zadanie",
     "type":"MD",
     "hide_input_from_viewers":false,
     "hide_output_from_viewers":false,
     "sheet_delimiter":true
    }
   }
  },
  {
   "cell_type":"code",
   "source":[
    "suppliers = pd.read_csv('\/data\/workspace_files\/suppliers.csv',\n",
    "                        usecols=['SupplierID','CompanyName','City'])\n",
    "suppliers.head()"
   ],
   "execution_count":18,
   "outputs":[
    {
     "data":{
      "text\/html":[
       "<div>\n",
       "<style scoped>\n",
       "    .dataframe tbody tr th:only-of-type {\n",
       "        vertical-align: middle;\n",
       "    }\n",
       "\n",
       "    .dataframe tbody tr th {\n",
       "        vertical-align: top;\n",
       "    }\n",
       "\n",
       "    .dataframe thead th {\n",
       "        text-align: right;\n",
       "    }\n",
       "<\/style>\n",
       "<table border=\"1\" class=\"dataframe\">\n",
       "  <thead>\n",
       "    <tr style=\"text-align: right;\">\n",
       "      <th><\/th>\n",
       "      <th>SupplierID<\/th>\n",
       "      <th>CompanyName<\/th>\n",
       "      <th>City<\/th>\n",
       "    <\/tr>\n",
       "  <\/thead>\n",
       "  <tbody>\n",
       "    <tr>\n",
       "      <th>0<\/th>\n",
       "      <td>1<\/td>\n",
       "      <td>Exotic Liquids<\/td>\n",
       "      <td>London<\/td>\n",
       "    <\/tr>\n",
       "    <tr>\n",
       "      <th>1<\/th>\n",
       "      <td>2<\/td>\n",
       "      <td>New Orleans Cajun Delights<\/td>\n",
       "      <td>New Orleans<\/td>\n",
       "    <\/tr>\n",
       "    <tr>\n",
       "      <th>2<\/th>\n",
       "      <td>3<\/td>\n",
       "      <td>Grandma Kelly's Homestead<\/td>\n",
       "      <td>Ann Arbor<\/td>\n",
       "    <\/tr>\n",
       "    <tr>\n",
       "      <th>3<\/th>\n",
       "      <td>4<\/td>\n",
       "      <td>Tokyo Traders<\/td>\n",
       "      <td>Tokyo<\/td>\n",
       "    <\/tr>\n",
       "    <tr>\n",
       "      <th>4<\/th>\n",
       "      <td>5<\/td>\n",
       "      <td>Cooperativa de Quesos 'Las Cabras'<\/td>\n",
       "      <td>Oviedo<\/td>\n",
       "    <\/tr>\n",
       "  <\/tbody>\n",
       "<\/table>\n",
       "<\/div>"
      ]
     },
     "metadata":{},
     "output_type":"display_data"
    }
   ],
   "metadata":{
    "datalore":{
     "node_id":"KaF03RVVQBi8YcuQQ3ABip",
     "type":"CODE",
     "hide_input_from_viewers":true,
     "hide_output_from_viewers":true
    }
   }
  },
  {
   "cell_type":"code",
   "source":[
    "products = pd.read_csv('\/data\/workspace_files\/products.csv',\n",
    "                       usecols=['ProductID','ProductName','SupplierID'])\n",
    "products.head()"
   ],
   "execution_count":19,
   "outputs":[
    {
     "data":{
      "text\/html":[
       "<div>\n",
       "<style scoped>\n",
       "    .dataframe tbody tr th:only-of-type {\n",
       "        vertical-align: middle;\n",
       "    }\n",
       "\n",
       "    .dataframe tbody tr th {\n",
       "        vertical-align: top;\n",
       "    }\n",
       "\n",
       "    .dataframe thead th {\n",
       "        text-align: right;\n",
       "    }\n",
       "<\/style>\n",
       "<table border=\"1\" class=\"dataframe\">\n",
       "  <thead>\n",
       "    <tr style=\"text-align: right;\">\n",
       "      <th><\/th>\n",
       "      <th>ProductID<\/th>\n",
       "      <th>ProductName<\/th>\n",
       "      <th>SupplierID<\/th>\n",
       "    <\/tr>\n",
       "  <\/thead>\n",
       "  <tbody>\n",
       "    <tr>\n",
       "      <th>0<\/th>\n",
       "      <td>1<\/td>\n",
       "      <td>Chai<\/td>\n",
       "      <td>1<\/td>\n",
       "    <\/tr>\n",
       "    <tr>\n",
       "      <th>1<\/th>\n",
       "      <td>2<\/td>\n",
       "      <td>Chang<\/td>\n",
       "      <td>1<\/td>\n",
       "    <\/tr>\n",
       "    <tr>\n",
       "      <th>2<\/th>\n",
       "      <td>3<\/td>\n",
       "      <td>Aniseed Syrup<\/td>\n",
       "      <td>1<\/td>\n",
       "    <\/tr>\n",
       "    <tr>\n",
       "      <th>3<\/th>\n",
       "      <td>4<\/td>\n",
       "      <td>Chef Anton's Cajun Seasoning<\/td>\n",
       "      <td>2<\/td>\n",
       "    <\/tr>\n",
       "    <tr>\n",
       "      <th>4<\/th>\n",
       "      <td>5<\/td>\n",
       "      <td>Chef Anton's Gumbo Mix<\/td>\n",
       "      <td>2<\/td>\n",
       "    <\/tr>\n",
       "  <\/tbody>\n",
       "<\/table>\n",
       "<\/div>"
      ]
     },
     "metadata":{},
     "output_type":"display_data"
    }
   ],
   "metadata":{
    "datalore":{
     "node_id":"8ZswkVl7eFRrKq4Jf6SB8j",
     "type":"CODE",
     "hide_input_from_viewers":true,
     "hide_output_from_viewers":true
    }
   }
  },
  {
   "cell_type":"code",
   "source":[
    "sup_prod = suppliers.merge(products, on='SupplierID')\n",
    "sup_prod.head()"
   ],
   "execution_count":21,
   "outputs":[
    {
     "data":{
      "text\/html":[
       "<div>\n",
       "<style scoped>\n",
       "    .dataframe tbody tr th:only-of-type {\n",
       "        vertical-align: middle;\n",
       "    }\n",
       "\n",
       "    .dataframe tbody tr th {\n",
       "        vertical-align: top;\n",
       "    }\n",
       "\n",
       "    .dataframe thead th {\n",
       "        text-align: right;\n",
       "    }\n",
       "<\/style>\n",
       "<table border=\"1\" class=\"dataframe\">\n",
       "  <thead>\n",
       "    <tr style=\"text-align: right;\">\n",
       "      <th><\/th>\n",
       "      <th>SupplierID<\/th>\n",
       "      <th>CompanyName<\/th>\n",
       "      <th>City<\/th>\n",
       "      <th>ProductID<\/th>\n",
       "      <th>ProductName<\/th>\n",
       "    <\/tr>\n",
       "  <\/thead>\n",
       "  <tbody>\n",
       "    <tr>\n",
       "      <th>0<\/th>\n",
       "      <td>1<\/td>\n",
       "      <td>Exotic Liquids<\/td>\n",
       "      <td>London<\/td>\n",
       "      <td>1<\/td>\n",
       "      <td>Chai<\/td>\n",
       "    <\/tr>\n",
       "    <tr>\n",
       "      <th>1<\/th>\n",
       "      <td>1<\/td>\n",
       "      <td>Exotic Liquids<\/td>\n",
       "      <td>London<\/td>\n",
       "      <td>2<\/td>\n",
       "      <td>Chang<\/td>\n",
       "    <\/tr>\n",
       "    <tr>\n",
       "      <th>2<\/th>\n",
       "      <td>1<\/td>\n",
       "      <td>Exotic Liquids<\/td>\n",
       "      <td>London<\/td>\n",
       "      <td>3<\/td>\n",
       "      <td>Aniseed Syrup<\/td>\n",
       "    <\/tr>\n",
       "    <tr>\n",
       "      <th>3<\/th>\n",
       "      <td>2<\/td>\n",
       "      <td>New Orleans Cajun Delights<\/td>\n",
       "      <td>New Orleans<\/td>\n",
       "      <td>4<\/td>\n",
       "      <td>Chef Anton's Cajun Seasoning<\/td>\n",
       "    <\/tr>\n",
       "    <tr>\n",
       "      <th>4<\/th>\n",
       "      <td>2<\/td>\n",
       "      <td>New Orleans Cajun Delights<\/td>\n",
       "      <td>New Orleans<\/td>\n",
       "      <td>5<\/td>\n",
       "      <td>Chef Anton's Gumbo Mix<\/td>\n",
       "    <\/tr>\n",
       "  <\/tbody>\n",
       "<\/table>\n",
       "<\/div>"
      ]
     },
     "metadata":{},
     "output_type":"display_data"
    }
   ],
   "metadata":{
    "datalore":{
     "node_id":"uyd2jRnqcFig0blRMiIYU5",
     "type":"CODE",
     "hide_input_from_viewers":true,
     "hide_output_from_viewers":true
    }
   }
  },
  {
   "cell_type":"code",
   "source":[
    "products.set_index('SupplierID',inplace=True)\n",
    "products.head()"
   ],
   "execution_count":24,
   "outputs":[
    {
     "data":{
      "text\/html":[
       "<div>\n",
       "<style scoped>\n",
       "    .dataframe tbody tr th:only-of-type {\n",
       "        vertical-align: middle;\n",
       "    }\n",
       "\n",
       "    .dataframe tbody tr th {\n",
       "        vertical-align: top;\n",
       "    }\n",
       "\n",
       "    .dataframe thead th {\n",
       "        text-align: right;\n",
       "    }\n",
       "<\/style>\n",
       "<table border=\"1\" class=\"dataframe\">\n",
       "  <thead>\n",
       "    <tr style=\"text-align: right;\">\n",
       "      <th><\/th>\n",
       "      <th>ProductID<\/th>\n",
       "      <th>ProductName<\/th>\n",
       "    <\/tr>\n",
       "    <tr>\n",
       "      <th>SupplierID<\/th>\n",
       "      <th><\/th>\n",
       "      <th><\/th>\n",
       "    <\/tr>\n",
       "  <\/thead>\n",
       "  <tbody>\n",
       "    <tr>\n",
       "      <th>1<\/th>\n",
       "      <td>1<\/td>\n",
       "      <td>Chai<\/td>\n",
       "    <\/tr>\n",
       "    <tr>\n",
       "      <th>1<\/th>\n",
       "      <td>2<\/td>\n",
       "      <td>Chang<\/td>\n",
       "    <\/tr>\n",
       "    <tr>\n",
       "      <th>1<\/th>\n",
       "      <td>3<\/td>\n",
       "      <td>Aniseed Syrup<\/td>\n",
       "    <\/tr>\n",
       "    <tr>\n",
       "      <th>2<\/th>\n",
       "      <td>4<\/td>\n",
       "      <td>Chef Anton's Cajun Seasoning<\/td>\n",
       "    <\/tr>\n",
       "    <tr>\n",
       "      <th>2<\/th>\n",
       "      <td>5<\/td>\n",
       "      <td>Chef Anton's Gumbo Mix<\/td>\n",
       "    <\/tr>\n",
       "  <\/tbody>\n",
       "<\/table>\n",
       "<\/div>"
      ]
     },
     "metadata":{},
     "output_type":"display_data"
    }
   ],
   "metadata":{
    "datalore":{
     "node_id":"WqeOsDYzkPKlN7oFDOHvIA",
     "type":"CODE",
     "hide_input_from_viewers":true,
     "hide_output_from_viewers":true
    }
   }
  },
  {
   "cell_type":"code",
   "source":[
    "# -*- coding: utf-8 -*-\n",
    "# suppliers.set_index(\"SupplierID\", inplace=True)"
   ],
   "execution_count":26,
   "outputs":[],
   "metadata":{
    "datalore":{
     "node_id":"hlgDtMtEh5q1CQ8D7T6O03",
     "type":"CODE",
     "hide_input_from_viewers":true,
     "hide_output_from_viewers":true
    }
   }
  },
  {
   "cell_type":"code",
   "source":[
    "sup_prod = suppliers.join(products)\n",
    "sup_prod.head()"
   ],
   "execution_count":28,
   "outputs":[
    {
     "data":{
      "text\/html":[
       "<div>\n",
       "<style scoped>\n",
       "    .dataframe tbody tr th:only-of-type {\n",
       "        vertical-align: middle;\n",
       "    }\n",
       "\n",
       "    .dataframe tbody tr th {\n",
       "        vertical-align: top;\n",
       "    }\n",
       "\n",
       "    .dataframe thead th {\n",
       "        text-align: right;\n",
       "    }\n",
       "<\/style>\n",
       "<table border=\"1\" class=\"dataframe\">\n",
       "  <thead>\n",
       "    <tr style=\"text-align: right;\">\n",
       "      <th><\/th>\n",
       "      <th>CompanyName<\/th>\n",
       "      <th>City<\/th>\n",
       "      <th>ProductID<\/th>\n",
       "      <th>ProductName<\/th>\n",
       "    <\/tr>\n",
       "    <tr>\n",
       "      <th>SupplierID<\/th>\n",
       "      <th><\/th>\n",
       "      <th><\/th>\n",
       "      <th><\/th>\n",
       "      <th><\/th>\n",
       "    <\/tr>\n",
       "  <\/thead>\n",
       "  <tbody>\n",
       "    <tr>\n",
       "      <th>1<\/th>\n",
       "      <td>Exotic Liquids<\/td>\n",
       "      <td>London<\/td>\n",
       "      <td>1<\/td>\n",
       "      <td>Chai<\/td>\n",
       "    <\/tr>\n",
       "    <tr>\n",
       "      <th>1<\/th>\n",
       "      <td>Exotic Liquids<\/td>\n",
       "      <td>London<\/td>\n",
       "      <td>2<\/td>\n",
       "      <td>Chang<\/td>\n",
       "    <\/tr>\n",
       "    <tr>\n",
       "      <th>1<\/th>\n",
       "      <td>Exotic Liquids<\/td>\n",
       "      <td>London<\/td>\n",
       "      <td>3<\/td>\n",
       "      <td>Aniseed Syrup<\/td>\n",
       "    <\/tr>\n",
       "    <tr>\n",
       "      <th>2<\/th>\n",
       "      <td>New Orleans Cajun Delights<\/td>\n",
       "      <td>New Orleans<\/td>\n",
       "      <td>4<\/td>\n",
       "      <td>Chef Anton's Cajun Seasoning<\/td>\n",
       "    <\/tr>\n",
       "    <tr>\n",
       "      <th>2<\/th>\n",
       "      <td>New Orleans Cajun Delights<\/td>\n",
       "      <td>New Orleans<\/td>\n",
       "      <td>5<\/td>\n",
       "      <td>Chef Anton's Gumbo Mix<\/td>\n",
       "    <\/tr>\n",
       "  <\/tbody>\n",
       "<\/table>\n",
       "<\/div>"
      ]
     },
     "metadata":{},
     "output_type":"display_data"
    }
   ],
   "metadata":{
    "datalore":{
     "node_id":"EngbAMgmlWdhQdSebr2btn",
     "type":"CODE",
     "hide_input_from_viewers":true,
     "hide_output_from_viewers":true
    }
   }
  },
  {
   "cell_type":"code",
   "source":[
    "sup_prod = suppliers.merge(products, left_on=\"SupplierID\", right_index=True)\n",
    "sup_prod.head()"
   ],
   "execution_count":29,
   "outputs":[
    {
     "data":{
      "text\/html":[
       "<div>\n",
       "<style scoped>\n",
       "    .dataframe tbody tr th:only-of-type {\n",
       "        vertical-align: middle;\n",
       "    }\n",
       "\n",
       "    .dataframe tbody tr th {\n",
       "        vertical-align: top;\n",
       "    }\n",
       "\n",
       "    .dataframe thead th {\n",
       "        text-align: right;\n",
       "    }\n",
       "<\/style>\n",
       "<table border=\"1\" class=\"dataframe\">\n",
       "  <thead>\n",
       "    <tr style=\"text-align: right;\">\n",
       "      <th><\/th>\n",
       "      <th>CompanyName<\/th>\n",
       "      <th>City<\/th>\n",
       "      <th>ProductID<\/th>\n",
       "      <th>ProductName<\/th>\n",
       "    <\/tr>\n",
       "    <tr>\n",
       "      <th>SupplierID<\/th>\n",
       "      <th><\/th>\n",
       "      <th><\/th>\n",
       "      <th><\/th>\n",
       "      <th><\/th>\n",
       "    <\/tr>\n",
       "  <\/thead>\n",
       "  <tbody>\n",
       "    <tr>\n",
       "      <th>1<\/th>\n",
       "      <td>Exotic Liquids<\/td>\n",
       "      <td>London<\/td>\n",
       "      <td>1<\/td>\n",
       "      <td>Chai<\/td>\n",
       "    <\/tr>\n",
       "    <tr>\n",
       "      <th>1<\/th>\n",
       "      <td>Exotic Liquids<\/td>\n",
       "      <td>London<\/td>\n",
       "      <td>2<\/td>\n",
       "      <td>Chang<\/td>\n",
       "    <\/tr>\n",
       "    <tr>\n",
       "      <th>1<\/th>\n",
       "      <td>Exotic Liquids<\/td>\n",
       "      <td>London<\/td>\n",
       "      <td>3<\/td>\n",
       "      <td>Aniseed Syrup<\/td>\n",
       "    <\/tr>\n",
       "    <tr>\n",
       "      <th>2<\/th>\n",
       "      <td>New Orleans Cajun Delights<\/td>\n",
       "      <td>New Orleans<\/td>\n",
       "      <td>4<\/td>\n",
       "      <td>Chef Anton's Cajun Seasoning<\/td>\n",
       "    <\/tr>\n",
       "    <tr>\n",
       "      <th>2<\/th>\n",
       "      <td>New Orleans Cajun Delights<\/td>\n",
       "      <td>New Orleans<\/td>\n",
       "      <td>5<\/td>\n",
       "      <td>Chef Anton's Gumbo Mix<\/td>\n",
       "    <\/tr>\n",
       "  <\/tbody>\n",
       "<\/table>\n",
       "<\/div>"
      ]
     },
     "metadata":{},
     "output_type":"display_data"
    }
   ],
   "metadata":{
    "datalore":{
     "node_id":"2FFXidefHo0PsYhXj2R7QR",
     "type":"CODE",
     "hide_input_from_viewers":true,
     "hide_output_from_viewers":true
    }
   }
  },
  {
   "cell_type":"code",
   "source":[
    "products.reset_index(inplace=True)"
   ],
   "execution_count":30,
   "outputs":[],
   "metadata":{
    "datalore":{
     "node_id":"mo8jrmM1iRLCl1SyNHzPGF",
     "type":"CODE",
     "hide_input_from_viewers":true,
     "hide_output_from_viewers":true
    }
   }
  },
  {
   "cell_type":"code",
   "source":[
    "products.rename({'SupplierID':'supplier_id'}, axis=1, inplace=True)"
   ],
   "execution_count":31,
   "outputs":[],
   "metadata":{
    "datalore":{
     "node_id":"blZQYj5Ov8l2GdduwTMVz3",
     "type":"CODE",
     "hide_input_from_viewers":true,
     "hide_output_from_viewers":true
    }
   }
  },
  {
   "cell_type":"code",
   "source":[
    "sup_prod = suppliers.merge(products, left_on=\"SupplierID\", right_on=\"supplier_id\")\n",
    "sup_prod.head()"
   ],
   "execution_count":33,
   "outputs":[
    {
     "data":{
      "text\/html":[
       "<div>\n",
       "<style scoped>\n",
       "    .dataframe tbody tr th:only-of-type {\n",
       "        vertical-align: middle;\n",
       "    }\n",
       "\n",
       "    .dataframe tbody tr th {\n",
       "        vertical-align: top;\n",
       "    }\n",
       "\n",
       "    .dataframe thead th {\n",
       "        text-align: right;\n",
       "    }\n",
       "<\/style>\n",
       "<table border=\"1\" class=\"dataframe\">\n",
       "  <thead>\n",
       "    <tr style=\"text-align: right;\">\n",
       "      <th><\/th>\n",
       "      <th>CompanyName<\/th>\n",
       "      <th>City<\/th>\n",
       "      <th>supplier_id<\/th>\n",
       "      <th>ProductID<\/th>\n",
       "      <th>ProductName<\/th>\n",
       "    <\/tr>\n",
       "  <\/thead>\n",
       "  <tbody>\n",
       "    <tr>\n",
       "      <th>0<\/th>\n",
       "      <td>Exotic Liquids<\/td>\n",
       "      <td>London<\/td>\n",
       "      <td>1<\/td>\n",
       "      <td>1<\/td>\n",
       "      <td>Chai<\/td>\n",
       "    <\/tr>\n",
       "    <tr>\n",
       "      <th>1<\/th>\n",
       "      <td>Exotic Liquids<\/td>\n",
       "      <td>London<\/td>\n",
       "      <td>1<\/td>\n",
       "      <td>2<\/td>\n",
       "      <td>Chang<\/td>\n",
       "    <\/tr>\n",
       "    <tr>\n",
       "      <th>2<\/th>\n",
       "      <td>Exotic Liquids<\/td>\n",
       "      <td>London<\/td>\n",
       "      <td>1<\/td>\n",
       "      <td>3<\/td>\n",
       "      <td>Aniseed Syrup<\/td>\n",
       "    <\/tr>\n",
       "    <tr>\n",
       "      <th>3<\/th>\n",
       "      <td>New Orleans Cajun Delights<\/td>\n",
       "      <td>New Orleans<\/td>\n",
       "      <td>2<\/td>\n",
       "      <td>4<\/td>\n",
       "      <td>Chef Anton's Cajun Seasoning<\/td>\n",
       "    <\/tr>\n",
       "    <tr>\n",
       "      <th>4<\/th>\n",
       "      <td>New Orleans Cajun Delights<\/td>\n",
       "      <td>New Orleans<\/td>\n",
       "      <td>2<\/td>\n",
       "      <td>5<\/td>\n",
       "      <td>Chef Anton's Gumbo Mix<\/td>\n",
       "    <\/tr>\n",
       "  <\/tbody>\n",
       "<\/table>\n",
       "<\/div>"
      ]
     },
     "metadata":{},
     "output_type":"display_data"
    }
   ],
   "metadata":{
    "datalore":{
     "node_id":"wJQ7GEcYUPPHQ3K9qY7TOI",
     "type":"CODE",
     "hide_input_from_viewers":true,
     "hide_output_from_viewers":true
    }
   }
  }
 ],
 "metadata":{
  "kernelspec":{
   "display_name":"Python",
   "language":"python",
   "name":"python"
  },
  "datalore":{
   "computation_mode":"JUPYTER",
   "package_manager":"pip",
   "base_environment":"default",
   "packages":[],
   "report_row_ids":[],
   "version":3
  }
 },
 "nbformat":4,
 "nbformat_minor":4
}