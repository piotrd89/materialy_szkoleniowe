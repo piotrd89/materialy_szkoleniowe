{
 "cells":[
  {
   "cell_type":"markdown",
   "source":[
    "# Wstęp"
   ],
   "attachments":{},
   "metadata":{
    "datalore":{
     "node_id":"Wstęp",
     "type":"MD",
     "hide_input_from_viewers":false,
     "hide_output_from_viewers":false,
     "sheet_delimiter":true
    }
   }
  },
  {
   "cell_type":"code",
   "source":[
    "import pandas as pd\n",
    "import numpy as np"
   ],
   "execution_count":1,
   "outputs":[],
   "metadata":{
    "datalore":{
     "node_id":"z9EwRgGEk3SCQrIIJiWqNX",
     "type":"CODE",
     "hide_input_from_viewers":true,
     "hide_output_from_viewers":true
    }
   }
  },
  {
   "cell_type":"code",
   "source":[
    "products = pd.read_csv('http:\/\/piotrdomagala.pl\/data\/WA_Sales_Products_2012-14.csv')\n",
    "products.head()"
   ],
   "execution_count":2,
   "outputs":[
    {
     "data":{
      "text\/html":[
       "<div>\n",
       "<style scoped>\n",
       "    .dataframe tbody tr th:only-of-type {\n",
       "        vertical-align: middle;\n",
       "    }\n",
       "\n",
       "    .dataframe tbody tr th {\n",
       "        vertical-align: top;\n",
       "    }\n",
       "\n",
       "    .dataframe thead th {\n",
       "        text-align: right;\n",
       "    }\n",
       "<\/style>\n",
       "<table border=\"1\" class=\"dataframe\">\n",
       "  <thead>\n",
       "    <tr style=\"text-align: right;\">\n",
       "      <th><\/th>\n",
       "      <th>Retailer country<\/th>\n",
       "      <th>Order method type<\/th>\n",
       "      <th>Retailer type<\/th>\n",
       "      <th>Product line<\/th>\n",
       "      <th>Product type<\/th>\n",
       "      <th>Product<\/th>\n",
       "      <th>Year<\/th>\n",
       "      <th>Quarter<\/th>\n",
       "      <th>Revenue<\/th>\n",
       "      <th>Quantity<\/th>\n",
       "      <th>Gross margin<\/th>\n",
       "    <\/tr>\n",
       "  <\/thead>\n",
       "  <tbody>\n",
       "    <tr>\n",
       "      <th>0<\/th>\n",
       "      <td>United States<\/td>\n",
       "      <td>Fax<\/td>\n",
       "      <td>Outdoors Shop<\/td>\n",
       "      <td>Camping Equipment<\/td>\n",
       "      <td>Cooking Gear<\/td>\n",
       "      <td>TrailChef Deluxe Cook Set<\/td>\n",
       "      <td>2012<\/td>\n",
       "      <td>Q1 2012<\/td>\n",
       "      <td>59628.66<\/td>\n",
       "      <td>489<\/td>\n",
       "      <td>0.347548<\/td>\n",
       "    <\/tr>\n",
       "    <tr>\n",
       "      <th>1<\/th>\n",
       "      <td>United States<\/td>\n",
       "      <td>Fax<\/td>\n",
       "      <td>Outdoors Shop<\/td>\n",
       "      <td>Camping Equipment<\/td>\n",
       "      <td>Cooking Gear<\/td>\n",
       "      <td>TrailChef Double Flame<\/td>\n",
       "      <td>2012<\/td>\n",
       "      <td>Q1 2012<\/td>\n",
       "      <td>35950.32<\/td>\n",
       "      <td>252<\/td>\n",
       "      <td>0.474274<\/td>\n",
       "    <\/tr>\n",
       "    <tr>\n",
       "      <th>2<\/th>\n",
       "      <td>United States<\/td>\n",
       "      <td>Fax<\/td>\n",
       "      <td>Outdoors Shop<\/td>\n",
       "      <td>Camping Equipment<\/td>\n",
       "      <td>Tents<\/td>\n",
       "      <td>Star Dome<\/td>\n",
       "      <td>2012<\/td>\n",
       "      <td>Q1 2012<\/td>\n",
       "      <td>89940.48<\/td>\n",
       "      <td>147<\/td>\n",
       "      <td>0.352772<\/td>\n",
       "    <\/tr>\n",
       "    <tr>\n",
       "      <th>3<\/th>\n",
       "      <td>United States<\/td>\n",
       "      <td>Fax<\/td>\n",
       "      <td>Outdoors Shop<\/td>\n",
       "      <td>Camping Equipment<\/td>\n",
       "      <td>Tents<\/td>\n",
       "      <td>Star Gazer 2<\/td>\n",
       "      <td>2012<\/td>\n",
       "      <td>Q1 2012<\/td>\n",
       "      <td>165883.41<\/td>\n",
       "      <td>303<\/td>\n",
       "      <td>0.282938<\/td>\n",
       "    <\/tr>\n",
       "    <tr>\n",
       "      <th>4<\/th>\n",
       "      <td>United States<\/td>\n",
       "      <td>Fax<\/td>\n",
       "      <td>Outdoors Shop<\/td>\n",
       "      <td>Camping Equipment<\/td>\n",
       "      <td>Sleeping Bags<\/td>\n",
       "      <td>Hibernator Lite<\/td>\n",
       "      <td>2012<\/td>\n",
       "      <td>Q1 2012<\/td>\n",
       "      <td>119822.20<\/td>\n",
       "      <td>1415<\/td>\n",
       "      <td>0.291450<\/td>\n",
       "    <\/tr>\n",
       "  <\/tbody>\n",
       "<\/table>\n",
       "<\/div>"
      ]
     },
     "metadata":{},
     "output_type":"display_data"
    }
   ],
   "metadata":{
    "datalore":{
     "node_id":"N6iQAneZOO9Y8cHknHwmc3",
     "type":"CODE",
     "hide_input_from_viewers":true,
     "hide_output_from_viewers":true
    }
   }
  },
  {
   "cell_type":"code",
   "source":[
    "groups = products.groupby(by=['Retailer country','Year'])"
   ],
   "execution_count":3,
   "outputs":[],
   "metadata":{
    "datalore":{
     "node_id":"cjXUDsbcQ0qAic73OHrqdX",
     "type":"CODE",
     "hide_input_from_viewers":true,
     "hide_output_from_viewers":true
    }
   }
  },
  {
   "cell_type":"code",
   "source":[
    "groups['Revenue'].sum().head()"
   ],
   "execution_count":4,
   "outputs":[
    {
     "data":{
      "text\/html":[
       "<pre>Retailer country  Year\n",
       "Australia         2012    25607043.50\n",
       "                  2013    47799737.14\n",
       "                  2014    35893188.50\n",
       "Austria           2012    34568089.63\n",
       "                  2013    44996737.04\n",
       "Name: Revenue, dtype: float64<\/pre>"
      ]
     },
     "metadata":{},
     "output_type":"display_data"
    }
   ],
   "metadata":{
    "datalore":{
     "node_id":"PQfmubbKVhL1YjUU7BRlMQ",
     "type":"CODE",
     "hide_input_from_viewers":true,
     "hide_output_from_viewers":true
    }
   }
  },
  {
   "cell_type":"code",
   "source":[
    "groups['Quantity'].sum().head()"
   ],
   "execution_count":5,
   "outputs":[
    {
     "data":{
      "text\/html":[
       "<pre>Retailer country  Year\n",
       "Australia         2012    522186\n",
       "                  2013    839750\n",
       "                  2014    638845\n",
       "Austria           2012    702134\n",
       "                  2013    803771\n",
       "Name: Quantity, dtype: int64<\/pre>"
      ]
     },
     "metadata":{},
     "output_type":"display_data"
    }
   ],
   "metadata":{
    "datalore":{
     "node_id":"3b79anp7HLhNf4dsNEtckY",
     "type":"CODE",
     "hide_input_from_viewers":true,
     "hide_output_from_viewers":true
    }
   }
  },
  {
   "cell_type":"code",
   "source":[
    "groups['Gross margin'].mean().head()"
   ],
   "execution_count":6,
   "outputs":[
    {
     "data":{
      "text\/html":[
       "<pre>Retailer country  Year\n",
       "Australia         2012    0.447985\n",
       "                  2013    0.457347\n",
       "                  2014    0.446609\n",
       "Austria           2012    0.446084\n",
       "                  2013    0.456790\n",
       "Name: Gross margin, dtype: float64<\/pre>"
      ]
     },
     "metadata":{},
     "output_type":"display_data"
    }
   ],
   "metadata":{
    "datalore":{
     "node_id":"hIz0t8cxTwbselUrvDBSJn",
     "type":"CODE",
     "hide_input_from_viewers":true,
     "hide_output_from_viewers":true
    }
   }
  },
  {
   "cell_type":"code",
   "source":[
    "groups.Revenue.sum().head()"
   ],
   "execution_count":7,
   "outputs":[
    {
     "data":{
      "text\/html":[
       "<pre>Retailer country  Year\n",
       "Australia         2012    25607043.50\n",
       "                  2013    47799737.14\n",
       "                  2014    35893188.50\n",
       "Austria           2012    34568089.63\n",
       "                  2013    44996737.04\n",
       "Name: Revenue, dtype: float64<\/pre>"
      ]
     },
     "metadata":{},
     "output_type":"display_data"
    }
   ],
   "metadata":{
    "datalore":{
     "node_id":"gCMMtovxRKrrd8tDV9w0qO",
     "type":"CODE",
     "hide_input_from_viewers":true,
     "hide_output_from_viewers":true
    }
   }
  },
  {
   "cell_type":"code",
   "source":[
    "groups.agg({'Revenue':'sum'}).head()"
   ],
   "execution_count":8,
   "outputs":[
    {
     "data":{
      "text\/html":[
       "<div>\n",
       "<style scoped>\n",
       "    .dataframe tbody tr th:only-of-type {\n",
       "        vertical-align: middle;\n",
       "    }\n",
       "\n",
       "    .dataframe tbody tr th {\n",
       "        vertical-align: top;\n",
       "    }\n",
       "\n",
       "    .dataframe thead th {\n",
       "        text-align: right;\n",
       "    }\n",
       "<\/style>\n",
       "<table border=\"1\" class=\"dataframe\">\n",
       "  <thead>\n",
       "    <tr style=\"text-align: right;\">\n",
       "      <th><\/th>\n",
       "      <th><\/th>\n",
       "      <th>Revenue<\/th>\n",
       "    <\/tr>\n",
       "    <tr>\n",
       "      <th>Retailer country<\/th>\n",
       "      <th>Year<\/th>\n",
       "      <th><\/th>\n",
       "    <\/tr>\n",
       "  <\/thead>\n",
       "  <tbody>\n",
       "    <tr>\n",
       "      <th rowspan=\"3\" valign=\"top\">Australia<\/th>\n",
       "      <th>2012<\/th>\n",
       "      <td>25607043.50<\/td>\n",
       "    <\/tr>\n",
       "    <tr>\n",
       "      <th>2013<\/th>\n",
       "      <td>47799737.14<\/td>\n",
       "    <\/tr>\n",
       "    <tr>\n",
       "      <th>2014<\/th>\n",
       "      <td>35893188.50<\/td>\n",
       "    <\/tr>\n",
       "    <tr>\n",
       "      <th rowspan=\"2\" valign=\"top\">Austria<\/th>\n",
       "      <th>2012<\/th>\n",
       "      <td>34568089.63<\/td>\n",
       "    <\/tr>\n",
       "    <tr>\n",
       "      <th>2013<\/th>\n",
       "      <td>44996737.04<\/td>\n",
       "    <\/tr>\n",
       "  <\/tbody>\n",
       "<\/table>\n",
       "<\/div>"
      ]
     },
     "metadata":{},
     "output_type":"display_data"
    }
   ],
   "metadata":{
    "datalore":{
     "node_id":"rDaLT3c4dbVA37NU7rimEl",
     "type":"CODE",
     "hide_input_from_viewers":true,
     "hide_output_from_viewers":true
    }
   }
  },
  {
   "cell_type":"code",
   "source":[
    "groups.agg({'Gross margin':'mean'}).head()"
   ],
   "execution_count":9,
   "outputs":[
    {
     "data":{
      "text\/html":[
       "<div>\n",
       "<style scoped>\n",
       "    .dataframe tbody tr th:only-of-type {\n",
       "        vertical-align: middle;\n",
       "    }\n",
       "\n",
       "    .dataframe tbody tr th {\n",
       "        vertical-align: top;\n",
       "    }\n",
       "\n",
       "    .dataframe thead th {\n",
       "        text-align: right;\n",
       "    }\n",
       "<\/style>\n",
       "<table border=\"1\" class=\"dataframe\">\n",
       "  <thead>\n",
       "    <tr style=\"text-align: right;\">\n",
       "      <th><\/th>\n",
       "      <th><\/th>\n",
       "      <th>Gross margin<\/th>\n",
       "    <\/tr>\n",
       "    <tr>\n",
       "      <th>Retailer country<\/th>\n",
       "      <th>Year<\/th>\n",
       "      <th><\/th>\n",
       "    <\/tr>\n",
       "  <\/thead>\n",
       "  <tbody>\n",
       "    <tr>\n",
       "      <th rowspan=\"3\" valign=\"top\">Australia<\/th>\n",
       "      <th>2012<\/th>\n",
       "      <td>0.447985<\/td>\n",
       "    <\/tr>\n",
       "    <tr>\n",
       "      <th>2013<\/th>\n",
       "      <td>0.457347<\/td>\n",
       "    <\/tr>\n",
       "    <tr>\n",
       "      <th>2014<\/th>\n",
       "      <td>0.446609<\/td>\n",
       "    <\/tr>\n",
       "    <tr>\n",
       "      <th rowspan=\"2\" valign=\"top\">Austria<\/th>\n",
       "      <th>2012<\/th>\n",
       "      <td>0.446084<\/td>\n",
       "    <\/tr>\n",
       "    <tr>\n",
       "      <th>2013<\/th>\n",
       "      <td>0.456790<\/td>\n",
       "    <\/tr>\n",
       "  <\/tbody>\n",
       "<\/table>\n",
       "<\/div>"
      ]
     },
     "metadata":{},
     "output_type":"display_data"
    }
   ],
   "metadata":{
    "datalore":{
     "node_id":"lYhLW5ez8AyNAsLxEGQrpe",
     "type":"CODE",
     "hide_input_from_viewers":true,
     "hide_output_from_viewers":true
    }
   }
  },
  {
   "cell_type":"code",
   "source":[
    "groups.agg({'Revenue':'sum',\n",
    "            'Quantity':'sum',\n",
    "            'Gross margin':'mean'}).head(10)\n",
    "\n",
    "# agg pozwala zagregować wartości dla wielu kolumn, wykorzystując różne funkcje"
   ],
   "execution_count":10,
   "outputs":[
    {
     "data":{
      "text\/html":[
       "<div>\n",
       "<style scoped>\n",
       "    .dataframe tbody tr th:only-of-type {\n",
       "        vertical-align: middle;\n",
       "    }\n",
       "\n",
       "    .dataframe tbody tr th {\n",
       "        vertical-align: top;\n",
       "    }\n",
       "\n",
       "    .dataframe thead th {\n",
       "        text-align: right;\n",
       "    }\n",
       "<\/style>\n",
       "<table border=\"1\" class=\"dataframe\">\n",
       "  <thead>\n",
       "    <tr style=\"text-align: right;\">\n",
       "      <th><\/th>\n",
       "      <th><\/th>\n",
       "      <th>Revenue<\/th>\n",
       "      <th>Quantity<\/th>\n",
       "      <th>Gross margin<\/th>\n",
       "    <\/tr>\n",
       "    <tr>\n",
       "      <th>Retailer country<\/th>\n",
       "      <th>Year<\/th>\n",
       "      <th><\/th>\n",
       "      <th><\/th>\n",
       "      <th><\/th>\n",
       "    <\/tr>\n",
       "  <\/thead>\n",
       "  <tbody>\n",
       "    <tr>\n",
       "      <th rowspan=\"3\" valign=\"top\">Australia<\/th>\n",
       "      <th>2012<\/th>\n",
       "      <td>25607043.50<\/td>\n",
       "      <td>522186<\/td>\n",
       "      <td>0.447985<\/td>\n",
       "    <\/tr>\n",
       "    <tr>\n",
       "      <th>2013<\/th>\n",
       "      <td>47799737.14<\/td>\n",
       "      <td>839750<\/td>\n",
       "      <td>0.457347<\/td>\n",
       "    <\/tr>\n",
       "    <tr>\n",
       "      <th>2014<\/th>\n",
       "      <td>35893188.50<\/td>\n",
       "      <td>638845<\/td>\n",
       "      <td>0.446609<\/td>\n",
       "    <\/tr>\n",
       "    <tr>\n",
       "      <th rowspan=\"3\" valign=\"top\">Austria<\/th>\n",
       "      <th>2012<\/th>\n",
       "      <td>34568089.63<\/td>\n",
       "      <td>702134<\/td>\n",
       "      <td>0.446084<\/td>\n",
       "    <\/tr>\n",
       "    <tr>\n",
       "      <th>2013<\/th>\n",
       "      <td>44996737.04<\/td>\n",
       "      <td>803771<\/td>\n",
       "      <td>0.456790<\/td>\n",
       "    <\/tr>\n",
       "    <tr>\n",
       "      <th>2014<\/th>\n",
       "      <td>33801788.98<\/td>\n",
       "      <td>596301<\/td>\n",
       "      <td>0.449137<\/td>\n",
       "    <\/tr>\n",
       "    <tr>\n",
       "      <th rowspan=\"3\" valign=\"top\">Belgium<\/th>\n",
       "      <th>2012<\/th>\n",
       "      <td>30396297.49<\/td>\n",
       "      <td>635694<\/td>\n",
       "      <td>0.443791<\/td>\n",
       "    <\/tr>\n",
       "    <tr>\n",
       "      <th>2013<\/th>\n",
       "      <td>38375432.68<\/td>\n",
       "      <td>662157<\/td>\n",
       "      <td>0.452716<\/td>\n",
       "    <\/tr>\n",
       "    <tr>\n",
       "      <th>2014<\/th>\n",
       "      <td>28186839.74<\/td>\n",
       "      <td>501170<\/td>\n",
       "      <td>0.448201<\/td>\n",
       "    <\/tr>\n",
       "    <tr>\n",
       "      <th>Brazil<\/th>\n",
       "      <th>2012<\/th>\n",
       "      <td>34234876.30<\/td>\n",
       "      <td>688643<\/td>\n",
       "      <td>0.444602<\/td>\n",
       "    <\/tr>\n",
       "  <\/tbody>\n",
       "<\/table>\n",
       "<\/div>"
      ]
     },
     "metadata":{},
     "output_type":"display_data"
    }
   ],
   "metadata":{
    "datalore":{
     "node_id":"a5zhcneVEihkHPm71W7Dbw",
     "type":"CODE",
     "hide_input_from_viewers":true,
     "hide_output_from_viewers":true
    }
   }
  },
  {
   "cell_type":"code",
   "source":[
    "my_aggregation = ['sum','min','max']"
   ],
   "execution_count":11,
   "outputs":[],
   "metadata":{
    "datalore":{
     "node_id":"EjzLlyowFaStZVnLa6XWoe",
     "type":"CODE",
     "hide_input_from_viewers":true,
     "hide_output_from_viewers":true
    }
   }
  },
  {
   "cell_type":"code",
   "source":[
    "groups.agg({'Revenue':my_aggregation,\n",
    "            'Quantity':my_aggregation,\n",
    "            'Gross margin':'mean'}).head(10)\n",
    "\n",
    "# dzięki zastosowaniu listy można agregować wartości w kolumnach z pomocą wielu funkcji agregujących"
   ],
   "execution_count":12,
   "outputs":[
    {
     "data":{
      "text\/html":[
       "<div>\n",
       "<style scoped>\n",
       "    .dataframe tbody tr th:only-of-type {\n",
       "        vertical-align: middle;\n",
       "    }\n",
       "\n",
       "    .dataframe tbody tr th {\n",
       "        vertical-align: top;\n",
       "    }\n",
       "\n",
       "    .dataframe thead tr th {\n",
       "        text-align: left;\n",
       "    }\n",
       "\n",
       "    .dataframe thead tr:last-of-type th {\n",
       "        text-align: right;\n",
       "    }\n",
       "<\/style>\n",
       "<table border=\"1\" class=\"dataframe\">\n",
       "  <thead>\n",
       "    <tr>\n",
       "      <th><\/th>\n",
       "      <th><\/th>\n",
       "      <th colspan=\"3\" halign=\"left\">Revenue<\/th>\n",
       "      <th colspan=\"3\" halign=\"left\">Quantity<\/th>\n",
       "      <th>Gross margin<\/th>\n",
       "    <\/tr>\n",
       "    <tr>\n",
       "      <th><\/th>\n",
       "      <th><\/th>\n",
       "      <th>sum<\/th>\n",
       "      <th>min<\/th>\n",
       "      <th>max<\/th>\n",
       "      <th>sum<\/th>\n",
       "      <th>min<\/th>\n",
       "      <th>max<\/th>\n",
       "      <th>mean<\/th>\n",
       "    <\/tr>\n",
       "    <tr>\n",
       "      <th>Retailer country<\/th>\n",
       "      <th>Year<\/th>\n",
       "      <th><\/th>\n",
       "      <th><\/th>\n",
       "      <th><\/th>\n",
       "      <th><\/th>\n",
       "      <th><\/th>\n",
       "      <th><\/th>\n",
       "      <th><\/th>\n",
       "    <\/tr>\n",
       "  <\/thead>\n",
       "  <tbody>\n",
       "    <tr>\n",
       "      <th rowspan=\"3\" valign=\"top\">Australia<\/th>\n",
       "      <th>2012<\/th>\n",
       "      <td>25607043.50<\/td>\n",
       "      <td>0.0<\/td>\n",
       "      <td>254026.08<\/td>\n",
       "      <td>522186<\/td>\n",
       "      <td>4<\/td>\n",
       "      <td>6083<\/td>\n",
       "      <td>0.447985<\/td>\n",
       "    <\/tr>\n",
       "    <tr>\n",
       "      <th>2013<\/th>\n",
       "      <td>47799737.14<\/td>\n",
       "      <td>0.0<\/td>\n",
       "      <td>443746.60<\/td>\n",
       "      <td>839750<\/td>\n",
       "      <td>10<\/td>\n",
       "      <td>9442<\/td>\n",
       "      <td>0.457347<\/td>\n",
       "    <\/tr>\n",
       "    <tr>\n",
       "      <th>2014<\/th>\n",
       "      <td>35893188.50<\/td>\n",
       "      <td>0.0<\/td>\n",
       "      <td>516135.14<\/td>\n",
       "      <td>638845<\/td>\n",
       "      <td>1<\/td>\n",
       "      <td>20031<\/td>\n",
       "      <td>0.446609<\/td>\n",
       "    <\/tr>\n",
       "    <tr>\n",
       "      <th rowspan=\"3\" valign=\"top\">Austria<\/th>\n",
       "      <th>2012<\/th>\n",
       "      <td>34568089.63<\/td>\n",
       "      <td>0.0<\/td>\n",
       "      <td>199715.40<\/td>\n",
       "      <td>702134<\/td>\n",
       "      <td>5<\/td>\n",
       "      <td>6471<\/td>\n",
       "      <td>0.446084<\/td>\n",
       "    <\/tr>\n",
       "    <tr>\n",
       "      <th>2013<\/th>\n",
       "      <td>44996737.04<\/td>\n",
       "      <td>0.0<\/td>\n",
       "      <td>317161.24<\/td>\n",
       "      <td>803771<\/td>\n",
       "      <td>4<\/td>\n",
       "      <td>9662<\/td>\n",
       "      <td>0.456790<\/td>\n",
       "    <\/tr>\n",
       "    <tr>\n",
       "      <th>2014<\/th>\n",
       "      <td>33801788.98<\/td>\n",
       "      <td>0.0<\/td>\n",
       "      <td>321202.98<\/td>\n",
       "      <td>596301<\/td>\n",
       "      <td>6<\/td>\n",
       "      <td>8834<\/td>\n",
       "      <td>0.449137<\/td>\n",
       "    <\/tr>\n",
       "    <tr>\n",
       "      <th rowspan=\"3\" valign=\"top\">Belgium<\/th>\n",
       "      <th>2012<\/th>\n",
       "      <td>30396297.49<\/td>\n",
       "      <td>0.0<\/td>\n",
       "      <td>297823.68<\/td>\n",
       "      <td>635694<\/td>\n",
       "      <td>5<\/td>\n",
       "      <td>7870<\/td>\n",
       "      <td>0.443791<\/td>\n",
       "    <\/tr>\n",
       "    <tr>\n",
       "      <th>2013<\/th>\n",
       "      <td>38375432.68<\/td>\n",
       "      <td>0.0<\/td>\n",
       "      <td>310499.39<\/td>\n",
       "      <td>662157<\/td>\n",
       "      <td>6<\/td>\n",
       "      <td>10469<\/td>\n",
       "      <td>0.452716<\/td>\n",
       "    <\/tr>\n",
       "    <tr>\n",
       "      <th>2014<\/th>\n",
       "      <td>28186839.74<\/td>\n",
       "      <td>0.0<\/td>\n",
       "      <td>293429.79<\/td>\n",
       "      <td>501170<\/td>\n",
       "      <td>8<\/td>\n",
       "      <td>13200<\/td>\n",
       "      <td>0.448201<\/td>\n",
       "    <\/tr>\n",
       "    <tr>\n",
       "      <th>Brazil<\/th>\n",
       "      <th>2012<\/th>\n",
       "      <td>34234876.30<\/td>\n",
       "      <td>0.0<\/td>\n",
       "      <td>345663.89<\/td>\n",
       "      <td>688643<\/td>\n",
       "      <td>4<\/td>\n",
       "      <td>7224<\/td>\n",
       "      <td>0.444602<\/td>\n",
       "    <\/tr>\n",
       "  <\/tbody>\n",
       "<\/table>\n",
       "<\/div>"
      ]
     },
     "metadata":{},
     "output_type":"display_data"
    }
   ],
   "metadata":{
    "datalore":{
     "node_id":"ixENAijNqDpeJafIaGtrJy",
     "type":"CODE",
     "hide_input_from_viewers":true,
     "hide_output_from_viewers":true
    }
   }
  },
  {
   "cell_type":"markdown",
   "source":[
    "# Zadanie"
   ],
   "attachments":{},
   "metadata":{
    "datalore":{
     "node_id":"Zadanie",
     "type":"MD",
     "hide_input_from_viewers":false,
     "hide_output_from_viewers":false,
     "sheet_delimiter":true
    }
   }
  },
  {
   "cell_type":"code",
   "source":[
    "from datetime import datetime\n",
    "from datetime import timedelta\n",
    "import time"
   ],
   "execution_count":13,
   "outputs":[],
   "metadata":{
    "datalore":{
     "node_id":"w7l9mnTSCf37dFYnepM1Rw",
     "type":"CODE",
     "hide_input_from_viewers":true,
     "hide_output_from_viewers":true
    }
   }
  },
  {
   "cell_type":"code",
   "source":[
    "df = pd.read_csv('http:\/\/piotrdomagala.pl\/data\/marathon_results_2016.csv', index_col='Bib', usecols=['Bib','40K','Half','Pace','Age','M\/F','Country','State','City'])\n",
    "df = df[(df['40K'] != '-') & (df['Half'] != '-')]\n",
    "df['40K'] = df['40K'].apply(pd.to_timedelta)\n",
    "df['Half'] = df['Half'].apply(pd.to_timedelta)\n",
    "df['TotalSeconds'] = df['40K'].apply(lambda x: timedelta.total_seconds(x))\n",
    "df['HalfSeconds'] = df['Half'].apply(lambda x: timedelta.total_seconds(x))\n",
    "df.head()"
   ],
   "execution_count":14,
   "outputs":[
    {
     "data":{
      "text\/html":[
       "<div>\n",
       "<style scoped>\n",
       "    .dataframe tbody tr th:only-of-type {\n",
       "        vertical-align: middle;\n",
       "    }\n",
       "\n",
       "    .dataframe tbody tr th {\n",
       "        vertical-align: top;\n",
       "    }\n",
       "\n",
       "    .dataframe thead th {\n",
       "        text-align: right;\n",
       "    }\n",
       "<\/style>\n",
       "<table border=\"1\" class=\"dataframe\">\n",
       "  <thead>\n",
       "    <tr style=\"text-align: right;\">\n",
       "      <th><\/th>\n",
       "      <th>Age<\/th>\n",
       "      <th>M\/F<\/th>\n",
       "      <th>City<\/th>\n",
       "      <th>State<\/th>\n",
       "      <th>Country<\/th>\n",
       "      <th>Half<\/th>\n",
       "      <th>40K<\/th>\n",
       "      <th>Pace<\/th>\n",
       "      <th>TotalSeconds<\/th>\n",
       "      <th>HalfSeconds<\/th>\n",
       "    <\/tr>\n",
       "    <tr>\n",
       "      <th>Bib<\/th>\n",
       "      <th><\/th>\n",
       "      <th><\/th>\n",
       "      <th><\/th>\n",
       "      <th><\/th>\n",
       "      <th><\/th>\n",
       "      <th><\/th>\n",
       "      <th><\/th>\n",
       "      <th><\/th>\n",
       "      <th><\/th>\n",
       "      <th><\/th>\n",
       "    <\/tr>\n",
       "  <\/thead>\n",
       "  <tbody>\n",
       "    <tr>\n",
       "      <th>5<\/th>\n",
       "      <td>21<\/td>\n",
       "      <td>M<\/td>\n",
       "      <td>Addis Ababa<\/td>\n",
       "      <td>NaN<\/td>\n",
       "      <td>ETH<\/td>\n",
       "      <td>0 days 01:06:45<\/td>\n",
       "      <td>0 days 02:05:59<\/td>\n",
       "      <td>0:05:04<\/td>\n",
       "      <td>7559.0<\/td>\n",
       "      <td>4005.0<\/td>\n",
       "    <\/tr>\n",
       "    <tr>\n",
       "      <th>1<\/th>\n",
       "      <td>26<\/td>\n",
       "      <td>M<\/td>\n",
       "      <td>Ambo<\/td>\n",
       "      <td>NaN<\/td>\n",
       "      <td>ETH<\/td>\n",
       "      <td>0 days 01:06:46<\/td>\n",
       "      <td>0 days 02:05:59<\/td>\n",
       "      <td>0:05:06<\/td>\n",
       "      <td>7559.0<\/td>\n",
       "      <td>4006.0<\/td>\n",
       "    <\/tr>\n",
       "    <tr>\n",
       "      <th>6<\/th>\n",
       "      <td>31<\/td>\n",
       "      <td>M<\/td>\n",
       "      <td>Addis Ababa<\/td>\n",
       "      <td>NaN<\/td>\n",
       "      <td>ETH<\/td>\n",
       "      <td>0 days 01:06:44<\/td>\n",
       "      <td>0 days 02:06:47<\/td>\n",
       "      <td>0:05:07<\/td>\n",
       "      <td>7607.0<\/td>\n",
       "      <td>4004.0<\/td>\n",
       "    <\/tr>\n",
       "    <tr>\n",
       "      <th>11<\/th>\n",
       "      <td>33<\/td>\n",
       "      <td>M<\/td>\n",
       "      <td>Kitale<\/td>\n",
       "      <td>NaN<\/td>\n",
       "      <td>KEN<\/td>\n",
       "      <td>0 days 01:06:46<\/td>\n",
       "      <td>0 days 02:06:47<\/td>\n",
       "      <td>0:05:07<\/td>\n",
       "      <td>7607.0<\/td>\n",
       "      <td>4006.0<\/td>\n",
       "    <\/tr>\n",
       "    <tr>\n",
       "      <th>14<\/th>\n",
       "      <td>23<\/td>\n",
       "      <td>M<\/td>\n",
       "      <td>Eldoret<\/td>\n",
       "      <td>NaN<\/td>\n",
       "      <td>KEN<\/td>\n",
       "      <td>0 days 01:06:46<\/td>\n",
       "      <td>0 days 02:08:11<\/td>\n",
       "      <td>0:05:11<\/td>\n",
       "      <td>7691.0<\/td>\n",
       "      <td>4006.0<\/td>\n",
       "    <\/tr>\n",
       "  <\/tbody>\n",
       "<\/table>\n",
       "<\/div>"
      ]
     },
     "metadata":{},
     "output_type":"display_data"
    }
   ],
   "metadata":{
    "datalore":{
     "node_id":"nVMnha33P9LPFLlnIocUTf",
     "type":"CODE",
     "hide_input_from_viewers":true,
     "hide_output_from_viewers":true
    }
   }
  },
  {
   "cell_type":"code",
   "source":[
    "sex_age = df.groupby(by=['M\/F','Age'])\n",
    "agg_func=['mean','sum','count']\n",
    "sex_age.agg({'TotalSeconds':agg_func,'HalfSeconds':agg_func})"
   ],
   "execution_count":17,
   "outputs":[
    {
     "data":{
      "text\/html":[
       "<div>\n",
       "<style scoped>\n",
       "    .dataframe tbody tr th:only-of-type {\n",
       "        vertical-align: middle;\n",
       "    }\n",
       "\n",
       "    .dataframe tbody tr th {\n",
       "        vertical-align: top;\n",
       "    }\n",
       "\n",
       "    .dataframe thead tr th {\n",
       "        text-align: left;\n",
       "    }\n",
       "\n",
       "    .dataframe thead tr:last-of-type th {\n",
       "        text-align: right;\n",
       "    }\n",
       "<\/style>\n",
       "<table border=\"1\" class=\"dataframe\">\n",
       "  <thead>\n",
       "    <tr>\n",
       "      <th><\/th>\n",
       "      <th><\/th>\n",
       "      <th colspan=\"3\" halign=\"left\">TotalSeconds<\/th>\n",
       "      <th colspan=\"3\" halign=\"left\">HalfSeconds<\/th>\n",
       "    <\/tr>\n",
       "    <tr>\n",
       "      <th><\/th>\n",
       "      <th><\/th>\n",
       "      <th>mean<\/th>\n",
       "      <th>sum<\/th>\n",
       "      <th>count<\/th>\n",
       "      <th>mean<\/th>\n",
       "      <th>sum<\/th>\n",
       "      <th>count<\/th>\n",
       "    <\/tr>\n",
       "    <tr>\n",
       "      <th>M\/F<\/th>\n",
       "      <th>Age<\/th>\n",
       "      <th><\/th>\n",
       "      <th><\/th>\n",
       "      <th><\/th>\n",
       "      <th><\/th>\n",
       "      <th><\/th>\n",
       "      <th><\/th>\n",
       "    <\/tr>\n",
       "  <\/thead>\n",
       "  <tbody>\n",
       "    <tr>\n",
       "      <th rowspan=\"5\" valign=\"top\">F<\/th>\n",
       "      <th>18<\/th>\n",
       "      <td>16050.666667<\/td>\n",
       "      <td>144456.0<\/td>\n",
       "      <td>9<\/td>\n",
       "      <td>7999.888889<\/td>\n",
       "      <td>71999.0<\/td>\n",
       "      <td>9<\/td>\n",
       "    <\/tr>\n",
       "    <tr>\n",
       "      <th>19<\/th>\n",
       "      <td>15351.958333<\/td>\n",
       "      <td>368447.0<\/td>\n",
       "      <td>24<\/td>\n",
       "      <td>7473.666667<\/td>\n",
       "      <td>179368.0<\/td>\n",
       "      <td>24<\/td>\n",
       "    <\/tr>\n",
       "    <tr>\n",
       "      <th>20<\/th>\n",
       "      <td>13835.931818<\/td>\n",
       "      <td>608781.0<\/td>\n",
       "      <td>44<\/td>\n",
       "      <td>6871.045455<\/td>\n",
       "      <td>302326.0<\/td>\n",
       "      <td>44<\/td>\n",
       "    <\/tr>\n",
       "    <tr>\n",
       "      <th>21<\/th>\n",
       "      <td>14717.630137<\/td>\n",
       "      <td>1074387.0<\/td>\n",
       "      <td>73<\/td>\n",
       "      <td>7246.479452<\/td>\n",
       "      <td>528993.0<\/td>\n",
       "      <td>73<\/td>\n",
       "    <\/tr>\n",
       "    <tr>\n",
       "      <th>22<\/th>\n",
       "      <td>14366.421053<\/td>\n",
       "      <td>1910734.0<\/td>\n",
       "      <td>133<\/td>\n",
       "      <td>7091.097744<\/td>\n",
       "      <td>943116.0<\/td>\n",
       "      <td>133<\/td>\n",
       "    <\/tr>\n",
       "    <tr>\n",
       "      <th>...<\/th>\n",
       "      <th>...<\/th>\n",
       "      <td>...<\/td>\n",
       "      <td>...<\/td>\n",
       "      <td>...<\/td>\n",
       "      <td>...<\/td>\n",
       "      <td>...<\/td>\n",
       "      <td>...<\/td>\n",
       "    <\/tr>\n",
       "    <tr>\n",
       "      <th rowspan=\"5\" valign=\"top\">M<\/th>\n",
       "      <th>78<\/th>\n",
       "      <td>16833.714286<\/td>\n",
       "      <td>117836.0<\/td>\n",
       "      <td>7<\/td>\n",
       "      <td>8414.571429<\/td>\n",
       "      <td>58902.0<\/td>\n",
       "      <td>7<\/td>\n",
       "    <\/tr>\n",
       "    <tr>\n",
       "      <th>79<\/th>\n",
       "      <td>14803.500000<\/td>\n",
       "      <td>29607.0<\/td>\n",
       "      <td>2<\/td>\n",
       "      <td>7507.500000<\/td>\n",
       "      <td>15015.0<\/td>\n",
       "      <td>2<\/td>\n",
       "    <\/tr>\n",
       "    <tr>\n",
       "      <th>80<\/th>\n",
       "      <td>15755.000000<\/td>\n",
       "      <td>47265.0<\/td>\n",
       "      <td>3<\/td>\n",
       "      <td>7775.666667<\/td>\n",
       "      <td>23327.0<\/td>\n",
       "      <td>3<\/td>\n",
       "    <\/tr>\n",
       "    <tr>\n",
       "      <th>81<\/th>\n",
       "      <td>20887.000000<\/td>\n",
       "      <td>20887.0<\/td>\n",
       "      <td>1<\/td>\n",
       "      <td>8912.000000<\/td>\n",
       "      <td>8912.0<\/td>\n",
       "      <td>1<\/td>\n",
       "    <\/tr>\n",
       "    <tr>\n",
       "      <th>83<\/th>\n",
       "      <td>16550.000000<\/td>\n",
       "      <td>16550.0<\/td>\n",
       "      <td>1<\/td>\n",
       "      <td>8089.000000<\/td>\n",
       "      <td>8089.0<\/td>\n",
       "      <td>1<\/td>\n",
       "    <\/tr>\n",
       "  <\/tbody>\n",
       "<\/table>\n",
       "<p>125 rows × 6 columns<\/p>\n",
       "<\/div>"
      ]
     },
     "metadata":{},
     "output_type":"display_data"
    }
   ],
   "metadata":{
    "datalore":{
     "node_id":"BHk5KeZTKtvMS5sdHtHCQH",
     "type":"CODE",
     "hide_input_from_viewers":true,
     "hide_output_from_viewers":true
    }
   }
  },
  {
   "cell_type":"code",
   "source":[],
   "execution_count":null,
   "outputs":[],
   "metadata":{
    "datalore":{
     "node_id":"HQ6tfPyThPsvVdi6YlqQ4V",
     "type":"CODE",
     "hide_input_from_viewers":true,
     "hide_output_from_viewers":true
    }
   }
  }
 ],
 "metadata":{
  "kernelspec":{
   "display_name":"Python",
   "language":"python",
   "name":"python"
  },
  "datalore":{
   "computation_mode":"JUPYTER",
   "package_manager":"pip",
   "base_environment":"default",
   "packages":[],
   "report_row_ids":[],
   "version":3
  }
 },
 "nbformat":4,
 "nbformat_minor":4
}