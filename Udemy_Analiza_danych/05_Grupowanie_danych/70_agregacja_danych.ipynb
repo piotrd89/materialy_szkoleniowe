{
 "cells":[
  {
   "cell_type":"markdown",
   "source":[
    "# wstęp"
   ],
   "attachments":{},
   "metadata":{
    "datalore":{
     "node_id":"wstęp",
     "type":"MD",
     "hide_input_from_viewers":false,
     "hide_output_from_viewers":false,
     "sheet_delimiter":true
    }
   }
  },
  {
   "cell_type":"code",
   "source":[
    "import pandas as pd\n",
    "import numpy as np"
   ],
   "execution_count":2,
   "outputs":[],
   "metadata":{
    "datalore":{
     "node_id":"MofRHyLyGvjebnVtKhtJZc",
     "type":"CODE",
     "hide_input_from_viewers":true,
     "hide_output_from_viewers":true
    }
   }
  },
  {
   "cell_type":"code",
   "source":[
    "products = pd.read_csv('http:\/\/piotrdomagala.pl\/data\/WA_Sales_Products_2012-14.csv')\n",
    "products.head()"
   ],
   "execution_count":3,
   "outputs":[
    {
     "data":{
      "text\/html":[
       "<div>\n",
       "<style scoped>\n",
       "    .dataframe tbody tr th:only-of-type {\n",
       "        vertical-align: middle;\n",
       "    }\n",
       "\n",
       "    .dataframe tbody tr th {\n",
       "        vertical-align: top;\n",
       "    }\n",
       "\n",
       "    .dataframe thead th {\n",
       "        text-align: right;\n",
       "    }\n",
       "<\/style>\n",
       "<table border=\"1\" class=\"dataframe\">\n",
       "  <thead>\n",
       "    <tr style=\"text-align: right;\">\n",
       "      <th><\/th>\n",
       "      <th>Retailer country<\/th>\n",
       "      <th>Order method type<\/th>\n",
       "      <th>Retailer type<\/th>\n",
       "      <th>Product line<\/th>\n",
       "      <th>Product type<\/th>\n",
       "      <th>Product<\/th>\n",
       "      <th>Year<\/th>\n",
       "      <th>Quarter<\/th>\n",
       "      <th>Revenue<\/th>\n",
       "      <th>Quantity<\/th>\n",
       "      <th>Gross margin<\/th>\n",
       "    <\/tr>\n",
       "  <\/thead>\n",
       "  <tbody>\n",
       "    <tr>\n",
       "      <th>0<\/th>\n",
       "      <td>United States<\/td>\n",
       "      <td>Fax<\/td>\n",
       "      <td>Outdoors Shop<\/td>\n",
       "      <td>Camping Equipment<\/td>\n",
       "      <td>Cooking Gear<\/td>\n",
       "      <td>TrailChef Deluxe Cook Set<\/td>\n",
       "      <td>2012<\/td>\n",
       "      <td>Q1 2012<\/td>\n",
       "      <td>59628.66<\/td>\n",
       "      <td>489<\/td>\n",
       "      <td>0.347548<\/td>\n",
       "    <\/tr>\n",
       "    <tr>\n",
       "      <th>1<\/th>\n",
       "      <td>United States<\/td>\n",
       "      <td>Fax<\/td>\n",
       "      <td>Outdoors Shop<\/td>\n",
       "      <td>Camping Equipment<\/td>\n",
       "      <td>Cooking Gear<\/td>\n",
       "      <td>TrailChef Double Flame<\/td>\n",
       "      <td>2012<\/td>\n",
       "      <td>Q1 2012<\/td>\n",
       "      <td>35950.32<\/td>\n",
       "      <td>252<\/td>\n",
       "      <td>0.474274<\/td>\n",
       "    <\/tr>\n",
       "    <tr>\n",
       "      <th>2<\/th>\n",
       "      <td>United States<\/td>\n",
       "      <td>Fax<\/td>\n",
       "      <td>Outdoors Shop<\/td>\n",
       "      <td>Camping Equipment<\/td>\n",
       "      <td>Tents<\/td>\n",
       "      <td>Star Dome<\/td>\n",
       "      <td>2012<\/td>\n",
       "      <td>Q1 2012<\/td>\n",
       "      <td>89940.48<\/td>\n",
       "      <td>147<\/td>\n",
       "      <td>0.352772<\/td>\n",
       "    <\/tr>\n",
       "    <tr>\n",
       "      <th>3<\/th>\n",
       "      <td>United States<\/td>\n",
       "      <td>Fax<\/td>\n",
       "      <td>Outdoors Shop<\/td>\n",
       "      <td>Camping Equipment<\/td>\n",
       "      <td>Tents<\/td>\n",
       "      <td>Star Gazer 2<\/td>\n",
       "      <td>2012<\/td>\n",
       "      <td>Q1 2012<\/td>\n",
       "      <td>165883.41<\/td>\n",
       "      <td>303<\/td>\n",
       "      <td>0.282938<\/td>\n",
       "    <\/tr>\n",
       "    <tr>\n",
       "      <th>4<\/th>\n",
       "      <td>United States<\/td>\n",
       "      <td>Fax<\/td>\n",
       "      <td>Outdoors Shop<\/td>\n",
       "      <td>Camping Equipment<\/td>\n",
       "      <td>Sleeping Bags<\/td>\n",
       "      <td>Hibernator Lite<\/td>\n",
       "      <td>2012<\/td>\n",
       "      <td>Q1 2012<\/td>\n",
       "      <td>119822.20<\/td>\n",
       "      <td>1415<\/td>\n",
       "      <td>0.291450<\/td>\n",
       "    <\/tr>\n",
       "  <\/tbody>\n",
       "<\/table>\n",
       "<\/div>"
      ]
     },
     "metadata":{},
     "output_type":"display_data"
    }
   ],
   "metadata":{
    "datalore":{
     "node_id":"E38IabkzVvHT7WRdLVn5xL",
     "type":"CODE",
     "hide_input_from_viewers":true,
     "hide_output_from_viewers":true
    }
   }
  },
  {
   "cell_type":"code",
   "source":[
    "groups_by_country = products.groupby(by='Retailer country')"
   ],
   "execution_count":4,
   "outputs":[],
   "metadata":{
    "datalore":{
     "node_id":"cWtqpH0Lj36EcZo8W1lohb",
     "type":"CODE",
     "hide_input_from_viewers":true,
     "hide_output_from_viewers":true
    }
   }
  },
  {
   "cell_type":"code",
   "source":[
    "groups_by_country.mean().head()"
   ],
   "execution_count":5,
   "outputs":[
    {
     "name":"stderr",
     "text":[
      "<ipython-input-5-d3f25fd4f41b>:1: FutureWarning: The default value of numeric_only in DataFrameGroupBy.mean is deprecated. In a future version, numeric_only will default to False. Either specify numeric_only or select only columns which should be valid for the function.\n",
      "  groups_by_country.mean().head()\n"
     ],
     "output_type":"stream"
    },
    {
     "data":{
      "text\/html":[
       "<div>\n",
       "<style scoped>\n",
       "    .dataframe tbody tr th:only-of-type {\n",
       "        vertical-align: middle;\n",
       "    }\n",
       "\n",
       "    .dataframe tbody tr th {\n",
       "        vertical-align: top;\n",
       "    }\n",
       "\n",
       "    .dataframe thead th {\n",
       "        text-align: right;\n",
       "    }\n",
       "<\/style>\n",
       "<table border=\"1\" class=\"dataframe\">\n",
       "  <thead>\n",
       "    <tr style=\"text-align: right;\">\n",
       "      <th><\/th>\n",
       "      <th>Year<\/th>\n",
       "      <th>Revenue<\/th>\n",
       "      <th>Quantity<\/th>\n",
       "      <th>Gross margin<\/th>\n",
       "    <\/tr>\n",
       "    <tr>\n",
       "      <th>Retailer country<\/th>\n",
       "      <th><\/th>\n",
       "      <th><\/th>\n",
       "      <th><\/th>\n",
       "      <th><\/th>\n",
       "    <\/tr>\n",
       "  <\/thead>\n",
       "  <tbody>\n",
       "    <tr>\n",
       "      <th>Australia<\/th>\n",
       "      <td>2012.859482<\/td>\n",
       "      <td>29822.638237<\/td>\n",
       "      <td>545.915689<\/td>\n",
       "      <td>0.451174<\/td>\n",
       "    <\/tr>\n",
       "    <tr>\n",
       "      <th>Austria<\/th>\n",
       "      <td>2012.875971<\/td>\n",
       "      <td>29354.380023<\/td>\n",
       "      <td>544.330917<\/td>\n",
       "      <td>0.450913<\/td>\n",
       "    <\/tr>\n",
       "    <tr>\n",
       "      <th>Belgium<\/th>\n",
       "      <td>2012.878976<\/td>\n",
       "      <td>26134.385420<\/td>\n",
       "      <td>484.911321<\/td>\n",
       "      <td>0.448410<\/td>\n",
       "    <\/tr>\n",
       "    <tr>\n",
       "      <th>Brazil<\/th>\n",
       "      <td>2012.878954<\/td>\n",
       "      <td>33170.824647<\/td>\n",
       "      <td>595.332117<\/td>\n",
       "      <td>0.448023<\/td>\n",
       "    <\/tr>\n",
       "    <tr>\n",
       "      <th>Canada<\/th>\n",
       "      <td>2012.839946<\/td>\n",
       "      <td>41682.874366<\/td>\n",
       "      <td>746.098936<\/td>\n",
       "      <td>0.451011<\/td>\n",
       "    <\/tr>\n",
       "  <\/tbody>\n",
       "<\/table>\n",
       "<\/div>"
      ]
     },
     "metadata":{},
     "output_type":"display_data"
    }
   ],
   "metadata":{
    "datalore":{
     "node_id":"qlsOLS7By3TMHOkhRnb2tl",
     "type":"CODE",
     "hide_input_from_viewers":true,
     "hide_output_from_viewers":true
    }
   }
  },
  {
   "cell_type":"code",
   "source":[
    "groups_by_country.sum().head()"
   ],
   "execution_count":6,
   "outputs":[
    {
     "name":"stderr",
     "text":[
      "<ipython-input-6-3bd29f504113>:1: FutureWarning: The default value of numeric_only in DataFrameGroupBy.sum is deprecated. In a future version, numeric_only will default to False. Either specify numeric_only or select only columns which should be valid for the function.\n",
      "  groups_by_country.sum().head()\n"
     ],
     "output_type":"stream"
    },
    {
     "data":{
      "text\/html":[
       "<div>\n",
       "<style scoped>\n",
       "    .dataframe tbody tr th:only-of-type {\n",
       "        vertical-align: middle;\n",
       "    }\n",
       "\n",
       "    .dataframe tbody tr th {\n",
       "        vertical-align: top;\n",
       "    }\n",
       "\n",
       "    .dataframe thead th {\n",
       "        text-align: right;\n",
       "    }\n",
       "<\/style>\n",
       "<table border=\"1\" class=\"dataframe\">\n",
       "  <thead>\n",
       "    <tr style=\"text-align: right;\">\n",
       "      <th><\/th>\n",
       "      <th>Year<\/th>\n",
       "      <th>Revenue<\/th>\n",
       "      <th>Quantity<\/th>\n",
       "      <th>Gross margin<\/th>\n",
       "    <\/tr>\n",
       "    <tr>\n",
       "      <th>Retailer country<\/th>\n",
       "      <th><\/th>\n",
       "      <th><\/th>\n",
       "      <th><\/th>\n",
       "      <th><\/th>\n",
       "    <\/tr>\n",
       "  <\/thead>\n",
       "  <tbody>\n",
       "    <tr>\n",
       "      <th>Australia<\/th>\n",
       "      <td>7377130<\/td>\n",
       "      <td>1.093000e+08<\/td>\n",
       "      <td>2000781<\/td>\n",
       "      <td>1641.822415<\/td>\n",
       "    <\/tr>\n",
       "    <tr>\n",
       "      <th>Austria<\/th>\n",
       "      <td>7773727<\/td>\n",
       "      <td>1.133666e+08<\/td>\n",
       "      <td>2102206<\/td>\n",
       "      <td>1723.839177<\/td>\n",
       "    <\/tr>\n",
       "    <tr>\n",
       "      <th>Belgium<\/th>\n",
       "      <td>7467781<\/td>\n",
       "      <td>9.695857e+07<\/td>\n",
       "      <td>1799021<\/td>\n",
       "      <td>1653.288385<\/td>\n",
       "    <\/tr>\n",
       "    <tr>\n",
       "      <th>Brazil<\/th>\n",
       "      <td>6618346<\/td>\n",
       "      <td>1.090657e+08<\/td>\n",
       "      <td>1957452<\/td>\n",
       "      <td>1466.380765<\/td>\n",
       "    <\/tr>\n",
       "    <tr>\n",
       "      <th>Canada<\/th>\n",
       "      <td>11922051<\/td>\n",
       "      <td>2.468877e+08<\/td>\n",
       "      <td>4419144<\/td>\n",
       "      <td>2662.767825<\/td>\n",
       "    <\/tr>\n",
       "  <\/tbody>\n",
       "<\/table>\n",
       "<\/div>"
      ]
     },
     "metadata":{},
     "output_type":"display_data"
    }
   ],
   "metadata":{
    "datalore":{
     "node_id":"oF4sgTjKNHWVX07BKBnWcZ",
     "type":"CODE",
     "hide_input_from_viewers":true,
     "hide_output_from_viewers":true
    }
   }
  },
  {
   "cell_type":"code",
   "source":[
    "groups_by_country.count().head()"
   ],
   "execution_count":7,
   "outputs":[
    {
     "data":{
      "text\/html":[
       "<div>\n",
       "<style scoped>\n",
       "    .dataframe tbody tr th:only-of-type {\n",
       "        vertical-align: middle;\n",
       "    }\n",
       "\n",
       "    .dataframe tbody tr th {\n",
       "        vertical-align: top;\n",
       "    }\n",
       "\n",
       "    .dataframe thead th {\n",
       "        text-align: right;\n",
       "    }\n",
       "<\/style>\n",
       "<table border=\"1\" class=\"dataframe\">\n",
       "  <thead>\n",
       "    <tr style=\"text-align: right;\">\n",
       "      <th><\/th>\n",
       "      <th>Order method type<\/th>\n",
       "      <th>Retailer type<\/th>\n",
       "      <th>Product line<\/th>\n",
       "      <th>Product type<\/th>\n",
       "      <th>Product<\/th>\n",
       "      <th>Year<\/th>\n",
       "      <th>Quarter<\/th>\n",
       "      <th>Revenue<\/th>\n",
       "      <th>Quantity<\/th>\n",
       "      <th>Gross margin<\/th>\n",
       "    <\/tr>\n",
       "    <tr>\n",
       "      <th>Retailer country<\/th>\n",
       "      <th><\/th>\n",
       "      <th><\/th>\n",
       "      <th><\/th>\n",
       "      <th><\/th>\n",
       "      <th><\/th>\n",
       "      <th><\/th>\n",
       "      <th><\/th>\n",
       "      <th><\/th>\n",
       "      <th><\/th>\n",
       "      <th><\/th>\n",
       "    <\/tr>\n",
       "  <\/thead>\n",
       "  <tbody>\n",
       "    <tr>\n",
       "      <th>Australia<\/th>\n",
       "      <td>3665<\/td>\n",
       "      <td>3665<\/td>\n",
       "      <td>3665<\/td>\n",
       "      <td>3665<\/td>\n",
       "      <td>3665<\/td>\n",
       "      <td>3665<\/td>\n",
       "      <td>3665<\/td>\n",
       "      <td>3665<\/td>\n",
       "      <td>3665<\/td>\n",
       "      <td>3639<\/td>\n",
       "    <\/tr>\n",
       "    <tr>\n",
       "      <th>Austria<\/th>\n",
       "      <td>3862<\/td>\n",
       "      <td>3862<\/td>\n",
       "      <td>3862<\/td>\n",
       "      <td>3862<\/td>\n",
       "      <td>3862<\/td>\n",
       "      <td>3862<\/td>\n",
       "      <td>3862<\/td>\n",
       "      <td>3862<\/td>\n",
       "      <td>3862<\/td>\n",
       "      <td>3823<\/td>\n",
       "    <\/tr>\n",
       "    <tr>\n",
       "      <th>Belgium<\/th>\n",
       "      <td>3710<\/td>\n",
       "      <td>3710<\/td>\n",
       "      <td>3710<\/td>\n",
       "      <td>3710<\/td>\n",
       "      <td>3710<\/td>\n",
       "      <td>3710<\/td>\n",
       "      <td>3710<\/td>\n",
       "      <td>3710<\/td>\n",
       "      <td>3710<\/td>\n",
       "      <td>3687<\/td>\n",
       "    <\/tr>\n",
       "    <tr>\n",
       "      <th>Brazil<\/th>\n",
       "      <td>3288<\/td>\n",
       "      <td>3288<\/td>\n",
       "      <td>3288<\/td>\n",
       "      <td>3288<\/td>\n",
       "      <td>3288<\/td>\n",
       "      <td>3288<\/td>\n",
       "      <td>3288<\/td>\n",
       "      <td>3288<\/td>\n",
       "      <td>3288<\/td>\n",
       "      <td>3273<\/td>\n",
       "    <\/tr>\n",
       "    <tr>\n",
       "      <th>Canada<\/th>\n",
       "      <td>5923<\/td>\n",
       "      <td>5923<\/td>\n",
       "      <td>5923<\/td>\n",
       "      <td>5923<\/td>\n",
       "      <td>5923<\/td>\n",
       "      <td>5923<\/td>\n",
       "      <td>5923<\/td>\n",
       "      <td>5923<\/td>\n",
       "      <td>5923<\/td>\n",
       "      <td>5904<\/td>\n",
       "    <\/tr>\n",
       "  <\/tbody>\n",
       "<\/table>\n",
       "<\/div>"
      ]
     },
     "metadata":{},
     "output_type":"display_data"
    }
   ],
   "metadata":{
    "datalore":{
     "node_id":"xCLSA6tK6Ra3kQQtzJLZ2h",
     "type":"CODE",
     "hide_input_from_viewers":true,
     "hide_output_from_viewers":true
    }
   }
  },
  {
   "cell_type":"code",
   "source":[
    "groups_by_country.min().head()"
   ],
   "execution_count":8,
   "outputs":[
    {
     "data":{
      "text\/html":[
       "<div>\n",
       "<style scoped>\n",
       "    .dataframe tbody tr th:only-of-type {\n",
       "        vertical-align: middle;\n",
       "    }\n",
       "\n",
       "    .dataframe tbody tr th {\n",
       "        vertical-align: top;\n",
       "    }\n",
       "\n",
       "    .dataframe thead th {\n",
       "        text-align: right;\n",
       "    }\n",
       "<\/style>\n",
       "<table border=\"1\" class=\"dataframe\">\n",
       "  <thead>\n",
       "    <tr style=\"text-align: right;\">\n",
       "      <th><\/th>\n",
       "      <th>Order method type<\/th>\n",
       "      <th>Retailer type<\/th>\n",
       "      <th>Product line<\/th>\n",
       "      <th>Product type<\/th>\n",
       "      <th>Product<\/th>\n",
       "      <th>Year<\/th>\n",
       "      <th>Quarter<\/th>\n",
       "      <th>Revenue<\/th>\n",
       "      <th>Quantity<\/th>\n",
       "      <th>Gross margin<\/th>\n",
       "    <\/tr>\n",
       "    <tr>\n",
       "      <th>Retailer country<\/th>\n",
       "      <th><\/th>\n",
       "      <th><\/th>\n",
       "      <th><\/th>\n",
       "      <th><\/th>\n",
       "      <th><\/th>\n",
       "      <th><\/th>\n",
       "      <th><\/th>\n",
       "      <th><\/th>\n",
       "      <th><\/th>\n",
       "      <th><\/th>\n",
       "    <\/tr>\n",
       "  <\/thead>\n",
       "  <tbody>\n",
       "    <tr>\n",
       "      <th>Australia<\/th>\n",
       "      <td>E-mail<\/td>\n",
       "      <td>Department Store<\/td>\n",
       "      <td>Camping Equipment<\/td>\n",
       "      <td>Binoculars<\/td>\n",
       "      <td>Aloe Relief<\/td>\n",
       "      <td>2012<\/td>\n",
       "      <td>Q1 2012<\/td>\n",
       "      <td>0.0<\/td>\n",
       "      <td>1<\/td>\n",
       "      <td>-0.389517<\/td>\n",
       "    <\/tr>\n",
       "    <tr>\n",
       "      <th>Austria<\/th>\n",
       "      <td>Sales visit<\/td>\n",
       "      <td>Department Store<\/td>\n",
       "      <td>Camping Equipment<\/td>\n",
       "      <td>Binoculars<\/td>\n",
       "      <td>Aloe Relief<\/td>\n",
       "      <td>2012<\/td>\n",
       "      <td>Q1 2012<\/td>\n",
       "      <td>0.0<\/td>\n",
       "      <td>4<\/td>\n",
       "      <td>-0.086616<\/td>\n",
       "    <\/tr>\n",
       "    <tr>\n",
       "      <th>Belgium<\/th>\n",
       "      <td>Fax<\/td>\n",
       "      <td>Department Store<\/td>\n",
       "      <td>Camping Equipment<\/td>\n",
       "      <td>Binoculars<\/td>\n",
       "      <td>Aloe Relief<\/td>\n",
       "      <td>2012<\/td>\n",
       "      <td>Q1 2012<\/td>\n",
       "      <td>0.0<\/td>\n",
       "      <td>5<\/td>\n",
       "      <td>-1.476136<\/td>\n",
       "    <\/tr>\n",
       "    <tr>\n",
       "      <th>Brazil<\/th>\n",
       "      <td>E-mail<\/td>\n",
       "      <td>Department Store<\/td>\n",
       "      <td>Camping Equipment<\/td>\n",
       "      <td>Binoculars<\/td>\n",
       "      <td>Aloe Relief<\/td>\n",
       "      <td>2012<\/td>\n",
       "      <td>Q1 2012<\/td>\n",
       "      <td>0.0<\/td>\n",
       "      <td>4<\/td>\n",
       "      <td>-2.085496<\/td>\n",
       "    <\/tr>\n",
       "    <tr>\n",
       "      <th>Canada<\/th>\n",
       "      <td>E-mail<\/td>\n",
       "      <td>Department Store<\/td>\n",
       "      <td>Camping Equipment<\/td>\n",
       "      <td>Binoculars<\/td>\n",
       "      <td>Aloe Relief<\/td>\n",
       "      <td>2012<\/td>\n",
       "      <td>Q1 2012<\/td>\n",
       "      <td>0.0<\/td>\n",
       "      <td>1<\/td>\n",
       "      <td>-1.373907<\/td>\n",
       "    <\/tr>\n",
       "  <\/tbody>\n",
       "<\/table>\n",
       "<\/div>"
      ]
     },
     "metadata":{},
     "output_type":"display_data"
    }
   ],
   "metadata":{
    "datalore":{
     "node_id":"C5GBLpeXGX6UMJntjoV2tS",
     "type":"CODE",
     "hide_input_from_viewers":true,
     "hide_output_from_viewers":true
    }
   }
  },
  {
   "cell_type":"code",
   "source":[
    "groups_by_country.max().head()"
   ],
   "execution_count":9,
   "outputs":[
    {
     "data":{
      "text\/html":[
       "<div>\n",
       "<style scoped>\n",
       "    .dataframe tbody tr th:only-of-type {\n",
       "        vertical-align: middle;\n",
       "    }\n",
       "\n",
       "    .dataframe tbody tr th {\n",
       "        vertical-align: top;\n",
       "    }\n",
       "\n",
       "    .dataframe thead th {\n",
       "        text-align: right;\n",
       "    }\n",
       "<\/style>\n",
       "<table border=\"1\" class=\"dataframe\">\n",
       "  <thead>\n",
       "    <tr style=\"text-align: right;\">\n",
       "      <th><\/th>\n",
       "      <th>Order method type<\/th>\n",
       "      <th>Retailer type<\/th>\n",
       "      <th>Product line<\/th>\n",
       "      <th>Product type<\/th>\n",
       "      <th>Product<\/th>\n",
       "      <th>Year<\/th>\n",
       "      <th>Quarter<\/th>\n",
       "      <th>Revenue<\/th>\n",
       "      <th>Quantity<\/th>\n",
       "      <th>Gross margin<\/th>\n",
       "    <\/tr>\n",
       "    <tr>\n",
       "      <th>Retailer country<\/th>\n",
       "      <th><\/th>\n",
       "      <th><\/th>\n",
       "      <th><\/th>\n",
       "      <th><\/th>\n",
       "      <th><\/th>\n",
       "      <th><\/th>\n",
       "      <th><\/th>\n",
       "      <th><\/th>\n",
       "      <th><\/th>\n",
       "      <th><\/th>\n",
       "    <\/tr>\n",
       "  <\/thead>\n",
       "  <tbody>\n",
       "    <tr>\n",
       "      <th>Australia<\/th>\n",
       "      <td>Web<\/td>\n",
       "      <td>Warehouse Store<\/td>\n",
       "      <td>Personal Accessories<\/td>\n",
       "      <td>Woods<\/td>\n",
       "      <td>Zone<\/td>\n",
       "      <td>2014<\/td>\n",
       "      <td>Q4 2013<\/td>\n",
       "      <td>516135.14<\/td>\n",
       "      <td>20031<\/td>\n",
       "      <td>0.770476<\/td>\n",
       "    <\/tr>\n",
       "    <tr>\n",
       "      <th>Austria<\/th>\n",
       "      <td>Web<\/td>\n",
       "      <td>Warehouse Store<\/td>\n",
       "      <td>Personal Accessories<\/td>\n",
       "      <td>Woods<\/td>\n",
       "      <td>Zone<\/td>\n",
       "      <td>2014<\/td>\n",
       "      <td>Q4 2013<\/td>\n",
       "      <td>321202.98<\/td>\n",
       "      <td>9662<\/td>\n",
       "      <td>0.770476<\/td>\n",
       "    <\/tr>\n",
       "    <tr>\n",
       "      <th>Belgium<\/th>\n",
       "      <td>Web<\/td>\n",
       "      <td>Warehouse Store<\/td>\n",
       "      <td>Personal Accessories<\/td>\n",
       "      <td>Woods<\/td>\n",
       "      <td>Zone<\/td>\n",
       "      <td>2014<\/td>\n",
       "      <td>Q4 2013<\/td>\n",
       "      <td>310499.39<\/td>\n",
       "      <td>13200<\/td>\n",
       "      <td>0.770476<\/td>\n",
       "    <\/tr>\n",
       "    <tr>\n",
       "      <th>Brazil<\/th>\n",
       "      <td>Web<\/td>\n",
       "      <td>Warehouse Store<\/td>\n",
       "      <td>Personal Accessories<\/td>\n",
       "      <td>Woods<\/td>\n",
       "      <td>Zone<\/td>\n",
       "      <td>2014<\/td>\n",
       "      <td>Q4 2013<\/td>\n",
       "      <td>352749.39<\/td>\n",
       "      <td>12157<\/td>\n",
       "      <td>0.770476<\/td>\n",
       "    <\/tr>\n",
       "    <tr>\n",
       "      <th>Canada<\/th>\n",
       "      <td>Web<\/td>\n",
       "      <td>Warehouse Store<\/td>\n",
       "      <td>Personal Accessories<\/td>\n",
       "      <td>Woods<\/td>\n",
       "      <td>Zone<\/td>\n",
       "      <td>2014<\/td>\n",
       "      <td>Q4 2013<\/td>\n",
       "      <td>648467.60<\/td>\n",
       "      <td>27268<\/td>\n",
       "      <td>0.770476<\/td>\n",
       "    <\/tr>\n",
       "  <\/tbody>\n",
       "<\/table>\n",
       "<\/div>"
      ]
     },
     "metadata":{},
     "output_type":"display_data"
    }
   ],
   "metadata":{
    "datalore":{
     "node_id":"4z8PYljwGKTftMFSL75Yg4",
     "type":"CODE",
     "hide_input_from_viewers":true,
     "hide_output_from_viewers":true
    }
   }
  },
  {
   "cell_type":"code",
   "source":[
    "products.loc[(products['Retailer country'] == 'Australia') &\r\n",
    "             (products['Order method type']=='Web') &\r\n",
    "             (products['Retailer type'] == 'Warehouse Store') &\r\n",
    "             (products['Product line'] == 'Personal Accesories') &\r\n",
    "             (products['Product type'] == 'Woods')].head()\r"
   ],
   "execution_count":10,
   "outputs":[
    {
     "data":{
      "text\/html":[
       "<div>\n",
       "<style scoped>\n",
       "    .dataframe tbody tr th:only-of-type {\n",
       "        vertical-align: middle;\n",
       "    }\n",
       "\n",
       "    .dataframe tbody tr th {\n",
       "        vertical-align: top;\n",
       "    }\n",
       "\n",
       "    .dataframe thead th {\n",
       "        text-align: right;\n",
       "    }\n",
       "<\/style>\n",
       "<table border=\"1\" class=\"dataframe\">\n",
       "  <thead>\n",
       "    <tr style=\"text-align: right;\">\n",
       "      <th><\/th>\n",
       "      <th>Retailer country<\/th>\n",
       "      <th>Order method type<\/th>\n",
       "      <th>Retailer type<\/th>\n",
       "      <th>Product line<\/th>\n",
       "      <th>Product type<\/th>\n",
       "      <th>Product<\/th>\n",
       "      <th>Year<\/th>\n",
       "      <th>Quarter<\/th>\n",
       "      <th>Revenue<\/th>\n",
       "      <th>Quantity<\/th>\n",
       "      <th>Gross margin<\/th>\n",
       "    <\/tr>\n",
       "  <\/thead>\n",
       "  <tbody>\n",
       "  <\/tbody>\n",
       "<\/table>\n",
       "<\/div>"
      ]
     },
     "metadata":{},
     "output_type":"display_data"
    }
   ],
   "metadata":{
    "datalore":{
     "node_id":"x0RxEvVK3Uzoyp1AOFTHKM",
     "type":"CODE",
     "hide_input_from_viewers":true,
     "hide_output_from_viewers":true
    }
   }
  },
  {
   "cell_type":"code",
   "source":[
    "# Corrected variable name from 'groups' to 'groups_by_country'\r\n",
    "groups_by_country['Revenue'].sum().head()\r"
   ],
   "execution_count":11,
   "outputs":[
    {
     "data":{
      "text\/html":[
       "<pre>Retailer country\n",
       "Australia    1.093000e+08\n",
       "Austria      1.133666e+08\n",
       "Belgium      9.695857e+07\n",
       "Brazil       1.090657e+08\n",
       "Canada       2.468877e+08\n",
       "Name: Revenue, dtype: float64<\/pre>"
      ]
     },
     "metadata":{},
     "output_type":"display_data"
    }
   ],
   "metadata":{
    "datalore":{
     "node_id":"rCf8BsFKioN1vSXzZwqkyA",
     "type":"CODE",
     "hide_input_from_viewers":true,
     "hide_output_from_viewers":true
    }
   }
  },
  {
   "cell_type":"code",
   "source":[
    "groups_by_country['Revenue','Quantity'].mean().head()"
   ],
   "execution_count":12,
   "outputs":[
    {
     "name":"stderr",
     "text":[
      "<ipython-input-12-d181e381883e>:1: FutureWarning: Indexing with multiple keys (implicitly converted to a tuple of keys) will be deprecated, use a list instead.\n",
      "  groups_by_country['Revenue','Quantity'].mean().head()\n"
     ],
     "output_type":"stream"
    },
    {
     "data":{
      "text\/html":[
       "<div>\n",
       "<style scoped>\n",
       "    .dataframe tbody tr th:only-of-type {\n",
       "        vertical-align: middle;\n",
       "    }\n",
       "\n",
       "    .dataframe tbody tr th {\n",
       "        vertical-align: top;\n",
       "    }\n",
       "\n",
       "    .dataframe thead th {\n",
       "        text-align: right;\n",
       "    }\n",
       "<\/style>\n",
       "<table border=\"1\" class=\"dataframe\">\n",
       "  <thead>\n",
       "    <tr style=\"text-align: right;\">\n",
       "      <th><\/th>\n",
       "      <th>Revenue<\/th>\n",
       "      <th>Quantity<\/th>\n",
       "    <\/tr>\n",
       "    <tr>\n",
       "      <th>Retailer country<\/th>\n",
       "      <th><\/th>\n",
       "      <th><\/th>\n",
       "    <\/tr>\n",
       "  <\/thead>\n",
       "  <tbody>\n",
       "    <tr>\n",
       "      <th>Australia<\/th>\n",
       "      <td>29822.638237<\/td>\n",
       "      <td>545.915689<\/td>\n",
       "    <\/tr>\n",
       "    <tr>\n",
       "      <th>Austria<\/th>\n",
       "      <td>29354.380023<\/td>\n",
       "      <td>544.330917<\/td>\n",
       "    <\/tr>\n",
       "    <tr>\n",
       "      <th>Belgium<\/th>\n",
       "      <td>26134.385420<\/td>\n",
       "      <td>484.911321<\/td>\n",
       "    <\/tr>\n",
       "    <tr>\n",
       "      <th>Brazil<\/th>\n",
       "      <td>33170.824647<\/td>\n",
       "      <td>595.332117<\/td>\n",
       "    <\/tr>\n",
       "    <tr>\n",
       "      <th>Canada<\/th>\n",
       "      <td>41682.874366<\/td>\n",
       "      <td>746.098936<\/td>\n",
       "    <\/tr>\n",
       "  <\/tbody>\n",
       "<\/table>\n",
       "<\/div>"
      ]
     },
     "metadata":{},
     "output_type":"display_data"
    }
   ],
   "metadata":{
    "datalore":{
     "node_id":"fz3grQb4pSm9tiWJcSF7SL",
     "type":"CODE",
     "hide_input_from_viewers":true,
     "hide_output_from_viewers":true
    }
   }
  },
  {
   "cell_type":"code",
   "source":[],
   "execution_count":0,
   "outputs":[],
   "metadata":{
    "datalore":{
     "node_id":"1DBOPn7DQt3nrFAOrnc7x3",
     "type":"CODE",
     "hide_input_from_viewers":true,
     "hide_output_from_viewers":true
    }
   }
  },
  {
   "cell_type":"markdown",
   "source":[
    "# zadanie"
   ],
   "attachments":{},
   "metadata":{
    "datalore":{
     "node_id":"zadanie",
     "type":"MD",
     "hide_input_from_viewers":false,
     "hide_output_from_viewers":false,
     "sheet_delimiter":true
    }
   }
  },
  {
   "cell_type":"code",
   "source":[
    "from datetime import datetime\n",
    "from datetime import timedelta\n",
    "import time"
   ],
   "execution_count":13,
   "outputs":[],
   "metadata":{
    "datalore":{
     "node_id":"A4J5Ws80gZHxFoN2ed1dsI",
     "type":"CODE",
     "hide_input_from_viewers":true,
     "hide_output_from_viewers":true
    }
   }
  },
  {
   "cell_type":"code",
   "source":[
    "df = pd.read_csv('.\/marathon_results_2016.csv', index_col='Bib', usecols=['Bib','40K','Half','Pace','Age','M\/F','Country','State','City'])\n",
    "df = df[(df['40K'] != '-') & (df['Half'] != '-')]\n",
    "df['40K'] = df['40K'].apply(pd.to_timedelta)\n",
    "df['Half'] = df['Half'].apply(pd.to_timedelta)\n",
    "df['TotalSeconds'] = df['40K'].apply(lambda x: timedelta.total_seconds(x))\n",
    "df['HalfSeconds'] = df['Half'].apply(lambda x: timedelta.total_seconds(x))\n",
    "df.head()"
   ],
   "execution_count":14,
   "outputs":[
    {
     "ename":"FileNotFoundError",
     "evalue":"FileNotFoundError: [Errno 2] No such file or directory: '.\/marathon_results_2016.csv'",
     "traceback":[
      "\u001b[0;31m---------------------------------------------------------------------------",
      "Traceback (most recent call last)",
      "    at line 1 in <module>",
      "    at line 211 in wrapper(*args, **kwargs)",
      "    at line 331 in wrapper(*args, **kwargs)",
      "    at line 950 in read_csv(filepath_or_buffer, sep, delimiter, header, names, index_col, usecols, squeeze, prefix, mangle_dupe_cols, dtype, engine, converters, true_values, false_values, skipinitialspace, skiprows, skipfooter, nrows, na_values, keep_default_na, na_filter, verbose, skip_blank_lines, parse_dates, infer_datetime_format, keep_date_col, date_parser, dayfirst, cache_dates, iterator, chunksize, compression, thousands, decimal, lineterminator, quotechar, quoting, doublequote, escapechar, comment, encoding, encoding_errors, dialect, error_bad_lines, warn_bad_lines, on_bad_lines, delim_whitespace, low_memory, memory_map, float_precision, storage_options)",
      "    at line 605 in _read(filepath_or_buffer, kwds)",
      "    at line 1442 in __init__(self, f, engine, **kwds)",
      "    at line 1735 in _make_engine(self, f, engine)",
      "    at line 856 in get_handle(path_or_buf, mode, encoding, compression, memory_map, is_text, errors, storage_options)",
      "FileNotFoundError: [Errno 2] No such file or directory: '.\/marathon_results_2016.csv'"
     ],
     "output_type":"error"
    }
   ],
   "metadata":{
    "datalore":{
     "node_id":"HGefxzvhojIv694gIC8vRA",
     "type":"CODE",
     "hide_input_from_viewers":true,
     "hide_output_from_viewers":true
    }
   }
  },
  {
   "cell_type":"code",
   "source":[
    "df = pd.read_csv('http:\/\/piotrdomagala.pl\/data\/marathon_results_2016.csv', index_col='Bib',\n",
    "usecols=['Bib','40K','Half','Pace','Age','M\/F','Country','State','City'])\n",
    "df = df[(df['40K'] != '-') & (df['Half'] != '-')]\n",
    "df['40K'] = df['40K'].apply(pd.to_timedelta)\n",
    "df['Half'] = df['Half'].apply(pd.to_timedelta)\n",
    "df['TotalSeconds'] = df['40K'].apply(lambda x: timedelta.total_seconds(x))\n",
    "df['HalfSeconds'] = df['Half'].apply(lambda x: timedelta.total_seconds(x))"
   ],
   "execution_count":15,
   "outputs":[],
   "metadata":{
    "datalore":{
     "node_id":"0HLKv7OPbi7P1NKHImxFLn",
     "type":"CODE",
     "hide_input_from_viewers":true,
     "hide_output_from_viewers":true
    }
   }
  },
  {
   "cell_type":"code",
   "source":[
    "group_city = df.groupby(by=\"City\")\n",
    "group_city.mean().head()"
   ],
   "execution_count":16,
   "outputs":[
    {
     "name":"stderr",
     "text":[
      "<ipython-input-16-6216a397a392>:2: FutureWarning: The default value of numeric_only in DataFrameGroupBy.mean is deprecated. In a future version, numeric_only will default to False. Either specify numeric_only or select only columns which should be valid for the function.\n",
      "  group_city.mean().head()\n"
     ],
     "output_type":"stream"
    },
    {
     "data":{
      "text\/html":[
       "<div>\n",
       "<style scoped>\n",
       "    .dataframe tbody tr th:only-of-type {\n",
       "        vertical-align: middle;\n",
       "    }\n",
       "\n",
       "    .dataframe tbody tr th {\n",
       "        vertical-align: top;\n",
       "    }\n",
       "\n",
       "    .dataframe thead th {\n",
       "        text-align: right;\n",
       "    }\n",
       "<\/style>\n",
       "<table border=\"1\" class=\"dataframe\">\n",
       "  <thead>\n",
       "    <tr style=\"text-align: right;\">\n",
       "      <th><\/th>\n",
       "      <th>Age<\/th>\n",
       "      <th>TotalSeconds<\/th>\n",
       "      <th>HalfSeconds<\/th>\n",
       "    <\/tr>\n",
       "    <tr>\n",
       "      <th>City<\/th>\n",
       "      <th><\/th>\n",
       "      <th><\/th>\n",
       "      <th><\/th>\n",
       "    <\/tr>\n",
       "  <\/thead>\n",
       "  <tbody>\n",
       "    <tr>\n",
       "      <th>0851 Oslo<\/th>\n",
       "      <td>39.0<\/td>\n",
       "      <td>11724.0<\/td>\n",
       "      <td>5731.0<\/td>\n",
       "    <\/tr>\n",
       "    <tr>\n",
       "      <th>20832<\/th>\n",
       "      <td>35.0<\/td>\n",
       "      <td>11640.0<\/td>\n",
       "      <td>5757.0<\/td>\n",
       "    <\/tr>\n",
       "    <tr>\n",
       "      <th>34-120 Andrychow<\/th>\n",
       "      <td>43.5<\/td>\n",
       "      <td>14111.0<\/td>\n",
       "      <td>6699.5<\/td>\n",
       "    <\/tr>\n",
       "    <tr>\n",
       "      <th>5700 Svendborg<\/th>\n",
       "      <td>58.0<\/td>\n",
       "      <td>13498.0<\/td>\n",
       "      <td>6552.0<\/td>\n",
       "    <\/tr>\n",
       "    <tr>\n",
       "      <th>95630<\/th>\n",
       "      <td>46.0<\/td>\n",
       "      <td>13043.0<\/td>\n",
       "      <td>6625.0<\/td>\n",
       "    <\/tr>\n",
       "  <\/tbody>\n",
       "<\/table>\n",
       "<\/div>"
      ]
     },
     "metadata":{},
     "output_type":"display_data"
    }
   ],
   "metadata":{
    "datalore":{
     "node_id":"SwCZeazz4oWAujBlQ29T4N",
     "type":"CODE",
     "hide_input_from_viewers":true,
     "hide_output_from_viewers":true
    }
   }
  },
  {
   "cell_type":"code",
   "source":[
    "group_city[[\"TotalSeconds\",\"HalfSeconds\"]].mean().head()"
   ],
   "execution_count":17,
   "outputs":[
    {
     "data":{
      "text\/html":[
       "<div>\n",
       "<style scoped>\n",
       "    .dataframe tbody tr th:only-of-type {\n",
       "        vertical-align: middle;\n",
       "    }\n",
       "\n",
       "    .dataframe tbody tr th {\n",
       "        vertical-align: top;\n",
       "    }\n",
       "\n",
       "    .dataframe thead th {\n",
       "        text-align: right;\n",
       "    }\n",
       "<\/style>\n",
       "<table border=\"1\" class=\"dataframe\">\n",
       "  <thead>\n",
       "    <tr style=\"text-align: right;\">\n",
       "      <th><\/th>\n",
       "      <th>TotalSeconds<\/th>\n",
       "      <th>HalfSeconds<\/th>\n",
       "    <\/tr>\n",
       "    <tr>\n",
       "      <th>City<\/th>\n",
       "      <th><\/th>\n",
       "      <th><\/th>\n",
       "    <\/tr>\n",
       "  <\/thead>\n",
       "  <tbody>\n",
       "    <tr>\n",
       "      <th>0851 Oslo<\/th>\n",
       "      <td>11724.0<\/td>\n",
       "      <td>5731.0<\/td>\n",
       "    <\/tr>\n",
       "    <tr>\n",
       "      <th>20832<\/th>\n",
       "      <td>11640.0<\/td>\n",
       "      <td>5757.0<\/td>\n",
       "    <\/tr>\n",
       "    <tr>\n",
       "      <th>34-120 Andrychow<\/th>\n",
       "      <td>14111.0<\/td>\n",
       "      <td>6699.5<\/td>\n",
       "    <\/tr>\n",
       "    <tr>\n",
       "      <th>5700 Svendborg<\/th>\n",
       "      <td>13498.0<\/td>\n",
       "      <td>6552.0<\/td>\n",
       "    <\/tr>\n",
       "    <tr>\n",
       "      <th>95630<\/th>\n",
       "      <td>13043.0<\/td>\n",
       "      <td>6625.0<\/td>\n",
       "    <\/tr>\n",
       "  <\/tbody>\n",
       "<\/table>\n",
       "<\/div>"
      ]
     },
     "metadata":{},
     "output_type":"display_data"
    }
   ],
   "metadata":{
    "datalore":{
     "node_id":"MPVs8ku88vQWU8MLOrwdsk",
     "type":"CODE",
     "hide_input_from_viewers":true,
     "hide_output_from_viewers":true
    }
   }
  },
  {
   "cell_type":"code",
   "source":[
    "group_city[\"TotalSeconds\"].sum().head()"
   ],
   "execution_count":18,
   "outputs":[
    {
     "data":{
      "text\/html":[
       "<pre>City\n",
       "0851 Oslo           11724.0\n",
       "20832               11640.0\n",
       "34-120 Andrychow    28222.0\n",
       "5700 Svendborg      13498.0\n",
       "95630               13043.0\n",
       "Name: TotalSeconds, dtype: float64<\/pre>"
      ]
     },
     "metadata":{},
     "output_type":"display_data"
    }
   ],
   "metadata":{
    "datalore":{
     "node_id":"ZSmlyiYtSypJiynvqkiQDS",
     "type":"CODE",
     "hide_input_from_viewers":true,
     "hide_output_from_viewers":true
    }
   }
  },
  {
   "cell_type":"code",
   "source":[
    "group_age = df.groupby('Age')\n",
    "group_city.mean().head()"
   ],
   "execution_count":19,
   "outputs":[
    {
     "name":"stderr",
     "text":[
      "<ipython-input-19-0e64bf8a85b8>:2: FutureWarning: The default value of numeric_only in DataFrameGroupBy.mean is deprecated. In a future version, numeric_only will default to False. Either specify numeric_only or select only columns which should be valid for the function.\n",
      "  group_city.mean().head()\n"
     ],
     "output_type":"stream"
    },
    {
     "data":{
      "text\/html":[
       "<div>\n",
       "<style scoped>\n",
       "    .dataframe tbody tr th:only-of-type {\n",
       "        vertical-align: middle;\n",
       "    }\n",
       "\n",
       "    .dataframe tbody tr th {\n",
       "        vertical-align: top;\n",
       "    }\n",
       "\n",
       "    .dataframe thead th {\n",
       "        text-align: right;\n",
       "    }\n",
       "<\/style>\n",
       "<table border=\"1\" class=\"dataframe\">\n",
       "  <thead>\n",
       "    <tr style=\"text-align: right;\">\n",
       "      <th><\/th>\n",
       "      <th>Age<\/th>\n",
       "      <th>TotalSeconds<\/th>\n",
       "      <th>HalfSeconds<\/th>\n",
       "    <\/tr>\n",
       "    <tr>\n",
       "      <th>City<\/th>\n",
       "      <th><\/th>\n",
       "      <th><\/th>\n",
       "      <th><\/th>\n",
       "    <\/tr>\n",
       "  <\/thead>\n",
       "  <tbody>\n",
       "    <tr>\n",
       "      <th>0851 Oslo<\/th>\n",
       "      <td>39.0<\/td>\n",
       "      <td>11724.0<\/td>\n",
       "      <td>5731.0<\/td>\n",
       "    <\/tr>\n",
       "    <tr>\n",
       "      <th>20832<\/th>\n",
       "      <td>35.0<\/td>\n",
       "      <td>11640.0<\/td>\n",
       "      <td>5757.0<\/td>\n",
       "    <\/tr>\n",
       "    <tr>\n",
       "      <th>34-120 Andrychow<\/th>\n",
       "      <td>43.5<\/td>\n",
       "      <td>14111.0<\/td>\n",
       "      <td>6699.5<\/td>\n",
       "    <\/tr>\n",
       "    <tr>\n",
       "      <th>5700 Svendborg<\/th>\n",
       "      <td>58.0<\/td>\n",
       "      <td>13498.0<\/td>\n",
       "      <td>6552.0<\/td>\n",
       "    <\/tr>\n",
       "    <tr>\n",
       "      <th>95630<\/th>\n",
       "      <td>46.0<\/td>\n",
       "      <td>13043.0<\/td>\n",
       "      <td>6625.0<\/td>\n",
       "    <\/tr>\n",
       "  <\/tbody>\n",
       "<\/table>\n",
       "<\/div>"
      ]
     },
     "metadata":{},
     "output_type":"display_data"
    }
   ],
   "metadata":{
    "datalore":{
     "node_id":"7Qndma52L27BGkzuUn7a4u",
     "type":"CODE",
     "hide_input_from_viewers":true,
     "hide_output_from_viewers":true
    }
   }
  },
  {
   "cell_type":"code",
   "source":[
    "group_age.count().head()"
   ],
   "execution_count":20,
   "outputs":[
    {
     "data":{
      "text\/html":[
       "<div>\n",
       "<style scoped>\n",
       "    .dataframe tbody tr th:only-of-type {\n",
       "        vertical-align: middle;\n",
       "    }\n",
       "\n",
       "    .dataframe tbody tr th {\n",
       "        vertical-align: top;\n",
       "    }\n",
       "\n",
       "    .dataframe thead th {\n",
       "        text-align: right;\n",
       "    }\n",
       "<\/style>\n",
       "<table border=\"1\" class=\"dataframe\">\n",
       "  <thead>\n",
       "    <tr style=\"text-align: right;\">\n",
       "      <th><\/th>\n",
       "      <th>M\/F<\/th>\n",
       "      <th>City<\/th>\n",
       "      <th>State<\/th>\n",
       "      <th>Country<\/th>\n",
       "      <th>Half<\/th>\n",
       "      <th>40K<\/th>\n",
       "      <th>Pace<\/th>\n",
       "      <th>TotalSeconds<\/th>\n",
       "      <th>HalfSeconds<\/th>\n",
       "    <\/tr>\n",
       "    <tr>\n",
       "      <th>Age<\/th>\n",
       "      <th><\/th>\n",
       "      <th><\/th>\n",
       "      <th><\/th>\n",
       "      <th><\/th>\n",
       "      <th><\/th>\n",
       "      <th><\/th>\n",
       "      <th><\/th>\n",
       "      <th><\/th>\n",
       "      <th><\/th>\n",
       "    <\/tr>\n",
       "  <\/thead>\n",
       "  <tbody>\n",
       "    <tr>\n",
       "      <th>18<\/th>\n",
       "      <td>22<\/td>\n",
       "      <td>22<\/td>\n",
       "      <td>22<\/td>\n",
       "      <td>22<\/td>\n",
       "      <td>22<\/td>\n",
       "      <td>22<\/td>\n",
       "      <td>22<\/td>\n",
       "      <td>22<\/td>\n",
       "      <td>22<\/td>\n",
       "    <\/tr>\n",
       "    <tr>\n",
       "      <th>19<\/th>\n",
       "      <td>41<\/td>\n",
       "      <td>41<\/td>\n",
       "      <td>41<\/td>\n",
       "      <td>41<\/td>\n",
       "      <td>41<\/td>\n",
       "      <td>41<\/td>\n",
       "      <td>41<\/td>\n",
       "      <td>41<\/td>\n",
       "      <td>41<\/td>\n",
       "    <\/tr>\n",
       "    <tr>\n",
       "      <th>20<\/th>\n",
       "      <td>84<\/td>\n",
       "      <td>84<\/td>\n",
       "      <td>82<\/td>\n",
       "      <td>84<\/td>\n",
       "      <td>84<\/td>\n",
       "      <td>84<\/td>\n",
       "      <td>84<\/td>\n",
       "      <td>84<\/td>\n",
       "      <td>84<\/td>\n",
       "    <\/tr>\n",
       "    <tr>\n",
       "      <th>21<\/th>\n",
       "      <td>159<\/td>\n",
       "      <td>159<\/td>\n",
       "      <td>155<\/td>\n",
       "      <td>159<\/td>\n",
       "      <td>159<\/td>\n",
       "      <td>159<\/td>\n",
       "      <td>159<\/td>\n",
       "      <td>159<\/td>\n",
       "      <td>159<\/td>\n",
       "    <\/tr>\n",
       "    <tr>\n",
       "      <th>22<\/th>\n",
       "      <td>226<\/td>\n",
       "      <td>226<\/td>\n",
       "      <td>222<\/td>\n",
       "      <td>226<\/td>\n",
       "      <td>226<\/td>\n",
       "      <td>226<\/td>\n",
       "      <td>226<\/td>\n",
       "      <td>226<\/td>\n",
       "      <td>226<\/td>\n",
       "    <\/tr>\n",
       "  <\/tbody>\n",
       "<\/table>\n",
       "<\/div>"
      ]
     },
     "metadata":{},
     "output_type":"display_data"
    }
   ],
   "metadata":{
    "datalore":{
     "node_id":"BnBdLKgJtmdTpPv7sAmaXG",
     "type":"CODE",
     "hide_input_from_viewers":true,
     "hide_output_from_viewers":true
    }
   }
  },
  {
   "cell_type":"code",
   "source":[
    "group_age[\"TotalSeconds\"].count().head()"
   ],
   "execution_count":21,
   "outputs":[
    {
     "data":{
      "text\/html":[
       "<pre>Age\n",
       "18     22\n",
       "19     41\n",
       "20     84\n",
       "21    159\n",
       "22    226\n",
       "Name: TotalSeconds, dtype: int64<\/pre>"
      ]
     },
     "metadata":{},
     "output_type":"display_data"
    }
   ],
   "metadata":{
    "datalore":{
     "node_id":"NBHCtZtjflgq4f091baMU1",
     "type":"CODE",
     "hide_input_from_viewers":true,
     "hide_output_from_viewers":true
    }
   }
  }
 ],
 "metadata":{
  "kernelspec":{
   "display_name":"Python",
   "language":"python",
   "name":"python"
  },
  "datalore":{
   "computation_mode":"JUPYTER",
   "package_manager":"pip",
   "base_environment":"default",
   "packages":[],
   "report_row_ids":[],
   "version":3
  }
 },
 "nbformat":4,
 "nbformat_minor":4
}