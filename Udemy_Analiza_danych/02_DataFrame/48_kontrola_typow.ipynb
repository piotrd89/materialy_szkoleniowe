{
 "cells":[
  {
   "cell_type":"markdown",
   "source":[
    "# Wstęp"
   ],
   "attachments":{},
   "metadata":{
    "datalore":{
     "node_id":"Wstęp",
     "type":"MD",
     "hide_input_from_viewers":false,
     "hide_output_from_viewers":false,
     "sheet_delimiter":true
    }
   }
  },
  {
   "cell_type":"code",
   "source":[
    "import pandas as pd\n",
    "import numpy as np"
   ],
   "execution_count":1,
   "outputs":[],
   "metadata":{
    "datalore":{
     "node_id":"FMDFLQ1LVKCk4ZMhmfOSOW",
     "type":"CODE",
     "hide_input_from_viewers":true,
     "hide_output_from_viewers":true
    }
   }
  },
  {
   "cell_type":"code",
   "source":[
    "frame = pd.read_csv('http:\/\/piotrdomagala.pl\/data\/Mcdonalds.csv', \n",
    "                    usecols=['Item', 'Category', 'Serving Size', 'Calories', 'TotalFat'])"
   ],
   "execution_count":2,
   "outputs":[],
   "metadata":{
    "datalore":{
     "node_id":"vYERDA8COYvexVORHzOq8x",
     "type":"CODE",
     "hide_input_from_viewers":true,
     "hide_output_from_viewers":true
    }
   }
  },
  {
   "cell_type":"code",
   "source":[
    "frame.head()"
   ],
   "execution_count":3,
   "outputs":[
    {
     "data":{
      "text\/html":[
       "<div>\n",
       "<style scoped>\n",
       "    .dataframe tbody tr th:only-of-type {\n",
       "        vertical-align: middle;\n",
       "    }\n",
       "\n",
       "    .dataframe tbody tr th {\n",
       "        vertical-align: top;\n",
       "    }\n",
       "\n",
       "    .dataframe thead th {\n",
       "        text-align: right;\n",
       "    }\n",
       "<\/style>\n",
       "<table border=\"1\" class=\"dataframe\">\n",
       "  <thead>\n",
       "    <tr style=\"text-align: right;\">\n",
       "      <th><\/th>\n",
       "      <th>Category<\/th>\n",
       "      <th>Item<\/th>\n",
       "      <th>Serving Size<\/th>\n",
       "      <th>Calories<\/th>\n",
       "      <th>TotalFat<\/th>\n",
       "    <\/tr>\n",
       "  <\/thead>\n",
       "  <tbody>\n",
       "    <tr>\n",
       "      <th>0<\/th>\n",
       "      <td>Breakfast<\/td>\n",
       "      <td>Egg McMuffin<\/td>\n",
       "      <td>4.8 oz (136 g)<\/td>\n",
       "      <td>300<\/td>\n",
       "      <td>13.0<\/td>\n",
       "    <\/tr>\n",
       "    <tr>\n",
       "      <th>1<\/th>\n",
       "      <td>Breakfast<\/td>\n",
       "      <td>Egg White Delight<\/td>\n",
       "      <td>4.8 oz (135 g)<\/td>\n",
       "      <td>250<\/td>\n",
       "      <td>8.0<\/td>\n",
       "    <\/tr>\n",
       "    <tr>\n",
       "      <th>2<\/th>\n",
       "      <td>Breakfast<\/td>\n",
       "      <td>Sausage McMuffin<\/td>\n",
       "      <td>3.9 oz (111 g)<\/td>\n",
       "      <td>370<\/td>\n",
       "      <td>23.0<\/td>\n",
       "    <\/tr>\n",
       "    <tr>\n",
       "      <th>3<\/th>\n",
       "      <td>Breakfast<\/td>\n",
       "      <td>Sausage McMuffin with Egg<\/td>\n",
       "      <td>5.7 oz (161 g)<\/td>\n",
       "      <td>450<\/td>\n",
       "      <td>28.0<\/td>\n",
       "    <\/tr>\n",
       "    <tr>\n",
       "      <th>4<\/th>\n",
       "      <td>Breakfast<\/td>\n",
       "      <td>Sausage McMuffin with Egg Whites<\/td>\n",
       "      <td>5.7 oz (161 g)<\/td>\n",
       "      <td>400<\/td>\n",
       "      <td>23.0<\/td>\n",
       "    <\/tr>\n",
       "  <\/tbody>\n",
       "<\/table>\n",
       "<\/div>"
      ]
     },
     "metadata":{},
     "output_type":"display_data"
    }
   ],
   "metadata":{
    "datalore":{
     "node_id":"mBMqL0ZH0Vc4srgcZAVfsM",
     "type":"CODE",
     "hide_input_from_viewers":true,
     "hide_output_from_viewers":true
    }
   }
  },
  {
   "cell_type":"code",
   "source":[
    "frame.dtypes"
   ],
   "execution_count":4,
   "outputs":[
    {
     "data":{
      "text\/html":[
       "<pre>Category         object\n",
       "Item             object\n",
       "Serving Size     object\n",
       "Calories          int64\n",
       "TotalFat        float64\n",
       "dtype: object<\/pre>"
      ]
     },
     "metadata":{},
     "output_type":"display_data"
    }
   ],
   "metadata":{
    "datalore":{
     "node_id":"yZdpdIfTIYvah8BofFTyka",
     "type":"CODE",
     "hide_input_from_viewers":true,
     "hide_output_from_viewers":true
    }
   }
  },
  {
   "cell_type":"code",
   "source":[
    "frame.info(memory_usage='deep') \n",
    "#parametr mememory_usage pozwala dokladnie zbadać zużycie pamięci"
   ],
   "execution_count":6,
   "outputs":[
    {
     "name":"stdout",
     "text":[
      "<class 'pandas.core.frame.DataFrame'>\n",
      "RangeIndex: 260 entries, 0 to 259\n",
      "Data columns (total 5 columns):\n",
      " #   Column        Non-Null Count  Dtype  \n",
      "---  ------        --------------  -----  \n",
      " 0   Category      260 non-null    object \n",
      " 1   Item          260 non-null    object \n",
      " 2   Serving Size  260 non-null    object \n",
      " 3   Calories      260 non-null    int64  \n",
      " 4   TotalFat      260 non-null    float64\n",
      "dtypes: float64(1), int64(1), object(3)\n",
      "memory usage: 61.7 KB\n"
     ],
     "output_type":"stream"
    }
   ],
   "metadata":{
    "datalore":{
     "node_id":"yrmh3h5PVBdy3tweH8Xyno",
     "type":"CODE",
     "hide_input_from_viewers":true,
     "hide_output_from_viewers":true
    }
   }
  },
  {
   "cell_type":"code",
   "source":[
    "frame.loc[1,'Calories'] = np.NaN\n",
    "frame.head()"
   ],
   "execution_count":9,
   "outputs":[
    {
     "data":{
      "text\/html":[
       "<div>\n",
       "<style scoped>\n",
       "    .dataframe tbody tr th:only-of-type {\n",
       "        vertical-align: middle;\n",
       "    }\n",
       "\n",
       "    .dataframe tbody tr th {\n",
       "        vertical-align: top;\n",
       "    }\n",
       "\n",
       "    .dataframe thead th {\n",
       "        text-align: right;\n",
       "    }\n",
       "<\/style>\n",
       "<table border=\"1\" class=\"dataframe\">\n",
       "  <thead>\n",
       "    <tr style=\"text-align: right;\">\n",
       "      <th><\/th>\n",
       "      <th>Category<\/th>\n",
       "      <th>Item<\/th>\n",
       "      <th>Serving Size<\/th>\n",
       "      <th>Calories<\/th>\n",
       "      <th>TotalFat<\/th>\n",
       "    <\/tr>\n",
       "  <\/thead>\n",
       "  <tbody>\n",
       "    <tr>\n",
       "      <th>0<\/th>\n",
       "      <td>Breakfast<\/td>\n",
       "      <td>Egg McMuffin<\/td>\n",
       "      <td>4.8 oz (136 g)<\/td>\n",
       "      <td>300.0<\/td>\n",
       "      <td>13.0<\/td>\n",
       "    <\/tr>\n",
       "    <tr>\n",
       "      <th>1<\/th>\n",
       "      <td>Breakfast<\/td>\n",
       "      <td>Egg White Delight<\/td>\n",
       "      <td>NaN<\/td>\n",
       "      <td>NaN<\/td>\n",
       "      <td>8.0<\/td>\n",
       "    <\/tr>\n",
       "    <tr>\n",
       "      <th>2<\/th>\n",
       "      <td>Breakfast<\/td>\n",
       "      <td>Sausage McMuffin<\/td>\n",
       "      <td>3.9 oz (111 g)<\/td>\n",
       "      <td>370.0<\/td>\n",
       "      <td>23.0<\/td>\n",
       "    <\/tr>\n",
       "    <tr>\n",
       "      <th>3<\/th>\n",
       "      <td>Breakfast<\/td>\n",
       "      <td>Sausage McMuffin with Egg<\/td>\n",
       "      <td>5.7 oz (161 g)<\/td>\n",
       "      <td>450.0<\/td>\n",
       "      <td>28.0<\/td>\n",
       "    <\/tr>\n",
       "    <tr>\n",
       "      <th>4<\/th>\n",
       "      <td>Breakfast<\/td>\n",
       "      <td>Sausage McMuffin with Egg Whites<\/td>\n",
       "      <td>5.7 oz (161 g)<\/td>\n",
       "      <td>400.0<\/td>\n",
       "      <td>23.0<\/td>\n",
       "    <\/tr>\n",
       "  <\/tbody>\n",
       "<\/table>\n",
       "<\/div>"
      ]
     },
     "metadata":{},
     "output_type":"display_data"
    }
   ],
   "metadata":{
    "datalore":{
     "node_id":"YDnaqBm1soZIp5FGC3Bxqt",
     "type":"CODE",
     "hide_input_from_viewers":true,
     "hide_output_from_viewers":true
    }
   }
  },
  {
   "cell_type":"code",
   "source":[
    "frame.info(memory_usage='deep') "
   ],
   "execution_count":10,
   "outputs":[
    {
     "name":"stdout",
     "text":[
      "<class 'pandas.core.frame.DataFrame'>\n",
      "RangeIndex: 260 entries, 0 to 259\n",
      "Data columns (total 5 columns):\n",
      " #   Column        Non-Null Count  Dtype  \n",
      "---  ------        --------------  -----  \n",
      " 0   Category      260 non-null    object \n",
      " 1   Item          260 non-null    object \n",
      " 2   Serving Size  259 non-null    object \n",
      " 3   Calories      259 non-null    float64\n",
      " 4   TotalFat      260 non-null    float64\n",
      "dtypes: float64(2), object(3)\n",
      "memory usage: 61.6 KB\n"
     ],
     "output_type":"stream"
    }
   ],
   "metadata":{
    "datalore":{
     "node_id":"vSoXGviD6yXINGmMivkGVg",
     "type":"CODE",
     "hide_input_from_viewers":true,
     "hide_output_from_viewers":true
    }
   }
  },
  {
   "cell_type":"code",
   "source":[
    "# frame['Calories'].astype('int')\n",
    "# zmiana typu w kolumnie z wartościami pustymi nie powiedzie się"
   ],
   "execution_count":11,
   "outputs":[
    {
     "ename":"IntCastingNaNError",
     "evalue":"IntCastingNaNError: Cannot convert non-finite values (NA or inf) to integer",
     "traceback":[
      "\u001b[0;31m---------------------------------------------------------------------------",
      "Traceback (most recent call last)",
      "    at line 1 in <module>",
      "    at line 6240 in astype(self, dtype, copy, errors)",
      "    at line 448 in astype(self, dtype, copy, errors)",
      "    at line 352 in apply(self, f, align_keys, ignore_failures, **kwargs)",
      "    at line 526 in astype(self, dtype, copy, errors)",
      "    at line 299 in astype_array_safe(values, dtype, copy, errors)",
      "    at line 230 in astype_array(values, dtype, copy)",
      "    at line 140 in astype_nansafe(arr, dtype, copy, skipna)",
      "    at line 182 in _astype_float_to_int_nansafe(values, dtype, copy)",
      "IntCastingNaNError: Cannot convert non-finite values (NA or inf) to integer"
     ],
     "output_type":"error"
    }
   ],
   "metadata":{
    "datalore":{
     "node_id":"v3USbA3IyTrOaw6ddCxTwg",
     "type":"CODE",
     "hide_input_from_viewers":true,
     "hide_output_from_viewers":true
    }
   }
  },
  {
   "cell_type":"code",
   "source":[
    "frame['Calories'].fillna(value=0, inplace=True)\n",
    "frame.head()"
   ],
   "execution_count":13,
   "outputs":[
    {
     "data":{
      "text\/html":[
       "<div>\n",
       "<style scoped>\n",
       "    .dataframe tbody tr th:only-of-type {\n",
       "        vertical-align: middle;\n",
       "    }\n",
       "\n",
       "    .dataframe tbody tr th {\n",
       "        vertical-align: top;\n",
       "    }\n",
       "\n",
       "    .dataframe thead th {\n",
       "        text-align: right;\n",
       "    }\n",
       "<\/style>\n",
       "<table border=\"1\" class=\"dataframe\">\n",
       "  <thead>\n",
       "    <tr style=\"text-align: right;\">\n",
       "      <th><\/th>\n",
       "      <th>Category<\/th>\n",
       "      <th>Item<\/th>\n",
       "      <th>Serving Size<\/th>\n",
       "      <th>Calories<\/th>\n",
       "      <th>TotalFat<\/th>\n",
       "    <\/tr>\n",
       "  <\/thead>\n",
       "  <tbody>\n",
       "    <tr>\n",
       "      <th>0<\/th>\n",
       "      <td>Breakfast<\/td>\n",
       "      <td>Egg McMuffin<\/td>\n",
       "      <td>4.8 oz (136 g)<\/td>\n",
       "      <td>300.0<\/td>\n",
       "      <td>13.0<\/td>\n",
       "    <\/tr>\n",
       "    <tr>\n",
       "      <th>1<\/th>\n",
       "      <td>Breakfast<\/td>\n",
       "      <td>Egg White Delight<\/td>\n",
       "      <td>NaN<\/td>\n",
       "      <td>0.0<\/td>\n",
       "      <td>8.0<\/td>\n",
       "    <\/tr>\n",
       "    <tr>\n",
       "      <th>2<\/th>\n",
       "      <td>Breakfast<\/td>\n",
       "      <td>Sausage McMuffin<\/td>\n",
       "      <td>3.9 oz (111 g)<\/td>\n",
       "      <td>370.0<\/td>\n",
       "      <td>23.0<\/td>\n",
       "    <\/tr>\n",
       "    <tr>\n",
       "      <th>3<\/th>\n",
       "      <td>Breakfast<\/td>\n",
       "      <td>Sausage McMuffin with Egg<\/td>\n",
       "      <td>5.7 oz (161 g)<\/td>\n",
       "      <td>450.0<\/td>\n",
       "      <td>28.0<\/td>\n",
       "    <\/tr>\n",
       "    <tr>\n",
       "      <th>4<\/th>\n",
       "      <td>Breakfast<\/td>\n",
       "      <td>Sausage McMuffin with Egg Whites<\/td>\n",
       "      <td>5.7 oz (161 g)<\/td>\n",
       "      <td>400.0<\/td>\n",
       "      <td>23.0<\/td>\n",
       "    <\/tr>\n",
       "  <\/tbody>\n",
       "<\/table>\n",
       "<\/div>"
      ]
     },
     "metadata":{},
     "output_type":"display_data"
    }
   ],
   "metadata":{
    "datalore":{
     "node_id":"QaQBBqmejdi3UMAVGqicuj",
     "type":"CODE",
     "hide_input_from_viewers":true,
     "hide_output_from_viewers":true
    }
   }
  },
  {
   "cell_type":"code",
   "source":[
    "frame['Calories'].astype('int')"
   ],
   "execution_count":14,
   "outputs":[
    {
     "data":{
      "text\/html":[
       "<pre>0      300\n",
       "1        0\n",
       "2      370\n",
       "3      450\n",
       "4      400\n",
       "      ... \n",
       "255    510\n",
       "256    690\n",
       "257    340\n",
       "258    810\n",
       "259    410\n",
       "Name: Calories, Length: 260, dtype: int64<\/pre>"
      ]
     },
     "metadata":{},
     "output_type":"display_data"
    }
   ],
   "metadata":{
    "datalore":{
     "node_id":"pTICFYjW2JWquno802h1AY",
     "type":"CODE",
     "hide_input_from_viewers":true,
     "hide_output_from_viewers":true
    }
   }
  },
  {
   "cell_type":"code",
   "source":[
    "frame['Calories'] = frame['Calories'].astype('int')"
   ],
   "execution_count":15,
   "outputs":[],
   "metadata":{
    "datalore":{
     "node_id":"2SlPxd6FgXu8SqkAZMCahE",
     "type":"CODE",
     "hide_input_from_viewers":true,
     "hide_output_from_viewers":true
    }
   }
  },
  {
   "cell_type":"code",
   "source":[
    "frame.info(memory_usage='deep') "
   ],
   "execution_count":16,
   "outputs":[
    {
     "name":"stdout",
     "text":[
      "<class 'pandas.core.frame.DataFrame'>\n",
      "RangeIndex: 260 entries, 0 to 259\n",
      "Data columns (total 5 columns):\n",
      " #   Column        Non-Null Count  Dtype  \n",
      "---  ------        --------------  -----  \n",
      " 0   Category      260 non-null    object \n",
      " 1   Item          260 non-null    object \n",
      " 2   Serving Size  259 non-null    object \n",
      " 3   Calories      260 non-null    int64  \n",
      " 4   TotalFat      260 non-null    float64\n",
      "dtypes: float64(1), int64(1), object(3)\n",
      "memory usage: 61.6 KB\n"
     ],
     "output_type":"stream"
    }
   ],
   "metadata":{
    "datalore":{
     "node_id":"4yKMErBYIn3IeTBnCyE7VC",
     "type":"CODE",
     "hide_input_from_viewers":true,
     "hide_output_from_viewers":true
    }
   }
  },
  {
   "cell_type":"code",
   "source":[
    "frame['Category'].value_counts() #zliczanie wartości w poszczególnych kolumnach"
   ],
   "execution_count":17,
   "outputs":[
    {
     "data":{
      "text\/html":[
       "<pre>Coffee & Tea          95\n",
       "Breakfast             42\n",
       "Smoothies & Shakes    28\n",
       "Chicken & Fish        27\n",
       "Beverages             27\n",
       "Beef & Pork           15\n",
       "Snacks & Sides        13\n",
       "Desserts               7\n",
       "Salads                 6\n",
       "Name: Category, dtype: int64<\/pre>"
      ]
     },
     "metadata":{},
     "output_type":"display_data"
    }
   ],
   "metadata":{
    "datalore":{
     "node_id":"3MAQ8rZJ90LQQyrUeACENO",
     "type":"CODE",
     "hide_input_from_viewers":true,
     "hide_output_from_viewers":true
    }
   }
  },
  {
   "cell_type":"code",
   "source":[
    "frame['Category'] = frame['Category'].astype('category') "
   ],
   "execution_count":18,
   "outputs":[],
   "metadata":{
    "datalore":{
     "node_id":"IfZc988SiP49L7VWou8RsI",
     "type":"CODE",
     "hide_input_from_viewers":true,
     "hide_output_from_viewers":true
    }
   }
  },
  {
   "cell_type":"code",
   "source":[
    "frame.head()"
   ],
   "execution_count":19,
   "outputs":[
    {
     "data":{
      "text\/html":[
       "<div>\n",
       "<style scoped>\n",
       "    .dataframe tbody tr th:only-of-type {\n",
       "        vertical-align: middle;\n",
       "    }\n",
       "\n",
       "    .dataframe tbody tr th {\n",
       "        vertical-align: top;\n",
       "    }\n",
       "\n",
       "    .dataframe thead th {\n",
       "        text-align: right;\n",
       "    }\n",
       "<\/style>\n",
       "<table border=\"1\" class=\"dataframe\">\n",
       "  <thead>\n",
       "    <tr style=\"text-align: right;\">\n",
       "      <th><\/th>\n",
       "      <th>Category<\/th>\n",
       "      <th>Item<\/th>\n",
       "      <th>Serving Size<\/th>\n",
       "      <th>Calories<\/th>\n",
       "      <th>TotalFat<\/th>\n",
       "    <\/tr>\n",
       "  <\/thead>\n",
       "  <tbody>\n",
       "    <tr>\n",
       "      <th>0<\/th>\n",
       "      <td>Breakfast<\/td>\n",
       "      <td>Egg McMuffin<\/td>\n",
       "      <td>4.8 oz (136 g)<\/td>\n",
       "      <td>300<\/td>\n",
       "      <td>13.0<\/td>\n",
       "    <\/tr>\n",
       "    <tr>\n",
       "      <th>1<\/th>\n",
       "      <td>Breakfast<\/td>\n",
       "      <td>Egg White Delight<\/td>\n",
       "      <td>NaN<\/td>\n",
       "      <td>0<\/td>\n",
       "      <td>8.0<\/td>\n",
       "    <\/tr>\n",
       "    <tr>\n",
       "      <th>2<\/th>\n",
       "      <td>Breakfast<\/td>\n",
       "      <td>Sausage McMuffin<\/td>\n",
       "      <td>3.9 oz (111 g)<\/td>\n",
       "      <td>370<\/td>\n",
       "      <td>23.0<\/td>\n",
       "    <\/tr>\n",
       "    <tr>\n",
       "      <th>3<\/th>\n",
       "      <td>Breakfast<\/td>\n",
       "      <td>Sausage McMuffin with Egg<\/td>\n",
       "      <td>5.7 oz (161 g)<\/td>\n",
       "      <td>450<\/td>\n",
       "      <td>28.0<\/td>\n",
       "    <\/tr>\n",
       "    <tr>\n",
       "      <th>4<\/th>\n",
       "      <td>Breakfast<\/td>\n",
       "      <td>Sausage McMuffin with Egg Whites<\/td>\n",
       "      <td>5.7 oz (161 g)<\/td>\n",
       "      <td>400<\/td>\n",
       "      <td>23.0<\/td>\n",
       "    <\/tr>\n",
       "  <\/tbody>\n",
       "<\/table>\n",
       "<\/div>"
      ]
     },
     "metadata":{},
     "output_type":"display_data"
    }
   ],
   "metadata":{
    "datalore":{
     "node_id":"gDmpo9nn2UGnLzkjVmT5mx",
     "type":"CODE",
     "hide_input_from_viewers":true,
     "hide_output_from_viewers":true
    }
   }
  },
  {
   "cell_type":"code",
   "source":[
    "frame.info(memory_usage='deep') # zmiana typu na typ category pozwala na oszczędność pamięci"
   ],
   "execution_count":20,
   "outputs":[
    {
     "name":"stdout",
     "text":[
      "<class 'pandas.core.frame.DataFrame'>\n",
      "RangeIndex: 260 entries, 0 to 259\n",
      "Data columns (total 5 columns):\n",
      " #   Column        Non-Null Count  Dtype   \n",
      "---  ------        --------------  -----   \n",
      " 0   Category      260 non-null    category\n",
      " 1   Item          260 non-null    object  \n",
      " 2   Serving Size  259 non-null    object  \n",
      " 3   Calories      260 non-null    int64   \n",
      " 4   TotalFat      260 non-null    float64 \n",
      "dtypes: category(1), float64(1), int64(1), object(2)\n",
      "memory usage: 45.3 KB\n"
     ],
     "output_type":"stream"
    }
   ],
   "metadata":{
    "datalore":{
     "node_id":"WplT3Zw9LIjIzoBUX1iOc7",
     "type":"CODE",
     "hide_input_from_viewers":true,
     "hide_output_from_viewers":true
    }
   }
  },
  {
   "cell_type":"code",
   "source":[
    "frame['Serving Size'].value_counts()"
   ],
   "execution_count":21,
   "outputs":[
    {
     "data":{
      "text\/html":[
       "<pre>16 fl oz cup       45\n",
       "12 fl oz cup       38\n",
       "22 fl oz cup       20\n",
       "20 fl oz cup       16\n",
       "30 fl oz cup        7\n",
       "                   ..\n",
       "7.4 oz (211 g)      1\n",
       "4 oz (114 g)        1\n",
       "2 oz (56 g)         1\n",
       "6.8 oz (192 g)      1\n",
       "14.2 oz (403 g)     1\n",
       "Name: Serving Size, Length: 106, dtype: int64<\/pre>"
      ]
     },
     "metadata":{},
     "output_type":"display_data"
    }
   ],
   "metadata":{
    "datalore":{
     "node_id":"yXWXnasdkolzU5X3pzNUnc",
     "type":"CODE",
     "hide_input_from_viewers":true,
     "hide_output_from_viewers":true
    }
   }
  },
  {
   "cell_type":"code",
   "source":[
    "frame['Serving Size'] = frame['Serving Size'].astype('category')\n",
    "frame.info(memory_usage='deep')"
   ],
   "execution_count":23,
   "outputs":[
    {
     "name":"stdout",
     "text":[
      "<class 'pandas.core.frame.DataFrame'>\n",
      "RangeIndex: 260 entries, 0 to 259\n",
      "Data columns (total 5 columns):\n",
      " #   Column        Non-Null Count  Dtype   \n",
      "---  ------        --------------  -----   \n",
      " 0   Category      260 non-null    category\n",
      " 1   Item          260 non-null    object  \n",
      " 2   Serving Size  259 non-null    category\n",
      " 3   Calories      260 non-null    int64   \n",
      " 4   TotalFat      260 non-null    float64 \n",
      "dtypes: category(2), float64(1), int64(1), object(1)\n",
      "memory usage: 39.2 KB\n"
     ],
     "output_type":"stream"
    }
   ],
   "metadata":{
    "datalore":{
     "node_id":"RAXCNsBHFAwHPbBOsylpvS",
     "type":"CODE",
     "hide_input_from_viewers":true,
     "hide_output_from_viewers":true
    }
   }
  },
  {
   "cell_type":"markdown",
   "source":[
    "# Zadanie"
   ],
   "attachments":{},
   "metadata":{
    "datalore":{
     "node_id":"Zadanie",
     "type":"MD",
     "hide_input_from_viewers":false,
     "hide_output_from_viewers":false,
     "sheet_delimiter":true
    }
   }
  },
  {
   "cell_type":"code",
   "source":[
    "import pandas as pd, numpy as np"
   ],
   "execution_count":25,
   "outputs":[],
   "metadata":{
    "datalore":{
     "node_id":"eM0g73YPfLyBRIpfmOUggF",
     "type":"CODE",
     "hide_input_from_viewers":true,
     "hide_output_from_viewers":true
    }
   }
  },
  {
   "cell_type":"code",
   "source":[
    "fuel = pd.read_csv('http:\/\/piotrdomagala.pl\/data\/fuel.csv', \n",
    "                   low_memory=False, \n",
    "                   usecols=['Vehicle ID', 'Year', 'Make', 'Model', 'Class', 'Fuel Type','Combined MPG (FT1)'])"
   ],
   "execution_count":26,
   "outputs":[],
   "metadata":{
    "datalore":{
     "node_id":"9ugqUEfRBPHTJh57bKLkl7",
     "type":"CODE",
     "hide_input_from_viewers":true,
     "hide_output_from_viewers":true
    }
   }
  },
  {
   "cell_type":"code",
   "source":[
    "fuel.head()"
   ],
   "execution_count":27,
   "outputs":[
    {
     "data":{
      "text\/html":[
       "<div>\n",
       "<style scoped>\n",
       "    .dataframe tbody tr th:only-of-type {\n",
       "        vertical-align: middle;\n",
       "    }\n",
       "\n",
       "    .dataframe tbody tr th {\n",
       "        vertical-align: top;\n",
       "    }\n",
       "\n",
       "    .dataframe thead th {\n",
       "        text-align: right;\n",
       "    }\n",
       "<\/style>\n",
       "<table border=\"1\" class=\"dataframe\">\n",
       "  <thead>\n",
       "    <tr style=\"text-align: right;\">\n",
       "      <th><\/th>\n",
       "      <th>Vehicle ID<\/th>\n",
       "      <th>Year<\/th>\n",
       "      <th>Make<\/th>\n",
       "      <th>Model<\/th>\n",
       "      <th>Class<\/th>\n",
       "      <th>Fuel Type<\/th>\n",
       "      <th>Combined MPG (FT1)<\/th>\n",
       "    <\/tr>\n",
       "  <\/thead>\n",
       "  <tbody>\n",
       "    <tr>\n",
       "      <th>0<\/th>\n",
       "      <td>26587<\/td>\n",
       "      <td>1984<\/td>\n",
       "      <td>Alfa Romeo<\/td>\n",
       "      <td>GT V6 2.5<\/td>\n",
       "      <td>Minicompact Cars<\/td>\n",
       "      <td>Regular<\/td>\n",
       "      <td>20.0<\/td>\n",
       "    <\/tr>\n",
       "    <tr>\n",
       "      <th>1<\/th>\n",
       "      <td>27705<\/td>\n",
       "      <td>1984<\/td>\n",
       "      <td>Alfa Romeo<\/td>\n",
       "      <td>GT V6 2.5<\/td>\n",
       "      <td>Minicompact Cars<\/td>\n",
       "      <td>Regular<\/td>\n",
       "      <td>20.0<\/td>\n",
       "    <\/tr>\n",
       "    <tr>\n",
       "      <th>2<\/th>\n",
       "      <td>26561<\/td>\n",
       "      <td>1984<\/td>\n",
       "      <td>Alfa Romeo<\/td>\n",
       "      <td>Spider Veloce 2000<\/td>\n",
       "      <td>Two Seaters<\/td>\n",
       "      <td>Regular<\/td>\n",
       "      <td>21.0<\/td>\n",
       "    <\/tr>\n",
       "    <tr>\n",
       "      <th>3<\/th>\n",
       "      <td>27681<\/td>\n",
       "      <td>1984<\/td>\n",
       "      <td>Alfa Romeo<\/td>\n",
       "      <td>Spider Veloce 2000<\/td>\n",
       "      <td>Two Seaters<\/td>\n",
       "      <td>Regular<\/td>\n",
       "      <td>21.0<\/td>\n",
       "    <\/tr>\n",
       "    <tr>\n",
       "      <th>4<\/th>\n",
       "      <td>27550<\/td>\n",
       "      <td>1984<\/td>\n",
       "      <td>AM General<\/td>\n",
       "      <td>DJ Po Vehicle 2WD<\/td>\n",
       "      <td>Special Purpose Vehicle 2WD<\/td>\n",
       "      <td>Regular<\/td>\n",
       "      <td>17.0<\/td>\n",
       "    <\/tr>\n",
       "  <\/tbody>\n",
       "<\/table>\n",
       "<\/div>"
      ]
     },
     "metadata":{},
     "output_type":"display_data"
    }
   ],
   "metadata":{
    "datalore":{
     "node_id":"xCTc3sUYLOMjb63NYilo4R",
     "type":"CODE",
     "hide_input_from_viewers":true,
     "hide_output_from_viewers":true
    }
   }
  },
  {
   "cell_type":"code",
   "source":[
    "fuel.info(memory_usage='deep')"
   ],
   "execution_count":28,
   "outputs":[
    {
     "name":"stdout",
     "text":[
      "<class 'pandas.core.frame.DataFrame'>\n",
      "RangeIndex: 31684 entries, 0 to 31683\n",
      "Data columns (total 7 columns):\n",
      " #   Column              Non-Null Count  Dtype  \n",
      "---  ------              --------------  -----  \n",
      " 0   Vehicle ID          31684 non-null  int64  \n",
      " 1   Year                31684 non-null  int64  \n",
      " 2   Make                31684 non-null  object \n",
      " 3   Model               31683 non-null  object \n",
      " 4   Class               31683 non-null  object \n",
      " 5   Fuel Type           31683 non-null  object \n",
      " 6   Combined MPG (FT1)  31683 non-null  float64\n",
      "dtypes: float64(1), int64(2), object(4)\n",
      "memory usage: 8.9 MB\n"
     ],
     "output_type":"stream"
    }
   ],
   "metadata":{
    "datalore":{
     "node_id":"wwdPti7Ap9vvvwaw1oZ8y0",
     "type":"CODE",
     "hide_input_from_viewers":true,
     "hide_output_from_viewers":true
    }
   }
  },
  {
   "cell_type":"code",
   "source":[
    "fuel['Year'] = fuel['Year'].astype('int')\n",
    "fuel.info(memory_usage='deep')"
   ],
   "execution_count":30,
   "outputs":[
    {
     "name":"stdout",
     "text":[
      "<class 'pandas.core.frame.DataFrame'>\n",
      "RangeIndex: 31684 entries, 0 to 31683\n",
      "Data columns (total 7 columns):\n",
      " #   Column              Non-Null Count  Dtype  \n",
      "---  ------              --------------  -----  \n",
      " 0   Vehicle ID          31684 non-null  int64  \n",
      " 1   Year                31684 non-null  int64  \n",
      " 2   Make                31684 non-null  object \n",
      " 3   Model               31683 non-null  object \n",
      " 4   Class               31683 non-null  object \n",
      " 5   Fuel Type           31683 non-null  object \n",
      " 6   Combined MPG (FT1)  31683 non-null  float64\n",
      "dtypes: float64(1), int64(2), object(4)\n",
      "memory usage: 8.9 MB\n"
     ],
     "output_type":"stream"
    }
   ],
   "metadata":{
    "datalore":{
     "node_id":"ORL5J30z8N2oEZrr8RoLo8",
     "type":"CODE",
     "hide_input_from_viewers":true,
     "hide_output_from_viewers":true
    }
   }
  },
  {
   "cell_type":"code",
   "source":[
    "fuel['Make'].value_counts()"
   ],
   "execution_count":31,
   "outputs":[
    {
     "data":{
      "text\/html":[
       "<pre>Chevrolet                 3389\n",
       "Ford                      2721\n",
       "Dodge                     2361\n",
       "GMC                       2174\n",
       "Toyota                    1599\n",
       "                          ... \n",
       "General Motors               1\n",
       "Panoz Auto-Development       1\n",
       "Goldacre                     1\n",
       "Panos                        1\n",
       "Mitsubish                    1\n",
       "Name: Make, Length: 128, dtype: int64<\/pre>"
      ]
     },
     "metadata":{},
     "output_type":"display_data"
    }
   ],
   "metadata":{
    "datalore":{
     "node_id":"4wJiPfoy7wUUC9flXp940D",
     "type":"CODE",
     "hide_input_from_viewers":true,
     "hide_output_from_viewers":true
    }
   }
  },
  {
   "cell_type":"code",
   "source":[
    "fuel['Make'] = fuel['Make'].astype('category')\n",
    "fuel.info(memory_usage='deep')"
   ],
   "execution_count":32,
   "outputs":[
    {
     "name":"stdout",
     "text":[
      "<class 'pandas.core.frame.DataFrame'>\n",
      "RangeIndex: 31684 entries, 0 to 31683\n",
      "Data columns (total 7 columns):\n",
      " #   Column              Non-Null Count  Dtype   \n",
      "---  ------              --------------  -----   \n",
      " 0   Vehicle ID          31684 non-null  int64   \n",
      " 1   Year                31684 non-null  int64   \n",
      " 2   Make                31684 non-null  category\n",
      " 3   Model               31683 non-null  object  \n",
      " 4   Class               31683 non-null  object  \n",
      " 5   Fuel Type           31683 non-null  object  \n",
      " 6   Combined MPG (FT1)  31683 non-null  float64 \n",
      "dtypes: category(1), float64(1), int64(2), object(3)\n",
      "memory usage: 7.1 MB\n"
     ],
     "output_type":"stream"
    }
   ],
   "metadata":{
    "datalore":{
     "node_id":"GYgvj8H8IijPNGHRFie34j",
     "type":"CODE",
     "hide_input_from_viewers":true,
     "hide_output_from_viewers":true
    }
   }
  },
  {
   "cell_type":"code",
   "source":[
    "fuel['Model'].value_counts()"
   ],
   "execution_count":33,
   "outputs":[
    {
     "data":{
      "text\/html":[
       "<pre>F150 Pickup 2WD                 194\n",
       "Truck 2WD                       187\n",
       "F150 Pickup 4WD                 172\n",
       "Ranger Pickup 2WD               169\n",
       "Mustang                         156\n",
       "                               ... \n",
       "Silver Spur II Mpw Touring L      1\n",
       "Brooklands\/Brklnds L              1\n",
       "Vdp                               1\n",
       "Pas-Typhoon                       1\n",
       "Lancer AWD                        1\n",
       "Name: Model, Length: 2957, dtype: int64<\/pre>"
      ]
     },
     "metadata":{},
     "output_type":"display_data"
    }
   ],
   "metadata":{
    "datalore":{
     "node_id":"Sd9UJbnON1dH2db0vWkGEI",
     "type":"CODE",
     "hide_input_from_viewers":true,
     "hide_output_from_viewers":true
    }
   }
  },
  {
   "cell_type":"code",
   "source":[
    "fuel['Model'] = fuel['Model'].astype('category')\n",
    "fuel.info(memory_usage='deep')"
   ],
   "execution_count":34,
   "outputs":[
    {
     "name":"stdout",
     "text":[
      "<class 'pandas.core.frame.DataFrame'>\n",
      "RangeIndex: 31684 entries, 0 to 31683\n",
      "Data columns (total 7 columns):\n",
      " #   Column              Non-Null Count  Dtype   \n",
      "---  ------              --------------  -----   \n",
      " 0   Vehicle ID          31684 non-null  int64   \n",
      " 1   Year                31684 non-null  int64   \n",
      " 2   Make                31684 non-null  category\n",
      " 3   Model               31683 non-null  category\n",
      " 4   Class               31683 non-null  object  \n",
      " 5   Fuel Type           31683 non-null  object  \n",
      " 6   Combined MPG (FT1)  31683 non-null  float64 \n",
      "dtypes: category(2), float64(1), int64(2), object(2)\n",
      "memory usage: 5.3 MB\n"
     ],
     "output_type":"stream"
    }
   ],
   "metadata":{
    "datalore":{
     "node_id":"mZT4spBxBSOXtuikoEWKy7",
     "type":"CODE",
     "hide_input_from_viewers":true,
     "hide_output_from_viewers":true
    }
   }
  },
  {
   "cell_type":"code",
   "source":[
    "fuel['Class'].value_counts()"
   ],
   "execution_count":35,
   "outputs":[
    {
     "data":{
      "text\/html":[
       "<pre>Compact Cars                    4489\n",
       "Subcompact Cars                 4299\n",
       "Midsize Cars                    3393\n",
       "Standard Pickup Trucks          2354\n",
       "Sport Utility Vehicle - 4WD     2034\n",
       "Sport Utility Vehicle - 2WD     1598\n",
       "Special Purpose Vehicles        1455\n",
       "Two Seaters                     1448\n",
       "Large Cars                      1351\n",
       "Small Station Wagons            1275\n",
       "Vans                            1141\n",
       "Standard Pickup Trucks 2WD      1043\n",
       "Minicompact Cars                 941\n",
       "Standard Pickup Trucks 4WD       846\n",
       "Midsize-Large Station Wagons     656\n",
       "Small Pickup Trucks              538\n",
       "Special Purpose Vehicle 2WD      536\n",
       "Midsize Station Wagons           492\n",
       "Vans, Cargo Type                 397\n",
       "Small Pickup Trucks 2WD          365\n",
       "Special Purpose Vehicle 4WD      287\n",
       "Minivan - 2WD                    278\n",
       "Vans, Passenger Type             253\n",
       "Small Pickup Trucks 4WD          162\n",
       "Minivan - 4WD                     41\n",
       "Standard Pickup Trucks\/2wd         4\n",
       "Vans Passenger                     2\n",
       "Special Purpose Vehicles\/4wd       2\n",
       "Special Purpose Vehicles\/2wd       2\n",
       "Special Purpose Vehicle            1\n",
       "Name: Class, dtype: int64<\/pre>"
      ]
     },
     "metadata":{},
     "output_type":"display_data"
    }
   ],
   "metadata":{
    "datalore":{
     "node_id":"EjBhCtiPSLx3pOVtpxoU0f",
     "type":"CODE",
     "hide_input_from_viewers":true,
     "hide_output_from_viewers":true
    }
   }
  },
  {
   "cell_type":"code",
   "source":[
    "fuel['Class'] = fuel['Class'].astype('category')\n",
    "fuel.info(memory_usage='deep')"
   ],
   "execution_count":36,
   "outputs":[
    {
     "name":"stdout",
     "text":[
      "<class 'pandas.core.frame.DataFrame'>\n",
      "RangeIndex: 31684 entries, 0 to 31683\n",
      "Data columns (total 7 columns):\n",
      " #   Column              Non-Null Count  Dtype   \n",
      "---  ------              --------------  -----   \n",
      " 0   Vehicle ID          31684 non-null  int64   \n",
      " 1   Year                31684 non-null  int64   \n",
      " 2   Make                31684 non-null  category\n",
      " 3   Model               31683 non-null  category\n",
      " 4   Class               31683 non-null  category\n",
      " 5   Fuel Type           31683 non-null  object  \n",
      " 6   Combined MPG (FT1)  31683 non-null  float64 \n",
      "dtypes: category(3), float64(1), int64(2), object(1)\n",
      "memory usage: 3.1 MB\n"
     ],
     "output_type":"stream"
    }
   ],
   "metadata":{
    "datalore":{
     "node_id":"v7gPpo8vmm7XAc215Cj8B0",
     "type":"CODE",
     "hide_input_from_viewers":true,
     "hide_output_from_viewers":true
    }
   }
  },
  {
   "cell_type":"code",
   "source":[
    "fuel['Fuel Type'].value_counts()"
   ],
   "execution_count":37,
   "outputs":[
    {
     "data":{
      "text\/html":[
       "<pre>Regular                       22439\n",
       "Premium                        7375\n",
       "Diesel                          936\n",
       "Gasoline or E85                 767\n",
       "CNG                              55\n",
       "Electricity                      33\n",
       "Premium or E85                   33\n",
       "Gasoline or natural gas          18\n",
       "Midgrade                         16\n",
       "Gasoline or propane               8\n",
       "Premium Gas or Electricity        3\n",
       "Name: Fuel Type, dtype: int64<\/pre>"
      ]
     },
     "metadata":{},
     "output_type":"display_data"
    }
   ],
   "metadata":{
    "datalore":{
     "node_id":"OtlqzMsq5Tsv6GWwKhStrg",
     "type":"CODE",
     "hide_input_from_viewers":true,
     "hide_output_from_viewers":true
    }
   }
  },
  {
   "cell_type":"code",
   "source":[
    "fuel['Fuel Type'] = fuel['Fuel Type'].astype('category')\n",
    "fuel.info(memory_usage='deep')"
   ],
   "execution_count":38,
   "outputs":[
    {
     "name":"stdout",
     "text":[
      "<class 'pandas.core.frame.DataFrame'>\n",
      "RangeIndex: 31684 entries, 0 to 31683\n",
      "Data columns (total 7 columns):\n",
      " #   Column              Non-Null Count  Dtype   \n",
      "---  ------              --------------  -----   \n",
      " 0   Vehicle ID          31684 non-null  int64   \n",
      " 1   Year                31684 non-null  int64   \n",
      " 2   Make                31684 non-null  category\n",
      " 3   Model               31683 non-null  category\n",
      " 4   Class               31683 non-null  category\n",
      " 5   Fuel Type           31683 non-null  category\n",
      " 6   Combined MPG (FT1)  31683 non-null  float64 \n",
      "dtypes: category(4), float64(1), int64(2)\n",
      "memory usage: 1.2 MB\n"
     ],
     "output_type":"stream"
    }
   ],
   "metadata":{
    "datalore":{
     "node_id":"lkj1wiHUGTDxzBqigJmApO",
     "type":"CODE",
     "hide_input_from_viewers":true,
     "hide_output_from_viewers":true
    }
   }
  },
  {
   "cell_type":"code",
   "source":[
    "fuel['Combined MPG (FT1)'] = fuel['Combined MPG (FT1)'].astype('float')\n",
    "fuel.info(memory_usage='deep')"
   ],
   "execution_count":40,
   "outputs":[
    {
     "name":"stdout",
     "text":[
      "<class 'pandas.core.frame.DataFrame'>\n",
      "RangeIndex: 31684 entries, 0 to 31683\n",
      "Data columns (total 7 columns):\n",
      " #   Column              Non-Null Count  Dtype   \n",
      "---  ------              --------------  -----   \n",
      " 0   Vehicle ID          31684 non-null  int64   \n",
      " 1   Year                31684 non-null  int64   \n",
      " 2   Make                31684 non-null  category\n",
      " 3   Model               31683 non-null  category\n",
      " 4   Class               31683 non-null  category\n",
      " 5   Fuel Type           31683 non-null  category\n",
      " 6   Combined MPG (FT1)  31683 non-null  float64 \n",
      "dtypes: category(4), float64(1), int64(2)\n",
      "memory usage: 1.2 MB\n"
     ],
     "output_type":"stream"
    }
   ],
   "metadata":{
    "datalore":{
     "node_id":"aRp4sG64iiNImJfO4OcI6u",
     "type":"CODE",
     "hide_input_from_viewers":true,
     "hide_output_from_viewers":true
    }
   }
  }
 ],
 "metadata":{
  "kernelspec":{
   "display_name":"Python",
   "language":"python",
   "name":"python"
  },
  "datalore":{
   "computation_mode":"JUPYTER",
   "package_manager":"pip",
   "base_environment":"default",
   "packages":[],
   "report_row_ids":[],
   "version":3
  }
 },
 "nbformat":4,
 "nbformat_minor":4
}