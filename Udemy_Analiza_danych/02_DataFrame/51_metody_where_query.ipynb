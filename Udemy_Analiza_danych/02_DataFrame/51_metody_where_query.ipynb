{
 "cells":[
  {
   "cell_type":"markdown",
   "source":[
    "# Wstęp"
   ],
   "attachments":{},
   "metadata":{
    "datalore":{
     "node_id":"Wstęp",
     "type":"MD",
     "hide_input_from_viewers":false,
     "hide_output_from_viewers":false,
     "sheet_delimiter":true
    }
   }
  },
  {
   "cell_type":"code",
   "source":[
    "import pandas as pd\n",
    "import numpy as np"
   ],
   "execution_count":1,
   "outputs":[],
   "metadata":{
    "datalore":{
     "node_id":"2nR5iMOuph2bs2DKJhM8Zq",
     "type":"CODE",
     "hide_input_from_viewers":true,
     "hide_output_from_viewers":true
    }
   }
  },
  {
   "cell_type":"code",
   "source":[
    "frame = pd.read_csv(\n",
    "    'http:\/\/piotrdomagala.pl\/data\/Mcdonalds.csv',\n",
    "    usecols=['Item', 'Category','Serving Size','Calories','TotalFat']\n",
    ")"
   ],
   "execution_count":2,
   "outputs":[],
   "metadata":{
    "datalore":{
     "node_id":"Nph0gWd70BrakX70VKtY8Q",
     "type":"CODE",
     "hide_input_from_viewers":true,
     "hide_output_from_viewers":true
    }
   }
  },
  {
   "cell_type":"code",
   "source":[
    "frame.head()"
   ],
   "execution_count":3,
   "outputs":[
    {
     "data":{
      "text\/html":[
       "<div>\n",
       "<style scoped>\n",
       "    .dataframe tbody tr th:only-of-type {\n",
       "        vertical-align: middle;\n",
       "    }\n",
       "\n",
       "    .dataframe tbody tr th {\n",
       "        vertical-align: top;\n",
       "    }\n",
       "\n",
       "    .dataframe thead th {\n",
       "        text-align: right;\n",
       "    }\n",
       "<\/style>\n",
       "<table border=\"1\" class=\"dataframe\">\n",
       "  <thead>\n",
       "    <tr style=\"text-align: right;\">\n",
       "      <th><\/th>\n",
       "      <th>Category<\/th>\n",
       "      <th>Item<\/th>\n",
       "      <th>Serving Size<\/th>\n",
       "      <th>Calories<\/th>\n",
       "      <th>TotalFat<\/th>\n",
       "    <\/tr>\n",
       "  <\/thead>\n",
       "  <tbody>\n",
       "    <tr>\n",
       "      <th>0<\/th>\n",
       "      <td>Breakfast<\/td>\n",
       "      <td>Egg McMuffin<\/td>\n",
       "      <td>4.8 oz (136 g)<\/td>\n",
       "      <td>300<\/td>\n",
       "      <td>13.0<\/td>\n",
       "    <\/tr>\n",
       "    <tr>\n",
       "      <th>1<\/th>\n",
       "      <td>Breakfast<\/td>\n",
       "      <td>Egg White Delight<\/td>\n",
       "      <td>4.8 oz (135 g)<\/td>\n",
       "      <td>250<\/td>\n",
       "      <td>8.0<\/td>\n",
       "    <\/tr>\n",
       "    <tr>\n",
       "      <th>2<\/th>\n",
       "      <td>Breakfast<\/td>\n",
       "      <td>Sausage McMuffin<\/td>\n",
       "      <td>3.9 oz (111 g)<\/td>\n",
       "      <td>370<\/td>\n",
       "      <td>23.0<\/td>\n",
       "    <\/tr>\n",
       "    <tr>\n",
       "      <th>3<\/th>\n",
       "      <td>Breakfast<\/td>\n",
       "      <td>Sausage McMuffin with Egg<\/td>\n",
       "      <td>5.7 oz (161 g)<\/td>\n",
       "      <td>450<\/td>\n",
       "      <td>28.0<\/td>\n",
       "    <\/tr>\n",
       "    <tr>\n",
       "      <th>4<\/th>\n",
       "      <td>Breakfast<\/td>\n",
       "      <td>Sausage McMuffin with Egg Whites<\/td>\n",
       "      <td>5.7 oz (161 g)<\/td>\n",
       "      <td>400<\/td>\n",
       "      <td>23.0<\/td>\n",
       "    <\/tr>\n",
       "  <\/tbody>\n",
       "<\/table>\n",
       "<\/div>"
      ]
     },
     "metadata":{},
     "output_type":"display_data"
    }
   ],
   "metadata":{
    "datalore":{
     "node_id":"Bn9c7aenG8wmGBR62TkcgP",
     "type":"CODE",
     "hide_input_from_viewers":true,
     "hide_output_from_viewers":true
    }
   }
  },
  {
   "cell_type":"code",
   "source":[
    "has400CalOrMore = frame['Calories'] >= 400"
   ],
   "execution_count":4,
   "outputs":[],
   "metadata":{
    "datalore":{
     "node_id":"W2qAs5aRaH5JNruhiz1fvu",
     "type":"CODE",
     "hide_input_from_viewers":true,
     "hide_output_from_viewers":true
    }
   }
  },
  {
   "cell_type":"code",
   "source":[
    "has400CalOrMore[:5]"
   ],
   "execution_count":5,
   "outputs":[
    {
     "data":{
      "text\/html":[
       "<pre>0    False\n",
       "1    False\n",
       "2    False\n",
       "3     True\n",
       "4     True\n",
       "Name: Calories, dtype: bool<\/pre>"
      ]
     },
     "metadata":{},
     "output_type":"display_data"
    }
   ],
   "metadata":{
    "datalore":{
     "node_id":"BPvFNi0Hbc7mBICKjU6KL2",
     "type":"CODE",
     "hide_input_from_viewers":true,
     "hide_output_from_viewers":true
    }
   }
  },
  {
   "cell_type":"code",
   "source":[
    "frame.where(has400CalOrMore).head()\n",
    "\n",
    "# Funkcja where zwraca ramkę danych w oryginalnym kształcie.\n",
    "# Komórki niespełniające warunków są wypełniane wartościami NaN"
   ],
   "execution_count":6,
   "outputs":[
    {
     "data":{
      "text\/html":[
       "<div>\n",
       "<style scoped>\n",
       "    .dataframe tbody tr th:only-of-type {\n",
       "        vertical-align: middle;\n",
       "    }\n",
       "\n",
       "    .dataframe tbody tr th {\n",
       "        vertical-align: top;\n",
       "    }\n",
       "\n",
       "    .dataframe thead th {\n",
       "        text-align: right;\n",
       "    }\n",
       "<\/style>\n",
       "<table border=\"1\" class=\"dataframe\">\n",
       "  <thead>\n",
       "    <tr style=\"text-align: right;\">\n",
       "      <th><\/th>\n",
       "      <th>Category<\/th>\n",
       "      <th>Item<\/th>\n",
       "      <th>Serving Size<\/th>\n",
       "      <th>Calories<\/th>\n",
       "      <th>TotalFat<\/th>\n",
       "    <\/tr>\n",
       "  <\/thead>\n",
       "  <tbody>\n",
       "    <tr>\n",
       "      <th>0<\/th>\n",
       "      <td>NaN<\/td>\n",
       "      <td>NaN<\/td>\n",
       "      <td>NaN<\/td>\n",
       "      <td>NaN<\/td>\n",
       "      <td>NaN<\/td>\n",
       "    <\/tr>\n",
       "    <tr>\n",
       "      <th>1<\/th>\n",
       "      <td>NaN<\/td>\n",
       "      <td>NaN<\/td>\n",
       "      <td>NaN<\/td>\n",
       "      <td>NaN<\/td>\n",
       "      <td>NaN<\/td>\n",
       "    <\/tr>\n",
       "    <tr>\n",
       "      <th>2<\/th>\n",
       "      <td>NaN<\/td>\n",
       "      <td>NaN<\/td>\n",
       "      <td>NaN<\/td>\n",
       "      <td>NaN<\/td>\n",
       "      <td>NaN<\/td>\n",
       "    <\/tr>\n",
       "    <tr>\n",
       "      <th>3<\/th>\n",
       "      <td>Breakfast<\/td>\n",
       "      <td>Sausage McMuffin with Egg<\/td>\n",
       "      <td>5.7 oz (161 g)<\/td>\n",
       "      <td>450.0<\/td>\n",
       "      <td>28.0<\/td>\n",
       "    <\/tr>\n",
       "    <tr>\n",
       "      <th>4<\/th>\n",
       "      <td>Breakfast<\/td>\n",
       "      <td>Sausage McMuffin with Egg Whites<\/td>\n",
       "      <td>5.7 oz (161 g)<\/td>\n",
       "      <td>400.0<\/td>\n",
       "      <td>23.0<\/td>\n",
       "    <\/tr>\n",
       "  <\/tbody>\n",
       "<\/table>\n",
       "<\/div>"
      ]
     },
     "metadata":{},
     "output_type":"display_data"
    }
   ],
   "metadata":{
    "datalore":{
     "node_id":"nUstObnlkeJqadHHhyYgF7",
     "type":"CODE",
     "hide_input_from_viewers":true,
     "hide_output_from_viewers":true
    }
   }
  },
  {
   "cell_type":"code",
   "source":[
    "frame[has400CalOrMore].head()"
   ],
   "execution_count":7,
   "outputs":[
    {
     "data":{
      "text\/html":[
       "<div>\n",
       "<style scoped>\n",
       "    .dataframe tbody tr th:only-of-type {\n",
       "        vertical-align: middle;\n",
       "    }\n",
       "\n",
       "    .dataframe tbody tr th {\n",
       "        vertical-align: top;\n",
       "    }\n",
       "\n",
       "    .dataframe thead th {\n",
       "        text-align: right;\n",
       "    }\n",
       "<\/style>\n",
       "<table border=\"1\" class=\"dataframe\">\n",
       "  <thead>\n",
       "    <tr style=\"text-align: right;\">\n",
       "      <th><\/th>\n",
       "      <th>Category<\/th>\n",
       "      <th>Item<\/th>\n",
       "      <th>Serving Size<\/th>\n",
       "      <th>Calories<\/th>\n",
       "      <th>TotalFat<\/th>\n",
       "    <\/tr>\n",
       "  <\/thead>\n",
       "  <tbody>\n",
       "    <tr>\n",
       "      <th>3<\/th>\n",
       "      <td>Breakfast<\/td>\n",
       "      <td>Sausage McMuffin with Egg<\/td>\n",
       "      <td>5.7 oz (161 g)<\/td>\n",
       "      <td>450<\/td>\n",
       "      <td>28.0<\/td>\n",
       "    <\/tr>\n",
       "    <tr>\n",
       "      <th>4<\/th>\n",
       "      <td>Breakfast<\/td>\n",
       "      <td>Sausage McMuffin with Egg Whites<\/td>\n",
       "      <td>5.7 oz (161 g)<\/td>\n",
       "      <td>400<\/td>\n",
       "      <td>23.0<\/td>\n",
       "    <\/tr>\n",
       "    <tr>\n",
       "      <th>5<\/th>\n",
       "      <td>Breakfast<\/td>\n",
       "      <td>Steak &amp; Egg McMuffin<\/td>\n",
       "      <td>6.5 oz (185 g)<\/td>\n",
       "      <td>430<\/td>\n",
       "      <td>23.0<\/td>\n",
       "    <\/tr>\n",
       "    <tr>\n",
       "      <th>6<\/th>\n",
       "      <td>Breakfast<\/td>\n",
       "      <td>Bacon, Egg &amp; Cheese Biscuit (Regular Biscuit)<\/td>\n",
       "      <td>5.3 oz (150 g)<\/td>\n",
       "      <td>460<\/td>\n",
       "      <td>26.0<\/td>\n",
       "    <\/tr>\n",
       "    <tr>\n",
       "      <th>7<\/th>\n",
       "      <td>Breakfast<\/td>\n",
       "      <td>Bacon, Egg &amp; Cheese Biscuit (Large Biscuit)<\/td>\n",
       "      <td>5.8 oz (164 g)<\/td>\n",
       "      <td>520<\/td>\n",
       "      <td>30.0<\/td>\n",
       "    <\/tr>\n",
       "  <\/tbody>\n",
       "<\/table>\n",
       "<\/div>"
      ]
     },
     "metadata":{},
     "output_type":"display_data"
    }
   ],
   "metadata":{
    "datalore":{
     "node_id":"Qw9fhXrYObTT9OxlcB6x3L",
     "type":"CODE",
     "hide_input_from_viewers":true,
     "hide_output_from_viewers":true
    }
   }
  },
  {
   "cell_type":"code",
   "source":[
    "frame.where(has400CalOrMore).dropna(how='all').head()\n",
    "# Zastosowanie metody dropna z odpowiednim parametrem pozwoli zwrócić wynik bez wartości NaN "
   ],
   "execution_count":8,
   "outputs":[
    {
     "data":{
      "text\/html":[
       "<div>\n",
       "<style scoped>\n",
       "    .dataframe tbody tr th:only-of-type {\n",
       "        vertical-align: middle;\n",
       "    }\n",
       "\n",
       "    .dataframe tbody tr th {\n",
       "        vertical-align: top;\n",
       "    }\n",
       "\n",
       "    .dataframe thead th {\n",
       "        text-align: right;\n",
       "    }\n",
       "<\/style>\n",
       "<table border=\"1\" class=\"dataframe\">\n",
       "  <thead>\n",
       "    <tr style=\"text-align: right;\">\n",
       "      <th><\/th>\n",
       "      <th>Category<\/th>\n",
       "      <th>Item<\/th>\n",
       "      <th>Serving Size<\/th>\n",
       "      <th>Calories<\/th>\n",
       "      <th>TotalFat<\/th>\n",
       "    <\/tr>\n",
       "  <\/thead>\n",
       "  <tbody>\n",
       "    <tr>\n",
       "      <th>3<\/th>\n",
       "      <td>Breakfast<\/td>\n",
       "      <td>Sausage McMuffin with Egg<\/td>\n",
       "      <td>5.7 oz (161 g)<\/td>\n",
       "      <td>450.0<\/td>\n",
       "      <td>28.0<\/td>\n",
       "    <\/tr>\n",
       "    <tr>\n",
       "      <th>4<\/th>\n",
       "      <td>Breakfast<\/td>\n",
       "      <td>Sausage McMuffin with Egg Whites<\/td>\n",
       "      <td>5.7 oz (161 g)<\/td>\n",
       "      <td>400.0<\/td>\n",
       "      <td>23.0<\/td>\n",
       "    <\/tr>\n",
       "    <tr>\n",
       "      <th>5<\/th>\n",
       "      <td>Breakfast<\/td>\n",
       "      <td>Steak &amp; Egg McMuffin<\/td>\n",
       "      <td>6.5 oz (185 g)<\/td>\n",
       "      <td>430.0<\/td>\n",
       "      <td>23.0<\/td>\n",
       "    <\/tr>\n",
       "    <tr>\n",
       "      <th>6<\/th>\n",
       "      <td>Breakfast<\/td>\n",
       "      <td>Bacon, Egg &amp; Cheese Biscuit (Regular Biscuit)<\/td>\n",
       "      <td>5.3 oz (150 g)<\/td>\n",
       "      <td>460.0<\/td>\n",
       "      <td>26.0<\/td>\n",
       "    <\/tr>\n",
       "    <tr>\n",
       "      <th>7<\/th>\n",
       "      <td>Breakfast<\/td>\n",
       "      <td>Bacon, Egg &amp; Cheese Biscuit (Large Biscuit)<\/td>\n",
       "      <td>5.8 oz (164 g)<\/td>\n",
       "      <td>520.0<\/td>\n",
       "      <td>30.0<\/td>\n",
       "    <\/tr>\n",
       "  <\/tbody>\n",
       "<\/table>\n",
       "<\/div>"
      ]
     },
     "metadata":{},
     "output_type":"display_data"
    }
   ],
   "metadata":{
    "datalore":{
     "node_id":"mC22WiPP0DaSqsom4VQQgQ",
     "type":"CODE",
     "hide_input_from_viewers":true,
     "hide_output_from_viewers":true
    }
   }
  },
  {
   "cell_type":"code",
   "source":[
    "frame.query('Category == \"Desserts\"').head()"
   ],
   "execution_count":10,
   "outputs":[
    {
     "data":{
      "text\/html":[
       "<div>\n",
       "<style scoped>\n",
       "    .dataframe tbody tr th:only-of-type {\n",
       "        vertical-align: middle;\n",
       "    }\n",
       "\n",
       "    .dataframe tbody tr th {\n",
       "        vertical-align: top;\n",
       "    }\n",
       "\n",
       "    .dataframe thead th {\n",
       "        text-align: right;\n",
       "    }\n",
       "<\/style>\n",
       "<table border=\"1\" class=\"dataframe\">\n",
       "  <thead>\n",
       "    <tr style=\"text-align: right;\">\n",
       "      <th><\/th>\n",
       "      <th>Category<\/th>\n",
       "      <th>Item<\/th>\n",
       "      <th>Serving Size<\/th>\n",
       "      <th>Calories<\/th>\n",
       "      <th>TotalFat<\/th>\n",
       "    <\/tr>\n",
       "  <\/thead>\n",
       "  <tbody>\n",
       "    <tr>\n",
       "      <th>103<\/th>\n",
       "      <td>Desserts<\/td>\n",
       "      <td>Baked Apple Pie<\/td>\n",
       "      <td>2.7 oz (77 g)<\/td>\n",
       "      <td>250<\/td>\n",
       "      <td>13.0<\/td>\n",
       "    <\/tr>\n",
       "    <tr>\n",
       "      <th>104<\/th>\n",
       "      <td>Desserts<\/td>\n",
       "      <td>Chocolate Chip Cookie<\/td>\n",
       "      <td>1 cookie (33 g)<\/td>\n",
       "      <td>160<\/td>\n",
       "      <td>8.0<\/td>\n",
       "    <\/tr>\n",
       "    <tr>\n",
       "      <th>105<\/th>\n",
       "      <td>Desserts<\/td>\n",
       "      <td>Oatmeal Raisin Cookie<\/td>\n",
       "      <td>1 cookie (33 g)<\/td>\n",
       "      <td>150<\/td>\n",
       "      <td>6.0<\/td>\n",
       "    <\/tr>\n",
       "    <tr>\n",
       "      <th>106<\/th>\n",
       "      <td>Desserts<\/td>\n",
       "      <td>Kids Ice Cream Cone<\/td>\n",
       "      <td>1 oz (29 g)<\/td>\n",
       "      <td>45<\/td>\n",
       "      <td>1.5<\/td>\n",
       "    <\/tr>\n",
       "    <tr>\n",
       "      <th>107<\/th>\n",
       "      <td>Desserts<\/td>\n",
       "      <td>Hot Fudge Sundae<\/td>\n",
       "      <td>6.3 oz (179 g)<\/td>\n",
       "      <td>330<\/td>\n",
       "      <td>9.0<\/td>\n",
       "    <\/tr>\n",
       "  <\/tbody>\n",
       "<\/table>\n",
       "<\/div>"
      ]
     },
     "metadata":{},
     "output_type":"display_data"
    }
   ],
   "metadata":{
    "datalore":{
     "node_id":"2r4LU2Szjao8MfugHQXmhC",
     "type":"CODE",
     "hide_input_from_viewers":true,
     "hide_output_from_viewers":true
    }
   }
  },
  {
   "cell_type":"code",
   "source":[
    "frame.query('Category in [\"Desserts\",\"Beverages\"]').head()"
   ],
   "execution_count":12,
   "outputs":[
    {
     "data":{
      "text\/html":[
       "<div>\n",
       "<style scoped>\n",
       "    .dataframe tbody tr th:only-of-type {\n",
       "        vertical-align: middle;\n",
       "    }\n",
       "\n",
       "    .dataframe tbody tr th {\n",
       "        vertical-align: top;\n",
       "    }\n",
       "\n",
       "    .dataframe thead th {\n",
       "        text-align: right;\n",
       "    }\n",
       "<\/style>\n",
       "<table border=\"1\" class=\"dataframe\">\n",
       "  <thead>\n",
       "    <tr style=\"text-align: right;\">\n",
       "      <th><\/th>\n",
       "      <th>Category<\/th>\n",
       "      <th>Item<\/th>\n",
       "      <th>Serving Size<\/th>\n",
       "      <th>Calories<\/th>\n",
       "      <th>TotalFat<\/th>\n",
       "    <\/tr>\n",
       "  <\/thead>\n",
       "  <tbody>\n",
       "    <tr>\n",
       "      <th>103<\/th>\n",
       "      <td>Desserts<\/td>\n",
       "      <td>Baked Apple Pie<\/td>\n",
       "      <td>2.7 oz (77 g)<\/td>\n",
       "      <td>250<\/td>\n",
       "      <td>13.0<\/td>\n",
       "    <\/tr>\n",
       "    <tr>\n",
       "      <th>104<\/th>\n",
       "      <td>Desserts<\/td>\n",
       "      <td>Chocolate Chip Cookie<\/td>\n",
       "      <td>1 cookie (33 g)<\/td>\n",
       "      <td>160<\/td>\n",
       "      <td>8.0<\/td>\n",
       "    <\/tr>\n",
       "    <tr>\n",
       "      <th>105<\/th>\n",
       "      <td>Desserts<\/td>\n",
       "      <td>Oatmeal Raisin Cookie<\/td>\n",
       "      <td>1 cookie (33 g)<\/td>\n",
       "      <td>150<\/td>\n",
       "      <td>6.0<\/td>\n",
       "    <\/tr>\n",
       "    <tr>\n",
       "      <th>106<\/th>\n",
       "      <td>Desserts<\/td>\n",
       "      <td>Kids Ice Cream Cone<\/td>\n",
       "      <td>1 oz (29 g)<\/td>\n",
       "      <td>45<\/td>\n",
       "      <td>1.5<\/td>\n",
       "    <\/tr>\n",
       "    <tr>\n",
       "      <th>107<\/th>\n",
       "      <td>Desserts<\/td>\n",
       "      <td>Hot Fudge Sundae<\/td>\n",
       "      <td>6.3 oz (179 g)<\/td>\n",
       "      <td>330<\/td>\n",
       "      <td>9.0<\/td>\n",
       "    <\/tr>\n",
       "  <\/tbody>\n",
       "<\/table>\n",
       "<\/div>"
      ]
     },
     "metadata":{},
     "output_type":"display_data"
    }
   ],
   "metadata":{
    "datalore":{
     "node_id":"mtHa0gWWpizB9twKG5SAKa",
     "type":"CODE",
     "hide_input_from_viewers":true,
     "hide_output_from_viewers":true
    }
   }
  },
  {
   "cell_type":"code",
   "source":[
    "frame.query('Category == \"Desserts\" and Calories < 200').head()"
   ],
   "execution_count":15,
   "outputs":[
    {
     "data":{
      "text\/html":[
       "<div>\n",
       "<style scoped>\n",
       "    .dataframe tbody tr th:only-of-type {\n",
       "        vertical-align: middle;\n",
       "    }\n",
       "\n",
       "    .dataframe tbody tr th {\n",
       "        vertical-align: top;\n",
       "    }\n",
       "\n",
       "    .dataframe thead th {\n",
       "        text-align: right;\n",
       "    }\n",
       "<\/style>\n",
       "<table border=\"1\" class=\"dataframe\">\n",
       "  <thead>\n",
       "    <tr style=\"text-align: right;\">\n",
       "      <th><\/th>\n",
       "      <th>Category<\/th>\n",
       "      <th>Item<\/th>\n",
       "      <th>Serving Size<\/th>\n",
       "      <th>Calories<\/th>\n",
       "      <th>TotalFat<\/th>\n",
       "    <\/tr>\n",
       "  <\/thead>\n",
       "  <tbody>\n",
       "    <tr>\n",
       "      <th>104<\/th>\n",
       "      <td>Desserts<\/td>\n",
       "      <td>Chocolate Chip Cookie<\/td>\n",
       "      <td>1 cookie (33 g)<\/td>\n",
       "      <td>160<\/td>\n",
       "      <td>8.0<\/td>\n",
       "    <\/tr>\n",
       "    <tr>\n",
       "      <th>105<\/th>\n",
       "      <td>Desserts<\/td>\n",
       "      <td>Oatmeal Raisin Cookie<\/td>\n",
       "      <td>1 cookie (33 g)<\/td>\n",
       "      <td>150<\/td>\n",
       "      <td>6.0<\/td>\n",
       "    <\/tr>\n",
       "    <tr>\n",
       "      <th>106<\/th>\n",
       "      <td>Desserts<\/td>\n",
       "      <td>Kids Ice Cream Cone<\/td>\n",
       "      <td>1 oz (29 g)<\/td>\n",
       "      <td>45<\/td>\n",
       "      <td>1.5<\/td>\n",
       "    <\/tr>\n",
       "  <\/tbody>\n",
       "<\/table>\n",
       "<\/div>"
      ]
     },
     "metadata":{},
     "output_type":"display_data"
    }
   ],
   "metadata":{
    "datalore":{
     "node_id":"qefC33ByNFFc0f5j7BQNoS",
     "type":"CODE",
     "hide_input_from_viewers":true,
     "hide_output_from_viewers":true
    }
   }
  },
  {
   "cell_type":"markdown",
   "source":[
    "# Zadanie"
   ],
   "attachments":{},
   "metadata":{
    "datalore":{
     "node_id":"Zadanie",
     "type":"MD",
     "hide_input_from_viewers":false,
     "hide_output_from_viewers":false,
     "sheet_delimiter":true
    }
   }
  },
  {
   "cell_type":"code",
   "source":[
    "import pandas as pd\n",
    "import numpy as np"
   ],
   "execution_count":16,
   "outputs":[],
   "metadata":{
    "datalore":{
     "node_id":"ACexsKWLhaQQnR91Dw7QVF",
     "type":"CODE",
     "hide_input_from_viewers":true,
     "hide_output_from_viewers":true
    }
   }
  },
  {
   "cell_type":"code",
   "source":[
    "animals = pd.read_csv(\n",
    "    'http:\/\/piotrdomagala.pl\/data\/sleep_time.csv',\n",
    "    index_col='ID'\n",
    ").fillna(0)"
   ],
   "execution_count":20,
   "outputs":[],
   "metadata":{
    "datalore":{
     "node_id":"bshHXlZnGd8OwORP1lH1Rl",
     "type":"CODE",
     "hide_input_from_viewers":true,
     "hide_output_from_viewers":true
    }
   }
  },
  {
   "cell_type":"code",
   "source":[
    "animals.head()"
   ],
   "execution_count":21,
   "outputs":[
    {
     "data":{
      "text\/html":[
       "<div>\n",
       "<style scoped>\n",
       "    .dataframe tbody tr th:only-of-type {\n",
       "        vertical-align: middle;\n",
       "    }\n",
       "\n",
       "    .dataframe tbody tr th {\n",
       "        vertical-align: top;\n",
       "    }\n",
       "\n",
       "    .dataframe thead th {\n",
       "        text-align: right;\n",
       "    }\n",
       "<\/style>\n",
       "<table border=\"1\" class=\"dataframe\">\n",
       "  <thead>\n",
       "    <tr style=\"text-align: right;\">\n",
       "      <th><\/th>\n",
       "      <th>name<\/th>\n",
       "      <th>genus<\/th>\n",
       "      <th>vore<\/th>\n",
       "      <th>order<\/th>\n",
       "      <th>conservation<\/th>\n",
       "      <th>sleep_total<\/th>\n",
       "      <th>sleep_rem<\/th>\n",
       "      <th>sleep_cycle<\/th>\n",
       "      <th>awake<\/th>\n",
       "      <th>brainwt<\/th>\n",
       "      <th>bodywt<\/th>\n",
       "    <\/tr>\n",
       "    <tr>\n",
       "      <th>ID<\/th>\n",
       "      <th><\/th>\n",
       "      <th><\/th>\n",
       "      <th><\/th>\n",
       "      <th><\/th>\n",
       "      <th><\/th>\n",
       "      <th><\/th>\n",
       "      <th><\/th>\n",
       "      <th><\/th>\n",
       "      <th><\/th>\n",
       "      <th><\/th>\n",
       "      <th><\/th>\n",
       "    <\/tr>\n",
       "  <\/thead>\n",
       "  <tbody>\n",
       "    <tr>\n",
       "      <th>1<\/th>\n",
       "      <td>Cheetah<\/td>\n",
       "      <td>Acinonyx<\/td>\n",
       "      <td>carni<\/td>\n",
       "      <td>Carnivora<\/td>\n",
       "      <td>lc<\/td>\n",
       "      <td>12.1<\/td>\n",
       "      <td>0.0<\/td>\n",
       "      <td>0.000000<\/td>\n",
       "      <td>11.9<\/td>\n",
       "      <td>0.00000<\/td>\n",
       "      <td>50.000<\/td>\n",
       "    <\/tr>\n",
       "    <tr>\n",
       "      <th>2<\/th>\n",
       "      <td>Owl monkey<\/td>\n",
       "      <td>Aotus<\/td>\n",
       "      <td>omni<\/td>\n",
       "      <td>Primates<\/td>\n",
       "      <td>0<\/td>\n",
       "      <td>17.0<\/td>\n",
       "      <td>1.8<\/td>\n",
       "      <td>0.000000<\/td>\n",
       "      <td>7.0<\/td>\n",
       "      <td>0.01550<\/td>\n",
       "      <td>0.480<\/td>\n",
       "    <\/tr>\n",
       "    <tr>\n",
       "      <th>3<\/th>\n",
       "      <td>Mountain beaver<\/td>\n",
       "      <td>Aplodontia<\/td>\n",
       "      <td>herbi<\/td>\n",
       "      <td>Rodentia<\/td>\n",
       "      <td>nt<\/td>\n",
       "      <td>14.4<\/td>\n",
       "      <td>2.4<\/td>\n",
       "      <td>0.000000<\/td>\n",
       "      <td>9.6<\/td>\n",
       "      <td>0.00000<\/td>\n",
       "      <td>1.350<\/td>\n",
       "    <\/tr>\n",
       "    <tr>\n",
       "      <th>4<\/th>\n",
       "      <td>Greater short-tailed shrew<\/td>\n",
       "      <td>Blarina<\/td>\n",
       "      <td>omni<\/td>\n",
       "      <td>Soricomorpha<\/td>\n",
       "      <td>lc<\/td>\n",
       "      <td>14.9<\/td>\n",
       "      <td>2.3<\/td>\n",
       "      <td>0.133333<\/td>\n",
       "      <td>9.1<\/td>\n",
       "      <td>0.00029<\/td>\n",
       "      <td>0.019<\/td>\n",
       "    <\/tr>\n",
       "    <tr>\n",
       "      <th>5<\/th>\n",
       "      <td>Cow<\/td>\n",
       "      <td>Bos<\/td>\n",
       "      <td>herbi<\/td>\n",
       "      <td>Artiodactyla<\/td>\n",
       "      <td>domesticated<\/td>\n",
       "      <td>4.0<\/td>\n",
       "      <td>0.7<\/td>\n",
       "      <td>0.666667<\/td>\n",
       "      <td>20.0<\/td>\n",
       "      <td>0.42300<\/td>\n",
       "      <td>600.000<\/td>\n",
       "    <\/tr>\n",
       "  <\/tbody>\n",
       "<\/table>\n",
       "<\/div>"
      ]
     },
     "metadata":{},
     "output_type":"display_data"
    }
   ],
   "metadata":{
    "datalore":{
     "node_id":"I9Z07Sqyla6RjJKSi6sS3F",
     "type":"CODE",
     "hide_input_from_viewers":true,
     "hide_output_from_viewers":true
    }
   }
  },
  {
   "cell_type":"code",
   "source":[
    "herbi_animals = animals['vore'] == 'herbi'\n",
    "herbi = animals.where(herbi_animals)"
   ],
   "execution_count":28,
   "outputs":[],
   "metadata":{
    "datalore":{
     "node_id":"RVu2chVRwbnlhMHFKgMQHQ",
     "type":"CODE",
     "hide_input_from_viewers":true,
     "hide_output_from_viewers":true
    }
   }
  },
  {
   "cell_type":"code",
   "source":[
    "len(herbi)"
   ],
   "execution_count":35,
   "outputs":[
    {
     "data":{
      "text\/plain":[
       "83"
      ]
     },
     "metadata":{},
     "output_type":"display_data"
    }
   ],
   "metadata":{
    "datalore":{
     "node_id":"z97Qk9aWLEP88LmgyEbXNo",
     "type":"CODE",
     "hide_input_from_viewers":true,
     "hide_output_from_viewers":true
    }
   }
  },
  {
   "cell_type":"code",
   "source":[
    "len(herbi.dropna())"
   ],
   "execution_count":36,
   "outputs":[
    {
     "data":{
      "text\/plain":[
       "32"
      ]
     },
     "metadata":{},
     "output_type":"display_data"
    }
   ],
   "metadata":{
    "datalore":{
     "node_id":"qjyfoMVbdMdrNNewQlgKuk",
     "type":"CODE",
     "hide_input_from_viewers":true,
     "hide_output_from_viewers":true
    }
   }
  },
  {
   "cell_type":"code",
   "source":[
    "carni_animals = animals['vore'] == 'carni'\n",
    "carni = animals.where(carni_animals)"
   ],
   "execution_count":48,
   "outputs":[],
   "metadata":{
    "datalore":{
     "node_id":"RyNkSWurEHLkyRaqHpFdS1",
     "type":"CODE",
     "hide_input_from_viewers":true,
     "hide_output_from_viewers":true
    }
   }
  },
  {
   "cell_type":"code",
   "source":[
    "len(carni)"
   ],
   "execution_count":49,
   "outputs":[
    {
     "data":{
      "text\/plain":[
       "83"
      ]
     },
     "metadata":{},
     "output_type":"display_data"
    }
   ],
   "metadata":{
    "datalore":{
     "node_id":"AYJoX9bOKEYGTydPI392zz",
     "type":"CODE",
     "hide_input_from_viewers":true,
     "hide_output_from_viewers":true
    }
   }
  },
  {
   "cell_type":"code",
   "source":[
    "len(carni.dropna())"
   ],
   "execution_count":50,
   "outputs":[
    {
     "data":{
      "text\/plain":[
       "19"
      ]
     },
     "metadata":{},
     "output_type":"display_data"
    }
   ],
   "metadata":{
    "datalore":{
     "node_id":"cogi6W31wV6QsrYYyrfo9u",
     "type":"CODE",
     "hide_input_from_viewers":true,
     "hide_output_from_viewers":true
    }
   }
  },
  {
   "cell_type":"code",
   "source":[
    "omni = animals.where( animals['vore'] == 'omni')\n",
    "print(len(omni))\n",
    "print(len(omni.dropna()))"
   ],
   "execution_count":40,
   "outputs":[
    {
     "name":"stdout",
     "text":[
      "83\n",
      "20\n"
     ],
     "output_type":"stream"
    }
   ],
   "metadata":{
    "datalore":{
     "node_id":"xjCtmk2UDn4iBZ8buPcRxa",
     "type":"CODE",
     "hide_input_from_viewers":true,
     "hide_output_from_viewers":true
    }
   }
  },
  {
   "cell_type":"code",
   "source":[
    "animals['sleep_total'].mean()\n"
   ],
   "execution_count":46,
   "outputs":[
    {
     "data":{
      "text\/plain":[
       "10.433734939759034"
      ]
     },
     "metadata":{},
     "output_type":"display_data"
    }
   ],
   "metadata":{
    "datalore":{
     "node_id":"eUOtzsMycdxID1FqqaCVVu",
     "type":"CODE",
     "hide_input_from_viewers":true,
     "hide_output_from_viewers":true
    }
   }
  },
  {
   "cell_type":"code",
   "source":[
    "carni['sleep_total'].mean()"
   ],
   "execution_count":51,
   "outputs":[
    {
     "data":{
      "text\/plain":[
       "10.378947368421052"
      ]
     },
     "metadata":{},
     "output_type":"display_data"
    }
   ],
   "metadata":{
    "datalore":{
     "node_id":"BwsOywnkEwDvJ1Nf7DfSP6",
     "type":"CODE",
     "hide_input_from_viewers":true,
     "hide_output_from_viewers":true
    }
   }
  },
  {
   "cell_type":"code",
   "source":[
    "herbi['sleep_total'].mean()"
   ],
   "execution_count":52,
   "outputs":[
    {
     "data":{
      "text\/plain":[
       "9.509374999999999"
      ]
     },
     "metadata":{},
     "output_type":"display_data"
    }
   ],
   "metadata":{
    "datalore":{
     "node_id":"Q8UWVMcDyhDHjNhEMKrB6M",
     "type":"CODE",
     "hide_input_from_viewers":true,
     "hide_output_from_viewers":true
    }
   }
  },
  {
   "cell_type":"code",
   "source":[
    "omni['sleep_total'].mean()"
   ],
   "execution_count":53,
   "outputs":[
    {
     "data":{
      "text\/plain":[
       "10.925"
      ]
     },
     "metadata":{},
     "output_type":"display_data"
    }
   ],
   "metadata":{
    "datalore":{
     "node_id":"D8yKX4sIWyE4qOaP8Z4uUV",
     "type":"CODE",
     "hide_input_from_viewers":true,
     "hide_output_from_viewers":true
    }
   }
  },
  {
   "cell_type":"code",
   "source":[
    "animals.query('sleep_total > 14')"
   ],
   "execution_count":54,
   "outputs":[
    {
     "data":{
      "text\/html":[
       "<div>\n",
       "<style scoped>\n",
       "    .dataframe tbody tr th:only-of-type {\n",
       "        vertical-align: middle;\n",
       "    }\n",
       "\n",
       "    .dataframe tbody tr th {\n",
       "        vertical-align: top;\n",
       "    }\n",
       "\n",
       "    .dataframe thead th {\n",
       "        text-align: right;\n",
       "    }\n",
       "<\/style>\n",
       "<table border=\"1\" class=\"dataframe\">\n",
       "  <thead>\n",
       "    <tr style=\"text-align: right;\">\n",
       "      <th><\/th>\n",
       "      <th>name<\/th>\n",
       "      <th>genus<\/th>\n",
       "      <th>vore<\/th>\n",
       "      <th>order<\/th>\n",
       "      <th>conservation<\/th>\n",
       "      <th>sleep_total<\/th>\n",
       "      <th>sleep_rem<\/th>\n",
       "      <th>sleep_cycle<\/th>\n",
       "      <th>awake<\/th>\n",
       "      <th>brainwt<\/th>\n",
       "      <th>bodywt<\/th>\n",
       "    <\/tr>\n",
       "    <tr>\n",
       "      <th>ID<\/th>\n",
       "      <th><\/th>\n",
       "      <th><\/th>\n",
       "      <th><\/th>\n",
       "      <th><\/th>\n",
       "      <th><\/th>\n",
       "      <th><\/th>\n",
       "      <th><\/th>\n",
       "      <th><\/th>\n",
       "      <th><\/th>\n",
       "      <th><\/th>\n",
       "      <th><\/th>\n",
       "    <\/tr>\n",
       "  <\/thead>\n",
       "  <tbody>\n",
       "    <tr>\n",
       "      <th>2<\/th>\n",
       "      <td>Owl monkey<\/td>\n",
       "      <td>Aotus<\/td>\n",
       "      <td>omni<\/td>\n",
       "      <td>Primates<\/td>\n",
       "      <td>0<\/td>\n",
       "      <td>17.0<\/td>\n",
       "      <td>1.8<\/td>\n",
       "      <td>0.000000<\/td>\n",
       "      <td>7.0<\/td>\n",
       "      <td>0.01550<\/td>\n",
       "      <td>0.480<\/td>\n",
       "    <\/tr>\n",
       "    <tr>\n",
       "      <th>3<\/th>\n",
       "      <td>Mountain beaver<\/td>\n",
       "      <td>Aplodontia<\/td>\n",
       "      <td>herbi<\/td>\n",
       "      <td>Rodentia<\/td>\n",
       "      <td>nt<\/td>\n",
       "      <td>14.4<\/td>\n",
       "      <td>2.4<\/td>\n",
       "      <td>0.000000<\/td>\n",
       "      <td>9.6<\/td>\n",
       "      <td>0.00000<\/td>\n",
       "      <td>1.350<\/td>\n",
       "    <\/tr>\n",
       "    <tr>\n",
       "      <th>4<\/th>\n",
       "      <td>Greater short-tailed shrew<\/td>\n",
       "      <td>Blarina<\/td>\n",
       "      <td>omni<\/td>\n",
       "      <td>Soricomorpha<\/td>\n",
       "      <td>lc<\/td>\n",
       "      <td>14.9<\/td>\n",
       "      <td>2.3<\/td>\n",
       "      <td>0.133333<\/td>\n",
       "      <td>9.1<\/td>\n",
       "      <td>0.00029<\/td>\n",
       "      <td>0.019<\/td>\n",
       "    <\/tr>\n",
       "    <tr>\n",
       "      <th>6<\/th>\n",
       "      <td>Three-toed sloth<\/td>\n",
       "      <td>Bradypus<\/td>\n",
       "      <td>herbi<\/td>\n",
       "      <td>Pilosa<\/td>\n",
       "      <td>0<\/td>\n",
       "      <td>14.4<\/td>\n",
       "      <td>2.2<\/td>\n",
       "      <td>0.766667<\/td>\n",
       "      <td>9.6<\/td>\n",
       "      <td>0.00000<\/td>\n",
       "      <td>3.850<\/td>\n",
       "    <\/tr>\n",
       "    <tr>\n",
       "      <th>18<\/th>\n",
       "      <td>Long-nosed armadillo<\/td>\n",
       "      <td>Dasypus<\/td>\n",
       "      <td>carni<\/td>\n",
       "      <td>Cingulata<\/td>\n",
       "      <td>lc<\/td>\n",
       "      <td>17.4<\/td>\n",
       "      <td>3.1<\/td>\n",
       "      <td>0.383333<\/td>\n",
       "      <td>6.6<\/td>\n",
       "      <td>0.01080<\/td>\n",
       "      <td>3.500<\/td>\n",
       "    <\/tr>\n",
       "    <tr>\n",
       "      <th>20<\/th>\n",
       "      <td>North American Opossum<\/td>\n",
       "      <td>Didelphis<\/td>\n",
       "      <td>omni<\/td>\n",
       "      <td>Didelphimorphia<\/td>\n",
       "      <td>lc<\/td>\n",
       "      <td>18.0<\/td>\n",
       "      <td>4.9<\/td>\n",
       "      <td>0.333333<\/td>\n",
       "      <td>6.0<\/td>\n",
       "      <td>0.00630<\/td>\n",
       "      <td>1.700<\/td>\n",
       "    <\/tr>\n",
       "    <tr>\n",
       "      <th>22<\/th>\n",
       "      <td>Big brown bat<\/td>\n",
       "      <td>Eptesicus<\/td>\n",
       "      <td>insecti<\/td>\n",
       "      <td>Chiroptera<\/td>\n",
       "      <td>lc<\/td>\n",
       "      <td>19.7<\/td>\n",
       "      <td>3.9<\/td>\n",
       "      <td>0.116667<\/td>\n",
       "      <td>4.3<\/td>\n",
       "      <td>0.00030<\/td>\n",
       "      <td>0.023<\/td>\n",
       "    <\/tr>\n",
       "    <tr>\n",
       "      <th>27<\/th>\n",
       "      <td>Western american chipmunk<\/td>\n",
       "      <td>Eutamias<\/td>\n",
       "      <td>herbi<\/td>\n",
       "      <td>Rodentia<\/td>\n",
       "      <td>0<\/td>\n",
       "      <td>14.9<\/td>\n",
       "      <td>0.0<\/td>\n",
       "      <td>0.000000<\/td>\n",
       "      <td>9.1<\/td>\n",
       "      <td>0.00000<\/td>\n",
       "      <td>0.071<\/td>\n",
       "    <\/tr>\n",
       "    <tr>\n",
       "      <th>37<\/th>\n",
       "      <td>Thick-tailed opposum<\/td>\n",
       "      <td>Lutreolina<\/td>\n",
       "      <td>carni<\/td>\n",
       "      <td>Didelphimorphia<\/td>\n",
       "      <td>lc<\/td>\n",
       "      <td>19.4<\/td>\n",
       "      <td>6.6<\/td>\n",
       "      <td>0.000000<\/td>\n",
       "      <td>4.6<\/td>\n",
       "      <td>0.00000<\/td>\n",
       "      <td>0.370<\/td>\n",
       "    <\/tr>\n",
       "    <tr>\n",
       "      <th>39<\/th>\n",
       "      <td>Mongolian gerbil<\/td>\n",
       "      <td>Meriones<\/td>\n",
       "      <td>herbi<\/td>\n",
       "      <td>Rodentia<\/td>\n",
       "      <td>lc<\/td>\n",
       "      <td>14.2<\/td>\n",
       "      <td>1.9<\/td>\n",
       "      <td>0.000000<\/td>\n",
       "      <td>9.8<\/td>\n",
       "      <td>0.00000<\/td>\n",
       "      <td>0.053<\/td>\n",
       "    <\/tr>\n",
       "    <tr>\n",
       "      <th>40<\/th>\n",
       "      <td>Golden hamster<\/td>\n",
       "      <td>Mesocricetus<\/td>\n",
       "      <td>herbi<\/td>\n",
       "      <td>Rodentia<\/td>\n",
       "      <td>en<\/td>\n",
       "      <td>14.3<\/td>\n",
       "      <td>3.1<\/td>\n",
       "      <td>0.200000<\/td>\n",
       "      <td>9.7<\/td>\n",
       "      <td>0.00100<\/td>\n",
       "      <td>0.120<\/td>\n",
       "    <\/tr>\n",
       "    <tr>\n",
       "      <th>43<\/th>\n",
       "      <td>Little brown bat<\/td>\n",
       "      <td>Myotis<\/td>\n",
       "      <td>insecti<\/td>\n",
       "      <td>Chiroptera<\/td>\n",
       "      <td>0<\/td>\n",
       "      <td>19.9<\/td>\n",
       "      <td>2.0<\/td>\n",
       "      <td>0.200000<\/td>\n",
       "      <td>4.1<\/td>\n",
       "      <td>0.00025<\/td>\n",
       "      <td>0.010<\/td>\n",
       "    <\/tr>\n",
       "    <tr>\n",
       "      <th>44<\/th>\n",
       "      <td>Round-tailed muskrat<\/td>\n",
       "      <td>Neofiber<\/td>\n",
       "      <td>herbi<\/td>\n",
       "      <td>Rodentia<\/td>\n",
       "      <td>nt<\/td>\n",
       "      <td>14.6<\/td>\n",
       "      <td>0.0<\/td>\n",
       "      <td>0.000000<\/td>\n",
       "      <td>9.4<\/td>\n",
       "      <td>0.00000<\/td>\n",
       "      <td>0.266<\/td>\n",
       "    <\/tr>\n",
       "    <tr>\n",
       "      <th>47<\/th>\n",
       "      <td>Northern grasshopper mouse<\/td>\n",
       "      <td>Onychomys<\/td>\n",
       "      <td>carni<\/td>\n",
       "      <td>Rodentia<\/td>\n",
       "      <td>lc<\/td>\n",
       "      <td>14.5<\/td>\n",
       "      <td>0.0<\/td>\n",
       "      <td>0.000000<\/td>\n",
       "      <td>9.5<\/td>\n",
       "      <td>0.00000<\/td>\n",
       "      <td>0.028<\/td>\n",
       "    <\/tr>\n",
       "    <tr>\n",
       "      <th>51<\/th>\n",
       "      <td>Tiger<\/td>\n",
       "      <td>Panthera<\/td>\n",
       "      <td>carni<\/td>\n",
       "      <td>Carnivora<\/td>\n",
       "      <td>en<\/td>\n",
       "      <td>15.8<\/td>\n",
       "      <td>0.0<\/td>\n",
       "      <td>0.000000<\/td>\n",
       "      <td>8.2<\/td>\n",
       "      <td>0.00000<\/td>\n",
       "      <td>162.564<\/td>\n",
       "    <\/tr>\n",
       "    <tr>\n",
       "      <th>62<\/th>\n",
       "      <td>Giant armadillo<\/td>\n",
       "      <td>Priodontes<\/td>\n",
       "      <td>insecti<\/td>\n",
       "      <td>Cingulata<\/td>\n",
       "      <td>en<\/td>\n",
       "      <td>18.1<\/td>\n",
       "      <td>6.1<\/td>\n",
       "      <td>0.000000<\/td>\n",
       "      <td>5.9<\/td>\n",
       "      <td>0.08100<\/td>\n",
       "      <td>60.000<\/td>\n",
       "    <\/tr>\n",
       "    <tr>\n",
       "      <th>70<\/th>\n",
       "      <td>Arctic ground squirrel<\/td>\n",
       "      <td>Spermophilus<\/td>\n",
       "      <td>herbi<\/td>\n",
       "      <td>Rodentia<\/td>\n",
       "      <td>lc<\/td>\n",
       "      <td>16.6<\/td>\n",
       "      <td>0.0<\/td>\n",
       "      <td>0.000000<\/td>\n",
       "      <td>7.4<\/td>\n",
       "      <td>0.00570<\/td>\n",
       "      <td>0.920<\/td>\n",
       "    <\/tr>\n",
       "    <tr>\n",
       "      <th>72<\/th>\n",
       "      <td>Golden-mantled ground squirrel<\/td>\n",
       "      <td>Spermophilus<\/td>\n",
       "      <td>herbi<\/td>\n",
       "      <td>Rodentia<\/td>\n",
       "      <td>lc<\/td>\n",
       "      <td>15.9<\/td>\n",
       "      <td>3.0<\/td>\n",
       "      <td>0.000000<\/td>\n",
       "      <td>8.1<\/td>\n",
       "      <td>0.00000<\/td>\n",
       "      <td>0.205<\/td>\n",
       "    <\/tr>\n",
       "    <tr>\n",
       "      <th>76<\/th>\n",
       "      <td>Eastern american chipmunk<\/td>\n",
       "      <td>Tamias<\/td>\n",
       "      <td>herbi<\/td>\n",
       "      <td>Rodentia<\/td>\n",
       "      <td>0<\/td>\n",
       "      <td>15.8<\/td>\n",
       "      <td>0.0<\/td>\n",
       "      <td>0.000000<\/td>\n",
       "      <td>8.2<\/td>\n",
       "      <td>0.00000<\/td>\n",
       "      <td>0.112<\/td>\n",
       "    <\/tr>\n",
       "    <tr>\n",
       "      <th>78<\/th>\n",
       "      <td>Tenrec<\/td>\n",
       "      <td>Tenrec<\/td>\n",
       "      <td>omni<\/td>\n",
       "      <td>Afrosoricida<\/td>\n",
       "      <td>0<\/td>\n",
       "      <td>15.6<\/td>\n",
       "      <td>2.3<\/td>\n",
       "      <td>0.000000<\/td>\n",
       "      <td>8.4<\/td>\n",
       "      <td>0.00260<\/td>\n",
       "      <td>0.900<\/td>\n",
       "    <\/tr>\n",
       "  <\/tbody>\n",
       "<\/table>\n",
       "<\/div>"
      ]
     },
     "metadata":{},
     "output_type":"display_data"
    }
   ],
   "metadata":{
    "datalore":{
     "node_id":"JbbCqxRlvpEWPigBVpeWLF",
     "type":"CODE",
     "hide_input_from_viewers":true,
     "hide_output_from_viewers":true
    }
   }
  },
  {
   "cell_type":"code",
   "source":[
    "animals.query('sleep_total > 14 and vore == \"herbi\"')"
   ],
   "execution_count":55,
   "outputs":[
    {
     "data":{
      "text\/html":[
       "<div>\n",
       "<style scoped>\n",
       "    .dataframe tbody tr th:only-of-type {\n",
       "        vertical-align: middle;\n",
       "    }\n",
       "\n",
       "    .dataframe tbody tr th {\n",
       "        vertical-align: top;\n",
       "    }\n",
       "\n",
       "    .dataframe thead th {\n",
       "        text-align: right;\n",
       "    }\n",
       "<\/style>\n",
       "<table border=\"1\" class=\"dataframe\">\n",
       "  <thead>\n",
       "    <tr style=\"text-align: right;\">\n",
       "      <th><\/th>\n",
       "      <th>name<\/th>\n",
       "      <th>genus<\/th>\n",
       "      <th>vore<\/th>\n",
       "      <th>order<\/th>\n",
       "      <th>conservation<\/th>\n",
       "      <th>sleep_total<\/th>\n",
       "      <th>sleep_rem<\/th>\n",
       "      <th>sleep_cycle<\/th>\n",
       "      <th>awake<\/th>\n",
       "      <th>brainwt<\/th>\n",
       "      <th>bodywt<\/th>\n",
       "    <\/tr>\n",
       "    <tr>\n",
       "      <th>ID<\/th>\n",
       "      <th><\/th>\n",
       "      <th><\/th>\n",
       "      <th><\/th>\n",
       "      <th><\/th>\n",
       "      <th><\/th>\n",
       "      <th><\/th>\n",
       "      <th><\/th>\n",
       "      <th><\/th>\n",
       "      <th><\/th>\n",
       "      <th><\/th>\n",
       "      <th><\/th>\n",
       "    <\/tr>\n",
       "  <\/thead>\n",
       "  <tbody>\n",
       "    <tr>\n",
       "      <th>3<\/th>\n",
       "      <td>Mountain beaver<\/td>\n",
       "      <td>Aplodontia<\/td>\n",
       "      <td>herbi<\/td>\n",
       "      <td>Rodentia<\/td>\n",
       "      <td>nt<\/td>\n",
       "      <td>14.4<\/td>\n",
       "      <td>2.4<\/td>\n",
       "      <td>0.000000<\/td>\n",
       "      <td>9.6<\/td>\n",
       "      <td>0.0000<\/td>\n",
       "      <td>1.350<\/td>\n",
       "    <\/tr>\n",
       "    <tr>\n",
       "      <th>6<\/th>\n",
       "      <td>Three-toed sloth<\/td>\n",
       "      <td>Bradypus<\/td>\n",
       "      <td>herbi<\/td>\n",
       "      <td>Pilosa<\/td>\n",
       "      <td>0<\/td>\n",
       "      <td>14.4<\/td>\n",
       "      <td>2.2<\/td>\n",
       "      <td>0.766667<\/td>\n",
       "      <td>9.6<\/td>\n",
       "      <td>0.0000<\/td>\n",
       "      <td>3.850<\/td>\n",
       "    <\/tr>\n",
       "    <tr>\n",
       "      <th>27<\/th>\n",
       "      <td>Western american chipmunk<\/td>\n",
       "      <td>Eutamias<\/td>\n",
       "      <td>herbi<\/td>\n",
       "      <td>Rodentia<\/td>\n",
       "      <td>0<\/td>\n",
       "      <td>14.9<\/td>\n",
       "      <td>0.0<\/td>\n",
       "      <td>0.000000<\/td>\n",
       "      <td>9.1<\/td>\n",
       "      <td>0.0000<\/td>\n",
       "      <td>0.071<\/td>\n",
       "    <\/tr>\n",
       "    <tr>\n",
       "      <th>39<\/th>\n",
       "      <td>Mongolian gerbil<\/td>\n",
       "      <td>Meriones<\/td>\n",
       "      <td>herbi<\/td>\n",
       "      <td>Rodentia<\/td>\n",
       "      <td>lc<\/td>\n",
       "      <td>14.2<\/td>\n",
       "      <td>1.9<\/td>\n",
       "      <td>0.000000<\/td>\n",
       "      <td>9.8<\/td>\n",
       "      <td>0.0000<\/td>\n",
       "      <td>0.053<\/td>\n",
       "    <\/tr>\n",
       "    <tr>\n",
       "      <th>40<\/th>\n",
       "      <td>Golden hamster<\/td>\n",
       "      <td>Mesocricetus<\/td>\n",
       "      <td>herbi<\/td>\n",
       "      <td>Rodentia<\/td>\n",
       "      <td>en<\/td>\n",
       "      <td>14.3<\/td>\n",
       "      <td>3.1<\/td>\n",
       "      <td>0.200000<\/td>\n",
       "      <td>9.7<\/td>\n",
       "      <td>0.0010<\/td>\n",
       "      <td>0.120<\/td>\n",
       "    <\/tr>\n",
       "    <tr>\n",
       "      <th>44<\/th>\n",
       "      <td>Round-tailed muskrat<\/td>\n",
       "      <td>Neofiber<\/td>\n",
       "      <td>herbi<\/td>\n",
       "      <td>Rodentia<\/td>\n",
       "      <td>nt<\/td>\n",
       "      <td>14.6<\/td>\n",
       "      <td>0.0<\/td>\n",
       "      <td>0.000000<\/td>\n",
       "      <td>9.4<\/td>\n",
       "      <td>0.0000<\/td>\n",
       "      <td>0.266<\/td>\n",
       "    <\/tr>\n",
       "    <tr>\n",
       "      <th>70<\/th>\n",
       "      <td>Arctic ground squirrel<\/td>\n",
       "      <td>Spermophilus<\/td>\n",
       "      <td>herbi<\/td>\n",
       "      <td>Rodentia<\/td>\n",
       "      <td>lc<\/td>\n",
       "      <td>16.6<\/td>\n",
       "      <td>0.0<\/td>\n",
       "      <td>0.000000<\/td>\n",
       "      <td>7.4<\/td>\n",
       "      <td>0.0057<\/td>\n",
       "      <td>0.920<\/td>\n",
       "    <\/tr>\n",
       "    <tr>\n",
       "      <th>72<\/th>\n",
       "      <td>Golden-mantled ground squirrel<\/td>\n",
       "      <td>Spermophilus<\/td>\n",
       "      <td>herbi<\/td>\n",
       "      <td>Rodentia<\/td>\n",
       "      <td>lc<\/td>\n",
       "      <td>15.9<\/td>\n",
       "      <td>3.0<\/td>\n",
       "      <td>0.000000<\/td>\n",
       "      <td>8.1<\/td>\n",
       "      <td>0.0000<\/td>\n",
       "      <td>0.205<\/td>\n",
       "    <\/tr>\n",
       "    <tr>\n",
       "      <th>76<\/th>\n",
       "      <td>Eastern american chipmunk<\/td>\n",
       "      <td>Tamias<\/td>\n",
       "      <td>herbi<\/td>\n",
       "      <td>Rodentia<\/td>\n",
       "      <td>0<\/td>\n",
       "      <td>15.8<\/td>\n",
       "      <td>0.0<\/td>\n",
       "      <td>0.000000<\/td>\n",
       "      <td>8.2<\/td>\n",
       "      <td>0.0000<\/td>\n",
       "      <td>0.112<\/td>\n",
       "    <\/tr>\n",
       "  <\/tbody>\n",
       "<\/table>\n",
       "<\/div>"
      ]
     },
     "metadata":{},
     "output_type":"display_data"
    }
   ],
   "metadata":{
    "datalore":{
     "node_id":"PKaryfcLYaY3NhlUtc17VQ",
     "type":"CODE",
     "hide_input_from_viewers":true,
     "hide_output_from_viewers":true
    }
   }
  },
  {
   "cell_type":"code",
   "source":[
    "animals.query('sleep_total > 14 and vore == \"herbi\" and bodywt > 1')"
   ],
   "execution_count":56,
   "outputs":[
    {
     "data":{
      "text\/html":[
       "<div>\n",
       "<style scoped>\n",
       "    .dataframe tbody tr th:only-of-type {\n",
       "        vertical-align: middle;\n",
       "    }\n",
       "\n",
       "    .dataframe tbody tr th {\n",
       "        vertical-align: top;\n",
       "    }\n",
       "\n",
       "    .dataframe thead th {\n",
       "        text-align: right;\n",
       "    }\n",
       "<\/style>\n",
       "<table border=\"1\" class=\"dataframe\">\n",
       "  <thead>\n",
       "    <tr style=\"text-align: right;\">\n",
       "      <th><\/th>\n",
       "      <th>name<\/th>\n",
       "      <th>genus<\/th>\n",
       "      <th>vore<\/th>\n",
       "      <th>order<\/th>\n",
       "      <th>conservation<\/th>\n",
       "      <th>sleep_total<\/th>\n",
       "      <th>sleep_rem<\/th>\n",
       "      <th>sleep_cycle<\/th>\n",
       "      <th>awake<\/th>\n",
       "      <th>brainwt<\/th>\n",
       "      <th>bodywt<\/th>\n",
       "    <\/tr>\n",
       "    <tr>\n",
       "      <th>ID<\/th>\n",
       "      <th><\/th>\n",
       "      <th><\/th>\n",
       "      <th><\/th>\n",
       "      <th><\/th>\n",
       "      <th><\/th>\n",
       "      <th><\/th>\n",
       "      <th><\/th>\n",
       "      <th><\/th>\n",
       "      <th><\/th>\n",
       "      <th><\/th>\n",
       "      <th><\/th>\n",
       "    <\/tr>\n",
       "  <\/thead>\n",
       "  <tbody>\n",
       "    <tr>\n",
       "      <th>3<\/th>\n",
       "      <td>Mountain beaver<\/td>\n",
       "      <td>Aplodontia<\/td>\n",
       "      <td>herbi<\/td>\n",
       "      <td>Rodentia<\/td>\n",
       "      <td>nt<\/td>\n",
       "      <td>14.4<\/td>\n",
       "      <td>2.4<\/td>\n",
       "      <td>0.000000<\/td>\n",
       "      <td>9.6<\/td>\n",
       "      <td>0.0<\/td>\n",
       "      <td>1.35<\/td>\n",
       "    <\/tr>\n",
       "    <tr>\n",
       "      <th>6<\/th>\n",
       "      <td>Three-toed sloth<\/td>\n",
       "      <td>Bradypus<\/td>\n",
       "      <td>herbi<\/td>\n",
       "      <td>Pilosa<\/td>\n",
       "      <td>0<\/td>\n",
       "      <td>14.4<\/td>\n",
       "      <td>2.2<\/td>\n",
       "      <td>0.766667<\/td>\n",
       "      <td>9.6<\/td>\n",
       "      <td>0.0<\/td>\n",
       "      <td>3.85<\/td>\n",
       "    <\/tr>\n",
       "  <\/tbody>\n",
       "<\/table>\n",
       "<\/div>"
      ]
     },
     "metadata":{},
     "output_type":"display_data"
    }
   ],
   "metadata":{
    "datalore":{
     "node_id":"boC1ERnw6JirtQIABk6PWL",
     "type":"CODE",
     "hide_input_from_viewers":true,
     "hide_output_from_viewers":true
    }
   }
  }
 ],
 "metadata":{
  "kernelspec":{
   "display_name":"Python",
   "language":"python",
   "name":"python"
  },
  "datalore":{
   "computation_mode":"JUPYTER",
   "package_manager":"pip",
   "base_environment":"default",
   "packages":[],
   "report_row_ids":[],
   "version":3
  }
 },
 "nbformat":4,
 "nbformat_minor":4
}