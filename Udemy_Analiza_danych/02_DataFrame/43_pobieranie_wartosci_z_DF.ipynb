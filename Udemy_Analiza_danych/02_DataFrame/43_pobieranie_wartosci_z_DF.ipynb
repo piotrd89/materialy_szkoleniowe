{
 "cells":[
  {
   "cell_type":"markdown",
   "source":[
    "# Wstęp"
   ],
   "attachments":{},
   "metadata":{
    "datalore":{
     "node_id":"Wstęp",
     "type":"MD",
     "hide_input_from_viewers":false,
     "hide_output_from_viewers":false,
     "sheet_delimiter":true
    }
   }
  },
  {
   "cell_type":"code",
   "source":[
    "import pandas as pd"
   ],
   "execution_count":1,
   "outputs":[],
   "metadata":{
    "datalore":{
     "node_id":"VH3ftitAjmpEvXk9X3jpyv",
     "type":"CODE",
     "hide_input_from_viewers":true,
     "hide_output_from_viewers":true
    }
   }
  },
  {
   "cell_type":"code",
   "source":[
    "frame = pd.read_csv('http:\/\/piotrdomagala.pl\/data\/Mcdonalds.csv')"
   ],
   "execution_count":4,
   "outputs":[],
   "metadata":{
    "datalore":{
     "node_id":"fb5yCHoudUo8M1z45wHlxp",
     "type":"CODE",
     "hide_input_from_viewers":true,
     "hide_output_from_viewers":true
    }
   }
  },
  {
   "cell_type":"code",
   "source":[
    "series = pd.read_csv('http:\/\/piotrdomagala.pl\/data\/Mcdonalds.csv', usecols=['Item', 'Calories'], index_col='Item').squeeze()"
   ],
   "execution_count":3,
   "outputs":[],
   "metadata":{
    "datalore":{
     "node_id":"ZvmYjFvn0ILrlp8Jqx9OqO",
     "type":"CODE",
     "hide_input_from_viewers":true,
     "hide_output_from_viewers":true
    }
   }
  },
  {
   "cell_type":"code",
   "source":[
    "type(frame)"
   ],
   "execution_count":7,
   "outputs":[
    {
     "data":{
      "text\/plain":[
       "pandas.core.frame.DataFrame"
      ]
     },
     "metadata":{},
     "output_type":"display_data"
    }
   ],
   "metadata":{
    "datalore":{
     "node_id":"SjBLHoucP11GyqG8irRLOn",
     "type":"CODE",
     "hide_input_from_viewers":true,
     "hide_output_from_viewers":true
    }
   }
  },
  {
   "cell_type":"code",
   "source":[
    "type(series)"
   ],
   "execution_count":8,
   "outputs":[
    {
     "data":{
      "text\/plain":[
       "pandas.core.series.Series"
      ]
     },
     "metadata":{},
     "output_type":"display_data"
    }
   ],
   "metadata":{
    "datalore":{
     "node_id":"Ub2P7SzYYgt5ELHkUIK6Dn",
     "type":"CODE",
     "hide_input_from_viewers":true,
     "hide_output_from_viewers":true
    }
   }
  },
  {
   "cell_type":"code",
   "source":[
    "type(frame.Calories)"
   ],
   "execution_count":9,
   "outputs":[
    {
     "data":{
      "text\/plain":[
       "pandas.core.series.Series"
      ]
     },
     "metadata":{},
     "output_type":"display_data"
    }
   ],
   "metadata":{
    "datalore":{
     "node_id":"N7DixBUCT6Eu9hPzY1HAfX",
     "type":"CODE",
     "hide_input_from_viewers":true,
     "hide_output_from_viewers":true
    }
   }
  },
  {
   "cell_type":"code",
   "source":[
    "frame.Calories.mean()"
   ],
   "execution_count":10,
   "outputs":[
    {
     "data":{
      "text\/plain":[
       "368.2692307692308"
      ]
     },
     "metadata":{},
     "output_type":"display_data"
    }
   ],
   "metadata":{
    "datalore":{
     "node_id":"eKJsiD7cmpgX8Ig4qSZQW8",
     "type":"CODE",
     "hide_input_from_viewers":true,
     "hide_output_from_viewers":true
    }
   }
  },
  {
   "cell_type":"code",
   "source":[
    "frame.Calories.median()"
   ],
   "execution_count":11,
   "outputs":[
    {
     "data":{
      "text\/plain":[
       "340.0"
      ]
     },
     "metadata":{},
     "output_type":"display_data"
    }
   ],
   "metadata":{
    "datalore":{
     "node_id":"EQGnGymrJh0IqXLCplZSkr",
     "type":"CODE",
     "hide_input_from_viewers":true,
     "hide_output_from_viewers":true
    }
   }
  },
  {
   "cell_type":"code",
   "source":[
    "frame.Calories.max()"
   ],
   "execution_count":12,
   "outputs":[
    {
     "data":{
      "text\/plain":[
       "1880"
      ]
     },
     "metadata":{},
     "output_type":"display_data"
    }
   ],
   "metadata":{
    "datalore":{
     "node_id":"5k0MDTtrtGfDzbGunbcLEd",
     "type":"CODE",
     "hide_input_from_viewers":true,
     "hide_output_from_viewers":true
    }
   }
  },
  {
   "cell_type":"code",
   "source":[
    "frame.Calories.idxmax()"
   ],
   "execution_count":13,
   "outputs":[
    {
     "data":{
      "text\/plain":[
       "82"
      ]
     },
     "metadata":{},
     "output_type":"display_data"
    }
   ],
   "metadata":{
    "datalore":{
     "node_id":"wmQn42MjGU3enJZggDJUMR",
     "type":"CODE",
     "hide_input_from_viewers":true,
     "hide_output_from_viewers":true
    }
   }
  },
  {
   "cell_type":"code",
   "source":[
    "frame.Item[82]"
   ],
   "execution_count":14,
   "outputs":[
    {
     "data":{
      "text\/plain":[
       "'Chicken McNuggets (40 piece)'"
      ]
     },
     "metadata":{},
     "output_type":"display_data"
    }
   ],
   "metadata":{
    "datalore":{
     "node_id":"KTnHj1UGrgq95tK0YNKOVN",
     "type":"CODE",
     "hide_input_from_viewers":true,
     "hide_output_from_viewers":true
    }
   }
  },
  {
   "cell_type":"code",
   "source":[
    "frame.Item[frame.Calories.idxmax()]"
   ],
   "execution_count":15,
   "outputs":[
    {
     "data":{
      "text\/plain":[
       "'Chicken McNuggets (40 piece)'"
      ]
     },
     "metadata":{},
     "output_type":"display_data"
    }
   ],
   "metadata":{
    "datalore":{
     "node_id":"fkErxOKlkIyCCbskBgPpth",
     "type":"CODE",
     "hide_input_from_viewers":true,
     "hide_output_from_viewers":true
    }
   }
  },
  {
   "cell_type":"code",
   "source":[
    "frame['Calories'].head()"
   ],
   "execution_count":16,
   "outputs":[
    {
     "data":{
      "text\/html":[
       "<pre>0    300\n",
       "1    250\n",
       "2    370\n",
       "3    450\n",
       "4    400\n",
       "Name: Calories, dtype: int64<\/pre>"
      ]
     },
     "metadata":{},
     "output_type":"display_data"
    }
   ],
   "metadata":{
    "datalore":{
     "node_id":"HStmG0kracWcptXvkTeDRu",
     "type":"CODE",
     "hide_input_from_viewers":true,
     "hide_output_from_viewers":true
    }
   }
  },
  {
   "cell_type":"code",
   "source":[
    "s = frame['Item']"
   ],
   "execution_count":17,
   "outputs":[],
   "metadata":{
    "datalore":{
     "node_id":"ZECwoV9s9qGMssMKPedWoG",
     "type":"CODE",
     "hide_input_from_viewers":true,
     "hide_output_from_viewers":true
    }
   }
  },
  {
   "cell_type":"code",
   "source":[
    "type(s)"
   ],
   "execution_count":18,
   "outputs":[
    {
     "data":{
      "text\/plain":[
       "pandas.core.series.Series"
      ]
     },
     "metadata":{},
     "output_type":"display_data"
    }
   ],
   "metadata":{
    "datalore":{
     "node_id":"IYy05H8IN05U4N60PaICqh",
     "type":"CODE",
     "hide_input_from_viewers":true,
     "hide_output_from_viewers":true
    }
   }
  },
  {
   "cell_type":"code",
   "source":[
    "s.loc[242]"
   ],
   "execution_count":19,
   "outputs":[
    {
     "data":{
      "text\/plain":[
       "'Vanilla Shake (Medium)'"
      ]
     },
     "metadata":{},
     "output_type":"display_data"
    }
   ],
   "metadata":{
    "datalore":{
     "node_id":"bqSGCOelCGhIaI4iswFDZn",
     "type":"CODE",
     "hide_input_from_viewers":true,
     "hide_output_from_viewers":true
    }
   }
  },
  {
   "cell_type":"code",
   "source":[
    "frame['Item'][242]"
   ],
   "execution_count":20,
   "outputs":[
    {
     "data":{
      "text\/plain":[
       "'Vanilla Shake (Medium)'"
      ]
     },
     "metadata":{},
     "output_type":"display_data"
    }
   ],
   "metadata":{
    "datalore":{
     "node_id":"tMBILAFW55OMmHDT0ftHMh",
     "type":"CODE",
     "hide_input_from_viewers":true,
     "hide_output_from_viewers":true
    }
   }
  },
  {
   "cell_type":"code",
   "source":[
    "frame.loc[242].loc[\"Item\"]"
   ],
   "execution_count":23,
   "outputs":[
    {
     "data":{
      "text\/plain":[
       "'Vanilla Shake (Medium)'"
      ]
     },
     "metadata":{},
     "output_type":"display_data"
    }
   ],
   "metadata":{
    "datalore":{
     "node_id":"WuRYvZ6qYELTK9ujPreKiD",
     "type":"CODE",
     "hide_input_from_viewers":true,
     "hide_output_from_viewers":true
    }
   }
  },
  {
   "cell_type":"code",
   "source":[
    "frame.loc[242,'Item']"
   ],
   "execution_count":24,
   "outputs":[
    {
     "data":{
      "text\/plain":[
       "'Vanilla Shake (Medium)'"
      ]
     },
     "metadata":{},
     "output_type":"display_data"
    }
   ],
   "metadata":{
    "datalore":{
     "node_id":"0mozd55clQFLt8dHYeHI3z",
     "type":"CODE",
     "hide_input_from_viewers":true,
     "hide_output_from_viewers":true
    }
   }
  },
  {
   "cell_type":"code",
   "source":[
    "frame[['Item','Calories','TotalFat','Sugars']].head()"
   ],
   "execution_count":27,
   "outputs":[
    {
     "data":{
      "text\/html":[
       "<div>\n",
       "<style scoped>\n",
       "    .dataframe tbody tr th:only-of-type {\n",
       "        vertical-align: middle;\n",
       "    }\n",
       "\n",
       "    .dataframe tbody tr th {\n",
       "        vertical-align: top;\n",
       "    }\n",
       "\n",
       "    .dataframe thead th {\n",
       "        text-align: right;\n",
       "    }\n",
       "<\/style>\n",
       "<table border=\"1\" class=\"dataframe\">\n",
       "  <thead>\n",
       "    <tr style=\"text-align: right;\">\n",
       "      <th><\/th>\n",
       "      <th>Item<\/th>\n",
       "      <th>Calories<\/th>\n",
       "      <th>TotalFat<\/th>\n",
       "      <th>Sugars<\/th>\n",
       "    <\/tr>\n",
       "  <\/thead>\n",
       "  <tbody>\n",
       "    <tr>\n",
       "      <th>0<\/th>\n",
       "      <td>Egg McMuffin<\/td>\n",
       "      <td>300<\/td>\n",
       "      <td>13.0<\/td>\n",
       "      <td>3<\/td>\n",
       "    <\/tr>\n",
       "    <tr>\n",
       "      <th>1<\/th>\n",
       "      <td>Egg White Delight<\/td>\n",
       "      <td>250<\/td>\n",
       "      <td>8.0<\/td>\n",
       "      <td>3<\/td>\n",
       "    <\/tr>\n",
       "    <tr>\n",
       "      <th>2<\/th>\n",
       "      <td>Sausage McMuffin<\/td>\n",
       "      <td>370<\/td>\n",
       "      <td>23.0<\/td>\n",
       "      <td>2<\/td>\n",
       "    <\/tr>\n",
       "    <tr>\n",
       "      <th>3<\/th>\n",
       "      <td>Sausage McMuffin with Egg<\/td>\n",
       "      <td>450<\/td>\n",
       "      <td>28.0<\/td>\n",
       "      <td>2<\/td>\n",
       "    <\/tr>\n",
       "    <tr>\n",
       "      <th>4<\/th>\n",
       "      <td>Sausage McMuffin with Egg Whites<\/td>\n",
       "      <td>400<\/td>\n",
       "      <td>23.0<\/td>\n",
       "      <td>2<\/td>\n",
       "    <\/tr>\n",
       "  <\/tbody>\n",
       "<\/table>\n",
       "<\/div>"
      ]
     },
     "metadata":{},
     "output_type":"display_data"
    }
   ],
   "metadata":{
    "datalore":{
     "node_id":"lLCExaSIYt544b8MWDkdGr",
     "type":"CODE",
     "hide_input_from_viewers":true,
     "hide_output_from_viewers":true
    }
   }
  },
  {
   "cell_type":"markdown",
   "source":[
    "# Zadanie"
   ],
   "attachments":{},
   "metadata":{
    "datalore":{
     "node_id":"Zadanie",
     "type":"MD",
     "hide_input_from_viewers":false,
     "hide_output_from_viewers":false,
     "sheet_delimiter":true
    }
   }
  },
  {
   "cell_type":"code",
   "source":[
    "fuel = pd.read_csv('http:\/\/piotrdomagala.pl\/data\/fuel.csv', low_memory=False, usecols=['Vehicle ID','Year','Make','Model','Class','Fuel Type','Combined MPG (FT1)'], index_col='Vehicle ID')"
   ],
   "execution_count":28,
   "outputs":[],
   "metadata":{
    "datalore":{
     "node_id":"RQHUfyoW9bRwFu99nINv4W",
     "type":"CODE",
     "hide_input_from_viewers":true,
     "hide_output_from_viewers":true
    }
   }
  },
  {
   "cell_type":"code",
   "source":[
    "fuel.head()"
   ],
   "execution_count":29,
   "outputs":[
    {
     "data":{
      "text\/html":[
       "<div>\n",
       "<style scoped>\n",
       "    .dataframe tbody tr th:only-of-type {\n",
       "        vertical-align: middle;\n",
       "    }\n",
       "\n",
       "    .dataframe tbody tr th {\n",
       "        vertical-align: top;\n",
       "    }\n",
       "\n",
       "    .dataframe thead th {\n",
       "        text-align: right;\n",
       "    }\n",
       "<\/style>\n",
       "<table border=\"1\" class=\"dataframe\">\n",
       "  <thead>\n",
       "    <tr style=\"text-align: right;\">\n",
       "      <th><\/th>\n",
       "      <th>Year<\/th>\n",
       "      <th>Make<\/th>\n",
       "      <th>Model<\/th>\n",
       "      <th>Class<\/th>\n",
       "      <th>Fuel Type<\/th>\n",
       "      <th>Combined MPG (FT1)<\/th>\n",
       "    <\/tr>\n",
       "    <tr>\n",
       "      <th>Vehicle ID<\/th>\n",
       "      <th><\/th>\n",
       "      <th><\/th>\n",
       "      <th><\/th>\n",
       "      <th><\/th>\n",
       "      <th><\/th>\n",
       "      <th><\/th>\n",
       "    <\/tr>\n",
       "  <\/thead>\n",
       "  <tbody>\n",
       "    <tr>\n",
       "      <th>26587<\/th>\n",
       "      <td>1984<\/td>\n",
       "      <td>Alfa Romeo<\/td>\n",
       "      <td>GT V6 2.5<\/td>\n",
       "      <td>Minicompact Cars<\/td>\n",
       "      <td>Regular<\/td>\n",
       "      <td>20.0<\/td>\n",
       "    <\/tr>\n",
       "    <tr>\n",
       "      <th>27705<\/th>\n",
       "      <td>1984<\/td>\n",
       "      <td>Alfa Romeo<\/td>\n",
       "      <td>GT V6 2.5<\/td>\n",
       "      <td>Minicompact Cars<\/td>\n",
       "      <td>Regular<\/td>\n",
       "      <td>20.0<\/td>\n",
       "    <\/tr>\n",
       "    <tr>\n",
       "      <th>26561<\/th>\n",
       "      <td>1984<\/td>\n",
       "      <td>Alfa Romeo<\/td>\n",
       "      <td>Spider Veloce 2000<\/td>\n",
       "      <td>Two Seaters<\/td>\n",
       "      <td>Regular<\/td>\n",
       "      <td>21.0<\/td>\n",
       "    <\/tr>\n",
       "    <tr>\n",
       "      <th>27681<\/th>\n",
       "      <td>1984<\/td>\n",
       "      <td>Alfa Romeo<\/td>\n",
       "      <td>Spider Veloce 2000<\/td>\n",
       "      <td>Two Seaters<\/td>\n",
       "      <td>Regular<\/td>\n",
       "      <td>21.0<\/td>\n",
       "    <\/tr>\n",
       "    <tr>\n",
       "      <th>27550<\/th>\n",
       "      <td>1984<\/td>\n",
       "      <td>AM General<\/td>\n",
       "      <td>DJ Po Vehicle 2WD<\/td>\n",
       "      <td>Special Purpose Vehicle 2WD<\/td>\n",
       "      <td>Regular<\/td>\n",
       "      <td>17.0<\/td>\n",
       "    <\/tr>\n",
       "  <\/tbody>\n",
       "<\/table>\n",
       "<\/div>"
      ]
     },
     "metadata":{},
     "output_type":"display_data"
    }
   ],
   "metadata":{
    "datalore":{
     "node_id":"cbCCkHwU8GYrI0319gt84o",
     "type":"CODE",
     "hide_input_from_viewers":true,
     "hide_output_from_viewers":true
    }
   }
  },
  {
   "cell_type":"code",
   "source":[
    "fuel.Make.head()"
   ],
   "execution_count":30,
   "outputs":[
    {
     "data":{
      "text\/html":[
       "<pre>Vehicle ID\n",
       "26587    Alfa Romeo\n",
       "27705    Alfa Romeo\n",
       "26561    Alfa Romeo\n",
       "27681    Alfa Romeo\n",
       "27550    AM General\n",
       "Name: Make, dtype: object<\/pre>"
      ]
     },
     "metadata":{},
     "output_type":"display_data"
    }
   ],
   "metadata":{
    "datalore":{
     "node_id":"UzVCzSmuvhvLYrtWPBJNfO",
     "type":"CODE",
     "hide_input_from_viewers":true,
     "hide_output_from_viewers":true
    }
   }
  },
  {
   "cell_type":"code",
   "source":[
    "fuel.Make.value_counts().head(5)\n",
    "# fuel['Make'].value_counts().head()"
   ],
   "execution_count":33,
   "outputs":[
    {
     "data":{
      "text\/html":[
       "<pre>Chevrolet    3389\n",
       "Ford         2721\n",
       "Dodge        2361\n",
       "GMC          2174\n",
       "Toyota       1599\n",
       "Name: Make, dtype: int64<\/pre>"
      ]
     },
     "metadata":{},
     "output_type":"display_data"
    }
   ],
   "metadata":{
    "datalore":{
     "node_id":"ruh73m3L1aaDBHKMeQCMoZ",
     "type":"CODE",
     "hide_input_from_viewers":true,
     "hide_output_from_viewers":true
    }
   }
  },
  {
   "cell_type":"code",
   "source":[
    "fuel.loc[1873]"
   ],
   "execution_count":34,
   "outputs":[
    {
     "data":{
      "text\/html":[
       "<pre>Year                             1986\n",
       "Make                       Mitsubishi\n",
       "Model                         Starion\n",
       "Class                 Subcompact Cars\n",
       "Fuel Type                     Premium\n",
       "Combined MPG (FT1)               19.0\n",
       "Name: 1873, dtype: object<\/pre>"
      ]
     },
     "metadata":{},
     "output_type":"display_data"
    }
   ],
   "metadata":{
    "datalore":{
     "node_id":"Y5wGmQccGNYrSATw4Eihl0",
     "type":"CODE",
     "hide_input_from_viewers":true,
     "hide_output_from_viewers":true
    }
   }
  },
  {
   "cell_type":"code",
   "source":[
    "fuel.loc[1873,'Combined MPG (FT1)']"
   ],
   "execution_count":35,
   "outputs":[
    {
     "data":{
      "text\/plain":[
       "19.0"
      ]
     },
     "metadata":{},
     "output_type":"display_data"
    }
   ],
   "metadata":{
    "datalore":{
     "node_id":"7aCdBCLrubmKXBJXRYptPX",
     "type":"CODE",
     "hide_input_from_viewers":true,
     "hide_output_from_viewers":true
    }
   }
  },
  {
   "cell_type":"code",
   "source":[
    "mpg = fuel['Combined MPG (FT1)']\n",
    "mpg.max()\n",
    "\n",
    "# fuel[\"Combined MPG (FT1)\"].max()"
   ],
   "execution_count":48,
   "outputs":[
    {
     "data":{
      "text\/plain":[
       "112.0"
      ]
     },
     "metadata":{},
     "output_type":"display_data"
    }
   ],
   "metadata":{
    "datalore":{
     "node_id":"HjbMsNrNGnt9TrAWzlieim",
     "type":"CODE",
     "hide_input_from_viewers":true,
     "hide_output_from_viewers":true
    }
   }
  },
  {
   "cell_type":"code",
   "source":[
    "fuel.loc[mpg.idxmax()]\n",
    "#fuel[\"Combined MPG (FT1)\"].idxmax()"
   ],
   "execution_count":45,
   "outputs":[
    {
     "data":{
      "text\/html":[
       "<pre>Year                             2012\n",
       "Make                       Mitsubishi\n",
       "Model                          i-MiEV\n",
       "Class                 Subcompact Cars\n",
       "Fuel Type                 Electricity\n",
       "Combined MPG (FT1)              112.0\n",
       "Name: 31673, dtype: object<\/pre>"
      ]
     },
     "metadata":{},
     "output_type":"display_data"
    }
   ],
   "metadata":{
    "datalore":{
     "node_id":"YLdocY7VNduZttLrQQeL48",
     "type":"CODE",
     "hide_input_from_viewers":true,
     "hide_output_from_viewers":true
    }
   }
  },
  {
   "cell_type":"code",
   "source":[
    "shortFuel = fuel[['Make','Model']]"
   ],
   "execution_count":46,
   "outputs":[],
   "metadata":{
    "datalore":{
     "node_id":"Gbn902MygmNUleg0Pog43h",
     "type":"CODE",
     "hide_input_from_viewers":true,
     "hide_output_from_viewers":true
    }
   }
  },
  {
   "cell_type":"code",
   "source":[
    "shortFuel.head()"
   ],
   "execution_count":47,
   "outputs":[
    {
     "data":{
      "text\/html":[
       "<div>\n",
       "<style scoped>\n",
       "    .dataframe tbody tr th:only-of-type {\n",
       "        vertical-align: middle;\n",
       "    }\n",
       "\n",
       "    .dataframe tbody tr th {\n",
       "        vertical-align: top;\n",
       "    }\n",
       "\n",
       "    .dataframe thead th {\n",
       "        text-align: right;\n",
       "    }\n",
       "<\/style>\n",
       "<table border=\"1\" class=\"dataframe\">\n",
       "  <thead>\n",
       "    <tr style=\"text-align: right;\">\n",
       "      <th><\/th>\n",
       "      <th>Make<\/th>\n",
       "      <th>Model<\/th>\n",
       "    <\/tr>\n",
       "    <tr>\n",
       "      <th>Vehicle ID<\/th>\n",
       "      <th><\/th>\n",
       "      <th><\/th>\n",
       "    <\/tr>\n",
       "  <\/thead>\n",
       "  <tbody>\n",
       "    <tr>\n",
       "      <th>26587<\/th>\n",
       "      <td>Alfa Romeo<\/td>\n",
       "      <td>GT V6 2.5<\/td>\n",
       "    <\/tr>\n",
       "    <tr>\n",
       "      <th>27705<\/th>\n",
       "      <td>Alfa Romeo<\/td>\n",
       "      <td>GT V6 2.5<\/td>\n",
       "    <\/tr>\n",
       "    <tr>\n",
       "      <th>26561<\/th>\n",
       "      <td>Alfa Romeo<\/td>\n",
       "      <td>Spider Veloce 2000<\/td>\n",
       "    <\/tr>\n",
       "    <tr>\n",
       "      <th>27681<\/th>\n",
       "      <td>Alfa Romeo<\/td>\n",
       "      <td>Spider Veloce 2000<\/td>\n",
       "    <\/tr>\n",
       "    <tr>\n",
       "      <th>27550<\/th>\n",
       "      <td>AM General<\/td>\n",
       "      <td>DJ Po Vehicle 2WD<\/td>\n",
       "    <\/tr>\n",
       "  <\/tbody>\n",
       "<\/table>\n",
       "<\/div>"
      ]
     },
     "metadata":{},
     "output_type":"display_data"
    }
   ],
   "metadata":{
    "datalore":{
     "node_id":"KeoL1uHrCUX9xd7BezHIuF",
     "type":"CODE",
     "hide_input_from_viewers":true,
     "hide_output_from_viewers":true
    }
   }
  }
 ],
 "metadata":{
  "kernelspec":{
   "display_name":"Python",
   "language":"python",
   "name":"python"
  },
  "datalore":{
   "computation_mode":"JUPYTER",
   "package_manager":"pip",
   "base_environment":"default",
   "packages":[],
   "report_row_ids":[],
   "version":3
  }
 },
 "nbformat":4,
 "nbformat_minor":4
}