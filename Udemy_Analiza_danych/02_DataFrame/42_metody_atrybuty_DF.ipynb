{
 "cells":[
  {
   "cell_type":"markdown",
   "source":[
    "# Wstęp"
   ],
   "attachments":{},
   "metadata":{
    "datalore":{
     "node_id":"Wstęp",
     "type":"MD",
     "hide_input_from_viewers":false,
     "hide_output_from_viewers":false,
     "sheet_delimiter":true
    }
   }
  },
  {
   "cell_type":"code",
   "source":[
    "import pandas as pd"
   ],
   "execution_count":1,
   "outputs":[],
   "metadata":{
    "datalore":{
     "node_id":"xOSrMyktXUtFB6XCXEwfVV",
     "type":"CODE",
     "hide_input_from_viewers":true,
     "hide_output_from_viewers":true
    }
   }
  },
  {
   "cell_type":"code",
   "source":[
    "frame = pd.read_csv('http:\/\/piotrdomagala.pl\/data\/Mcdonalds.csv')"
   ],
   "execution_count":2,
   "outputs":[],
   "metadata":{
    "datalore":{
     "node_id":"DsLRwJ9lQCWwBCrfXMPqon",
     "type":"CODE",
     "hide_input_from_viewers":true,
     "hide_output_from_viewers":true
    }
   }
  },
  {
   "cell_type":"code",
   "source":[
    "series = pd.read_csv('http:\/\/piotrdomagala.pl\/data\/Mcdonalds.csv', usecols=['Item', 'Calories'], index_col='Item').squeeze()"
   ],
   "execution_count":3,
   "outputs":[],
   "metadata":{
    "datalore":{
     "node_id":"tjkdmZSPLluGs7cW7SlBdB",
     "type":"CODE",
     "hide_input_from_viewers":true,
     "hide_output_from_viewers":true
    }
   }
  },
  {
   "cell_type":"code",
   "source":[
    "series.head()"
   ],
   "execution_count":4,
   "outputs":[
    {
     "data":{
      "text\/html":[
       "<pre>Item\n",
       "Egg McMuffin                        300\n",
       "Egg White Delight                   250\n",
       "Sausage McMuffin                    370\n",
       "Sausage McMuffin with Egg           450\n",
       "Sausage McMuffin with Egg Whites    400\n",
       "Name: Calories, dtype: int64<\/pre>"
      ]
     },
     "metadata":{},
     "output_type":"display_data"
    }
   ],
   "metadata":{
    "datalore":{
     "node_id":"fweXLrXjWW6uXNmvm84zlf",
     "type":"CODE",
     "hide_input_from_viewers":true,
     "hide_output_from_viewers":true
    }
   }
  },
  {
   "cell_type":"code",
   "source":[
    "series.count()"
   ],
   "execution_count":5,
   "outputs":[
    {
     "data":{
      "text\/plain":[
       "260"
      ]
     },
     "metadata":{},
     "output_type":"display_data"
    }
   ],
   "metadata":{
    "datalore":{
     "node_id":"Ub88cD6T9fS4g1ow8HYoSH",
     "type":"CODE",
     "hide_input_from_viewers":true,
     "hide_output_from_viewers":true
    }
   }
  },
  {
   "cell_type":"code",
   "source":[
    "frame.count() #metoda count dla DF zlicza elementy w każdej kolumnie\/serii"
   ],
   "execution_count":6,
   "outputs":[
    {
     "data":{
      "text\/html":[
       "<pre>Category                         260\n",
       "Item                             260\n",
       "Serving Size                     260\n",
       "Calories                         260\n",
       "Calories from Fat                260\n",
       "TotalFat                         260\n",
       "Total Fat (% Daily Value)        260\n",
       "Saturated Fat                    260\n",
       "Saturated Fat (% Daily Value)    260\n",
       "Trans Fat                        260\n",
       "Cholesterol                      260\n",
       "Cholesterol (% Daily Value)      260\n",
       "Sodium                           260\n",
       "Sodium (% Daily Value)           260\n",
       "Carbohydrates                    260\n",
       "Carbohydrates (% Daily Value)    260\n",
       "Dietary Fiber                    260\n",
       "Dietary Fiber (% Daily Value)    260\n",
       "Sugars                           260\n",
       "Protein                          260\n",
       "Vitamin A (% Daily Value)        260\n",
       "Vitamin C (% Daily Value)        260\n",
       "Calcium (% Daily Value)          260\n",
       "Iron (% Daily Value)             260\n",
       "dtype: int64<\/pre>"
      ]
     },
     "metadata":{},
     "output_type":"display_data"
    }
   ],
   "metadata":{
    "datalore":{
     "node_id":"1rRwulExFoJfYfM0wJwE2Y",
     "type":"CODE",
     "hide_input_from_viewers":true,
     "hide_output_from_viewers":true
    }
   }
  },
  {
   "cell_type":"code",
   "source":[
    "len(series)"
   ],
   "execution_count":7,
   "outputs":[
    {
     "data":{
      "text\/plain":[
       "260"
      ]
     },
     "metadata":{},
     "output_type":"display_data"
    }
   ],
   "metadata":{
    "datalore":{
     "node_id":"4SVPgEHq3gy9c7NMEnTSTL",
     "type":"CODE",
     "hide_input_from_viewers":true,
     "hide_output_from_viewers":true
    }
   }
  },
  {
   "cell_type":"code",
   "source":[
    "len(frame)"
   ],
   "execution_count":8,
   "outputs":[
    {
     "data":{
      "text\/plain":[
       "260"
      ]
     },
     "metadata":{},
     "output_type":"display_data"
    }
   ],
   "metadata":{
    "datalore":{
     "node_id":"kKC2DhVEv0BzK2TK936rtx",
     "type":"CODE",
     "hide_input_from_viewers":true,
     "hide_output_from_viewers":true
    }
   }
  },
  {
   "cell_type":"code",
   "source":[
    "series.dtypes"
   ],
   "execution_count":9,
   "outputs":[
    {
     "data":{
      "text\/plain":[
       "dtype('int64')"
      ]
     },
     "metadata":{},
     "output_type":"display_data"
    }
   ],
   "metadata":{
    "datalore":{
     "node_id":"WD8WocPDlgMJkMveYja58s",
     "type":"CODE",
     "hide_input_from_viewers":true,
     "hide_output_from_viewers":true
    }
   }
  },
  {
   "cell_type":"code",
   "source":[
    "frame.dtypes.value_counts() # zliczenie ile jest zmiennych\/kolumn\/serii damych typów"
   ],
   "execution_count":10,
   "outputs":[
    {
     "data":{
      "text\/html":[
       "<pre>int64      18\n",
       "object      3\n",
       "float64     3\n",
       "dtype: int64<\/pre>"
      ]
     },
     "metadata":{},
     "output_type":"display_data"
    }
   ],
   "metadata":{
    "datalore":{
     "node_id":"xh6UgX9qKKa7jFtwra8P7M",
     "type":"CODE",
     "hide_input_from_viewers":true,
     "hide_output_from_viewers":true
    }
   }
  },
  {
   "cell_type":"code",
   "source":[
    "frame.shape"
   ],
   "execution_count":11,
   "outputs":[
    {
     "data":{
      "text\/plain":[
       "(260, 24)"
      ]
     },
     "metadata":{},
     "output_type":"display_data"
    }
   ],
   "metadata":{
    "datalore":{
     "node_id":"FTT7gzXWO4wHpoACSmaPBy",
     "type":"CODE",
     "hide_input_from_viewers":true,
     "hide_output_from_viewers":true
    }
   }
  },
  {
   "cell_type":"code",
   "source":[
    "frame.axes # oś współrzędnych (właściowość) zawiera informacje o liczbie wierszy frame, ich numeracji \n",
    "  # oraz kolumnach jakie zawiera DF"
   ],
   "execution_count":12,
   "outputs":[
    {
     "data":{
      "text\/plain":[
       "[RangeIndex(start=0, stop=260, step=1),\n",
       " Index(['Category', 'Item', 'Serving Size', 'Calories', 'Calories from Fat',\n",
       "        'TotalFat', 'Total Fat (% Daily Value)', 'Saturated Fat',\n",
       "        'Saturated Fat (% Daily Value)', 'Trans Fat', 'Cholesterol',\n",
       "        'Cholesterol (% Daily Value)', 'Sodium', 'Sodium (% Daily Value)',\n",
       "        'Carbohydrates', 'Carbohydrates (% Daily Value)', 'Dietary Fiber',\n",
       "        'Dietary Fiber (% Daily Value)', 'Sugars', 'Protein',\n",
       "        'Vitamin A (% Daily Value)', 'Vitamin C (% Daily Value)',\n",
       "        'Calcium (% Daily Value)', 'Iron (% Daily Value)'],\n",
       "       dtype='object')]"
      ]
     },
     "metadata":{},
     "output_type":"display_data"
    }
   ],
   "metadata":{
    "datalore":{
     "node_id":"1Qzs5zz6e540Vy1Eq1hn1d",
     "type":"CODE",
     "hide_input_from_viewers":true,
     "hide_output_from_viewers":true
    }
   }
  },
  {
   "cell_type":"code",
   "source":[
    "frame.index # informacja o indeksach DF"
   ],
   "execution_count":13,
   "outputs":[
    {
     "data":{
      "text\/plain":[
       "RangeIndex(start=0, stop=260, step=1)"
      ]
     },
     "metadata":{},
     "output_type":"display_data"
    }
   ],
   "metadata":{
    "datalore":{
     "node_id":"HxKuBik7NGwB2uwGcEvP7o",
     "type":"CODE",
     "hide_input_from_viewers":true,
     "hide_output_from_viewers":true
    }
   }
  },
  {
   "cell_type":"code",
   "source":[
    "frame.columns # informacja o kolumnach DF"
   ],
   "execution_count":14,
   "outputs":[
    {
     "data":{
      "text\/plain":[
       "Index(['Category', 'Item', 'Serving Size', 'Calories', 'Calories from Fat',\n",
       "       'TotalFat', 'Total Fat (% Daily Value)', 'Saturated Fat',\n",
       "       'Saturated Fat (% Daily Value)', 'Trans Fat', 'Cholesterol',\n",
       "       'Cholesterol (% Daily Value)', 'Sodium', 'Sodium (% Daily Value)',\n",
       "       'Carbohydrates', 'Carbohydrates (% Daily Value)', 'Dietary Fiber',\n",
       "       'Dietary Fiber (% Daily Value)', 'Sugars', 'Protein',\n",
       "       'Vitamin A (% Daily Value)', 'Vitamin C (% Daily Value)',\n",
       "       'Calcium (% Daily Value)', 'Iron (% Daily Value)'],\n",
       "      dtype='object')"
      ]
     },
     "metadata":{},
     "output_type":"display_data"
    }
   ],
   "metadata":{
    "datalore":{
     "node_id":"z7nYC96x5No4a6sGMoyUhz",
     "type":"CODE",
     "hide_input_from_viewers":true,
     "hide_output_from_viewers":true
    }
   }
  },
  {
   "cell_type":"code",
   "source":[
    "frame.values"
   ],
   "execution_count":15,
   "outputs":[
    {
     "data":{
      "text\/html":[
       "<pre>array([['Breakfast', 'Egg McMuffin', '4.8 oz (136 g)', ..., 0, 25, 15],\n",
       "       ['Breakfast', 'Egg White Delight', '4.8 oz (135 g)', ..., 0, 25,\n",
       "        8],\n",
       "       ['Breakfast', 'Sausage McMuffin', '3.9 oz (111 g)', ..., 0, 25,\n",
       "        10],\n",
       "       ...,\n",
       "       ['Smoothies & Shakes', 'McFlurry with Oreo Cookies (Snack)',\n",
       "        '6.7 oz (190 g)', ..., 0, 25, 6],\n",
       "       ['Smoothies & Shakes',\n",
       "        \"McFlurry with Reese's Peanut Butter Cups (Medium)\",\n",
       "        '14.2 oz (403 g)', ..., 0, 60, 6],\n",
       "       ['Smoothies & Shakes',\n",
       "        \"McFlurry with Reese's Peanut Butter Cups (Snack)\",\n",
       "        '7.1 oz (202 g)', ..., 0, 30, 4]], dtype=object)<\/pre>"
      ]
     },
     "metadata":{},
     "output_type":"display_data"
    }
   ],
   "metadata":{
    "datalore":{
     "node_id":"Dy5UAOTENvLGn6IVmmcdcY",
     "type":"CODE",
     "hide_input_from_viewers":true,
     "hide_output_from_viewers":true
    }
   }
  },
  {
   "cell_type":"code",
   "source":[
    "frame.info() # funkcja zwraca komplet informacji o DF"
   ],
   "execution_count":16,
   "outputs":[
    {
     "name":"stdout",
     "text":[
      "<class 'pandas.core.frame.DataFrame'>\n",
      "RangeIndex: 260 entries, 0 to 259\n",
      "Data columns (total 24 columns):\n",
      " #   Column                         Non-Null Count  Dtype  \n",
      "---  ------                         --------------  -----  \n",
      " 0   Category                       260 non-null    object \n",
      " 1   Item                           260 non-null    object \n",
      " 2   Serving Size                   260 non-null    object \n",
      " 3   Calories                       260 non-null    int64  \n",
      " 4   Calories from Fat              260 non-null    int64  \n",
      " 5   TotalFat                       260 non-null    float64\n",
      " 6   Total Fat (% Daily Value)      260 non-null    int64  \n",
      " 7   Saturated Fat                  260 non-null    float64\n",
      " 8   Saturated Fat (% Daily Value)  260 non-null    int64  \n",
      " 9   Trans Fat                      260 non-null    float64\n",
      " 10  Cholesterol                    260 non-null    int64  \n",
      " 11  Cholesterol (% Daily Value)    260 non-null    int64  \n",
      " 12  Sodium                         260 non-null    int64  \n",
      " 13  Sodium (% Daily Value)         260 non-null    int64  \n",
      " 14  Carbohydrates                  260 non-null    int64  \n",
      " 15  Carbohydrates (% Daily Value)  260 non-null    int64  \n",
      " 16  Dietary Fiber                  260 non-null    int64  \n",
      " 17  Dietary Fiber (% Daily Value)  260 non-null    int64  \n",
      " 18  Sugars                         260 non-null    int64  \n",
      " 19  Protein                        260 non-null    int64  \n",
      " 20  Vitamin A (% Daily Value)      260 non-null    int64  \n",
      " 21  Vitamin C (% Daily Value)      260 non-null    int64  \n",
      " 22  Calcium (% Daily Value)        260 non-null    int64  \n",
      " 23  Iron (% Daily Value)           260 non-null    int64  \n",
      "dtypes: float64(3), int64(18), object(3)\n",
      "memory usage: 48.9+ KB\n"
     ],
     "output_type":"stream"
    }
   ],
   "metadata":{
    "datalore":{
     "node_id":"0t5DmwongHWeutwheqQs26",
     "type":"CODE",
     "hide_input_from_viewers":true,
     "hide_output_from_viewers":true
    }
   }
  },
  {
   "cell_type":"code",
   "source":[
    "series.value_counts()"
   ],
   "execution_count":17,
   "outputs":[
    {
     "data":{
      "text\/html":[
       "<pre>0      16\n",
       "340    10\n",
       "430    10\n",
       "280     9\n",
       "250     8\n",
       "       ..\n",
       "640     1\n",
       "800     1\n",
       "740     1\n",
       "620     1\n",
       "810     1\n",
       "Name: Calories, Length: 78, dtype: int64<\/pre>"
      ]
     },
     "metadata":{},
     "output_type":"display_data"
    }
   ],
   "metadata":{
    "datalore":{
     "node_id":"Xu35PxNBefIa4wGP8sRYy0",
     "type":"CODE",
     "hide_input_from_viewers":true,
     "hide_output_from_viewers":true
    }
   }
  },
  {
   "cell_type":"code",
   "source":[
    "frame[\"Category\"].value_counts()\n",
    "# value.counts działa dla serii danych "
   ],
   "execution_count":18,
   "outputs":[
    {
     "data":{
      "text\/html":[
       "<pre>Coffee & Tea          95\n",
       "Breakfast             42\n",
       "Smoothies & Shakes    28\n",
       "Chicken & Fish        27\n",
       "Beverages             27\n",
       "Beef & Pork           15\n",
       "Snacks & Sides        13\n",
       "Desserts               7\n",
       "Salads                 6\n",
       "Name: Category, dtype: int64<\/pre>"
      ]
     },
     "metadata":{},
     "output_type":"display_data"
    }
   ],
   "metadata":{
    "datalore":{
     "node_id":"jrMMLoykhYYgr5dLT3j6LU",
     "type":"CODE",
     "hide_input_from_viewers":true,
     "hide_output_from_viewers":true
    }
   }
  },
  {
   "cell_type":"code",
   "source":[
    "series.sample()"
   ],
   "execution_count":19,
   "outputs":[
    {
     "data":{
      "text\/html":[
       "<pre>Item\n",
       "Quarter Pounder with Bacon Habanero Ranch    610\n",
       "Name: Calories, dtype: int64<\/pre>"
      ]
     },
     "metadata":{},
     "output_type":"display_data"
    }
   ],
   "metadata":{
    "datalore":{
     "node_id":"9fOcIsQTKCsEWNMBgcDwzt",
     "type":"CODE",
     "hide_input_from_viewers":true,
     "hide_output_from_viewers":true
    }
   }
  },
  {
   "cell_type":"code",
   "source":[
    "frame.sample(n=3, axis=\"columns\").head()\n",
    "# n-liczba losowanych wartości\n",
    "# axis=\"columns\" - losujemy n-kolumn"
   ],
   "execution_count":20,
   "outputs":[
    {
     "data":{
      "text\/html":[
       "<div>\n",
       "<style scoped>\n",
       "    .dataframe tbody tr th:only-of-type {\n",
       "        vertical-align: middle;\n",
       "    }\n",
       "\n",
       "    .dataframe tbody tr th {\n",
       "        vertical-align: top;\n",
       "    }\n",
       "\n",
       "    .dataframe thead th {\n",
       "        text-align: right;\n",
       "    }\n",
       "<\/style>\n",
       "<table border=\"1\" class=\"dataframe\">\n",
       "  <thead>\n",
       "    <tr style=\"text-align: right;\">\n",
       "      <th><\/th>\n",
       "      <th>Sugars<\/th>\n",
       "      <th>Saturated Fat<\/th>\n",
       "      <th>Iron (% Daily Value)<\/th>\n",
       "    <\/tr>\n",
       "  <\/thead>\n",
       "  <tbody>\n",
       "    <tr>\n",
       "      <th>0<\/th>\n",
       "      <td>3<\/td>\n",
       "      <td>5.0<\/td>\n",
       "      <td>15<\/td>\n",
       "    <\/tr>\n",
       "    <tr>\n",
       "      <th>1<\/th>\n",
       "      <td>3<\/td>\n",
       "      <td>3.0<\/td>\n",
       "      <td>8<\/td>\n",
       "    <\/tr>\n",
       "    <tr>\n",
       "      <th>2<\/th>\n",
       "      <td>2<\/td>\n",
       "      <td>8.0<\/td>\n",
       "      <td>10<\/td>\n",
       "    <\/tr>\n",
       "    <tr>\n",
       "      <th>3<\/th>\n",
       "      <td>2<\/td>\n",
       "      <td>10.0<\/td>\n",
       "      <td>15<\/td>\n",
       "    <\/tr>\n",
       "    <tr>\n",
       "      <th>4<\/th>\n",
       "      <td>2<\/td>\n",
       "      <td>8.0<\/td>\n",
       "      <td>10<\/td>\n",
       "    <\/tr>\n",
       "  <\/tbody>\n",
       "<\/table>\n",
       "<\/div>"
      ]
     },
     "metadata":{},
     "output_type":"display_data"
    }
   ],
   "metadata":{
    "datalore":{
     "node_id":"82y4yg1Z5yyeWDhjrSXqjh",
     "type":"CODE",
     "hide_input_from_viewers":true,
     "hide_output_from_viewers":true
    }
   }
  },
  {
   "cell_type":"code",
   "source":[
    "frame.sample(frac=0.03) \n",
    "# losujemy 3% wartości DF"
   ],
   "execution_count":21,
   "outputs":[
    {
     "data":{
      "text\/html":[
       "<div>\n",
       "<style scoped>\n",
       "    .dataframe tbody tr th:only-of-type {\n",
       "        vertical-align: middle;\n",
       "    }\n",
       "\n",
       "    .dataframe tbody tr th {\n",
       "        vertical-align: top;\n",
       "    }\n",
       "\n",
       "    .dataframe thead th {\n",
       "        text-align: right;\n",
       "    }\n",
       "<\/style>\n",
       "<table border=\"1\" class=\"dataframe\">\n",
       "  <thead>\n",
       "    <tr style=\"text-align: right;\">\n",
       "      <th><\/th>\n",
       "      <th>Category<\/th>\n",
       "      <th>Item<\/th>\n",
       "      <th>Serving Size<\/th>\n",
       "      <th>Calories<\/th>\n",
       "      <th>Calories from Fat<\/th>\n",
       "      <th>TotalFat<\/th>\n",
       "      <th>Total Fat (% Daily Value)<\/th>\n",
       "      <th>Saturated Fat<\/th>\n",
       "      <th>Saturated Fat (% Daily Value)<\/th>\n",
       "      <th>Trans Fat<\/th>\n",
       "      <th>...<\/th>\n",
       "      <th>Carbohydrates<\/th>\n",
       "      <th>Carbohydrates (% Daily Value)<\/th>\n",
       "      <th>Dietary Fiber<\/th>\n",
       "      <th>Dietary Fiber (% Daily Value)<\/th>\n",
       "      <th>Sugars<\/th>\n",
       "      <th>Protein<\/th>\n",
       "      <th>Vitamin A (% Daily Value)<\/th>\n",
       "      <th>Vitamin C (% Daily Value)<\/th>\n",
       "      <th>Calcium (% Daily Value)<\/th>\n",
       "      <th>Iron (% Daily Value)<\/th>\n",
       "    <\/tr>\n",
       "  <\/thead>\n",
       "  <tbody>\n",
       "    <tr>\n",
       "      <th>48<\/th>\n",
       "      <td>Beef &amp; Pork<\/td>\n",
       "      <td>Hamburger<\/td>\n",
       "      <td>3.5 oz (98 g)<\/td>\n",
       "      <td>240<\/td>\n",
       "      <td>70<\/td>\n",
       "      <td>8.0<\/td>\n",
       "      <td>12<\/td>\n",
       "      <td>3.0<\/td>\n",
       "      <td>15<\/td>\n",
       "      <td>0.0<\/td>\n",
       "      <td>...<\/td>\n",
       "      <td>32<\/td>\n",
       "      <td>11<\/td>\n",
       "      <td>1<\/td>\n",
       "      <td>6<\/td>\n",
       "      <td>6<\/td>\n",
       "      <td>12<\/td>\n",
       "      <td>2<\/td>\n",
       "      <td>2<\/td>\n",
       "      <td>10<\/td>\n",
       "      <td>15<\/td>\n",
       "    <\/tr>\n",
       "    <tr>\n",
       "      <th>245<\/th>\n",
       "      <td>Smoothies &amp; Shakes<\/td>\n",
       "      <td>Strawberry Shake (Medium)<\/td>\n",
       "      <td>16 fl oz cup<\/td>\n",
       "      <td>690<\/td>\n",
       "      <td>180<\/td>\n",
       "      <td>20.0<\/td>\n",
       "      <td>30<\/td>\n",
       "      <td>13.0<\/td>\n",
       "      <td>63<\/td>\n",
       "      <td>1.0<\/td>\n",
       "      <td>...<\/td>\n",
       "      <td>114<\/td>\n",
       "      <td>38<\/td>\n",
       "      <td>0<\/td>\n",
       "      <td>0<\/td>\n",
       "      <td>100<\/td>\n",
       "      <td>15<\/td>\n",
       "      <td>25<\/td>\n",
       "      <td>0<\/td>\n",
       "      <td>50<\/td>\n",
       "      <td>0<\/td>\n",
       "    <\/tr>\n",
       "    <tr>\n",
       "      <th>23<\/th>\n",
       "      <td>Breakfast<\/td>\n",
       "      <td>Sausage, Egg &amp; Cheese McGriddles with Egg Whites<\/td>\n",
       "      <td>7.2 oz (205 g)<\/td>\n",
       "      <td>500<\/td>\n",
       "      <td>230<\/td>\n",
       "      <td>26.0<\/td>\n",
       "      <td>40<\/td>\n",
       "      <td>10.0<\/td>\n",
       "      <td>52<\/td>\n",
       "      <td>0.0<\/td>\n",
       "      <td>...<\/td>\n",
       "      <td>46<\/td>\n",
       "      <td>15<\/td>\n",
       "      <td>2<\/td>\n",
       "      <td>9<\/td>\n",
       "      <td>15<\/td>\n",
       "      <td>21<\/td>\n",
       "      <td>2<\/td>\n",
       "      <td>0<\/td>\n",
       "      <td>20<\/td>\n",
       "      <td>10<\/td>\n",
       "    <\/tr>\n",
       "    <tr>\n",
       "      <th>226<\/th>\n",
       "      <td>Coffee &amp; Tea<\/td>\n",
       "      <td>Frappé Caramel (Small)<\/td>\n",
       "      <td>12 fl oz cup<\/td>\n",
       "      <td>450<\/td>\n",
       "      <td>170<\/td>\n",
       "      <td>19.0<\/td>\n",
       "      <td>29<\/td>\n",
       "      <td>12.0<\/td>\n",
       "      <td>60<\/td>\n",
       "      <td>1.0<\/td>\n",
       "      <td>...<\/td>\n",
       "      <td>64<\/td>\n",
       "      <td>21<\/td>\n",
       "      <td>0<\/td>\n",
       "      <td>0<\/td>\n",
       "      <td>57<\/td>\n",
       "      <td>7<\/td>\n",
       "      <td>15<\/td>\n",
       "      <td>0<\/td>\n",
       "      <td>25<\/td>\n",
       "      <td>2<\/td>\n",
       "    <\/tr>\n",
       "    <tr>\n",
       "      <th>187<\/th>\n",
       "      <td>Coffee &amp; Tea<\/td>\n",
       "      <td>Nonfat Caramel Mocha (Small)<\/td>\n",
       "      <td>12 fl oz cup<\/td>\n",
       "      <td>250<\/td>\n",
       "      <td>30<\/td>\n",
       "      <td>3.5<\/td>\n",
       "      <td>5<\/td>\n",
       "      <td>2.0<\/td>\n",
       "      <td>10<\/td>\n",
       "      <td>0.0<\/td>\n",
       "      <td>...<\/td>\n",
       "      <td>45<\/td>\n",
       "      <td>15<\/td>\n",
       "      <td>1<\/td>\n",
       "      <td>3<\/td>\n",
       "      <td>41<\/td>\n",
       "      <td>10<\/td>\n",
       "      <td>10<\/td>\n",
       "      <td>0<\/td>\n",
       "      <td>35<\/td>\n",
       "      <td>2<\/td>\n",
       "    <\/tr>\n",
       "    <tr>\n",
       "      <th>9<\/th>\n",
       "      <td>Breakfast<\/td>\n",
       "      <td>Bacon, Egg &amp; Cheese Biscuit with Egg Whites (L...<\/td>\n",
       "      <td>5.9 oz (167 g)<\/td>\n",
       "      <td>470<\/td>\n",
       "      <td>220<\/td>\n",
       "      <td>25.0<\/td>\n",
       "      <td>38<\/td>\n",
       "      <td>12.0<\/td>\n",
       "      <td>59<\/td>\n",
       "      <td>0.0<\/td>\n",
       "      <td>...<\/td>\n",
       "      <td>42<\/td>\n",
       "      <td>14<\/td>\n",
       "      <td>3<\/td>\n",
       "      <td>12<\/td>\n",
       "      <td>4<\/td>\n",
       "      <td>20<\/td>\n",
       "      <td>6<\/td>\n",
       "      <td>8<\/td>\n",
       "      <td>15<\/td>\n",
       "      <td>15<\/td>\n",
       "    <\/tr>\n",
       "    <tr>\n",
       "      <th>129<\/th>\n",
       "      <td>Beverages<\/td>\n",
       "      <td>Sprite (Child)<\/td>\n",
       "      <td>12 fl oz cup<\/td>\n",
       "      <td>100<\/td>\n",
       "      <td>0<\/td>\n",
       "      <td>0.0<\/td>\n",
       "      <td>0<\/td>\n",
       "      <td>0.0<\/td>\n",
       "      <td>0<\/td>\n",
       "      <td>0.0<\/td>\n",
       "      <td>...<\/td>\n",
       "      <td>27<\/td>\n",
       "      <td>9<\/td>\n",
       "      <td>0<\/td>\n",
       "      <td>0<\/td>\n",
       "      <td>27<\/td>\n",
       "      <td>0<\/td>\n",
       "      <td>0<\/td>\n",
       "      <td>0<\/td>\n",
       "      <td>0<\/td>\n",
       "      <td>0<\/td>\n",
       "    <\/tr>\n",
       "    <tr>\n",
       "      <th>33<\/th>\n",
       "      <td>Breakfast<\/td>\n",
       "      <td>Big Breakfast with Hotcakes and Egg Whites (Re...<\/td>\n",
       "      <td>14.9 oz (423 g)<\/td>\n",
       "      <td>990<\/td>\n",
       "      <td>410<\/td>\n",
       "      <td>46.0<\/td>\n",
       "      <td>70<\/td>\n",
       "      <td>16.0<\/td>\n",
       "      <td>78<\/td>\n",
       "      <td>0.0<\/td>\n",
       "      <td>...<\/td>\n",
       "      <td>110<\/td>\n",
       "      <td>37<\/td>\n",
       "      <td>6<\/td>\n",
       "      <td>23<\/td>\n",
       "      <td>17<\/td>\n",
       "      <td>35<\/td>\n",
       "      <td>0<\/td>\n",
       "      <td>2<\/td>\n",
       "      <td>25<\/td>\n",
       "      <td>30<\/td>\n",
       "    <\/tr>\n",
       "  <\/tbody>\n",
       "<\/table>\n",
       "<p>8 rows × 24 columns<\/p>\n",
       "<\/div>"
      ]
     },
     "metadata":{},
     "output_type":"display_data"
    }
   ],
   "metadata":{
    "datalore":{
     "node_id":"RSUtKnRfNDLEGIny6qmHFp",
     "type":"CODE",
     "hide_input_from_viewers":true,
     "hide_output_from_viewers":true
    }
   }
  },
  {
   "cell_type":"markdown",
   "source":[
    "# Zadanie"
   ],
   "attachments":{},
   "metadata":{
    "datalore":{
     "node_id":"Zadanie",
     "type":"MD",
     "hide_input_from_viewers":false,
     "hide_output_from_viewers":false,
     "sheet_delimiter":true
    }
   }
  },
  {
   "cell_type":"code",
   "source":[
    "fuel = pd.read_csv('http:\/\/piotrdomagala.pl\/data\/fuel.csv', low_memory=False, usecols=['Vehicle ID', 'Year','Make','Model','Class','Fuel Type', 'Combined MPG (FT1)'], index_col='Vehicle ID')\n",
    "fuel.head()"
   ],
   "execution_count":22,
   "outputs":[
    {
     "data":{
      "text\/html":[
       "<div>\n",
       "<style scoped>\n",
       "    .dataframe tbody tr th:only-of-type {\n",
       "        vertical-align: middle;\n",
       "    }\n",
       "\n",
       "    .dataframe tbody tr th {\n",
       "        vertical-align: top;\n",
       "    }\n",
       "\n",
       "    .dataframe thead th {\n",
       "        text-align: right;\n",
       "    }\n",
       "<\/style>\n",
       "<table border=\"1\" class=\"dataframe\">\n",
       "  <thead>\n",
       "    <tr style=\"text-align: right;\">\n",
       "      <th><\/th>\n",
       "      <th>Year<\/th>\n",
       "      <th>Make<\/th>\n",
       "      <th>Model<\/th>\n",
       "      <th>Class<\/th>\n",
       "      <th>Fuel Type<\/th>\n",
       "      <th>Combined MPG (FT1)<\/th>\n",
       "    <\/tr>\n",
       "    <tr>\n",
       "      <th>Vehicle ID<\/th>\n",
       "      <th><\/th>\n",
       "      <th><\/th>\n",
       "      <th><\/th>\n",
       "      <th><\/th>\n",
       "      <th><\/th>\n",
       "      <th><\/th>\n",
       "    <\/tr>\n",
       "  <\/thead>\n",
       "  <tbody>\n",
       "    <tr>\n",
       "      <th>26587<\/th>\n",
       "      <td>1984<\/td>\n",
       "      <td>Alfa Romeo<\/td>\n",
       "      <td>GT V6 2.5<\/td>\n",
       "      <td>Minicompact Cars<\/td>\n",
       "      <td>Regular<\/td>\n",
       "      <td>20.0<\/td>\n",
       "    <\/tr>\n",
       "    <tr>\n",
       "      <th>27705<\/th>\n",
       "      <td>1984<\/td>\n",
       "      <td>Alfa Romeo<\/td>\n",
       "      <td>GT V6 2.5<\/td>\n",
       "      <td>Minicompact Cars<\/td>\n",
       "      <td>Regular<\/td>\n",
       "      <td>20.0<\/td>\n",
       "    <\/tr>\n",
       "    <tr>\n",
       "      <th>26561<\/th>\n",
       "      <td>1984<\/td>\n",
       "      <td>Alfa Romeo<\/td>\n",
       "      <td>Spider Veloce 2000<\/td>\n",
       "      <td>Two Seaters<\/td>\n",
       "      <td>Regular<\/td>\n",
       "      <td>21.0<\/td>\n",
       "    <\/tr>\n",
       "    <tr>\n",
       "      <th>27681<\/th>\n",
       "      <td>1984<\/td>\n",
       "      <td>Alfa Romeo<\/td>\n",
       "      <td>Spider Veloce 2000<\/td>\n",
       "      <td>Two Seaters<\/td>\n",
       "      <td>Regular<\/td>\n",
       "      <td>21.0<\/td>\n",
       "    <\/tr>\n",
       "    <tr>\n",
       "      <th>27550<\/th>\n",
       "      <td>1984<\/td>\n",
       "      <td>AM General<\/td>\n",
       "      <td>DJ Po Vehicle 2WD<\/td>\n",
       "      <td>Special Purpose Vehicle 2WD<\/td>\n",
       "      <td>Regular<\/td>\n",
       "      <td>17.0<\/td>\n",
       "    <\/tr>\n",
       "  <\/tbody>\n",
       "<\/table>\n",
       "<\/div>"
      ]
     },
     "metadata":{},
     "output_type":"display_data"
    }
   ],
   "metadata":{
    "datalore":{
     "node_id":"cKBJpF1TnomHFcHYxW7dCA",
     "type":"CODE",
     "hide_input_from_viewers":true,
     "hide_output_from_viewers":true
    }
   }
  },
  {
   "cell_type":"code",
   "source":[
    "fuel.info()"
   ],
   "execution_count":23,
   "outputs":[
    {
     "name":"stdout",
     "text":[
      "<class 'pandas.core.frame.DataFrame'>\n",
      "Int64Index: 31684 entries, 26587 to 32106\n",
      "Data columns (total 6 columns):\n",
      " #   Column              Non-Null Count  Dtype  \n",
      "---  ------              --------------  -----  \n",
      " 0   Year                31684 non-null  int64  \n",
      " 1   Make                31684 non-null  object \n",
      " 2   Model               31683 non-null  object \n",
      " 3   Class               31683 non-null  object \n",
      " 4   Fuel Type           31683 non-null  object \n",
      " 5   Combined MPG (FT1)  31683 non-null  float64\n",
      "dtypes: float64(1), int64(1), object(4)\n",
      "memory usage: 1.7+ MB\n"
     ],
     "output_type":"stream"
    }
   ],
   "metadata":{
    "datalore":{
     "node_id":"mUChRcOoDbRhBI405xAgCB",
     "type":"CODE",
     "hide_input_from_viewers":true,
     "hide_output_from_viewers":true
    }
   }
  },
  {
   "cell_type":"code",
   "source":[
    "fuel.dtypes"
   ],
   "execution_count":24,
   "outputs":[
    {
     "data":{
      "text\/html":[
       "<pre>Year                    int64\n",
       "Make                   object\n",
       "Model                  object\n",
       "Class                  object\n",
       "Fuel Type              object\n",
       "Combined MPG (FT1)    float64\n",
       "dtype: object<\/pre>"
      ]
     },
     "metadata":{},
     "output_type":"display_data"
    }
   ],
   "metadata":{
    "datalore":{
     "node_id":"N1i9HrUIEjqFLoklkBcZc1",
     "type":"CODE",
     "hide_input_from_viewers":true,
     "hide_output_from_viewers":true
    }
   }
  },
  {
   "cell_type":"code",
   "source":[
    "fuel.dtypes.value_counts()"
   ],
   "execution_count":25,
   "outputs":[
    {
     "data":{
      "text\/html":[
       "<pre>object     4\n",
       "int64      1\n",
       "float64    1\n",
       "dtype: int64<\/pre>"
      ]
     },
     "metadata":{},
     "output_type":"display_data"
    }
   ],
   "metadata":{
    "datalore":{
     "node_id":"TAvVqt72Rc5UuEkAkxYaLt",
     "type":"CODE",
     "hide_input_from_viewers":true,
     "hide_output_from_viewers":true
    }
   }
  },
  {
   "cell_type":"code",
   "source":[
    "fuel['Make'].sample(n=10)"
   ],
   "execution_count":26,
   "outputs":[
    {
     "data":{
      "text\/html":[
       "<pre>Vehicle ID\n",
       "424           Buick\n",
       "5714          Dodge\n",
       "24993          Jeep\n",
       "27676          Ford\n",
       "29073           BMW\n",
       "25453         Volvo\n",
       "4922      Chevrolet\n",
       "10117         Dodge\n",
       "21060          Saab\n",
       "28698    Volkswagen\n",
       "Name: Make, dtype: object<\/pre>"
      ]
     },
     "metadata":{},
     "output_type":"display_data"
    }
   ],
   "metadata":{
    "datalore":{
     "node_id":"fOZ1ZwlmzaztKo6ncUU0gu",
     "type":"CODE",
     "hide_input_from_viewers":true,
     "hide_output_from_viewers":true
    }
   }
  },
  {
   "cell_type":"code",
   "source":[
    "fuel[\"Make\"].value_counts().head(10)"
   ],
   "execution_count":27,
   "outputs":[
    {
     "data":{
      "text\/html":[
       "<pre>Chevrolet        3389\n",
       "Ford             2721\n",
       "Dodge            2361\n",
       "GMC              2174\n",
       "Toyota           1599\n",
       "BMW              1180\n",
       "Nissan           1082\n",
       "Mercedes-Benz     948\n",
       "Mitsubishi        937\n",
       "Pontiac           893\n",
       "Name: Make, dtype: int64<\/pre>"
      ]
     },
     "metadata":{},
     "output_type":"display_data"
    }
   ],
   "metadata":{
    "datalore":{
     "node_id":"VNBZJWikQVPCZoePbVlevD",
     "type":"CODE",
     "hide_input_from_viewers":true,
     "hide_output_from_viewers":true
    }
   }
  },
  {
   "cell_type":"code",
   "source":[
    "fuel.index"
   ],
   "execution_count":28,
   "outputs":[
    {
     "data":{
      "text\/plain":[
       "Int64Index([26587, 27705, 26561, 27681, 27550, 28426, 27549, 28425, 27593,\n",
       "            28455,\n",
       "            ...\n",
       "            31673, 32062, 32059, 32061, 32058, 32060, 32063, 32065, 32064,\n",
       "            32106],\n",
       "           dtype='int64', name='Vehicle ID', length=31684)"
      ]
     },
     "metadata":{},
     "output_type":"display_data"
    }
   ],
   "metadata":{
    "datalore":{
     "node_id":"L6l6CCjRhwNBWepqbdj1rw",
     "type":"CODE",
     "hide_input_from_viewers":true,
     "hide_output_from_viewers":true
    }
   }
  },
  {
   "cell_type":"code",
   "source":[
    "fuel.values"
   ],
   "execution_count":29,
   "outputs":[
    {
     "data":{
      "text\/html":[
       "<pre>array([[1984, 'Alfa Romeo', 'GT V6 2.5', 'Minicompact Cars', 'Regular',\n",
       "        20.0],\n",
       "       [1984, 'Alfa Romeo', 'GT V6 2.5', 'Minicompact Cars', 'Regular',\n",
       "        20.0],\n",
       "       [1984, 'Alfa Romeo', 'Spider Veloce 2000', 'Two Seaters',\n",
       "        'Regular', 21.0],\n",
       "       ...,\n",
       "       [2012, 'Mitsubishi', 'Lancer Evolution', 'Compact Cars',\n",
       "        'Premium', 19.0],\n",
       "       [2012, 'Mitsubishi', 'Lancer Evolution', 'Compact Cars',\n",
       "        'Premium', 19.0],\n",
       "       [2012, 'Mitsubish', nan, nan, nan, nan]], dtype=object)<\/pre>"
      ]
     },
     "metadata":{},
     "output_type":"display_data"
    }
   ],
   "metadata":{
    "datalore":{
     "node_id":"sKHbiaE2tbz3wxEdoGBpAG",
     "type":"CODE",
     "hide_input_from_viewers":true,
     "hide_output_from_viewers":true
    }
   }
  },
  {
   "cell_type":"code",
   "source":[
    "fuel.axes"
   ],
   "execution_count":30,
   "outputs":[
    {
     "data":{
      "text\/plain":[
       "[Int64Index([26587, 27705, 26561, 27681, 27550, 28426, 27549, 28425, 27593,\n",
       "             28455,\n",
       "             ...\n",
       "             31673, 32062, 32059, 32061, 32058, 32060, 32063, 32065, 32064,\n",
       "             32106],\n",
       "            dtype='int64', name='Vehicle ID', length=31684),\n",
       " Index(['Year', 'Make', 'Model', 'Class', 'Fuel Type', 'Combined MPG (FT1)'], dtype='object')]"
      ]
     },
     "metadata":{},
     "output_type":"display_data"
    }
   ],
   "metadata":{
    "datalore":{
     "node_id":"X3kS5n9KmPpv6NqQz2ic9n",
     "type":"CODE",
     "hide_input_from_viewers":true,
     "hide_output_from_viewers":true
    }
   }
  },
  {
   "cell_type":"code",
   "source":[
    "fuel.shape"
   ],
   "execution_count":31,
   "outputs":[
    {
     "data":{
      "text\/plain":[
       "(31684, 6)"
      ]
     },
     "metadata":{},
     "output_type":"display_data"
    }
   ],
   "metadata":{
    "datalore":{
     "node_id":"kOtY5m6IyvstLOQSQ8sMcE",
     "type":"CODE",
     "hide_input_from_viewers":true,
     "hide_output_from_viewers":true
    }
   }
  },
  {
   "cell_type":"code",
   "source":[
    "fuel.count()"
   ],
   "execution_count":32,
   "outputs":[
    {
     "data":{
      "text\/html":[
       "<pre>Year                  31684\n",
       "Make                  31684\n",
       "Model                 31683\n",
       "Class                 31683\n",
       "Fuel Type             31683\n",
       "Combined MPG (FT1)    31683\n",
       "dtype: int64<\/pre>"
      ]
     },
     "metadata":{},
     "output_type":"display_data"
    }
   ],
   "metadata":{
    "datalore":{
     "node_id":"9tPHZoZRcrtL5D9wmW62fj",
     "type":"CODE",
     "hide_input_from_viewers":true,
     "hide_output_from_viewers":true
    }
   }
  },
  {
   "cell_type":"code",
   "source":[
    "len(fuel)"
   ],
   "execution_count":33,
   "outputs":[
    {
     "data":{
      "text\/plain":[
       "31684"
      ]
     },
     "metadata":{},
     "output_type":"display_data"
    }
   ],
   "metadata":{
    "datalore":{
     "node_id":"rEtZWRURnW4bu9yAwXXaU9",
     "type":"CODE",
     "hide_input_from_viewers":true,
     "hide_output_from_viewers":true
    }
   }
  }
 ],
 "metadata":{
  "kernelspec":{
   "display_name":"Python",
   "language":"python",
   "name":"python"
  },
  "datalore":{
   "computation_mode":"JUPYTER",
   "package_manager":"pip",
   "base_environment":"default",
   "packages":[],
   "report_row_ids":[],
   "version":3
  }
 },
 "nbformat":4,
 "nbformat_minor":4
}