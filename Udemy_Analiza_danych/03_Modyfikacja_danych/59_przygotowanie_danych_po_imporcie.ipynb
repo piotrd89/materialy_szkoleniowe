{
 "cells":[
  {
   "cell_type":"markdown",
   "source":[
    "# Wstęp"
   ],
   "attachments":{},
   "metadata":{
    "datalore":{
     "node_id":"Wstęp",
     "type":"MD",
     "hide_input_from_viewers":false,
     "hide_output_from_viewers":false,
     "sheet_delimiter":true
    }
   }
  },
  {
   "cell_type":"code",
   "source":[
    "import pandas as pd\n",
    "import numpy as np"
   ],
   "execution_count":1,
   "outputs":[],
   "metadata":{
    "datalore":{
     "node_id":"kzqkP18giXeZymtt4dQPeP",
     "type":"CODE",
     "hide_input_from_viewers":true,
     "hide_output_from_viewers":true
    }
   }
  },
  {
   "cell_type":"code",
   "source":[
    "frame = pd.read_csv('http:\/\/piotrdomagala.pl\/data\/PublicTransitExpenses.csv',\n",
    "                    low_memory=False)"
   ],
   "execution_count":2,
   "outputs":[],
   "metadata":{
    "datalore":{
     "node_id":"8M2tupOFbkLEvMtieYv0ym",
     "type":"CODE",
     "hide_input_from_viewers":true,
     "hide_output_from_viewers":true
    }
   }
  },
  {
   "cell_type":"code",
   "source":[
    "frame.head()"
   ],
   "execution_count":3,
   "outputs":[
    {
     "data":{
      "text\/html":[
       "<div>\n",
       "<style scoped>\n",
       "    .dataframe tbody tr th:only-of-type {\n",
       "        vertical-align: middle;\n",
       "    }\n",
       "\n",
       "    .dataframe tbody tr th {\n",
       "        vertical-align: top;\n",
       "    }\n",
       "\n",
       "    .dataframe thead th {\n",
       "        text-align: right;\n",
       "    }\n",
       "<\/style>\n",
       "<table border=\"1\" class=\"dataframe\">\n",
       "  <thead>\n",
       "    <tr style=\"text-align: right;\">\n",
       "      <th><\/th>\n",
       "      <th>5 digit NTD ID<\/th>\n",
       "      <th>4 digit NTD ID<\/th>\n",
       "      <th>Agency<\/th>\n",
       "      <th>Reporter Type<\/th>\n",
       "      <th>Subrecipient Type<\/th>\n",
       "      <th>Organization Type<\/th>\n",
       "      <th>2015 Total Mode Vehicles (VOMS)<\/th>\n",
       "      <th>Mode<\/th>\n",
       "      <th>Type of Service<\/th>\n",
       "      <th>Primary UZA Code<\/th>\n",
       "      <th>...<\/th>\n",
       "      <th>Casualty and Liability Costs<\/th>\n",
       "      <th>Taxes<\/th>\n",
       "      <th>PT Funds In Report<\/th>\n",
       "      <th>PT Funds Reported Separately<\/th>\n",
       "      <th>Miscellaneous Expenses<\/th>\n",
       "      <th>Reduced Reporter Total OE<\/th>\n",
       "      <th>Total Operating Expenses<\/th>\n",
       "      <th>Total Operating Expenses (No Funds Reported Separately)<\/th>\n",
       "      <th>ADA Related Expenses<\/th>\n",
       "      <th>Location 1<\/th>\n",
       "    <\/tr>\n",
       "  <\/thead>\n",
       "  <tbody>\n",
       "    <tr>\n",
       "      <th>0<\/th>\n",
       "      <td>30098<\/td>\n",
       "      <td>3098<\/td>\n",
       "      <td>Washington County Commissioners<\/td>\n",
       "      <td>Reduced Reporter<\/td>\n",
       "      <td>NaN<\/td>\n",
       "      <td>NaN<\/td>\n",
       "      <td>NaN<\/td>\n",
       "      <td>DR<\/td>\n",
       "      <td>PT<\/td>\n",
       "      <td>NaN<\/td>\n",
       "      <td>...<\/td>\n",
       "      <td>$0.00<\/td>\n",
       "      <td>$0.00<\/td>\n",
       "      <td>$0.00<\/td>\n",
       "      <td>$0.00<\/td>\n",
       "      <td>$0.00<\/td>\n",
       "      <td>$122524.00<\/td>\n",
       "      <td>$122524.00<\/td>\n",
       "      <td>$122524.00<\/td>\n",
       "      <td>$0.00<\/td>\n",
       "      <td>NaN<\/td>\n",
       "    <\/tr>\n",
       "    <tr>\n",
       "      <th>1<\/th>\n",
       "      <td>30098<\/td>\n",
       "      <td>3098<\/td>\n",
       "      <td>Washington County Commissioners<\/td>\n",
       "      <td>Reduced Reporter<\/td>\n",
       "      <td>NaN<\/td>\n",
       "      <td>NaN<\/td>\n",
       "      <td>NaN<\/td>\n",
       "      <td>MB<\/td>\n",
       "      <td>PT<\/td>\n",
       "      <td>NaN<\/td>\n",
       "      <td>...<\/td>\n",
       "      <td>$0.00<\/td>\n",
       "      <td>$0.00<\/td>\n",
       "      <td>$0.00<\/td>\n",
       "      <td>$0.00<\/td>\n",
       "      <td>$0.00<\/td>\n",
       "      <td>$272715.00<\/td>\n",
       "      <td>$272715.00<\/td>\n",
       "      <td>$272715.00<\/td>\n",
       "      <td>$0.00<\/td>\n",
       "      <td>NaN<\/td>\n",
       "    <\/tr>\n",
       "    <tr>\n",
       "      <th>2<\/th>\n",
       "      <td>60107<\/td>\n",
       "      <td>6107<\/td>\n",
       "      <td>Texoma Area Paratransit System, Inc<\/td>\n",
       "      <td>Full Reporter<\/td>\n",
       "      <td>NaN<\/td>\n",
       "      <td>NaN<\/td>\n",
       "      <td>NaN<\/td>\n",
       "      <td>CB<\/td>\n",
       "      <td>PT<\/td>\n",
       "      <td>NaN<\/td>\n",
       "      <td>...<\/td>\n",
       "      <td>NaN<\/td>\n",
       "      <td>NaN<\/td>\n",
       "      <td>$3398.00<\/td>\n",
       "      <td>NaN<\/td>\n",
       "      <td>NaN<\/td>\n",
       "      <td>NaN<\/td>\n",
       "      <td>$7295.00<\/td>\n",
       "      <td>$7295.00<\/td>\n",
       "      <td>NaN<\/td>\n",
       "      <td>NaN<\/td>\n",
       "    <\/tr>\n",
       "    <tr>\n",
       "      <th>3<\/th>\n",
       "      <td>9<\/td>\n",
       "      <td>0T09<\/td>\n",
       "      <td>Kalispel Tribe of Indians<\/td>\n",
       "      <td>Reduced Reporter<\/td>\n",
       "      <td>NaN<\/td>\n",
       "      <td>Tribe<\/td>\n",
       "      <td>4.0<\/td>\n",
       "      <td>DR<\/td>\n",
       "      <td>DO<\/td>\n",
       "      <td>0.0<\/td>\n",
       "      <td>...<\/td>\n",
       "      <td>NaN<\/td>\n",
       "      <td>NaN<\/td>\n",
       "      <td>NaN<\/td>\n",
       "      <td>NaN<\/td>\n",
       "      <td>NaN<\/td>\n",
       "      <td>$37416.00<\/td>\n",
       "      <td>$37416.00<\/td>\n",
       "      <td>$37416.00<\/td>\n",
       "      <td>NaN<\/td>\n",
       "      <td>Usk, WA\\n<\/td>\n",
       "    <\/tr>\n",
       "    <tr>\n",
       "      <th>4<\/th>\n",
       "      <td>9<\/td>\n",
       "      <td>0T09<\/td>\n",
       "      <td>Kalispel Tribe of Indians<\/td>\n",
       "      <td>Reduced Reporter<\/td>\n",
       "      <td>NaN<\/td>\n",
       "      <td>Tribe<\/td>\n",
       "      <td>4.0<\/td>\n",
       "      <td>MB<\/td>\n",
       "      <td>DO<\/td>\n",
       "      <td>0.0<\/td>\n",
       "      <td>...<\/td>\n",
       "      <td>NaN<\/td>\n",
       "      <td>NaN<\/td>\n",
       "      <td>NaN<\/td>\n",
       "      <td>NaN<\/td>\n",
       "      <td>NaN<\/td>\n",
       "      <td>$345789.00<\/td>\n",
       "      <td>$345789.00<\/td>\n",
       "      <td>$345789.00<\/td>\n",
       "      <td>NaN<\/td>\n",
       "      <td>Usk, WA\\n<\/td>\n",
       "    <\/tr>\n",
       "  <\/tbody>\n",
       "<\/table>\n",
       "<p>5 rows × 39 columns<\/p>\n",
       "<\/div>"
      ]
     },
     "metadata":{},
     "output_type":"display_data"
    }
   ],
   "metadata":{
    "datalore":{
     "node_id":"KCyQDgcICt62mZUqI85EsH",
     "type":"CODE",
     "hide_input_from_viewers":true,
     "hide_output_from_viewers":true
    }
   }
  },
  {
   "cell_type":"code",
   "source":[
    "frame.info(memory_usage='deep')"
   ],
   "execution_count":4,
   "outputs":[
    {
     "name":"stdout",
     "text":[
      "<class 'pandas.core.frame.DataFrame'>\n",
      "RangeIndex: 17844 entries, 0 to 17843\n",
      "Data columns (total 39 columns):\n",
      " #   Column                                                   Non-Null Count  Dtype  \n",
      "---  ------                                                   --------------  -----  \n",
      " 0   5 digit NTD ID                                           17844 non-null  object \n",
      " 1   4 digit NTD ID                                           17719 non-null  object \n",
      " 2   Agency                                                   17844 non-null  object \n",
      " 3   Reporter Type                                            17844 non-null  object \n",
      " 4   Subrecipient Type                                        3072 non-null   object \n",
      " 5   Organization Type                                        17759 non-null  object \n",
      " 6   2015 Total Mode Vehicles (VOMS)                          17522 non-null  float64\n",
      " 7   Mode                                                     17844 non-null  object \n",
      " 8   Type of Service                                          17840 non-null  object \n",
      " 9   Primary UZA Code                                         17712 non-null  float64\n",
      " 10  Primary UZA Name                                         17705 non-null  object \n",
      " 11  Primary  UZA Area SQ Miles                               14370 non-null  float64\n",
      " 12  Primary  UZA Population                                  14370 non-null  float64\n",
      " 13  Service Area SQ Miles                                    14414 non-null  float64\n",
      " 14  Service Area Population                                  14418 non-null  float64\n",
      " 15  Year                                                     17844 non-null  int64  \n",
      " 16  Vehicles Operated at Maximum Service (VOMS)              17836 non-null  float64\n",
      " 17  Vehicles Available for Maximum Service (VAMS)            13887 non-null  float64\n",
      " 18  Rail (Y\/N)                                               17318 non-null  object \n",
      " 19  Fixed Route (Y\/N)                                        17318 non-null  object \n",
      " 20  Expense Function                                         17844 non-null  object \n",
      " 21  Operators' Salaries and Wages                            4920 non-null   object \n",
      " 22  Other Salaries and Wages                                 10348 non-null  object \n",
      " 23  Fringe Benefits                                          10425 non-null  object \n",
      " 24  Service Costs                                            10262 non-null  object \n",
      " 25  Fuel and Lubricants                                      6515 non-null   object \n",
      " 26  Tires and Tubes                                          5615 non-null   object \n",
      " 27  Other Materials and Supplies                             10230 non-null  object \n",
      " 28  Utilities                                                5999 non-null   object \n",
      " 29  Casualty and Liability Costs                             6953 non-null   object \n",
      " 30  Taxes                                                    4680 non-null   object \n",
      " 31  PT Funds In Report                                       7592 non-null   object \n",
      " 32  PT Funds Reported Separately                             3555 non-null   object \n",
      " 33  Miscellaneous Expenses                                   7837 non-null   object \n",
      " 34  Reduced Reporter Total OE                                7054 non-null   object \n",
      " 35  Total Operating Expenses                                 17844 non-null  object \n",
      " 36  Total Operating Expenses (No Funds Reported Separately)  17844 non-null  object \n",
      " 37  ADA Related Expenses                                     3187 non-null   object \n",
      " 38  Location 1                                               17712 non-null  object \n",
      "dtypes: float64(8), int64(1), object(30)\n",
      "memory usage: 30.5 MB\n"
     ],
     "output_type":"stream"
    }
   ],
   "metadata":{
    "datalore":{
     "node_id":"gD1TD0cD8sv8EkeX8oLJ4H",
     "type":"CODE",
     "hide_input_from_viewers":true,
     "hide_output_from_viewers":true
    }
   }
  },
  {
   "cell_type":"code",
   "source":[
    "frame = pd.read_csv('http:\/\/piotrdomagala.pl\/data\/PublicTransitExpenses.csv',\n",
    "                    usecols=['Agency','Reporter Type','Organization Type', 'Rail (Y\/N)',\n",
    "                             'Fixed Route (Y\/N)', 'Service Costs', 'Tires and Tubes','Total Operating Expenses',\n",
    "                             'Service Area Population'],\n",
    "                    low_memory=False)"
   ],
   "execution_count":8,
   "outputs":[],
   "metadata":{
    "datalore":{
     "node_id":"doCYKKM1aqnG7rVFNiIE3U",
     "type":"CODE",
     "hide_input_from_viewers":true,
     "hide_output_from_viewers":true
    }
   }
  },
  {
   "cell_type":"code",
   "source":[
    "frame.head()"
   ],
   "execution_count":9,
   "outputs":[
    {
     "data":{
      "text\/html":[
       "<div>\n",
       "<style scoped>\n",
       "    .dataframe tbody tr th:only-of-type {\n",
       "        vertical-align: middle;\n",
       "    }\n",
       "\n",
       "    .dataframe tbody tr th {\n",
       "        vertical-align: top;\n",
       "    }\n",
       "\n",
       "    .dataframe thead th {\n",
       "        text-align: right;\n",
       "    }\n",
       "<\/style>\n",
       "<table border=\"1\" class=\"dataframe\">\n",
       "  <thead>\n",
       "    <tr style=\"text-align: right;\">\n",
       "      <th><\/th>\n",
       "      <th>Agency<\/th>\n",
       "      <th>Reporter Type<\/th>\n",
       "      <th>Organization Type<\/th>\n",
       "      <th>Service Area Population<\/th>\n",
       "      <th>Rail (Y\/N)<\/th>\n",
       "      <th>Fixed Route (Y\/N)<\/th>\n",
       "      <th>Service Costs<\/th>\n",
       "      <th>Tires and Tubes<\/th>\n",
       "      <th>Total Operating Expenses<\/th>\n",
       "    <\/tr>\n",
       "  <\/thead>\n",
       "  <tbody>\n",
       "    <tr>\n",
       "      <th>0<\/th>\n",
       "      <td>Washington County Commissioners<\/td>\n",
       "      <td>Reduced Reporter<\/td>\n",
       "      <td>NaN<\/td>\n",
       "      <td>NaN<\/td>\n",
       "      <td>NaN<\/td>\n",
       "      <td>NaN<\/td>\n",
       "      <td>$0.00<\/td>\n",
       "      <td>$0.00<\/td>\n",
       "      <td>$122524.00<\/td>\n",
       "    <\/tr>\n",
       "    <tr>\n",
       "      <th>1<\/th>\n",
       "      <td>Washington County Commissioners<\/td>\n",
       "      <td>Reduced Reporter<\/td>\n",
       "      <td>NaN<\/td>\n",
       "      <td>NaN<\/td>\n",
       "      <td>NaN<\/td>\n",
       "      <td>NaN<\/td>\n",
       "      <td>$0.00<\/td>\n",
       "      <td>$0.00<\/td>\n",
       "      <td>$272715.00<\/td>\n",
       "    <\/tr>\n",
       "    <tr>\n",
       "      <th>2<\/th>\n",
       "      <td>Texoma Area Paratransit System, Inc<\/td>\n",
       "      <td>Full Reporter<\/td>\n",
       "      <td>NaN<\/td>\n",
       "      <td>NaN<\/td>\n",
       "      <td>NaN<\/td>\n",
       "      <td>NaN<\/td>\n",
       "      <td>NaN<\/td>\n",
       "      <td>NaN<\/td>\n",
       "      <td>$7295.00<\/td>\n",
       "    <\/tr>\n",
       "    <tr>\n",
       "      <th>3<\/th>\n",
       "      <td>Kalispel Tribe of Indians<\/td>\n",
       "      <td>Reduced Reporter<\/td>\n",
       "      <td>Tribe<\/td>\n",
       "      <td>NaN<\/td>\n",
       "      <td>N<\/td>\n",
       "      <td>N<\/td>\n",
       "      <td>NaN<\/td>\n",
       "      <td>NaN<\/td>\n",
       "      <td>$37416.00<\/td>\n",
       "    <\/tr>\n",
       "    <tr>\n",
       "      <th>4<\/th>\n",
       "      <td>Kalispel Tribe of Indians<\/td>\n",
       "      <td>Reduced Reporter<\/td>\n",
       "      <td>Tribe<\/td>\n",
       "      <td>NaN<\/td>\n",
       "      <td>N<\/td>\n",
       "      <td>Y<\/td>\n",
       "      <td>NaN<\/td>\n",
       "      <td>NaN<\/td>\n",
       "      <td>$345789.00<\/td>\n",
       "    <\/tr>\n",
       "  <\/tbody>\n",
       "<\/table>\n",
       "<\/div>"
      ]
     },
     "metadata":{},
     "output_type":"display_data"
    }
   ],
   "metadata":{
    "datalore":{
     "node_id":"1iYU76v8Ogqe9JrFtV0b33",
     "type":"CODE",
     "hide_input_from_viewers":true,
     "hide_output_from_viewers":true
    }
   }
  },
  {
   "cell_type":"code",
   "source":[
    "frame.info(memory_usage='deep') \n",
    "# na początku wybieramy tylko niezbędna dla nas dane\n",
    "# pozwala to znacznie zmniejszyć zużycie pamięci"
   ],
   "execution_count":10,
   "outputs":[
    {
     "name":"stdout",
     "text":[
      "<class 'pandas.core.frame.DataFrame'>\n",
      "RangeIndex: 17844 entries, 0 to 17843\n",
      "Data columns (total 9 columns):\n",
      " #   Column                    Non-Null Count  Dtype  \n",
      "---  ------                    --------------  -----  \n",
      " 0   Agency                    17844 non-null  object \n",
      " 1   Reporter Type             17844 non-null  object \n",
      " 2   Organization Type         17759 non-null  object \n",
      " 3   Service Area Population   14418 non-null  float64\n",
      " 4   Rail (Y\/N)                17318 non-null  object \n",
      " 5   Fixed Route (Y\/N)         17318 non-null  object \n",
      " 6   Service Costs             10262 non-null  object \n",
      " 7   Tires and Tubes           5615 non-null   object \n",
      " 8   Total Operating Expenses  17844 non-null  object \n",
      "dtypes: float64(1), object(8)\n",
      "memory usage: 9.5 MB\n"
     ],
     "output_type":"stream"
    }
   ],
   "metadata":{
    "datalore":{
     "node_id":"oeiSbymbKFfAOlB6s5qf1J",
     "type":"CODE",
     "hide_input_from_viewers":true,
     "hide_output_from_viewers":true
    }
   }
  },
  {
   "cell_type":"code",
   "source":[
    "newColumnName = {'Agency':'Agency',\n",
    "                 'Reporter Type':'ReporterType',\n",
    "                 'Organization Type':'OrgType',\n",
    "                 'Service Area Population':'Population',\n",
    "                 'Rail (Y\/N)':'IsRail',\n",
    "                 'Fixed Route (Y\/N)':'IsFixedRoute',\n",
    "                 'Service Costs':'ServiceCost',\n",
    "                 'Tires and Tubes':'TiresTubeCosts',\n",
    "                 'Total Operating Expenses':'TotalExpenses'\n",
    "                 }"
   ],
   "execution_count":11,
   "outputs":[],
   "metadata":{
    "datalore":{
     "node_id":"MHoLMipqTSunKPFLMnm7LU",
     "type":"CODE",
     "hide_input_from_viewers":true,
     "hide_output_from_viewers":true
    }
   }
  },
  {
   "cell_type":"code",
   "source":[
    "frame.rename(columns=newColumnName, inplace=True)\n",
    "frame.head()\n",
    "# tworzymy bardziej czytelne nazwy kolumn"
   ],
   "execution_count":13,
   "outputs":[
    {
     "data":{
      "text\/html":[
       "<div>\n",
       "<style scoped>\n",
       "    .dataframe tbody tr th:only-of-type {\n",
       "        vertical-align: middle;\n",
       "    }\n",
       "\n",
       "    .dataframe tbody tr th {\n",
       "        vertical-align: top;\n",
       "    }\n",
       "\n",
       "    .dataframe thead th {\n",
       "        text-align: right;\n",
       "    }\n",
       "<\/style>\n",
       "<table border=\"1\" class=\"dataframe\">\n",
       "  <thead>\n",
       "    <tr style=\"text-align: right;\">\n",
       "      <th><\/th>\n",
       "      <th>Agency<\/th>\n",
       "      <th>ReporterType<\/th>\n",
       "      <th>OrgType<\/th>\n",
       "      <th>Population<\/th>\n",
       "      <th>IsRail<\/th>\n",
       "      <th>IsFixedRoute<\/th>\n",
       "      <th>ServiceCost<\/th>\n",
       "      <th>TiresTubeCosts<\/th>\n",
       "      <th>TotalExpenses<\/th>\n",
       "    <\/tr>\n",
       "  <\/thead>\n",
       "  <tbody>\n",
       "    <tr>\n",
       "      <th>0<\/th>\n",
       "      <td>Washington County Commissioners<\/td>\n",
       "      <td>Reduced Reporter<\/td>\n",
       "      <td>NaN<\/td>\n",
       "      <td>NaN<\/td>\n",
       "      <td>NaN<\/td>\n",
       "      <td>NaN<\/td>\n",
       "      <td>$0.00<\/td>\n",
       "      <td>$0.00<\/td>\n",
       "      <td>$122524.00<\/td>\n",
       "    <\/tr>\n",
       "    <tr>\n",
       "      <th>1<\/th>\n",
       "      <td>Washington County Commissioners<\/td>\n",
       "      <td>Reduced Reporter<\/td>\n",
       "      <td>NaN<\/td>\n",
       "      <td>NaN<\/td>\n",
       "      <td>NaN<\/td>\n",
       "      <td>NaN<\/td>\n",
       "      <td>$0.00<\/td>\n",
       "      <td>$0.00<\/td>\n",
       "      <td>$272715.00<\/td>\n",
       "    <\/tr>\n",
       "    <tr>\n",
       "      <th>2<\/th>\n",
       "      <td>Texoma Area Paratransit System, Inc<\/td>\n",
       "      <td>Full Reporter<\/td>\n",
       "      <td>NaN<\/td>\n",
       "      <td>NaN<\/td>\n",
       "      <td>NaN<\/td>\n",
       "      <td>NaN<\/td>\n",
       "      <td>NaN<\/td>\n",
       "      <td>NaN<\/td>\n",
       "      <td>$7295.00<\/td>\n",
       "    <\/tr>\n",
       "    <tr>\n",
       "      <th>3<\/th>\n",
       "      <td>Kalispel Tribe of Indians<\/td>\n",
       "      <td>Reduced Reporter<\/td>\n",
       "      <td>Tribe<\/td>\n",
       "      <td>NaN<\/td>\n",
       "      <td>N<\/td>\n",
       "      <td>N<\/td>\n",
       "      <td>NaN<\/td>\n",
       "      <td>NaN<\/td>\n",
       "      <td>$37416.00<\/td>\n",
       "    <\/tr>\n",
       "    <tr>\n",
       "      <th>4<\/th>\n",
       "      <td>Kalispel Tribe of Indians<\/td>\n",
       "      <td>Reduced Reporter<\/td>\n",
       "      <td>Tribe<\/td>\n",
       "      <td>NaN<\/td>\n",
       "      <td>N<\/td>\n",
       "      <td>Y<\/td>\n",
       "      <td>NaN<\/td>\n",
       "      <td>NaN<\/td>\n",
       "      <td>$345789.00<\/td>\n",
       "    <\/tr>\n",
       "  <\/tbody>\n",
       "<\/table>\n",
       "<\/div>"
      ]
     },
     "metadata":{},
     "output_type":"display_data"
    }
   ],
   "metadata":{
    "datalore":{
     "node_id":"aP7dfiH52MdlWbo6NQdbAu",
     "type":"CODE",
     "hide_input_from_viewers":true,
     "hide_output_from_viewers":true
    }
   }
  },
  {
   "cell_type":"code",
   "source":[
    "frame['ReporterType'].nunique()\n",
    "# Sprawdzamy poszczególne kolumny zliczając ich unikalne wartości jako kandydatów na zmienne kategorialne"
   ],
   "execution_count":14,
   "outputs":[
    {
     "data":{
      "text\/plain":[
       "4"
      ]
     },
     "metadata":{},
     "output_type":"display_data"
    }
   ],
   "metadata":{
    "datalore":{
     "node_id":"HVChsIQ1bQYa9GSWoqvdyg",
     "type":"CODE",
     "hide_input_from_viewers":true,
     "hide_output_from_viewers":true
    }
   }
  },
  {
   "cell_type":"code",
   "source":[
    "frame['ReporterType'].value_counts()"
   ],
   "execution_count":15,
   "outputs":[
    {
     "data":{
      "text\/html":[
       "<pre>Full Reporter       13345\n",
       "Rural Reporter       3116\n",
       "Reduced Reporter     1313\n",
       "Separate Service       70\n",
       "Name: ReporterType, dtype: int64<\/pre>"
      ]
     },
     "metadata":{},
     "output_type":"display_data"
    }
   ],
   "metadata":{
    "datalore":{
     "node_id":"Wceufr4GeQVxB56cCGHQlo",
     "type":"CODE",
     "hide_input_from_viewers":true,
     "hide_output_from_viewers":true
    }
   }
  },
  {
   "cell_type":"code",
   "source":[
    "frame['ReporterType'] = frame['ReporterType'].astype('category')\n",
    "# zmieniamy typ na kategorialny"
   ],
   "execution_count":18,
   "outputs":[],
   "metadata":{
    "datalore":{
     "node_id":"e7HJ7AcDqHZ1hESlt08tM5",
     "type":"CODE",
     "hide_input_from_viewers":true,
     "hide_output_from_viewers":true
    }
   }
  },
  {
   "cell_type":"code",
   "source":[
    "frame.info(memory_usage='deep') "
   ],
   "execution_count":19,
   "outputs":[
    {
     "name":"stdout",
     "text":[
      "<class 'pandas.core.frame.DataFrame'>\n",
      "RangeIndex: 17844 entries, 0 to 17843\n",
      "Data columns (total 9 columns):\n",
      " #   Column          Non-Null Count  Dtype   \n",
      "---  ------          --------------  -----   \n",
      " 0   Agency          17844 non-null  object  \n",
      " 1   ReporterType    17844 non-null  category\n",
      " 2   OrgType         17759 non-null  object  \n",
      " 3   Population      14418 non-null  float64 \n",
      " 4   IsRail          17318 non-null  object  \n",
      " 5   IsFixedRoute    17318 non-null  object  \n",
      " 6   ServiceCost     10262 non-null  object  \n",
      " 7   TiresTubeCosts  5615 non-null   object  \n",
      " 8   TotalExpenses   17844 non-null  object  \n",
      "dtypes: category(1), float64(1), object(7)\n",
      "memory usage: 8.3 MB\n"
     ],
     "output_type":"stream"
    }
   ],
   "metadata":{
    "datalore":{
     "node_id":"01HbdrAxq1h5cMkk1awPiw",
     "type":"CODE",
     "hide_input_from_viewers":true,
     "hide_output_from_viewers":true
    }
   }
  },
  {
   "cell_type":"code",
   "source":[
    "frame['Agency'] = frame['Agency'].astype('category')\n",
    "frame['OrgType'] = frame['OrgType'].astype('category')"
   ],
   "execution_count":20,
   "outputs":[],
   "metadata":{
    "datalore":{
     "node_id":"Ijfw7nZqTe6JTSG6PJB6WT",
     "type":"CODE",
     "hide_input_from_viewers":true,
     "hide_output_from_viewers":true
    }
   }
  },
  {
   "cell_type":"code",
   "source":[
    "frame.info(memory_usage='deep')"
   ],
   "execution_count":21,
   "outputs":[
    {
     "name":"stdout",
     "text":[
      "<class 'pandas.core.frame.DataFrame'>\n",
      "RangeIndex: 17844 entries, 0 to 17843\n",
      "Data columns (total 9 columns):\n",
      " #   Column          Non-Null Count  Dtype   \n",
      "---  ------          --------------  -----   \n",
      " 0   Agency          17844 non-null  category\n",
      " 1   ReporterType    17844 non-null  category\n",
      " 2   OrgType         17759 non-null  category\n",
      " 3   Population      14418 non-null  float64 \n",
      " 4   IsRail          17318 non-null  object  \n",
      " 5   IsFixedRoute    17318 non-null  object  \n",
      " 6   ServiceCost     10262 non-null  object  \n",
      " 7   TiresTubeCosts  5615 non-null   object  \n",
      " 8   TotalExpenses   17844 non-null  object  \n",
      "dtypes: category(3), float64(1), object(5)\n",
      "memory usage: 5.1 MB\n"
     ],
     "output_type":"stream"
    }
   ],
   "metadata":{
    "datalore":{
     "node_id":"8OUSleUe0ZtQTyDYUml7Lv",
     "type":"CODE",
     "hide_input_from_viewers":true,
     "hide_output_from_viewers":true
    }
   }
  },
  {
   "cell_type":"code",
   "source":[
    "# w kolumnie Population występowały wartości NaN, stąd domyślnie zastosowany typ to float\n",
    "# Wypełniamy zatem wartości puste wartościami 0\n",
    "frame['Population'].fillna(0,inplace=True)"
   ],
   "execution_count":22,
   "outputs":[],
   "metadata":{
    "datalore":{
     "node_id":"vB49vbFTOaOovUcWwFDraE",
     "type":"CODE",
     "hide_input_from_viewers":true,
     "hide_output_from_viewers":true
    }
   }
  },
  {
   "cell_type":"code",
   "source":[
    "frame['Population'] = frame['Population'].astype('int')"
   ],
   "execution_count":23,
   "outputs":[],
   "metadata":{
    "datalore":{
     "node_id":"zXPxDOj0W600F7MC4duBog",
     "type":"CODE",
     "hide_input_from_viewers":true,
     "hide_output_from_viewers":true
    }
   }
  },
  {
   "cell_type":"code",
   "source":[
    "frame.info(memory_usage='deep')"
   ],
   "execution_count":24,
   "outputs":[
    {
     "name":"stdout",
     "text":[
      "<class 'pandas.core.frame.DataFrame'>\n",
      "RangeIndex: 17844 entries, 0 to 17843\n",
      "Data columns (total 9 columns):\n",
      " #   Column          Non-Null Count  Dtype   \n",
      "---  ------          --------------  -----   \n",
      " 0   Agency          17844 non-null  category\n",
      " 1   ReporterType    17844 non-null  category\n",
      " 2   OrgType         17759 non-null  category\n",
      " 3   Population      17844 non-null  int64   \n",
      " 4   IsRail          17318 non-null  object  \n",
      " 5   IsFixedRoute    17318 non-null  object  \n",
      " 6   ServiceCost     10262 non-null  object  \n",
      " 7   TiresTubeCosts  5615 non-null   object  \n",
      " 8   TotalExpenses   17844 non-null  object  \n",
      "dtypes: category(3), int64(1), object(5)\n",
      "memory usage: 5.1 MB\n"
     ],
     "output_type":"stream"
    }
   ],
   "metadata":{
    "datalore":{
     "node_id":"2UQrxwmvnw4xJzBe1MhGvK",
     "type":"CODE",
     "hide_input_from_viewers":true,
     "hide_output_from_viewers":true
    }
   }
  },
  {
   "cell_type":"code",
   "source":[
    "frame['IsRail'].replace(('Y','N'),(True,False),inplace=True)\n",
    "frame['IsFixedRoute'].replace(('Y','N'),(True,False),inplace=True)\n",
    "# zamieniamy wartości Y\/N na wartości logiczne True oraz False\n",
    "frame.head()"
   ],
   "execution_count":26,
   "outputs":[
    {
     "data":{
      "text\/html":[
       "<div>\n",
       "<style scoped>\n",
       "    .dataframe tbody tr th:only-of-type {\n",
       "        vertical-align: middle;\n",
       "    }\n",
       "\n",
       "    .dataframe tbody tr th {\n",
       "        vertical-align: top;\n",
       "    }\n",
       "\n",
       "    .dataframe thead th {\n",
       "        text-align: right;\n",
       "    }\n",
       "<\/style>\n",
       "<table border=\"1\" class=\"dataframe\">\n",
       "  <thead>\n",
       "    <tr style=\"text-align: right;\">\n",
       "      <th><\/th>\n",
       "      <th>Agency<\/th>\n",
       "      <th>ReporterType<\/th>\n",
       "      <th>OrgType<\/th>\n",
       "      <th>Population<\/th>\n",
       "      <th>IsRail<\/th>\n",
       "      <th>IsFixedRoute<\/th>\n",
       "      <th>ServiceCost<\/th>\n",
       "      <th>TiresTubeCosts<\/th>\n",
       "      <th>TotalExpenses<\/th>\n",
       "    <\/tr>\n",
       "  <\/thead>\n",
       "  <tbody>\n",
       "    <tr>\n",
       "      <th>0<\/th>\n",
       "      <td>Washington County Commissioners<\/td>\n",
       "      <td>Reduced Reporter<\/td>\n",
       "      <td>NaN<\/td>\n",
       "      <td>0<\/td>\n",
       "      <td>NaN<\/td>\n",
       "      <td>NaN<\/td>\n",
       "      <td>$0.00<\/td>\n",
       "      <td>$0.00<\/td>\n",
       "      <td>$122524.00<\/td>\n",
       "    <\/tr>\n",
       "    <tr>\n",
       "      <th>1<\/th>\n",
       "      <td>Washington County Commissioners<\/td>\n",
       "      <td>Reduced Reporter<\/td>\n",
       "      <td>NaN<\/td>\n",
       "      <td>0<\/td>\n",
       "      <td>NaN<\/td>\n",
       "      <td>NaN<\/td>\n",
       "      <td>$0.00<\/td>\n",
       "      <td>$0.00<\/td>\n",
       "      <td>$272715.00<\/td>\n",
       "    <\/tr>\n",
       "    <tr>\n",
       "      <th>2<\/th>\n",
       "      <td>Texoma Area Paratransit System, Inc<\/td>\n",
       "      <td>Full Reporter<\/td>\n",
       "      <td>NaN<\/td>\n",
       "      <td>0<\/td>\n",
       "      <td>NaN<\/td>\n",
       "      <td>NaN<\/td>\n",
       "      <td>NaN<\/td>\n",
       "      <td>NaN<\/td>\n",
       "      <td>$7295.00<\/td>\n",
       "    <\/tr>\n",
       "    <tr>\n",
       "      <th>3<\/th>\n",
       "      <td>Kalispel Tribe of Indians<\/td>\n",
       "      <td>Reduced Reporter<\/td>\n",
       "      <td>Tribe<\/td>\n",
       "      <td>0<\/td>\n",
       "      <td>False<\/td>\n",
       "      <td>False<\/td>\n",
       "      <td>NaN<\/td>\n",
       "      <td>NaN<\/td>\n",
       "      <td>$37416.00<\/td>\n",
       "    <\/tr>\n",
       "    <tr>\n",
       "      <th>4<\/th>\n",
       "      <td>Kalispel Tribe of Indians<\/td>\n",
       "      <td>Reduced Reporter<\/td>\n",
       "      <td>Tribe<\/td>\n",
       "      <td>0<\/td>\n",
       "      <td>False<\/td>\n",
       "      <td>True<\/td>\n",
       "      <td>NaN<\/td>\n",
       "      <td>NaN<\/td>\n",
       "      <td>$345789.00<\/td>\n",
       "    <\/tr>\n",
       "  <\/tbody>\n",
       "<\/table>\n",
       "<\/div>"
      ]
     },
     "metadata":{},
     "output_type":"display_data"
    }
   ],
   "metadata":{
    "datalore":{
     "node_id":"eHSkoheReoW7c6ZJGeTP77",
     "type":"CODE",
     "hide_input_from_viewers":true,
     "hide_output_from_viewers":true
    }
   }
  },
  {
   "cell_type":"code",
   "source":[
    "# typy w kolumnach IsRail oraz IsFixedRoute nadal są wartościami tekstowymi\n",
    "frame['IsRail'].fillna(False, inplace=True)\n",
    "frame['IsFixedRoute'].fillna(False, inplace=True)\n",
    "# uzupełniamy wartości puste\n",
    "\n",
    "frame['IsRail'] = frame['IsRail'].astype('bool')\n",
    "frame['IsFixedRoute'] = frame['IsFixedRoute'].astype('bool')\n",
    "# ustawiamy typ na wartości logiczne\n",
    "\n",
    "frame.head()"
   ],
   "execution_count":28,
   "outputs":[
    {
     "data":{
      "text\/html":[
       "<div>\n",
       "<style scoped>\n",
       "    .dataframe tbody tr th:only-of-type {\n",
       "        vertical-align: middle;\n",
       "    }\n",
       "\n",
       "    .dataframe tbody tr th {\n",
       "        vertical-align: top;\n",
       "    }\n",
       "\n",
       "    .dataframe thead th {\n",
       "        text-align: right;\n",
       "    }\n",
       "<\/style>\n",
       "<table border=\"1\" class=\"dataframe\">\n",
       "  <thead>\n",
       "    <tr style=\"text-align: right;\">\n",
       "      <th><\/th>\n",
       "      <th>Agency<\/th>\n",
       "      <th>ReporterType<\/th>\n",
       "      <th>OrgType<\/th>\n",
       "      <th>Population<\/th>\n",
       "      <th>IsRail<\/th>\n",
       "      <th>IsFixedRoute<\/th>\n",
       "      <th>ServiceCost<\/th>\n",
       "      <th>TiresTubeCosts<\/th>\n",
       "      <th>TotalExpenses<\/th>\n",
       "    <\/tr>\n",
       "  <\/thead>\n",
       "  <tbody>\n",
       "    <tr>\n",
       "      <th>0<\/th>\n",
       "      <td>Washington County Commissioners<\/td>\n",
       "      <td>Reduced Reporter<\/td>\n",
       "      <td>NaN<\/td>\n",
       "      <td>0<\/td>\n",
       "      <td>False<\/td>\n",
       "      <td>False<\/td>\n",
       "      <td>$0.00<\/td>\n",
       "      <td>$0.00<\/td>\n",
       "      <td>$122524.00<\/td>\n",
       "    <\/tr>\n",
       "    <tr>\n",
       "      <th>1<\/th>\n",
       "      <td>Washington County Commissioners<\/td>\n",
       "      <td>Reduced Reporter<\/td>\n",
       "      <td>NaN<\/td>\n",
       "      <td>0<\/td>\n",
       "      <td>False<\/td>\n",
       "      <td>False<\/td>\n",
       "      <td>$0.00<\/td>\n",
       "      <td>$0.00<\/td>\n",
       "      <td>$272715.00<\/td>\n",
       "    <\/tr>\n",
       "    <tr>\n",
       "      <th>2<\/th>\n",
       "      <td>Texoma Area Paratransit System, Inc<\/td>\n",
       "      <td>Full Reporter<\/td>\n",
       "      <td>NaN<\/td>\n",
       "      <td>0<\/td>\n",
       "      <td>False<\/td>\n",
       "      <td>False<\/td>\n",
       "      <td>NaN<\/td>\n",
       "      <td>NaN<\/td>\n",
       "      <td>$7295.00<\/td>\n",
       "    <\/tr>\n",
       "    <tr>\n",
       "      <th>3<\/th>\n",
       "      <td>Kalispel Tribe of Indians<\/td>\n",
       "      <td>Reduced Reporter<\/td>\n",
       "      <td>Tribe<\/td>\n",
       "      <td>0<\/td>\n",
       "      <td>False<\/td>\n",
       "      <td>False<\/td>\n",
       "      <td>NaN<\/td>\n",
       "      <td>NaN<\/td>\n",
       "      <td>$37416.00<\/td>\n",
       "    <\/tr>\n",
       "    <tr>\n",
       "      <th>4<\/th>\n",
       "      <td>Kalispel Tribe of Indians<\/td>\n",
       "      <td>Reduced Reporter<\/td>\n",
       "      <td>Tribe<\/td>\n",
       "      <td>0<\/td>\n",
       "      <td>False<\/td>\n",
       "      <td>True<\/td>\n",
       "      <td>NaN<\/td>\n",
       "      <td>NaN<\/td>\n",
       "      <td>$345789.00<\/td>\n",
       "    <\/tr>\n",
       "  <\/tbody>\n",
       "<\/table>\n",
       "<\/div>"
      ]
     },
     "metadata":{},
     "output_type":"display_data"
    }
   ],
   "metadata":{
    "datalore":{
     "node_id":"nASBcwJ5vJdAxyDhphCzdW",
     "type":"CODE",
     "hide_input_from_viewers":true,
     "hide_output_from_viewers":true
    }
   }
  },
  {
   "cell_type":"code",
   "source":[
    "frame.info(memory_usage='deep')"
   ],
   "execution_count":29,
   "outputs":[
    {
     "name":"stdout",
     "text":[
      "<class 'pandas.core.frame.DataFrame'>\n",
      "RangeIndex: 17844 entries, 0 to 17843\n",
      "Data columns (total 9 columns):\n",
      " #   Column          Non-Null Count  Dtype   \n",
      "---  ------          --------------  -----   \n",
      " 0   Agency          17844 non-null  category\n",
      " 1   ReporterType    17844 non-null  category\n",
      " 2   OrgType         17759 non-null  category\n",
      " 3   Population      17844 non-null  int64   \n",
      " 4   IsRail          17844 non-null  bool    \n",
      " 5   IsFixedRoute    17844 non-null  bool    \n",
      " 6   ServiceCost     10262 non-null  object  \n",
      " 7   TiresTubeCosts  5615 non-null   object  \n",
      " 8   TotalExpenses   17844 non-null  object  \n",
      "dtypes: bool(2), category(3), int64(1), object(3)\n",
      "memory usage: 3.2 MB\n"
     ],
     "output_type":"stream"
    }
   ],
   "metadata":{
    "datalore":{
     "node_id":"Hy5GxX7aweSuNHQeRBetGf",
     "type":"CODE",
     "hide_input_from_viewers":true,
     "hide_output_from_viewers":true
    }
   }
  },
  {
   "cell_type":"code",
   "source":[
    "# zmieniamy typ kolumn z wartościami finansowymi na float\n",
    "# zaczynamy od usunięcia symboli walutowych\n",
    "frame['ServiceCost'] = frame['ServiceCost'].str.replace('$','')\n",
    "frame['TiresTubeCosts'] = frame['TiresTubeCosts'].str.replace('$','')\n",
    "frame['TotalExpenses'] = frame['TotalExpenses'].str.replace('$','')\n",
    "\n",
    "frame.head()"
   ],
   "execution_count":31,
   "outputs":[
    {
     "name":"stderr",
     "text":[
      "<ipython-input-31-ac186d25a629>:3: FutureWarning: The default value of regex will change from True to False in a future version. In addition, single character regular expressions will *not* be treated as literal strings when regex=True.\n",
      "  frame['ServiceCost'] = frame['ServiceCost'].str.replace('$','')\n",
      "<ipython-input-31-ac186d25a629>:4: FutureWarning: The default value of regex will change from True to False in a future version. In addition, single character regular expressions will *not* be treated as literal strings when regex=True.\n",
      "  frame['TiresTubeCosts'] = frame['TiresTubeCosts'].str.replace('$','')\n",
      "<ipython-input-31-ac186d25a629>:5: FutureWarning: The default value of regex will change from True to False in a future version. In addition, single character regular expressions will *not* be treated as literal strings when regex=True.\n",
      "  frame['TotalExpenses'] = frame['TotalExpenses'].str.replace('$','')\n"
     ],
     "output_type":"stream"
    },
    {
     "data":{
      "text\/html":[
       "<div>\n",
       "<style scoped>\n",
       "    .dataframe tbody tr th:only-of-type {\n",
       "        vertical-align: middle;\n",
       "    }\n",
       "\n",
       "    .dataframe tbody tr th {\n",
       "        vertical-align: top;\n",
       "    }\n",
       "\n",
       "    .dataframe thead th {\n",
       "        text-align: right;\n",
       "    }\n",
       "<\/style>\n",
       "<table border=\"1\" class=\"dataframe\">\n",
       "  <thead>\n",
       "    <tr style=\"text-align: right;\">\n",
       "      <th><\/th>\n",
       "      <th>Agency<\/th>\n",
       "      <th>ReporterType<\/th>\n",
       "      <th>OrgType<\/th>\n",
       "      <th>Population<\/th>\n",
       "      <th>IsRail<\/th>\n",
       "      <th>IsFixedRoute<\/th>\n",
       "      <th>ServiceCost<\/th>\n",
       "      <th>TiresTubeCosts<\/th>\n",
       "      <th>TotalExpenses<\/th>\n",
       "    <\/tr>\n",
       "  <\/thead>\n",
       "  <tbody>\n",
       "    <tr>\n",
       "      <th>0<\/th>\n",
       "      <td>Washington County Commissioners<\/td>\n",
       "      <td>Reduced Reporter<\/td>\n",
       "      <td>NaN<\/td>\n",
       "      <td>0<\/td>\n",
       "      <td>False<\/td>\n",
       "      <td>False<\/td>\n",
       "      <td>0.00<\/td>\n",
       "      <td>0.00<\/td>\n",
       "      <td>122524.00<\/td>\n",
       "    <\/tr>\n",
       "    <tr>\n",
       "      <th>1<\/th>\n",
       "      <td>Washington County Commissioners<\/td>\n",
       "      <td>Reduced Reporter<\/td>\n",
       "      <td>NaN<\/td>\n",
       "      <td>0<\/td>\n",
       "      <td>False<\/td>\n",
       "      <td>False<\/td>\n",
       "      <td>0.00<\/td>\n",
       "      <td>0.00<\/td>\n",
       "      <td>272715.00<\/td>\n",
       "    <\/tr>\n",
       "    <tr>\n",
       "      <th>2<\/th>\n",
       "      <td>Texoma Area Paratransit System, Inc<\/td>\n",
       "      <td>Full Reporter<\/td>\n",
       "      <td>NaN<\/td>\n",
       "      <td>0<\/td>\n",
       "      <td>False<\/td>\n",
       "      <td>False<\/td>\n",
       "      <td>NaN<\/td>\n",
       "      <td>NaN<\/td>\n",
       "      <td>7295.00<\/td>\n",
       "    <\/tr>\n",
       "    <tr>\n",
       "      <th>3<\/th>\n",
       "      <td>Kalispel Tribe of Indians<\/td>\n",
       "      <td>Reduced Reporter<\/td>\n",
       "      <td>Tribe<\/td>\n",
       "      <td>0<\/td>\n",
       "      <td>False<\/td>\n",
       "      <td>False<\/td>\n",
       "      <td>NaN<\/td>\n",
       "      <td>NaN<\/td>\n",
       "      <td>37416.00<\/td>\n",
       "    <\/tr>\n",
       "    <tr>\n",
       "      <th>4<\/th>\n",
       "      <td>Kalispel Tribe of Indians<\/td>\n",
       "      <td>Reduced Reporter<\/td>\n",
       "      <td>Tribe<\/td>\n",
       "      <td>0<\/td>\n",
       "      <td>False<\/td>\n",
       "      <td>True<\/td>\n",
       "      <td>NaN<\/td>\n",
       "      <td>NaN<\/td>\n",
       "      <td>345789.00<\/td>\n",
       "    <\/tr>\n",
       "  <\/tbody>\n",
       "<\/table>\n",
       "<\/div>"
      ]
     },
     "metadata":{},
     "output_type":"display_data"
    }
   ],
   "metadata":{
    "datalore":{
     "node_id":"Fnr3nHrnU4e7beQ7LTBjJK",
     "type":"CODE",
     "hide_input_from_viewers":true,
     "hide_output_from_viewers":true
    }
   }
  },
  {
   "cell_type":"code",
   "source":[
    "frame['ServiceCost'] = frame['ServiceCost'].astype('float')\n",
    "frame['TiresTubeCosts'] = frame['TiresTubeCosts'].astype('float')\n",
    "frame['TotalExpenses'] = frame['TotalExpenses'].astype('float')\n",
    "\n",
    "frame.head()"
   ],
   "execution_count":32,
   "outputs":[
    {
     "data":{
      "text\/html":[
       "<div>\n",
       "<style scoped>\n",
       "    .dataframe tbody tr th:only-of-type {\n",
       "        vertical-align: middle;\n",
       "    }\n",
       "\n",
       "    .dataframe tbody tr th {\n",
       "        vertical-align: top;\n",
       "    }\n",
       "\n",
       "    .dataframe thead th {\n",
       "        text-align: right;\n",
       "    }\n",
       "<\/style>\n",
       "<table border=\"1\" class=\"dataframe\">\n",
       "  <thead>\n",
       "    <tr style=\"text-align: right;\">\n",
       "      <th><\/th>\n",
       "      <th>Agency<\/th>\n",
       "      <th>ReporterType<\/th>\n",
       "      <th>OrgType<\/th>\n",
       "      <th>Population<\/th>\n",
       "      <th>IsRail<\/th>\n",
       "      <th>IsFixedRoute<\/th>\n",
       "      <th>ServiceCost<\/th>\n",
       "      <th>TiresTubeCosts<\/th>\n",
       "      <th>TotalExpenses<\/th>\n",
       "    <\/tr>\n",
       "  <\/thead>\n",
       "  <tbody>\n",
       "    <tr>\n",
       "      <th>0<\/th>\n",
       "      <td>Washington County Commissioners<\/td>\n",
       "      <td>Reduced Reporter<\/td>\n",
       "      <td>NaN<\/td>\n",
       "      <td>0<\/td>\n",
       "      <td>False<\/td>\n",
       "      <td>False<\/td>\n",
       "      <td>0.0<\/td>\n",
       "      <td>0.0<\/td>\n",
       "      <td>122524.0<\/td>\n",
       "    <\/tr>\n",
       "    <tr>\n",
       "      <th>1<\/th>\n",
       "      <td>Washington County Commissioners<\/td>\n",
       "      <td>Reduced Reporter<\/td>\n",
       "      <td>NaN<\/td>\n",
       "      <td>0<\/td>\n",
       "      <td>False<\/td>\n",
       "      <td>False<\/td>\n",
       "      <td>0.0<\/td>\n",
       "      <td>0.0<\/td>\n",
       "      <td>272715.0<\/td>\n",
       "    <\/tr>\n",
       "    <tr>\n",
       "      <th>2<\/th>\n",
       "      <td>Texoma Area Paratransit System, Inc<\/td>\n",
       "      <td>Full Reporter<\/td>\n",
       "      <td>NaN<\/td>\n",
       "      <td>0<\/td>\n",
       "      <td>False<\/td>\n",
       "      <td>False<\/td>\n",
       "      <td>NaN<\/td>\n",
       "      <td>NaN<\/td>\n",
       "      <td>7295.0<\/td>\n",
       "    <\/tr>\n",
       "    <tr>\n",
       "      <th>3<\/th>\n",
       "      <td>Kalispel Tribe of Indians<\/td>\n",
       "      <td>Reduced Reporter<\/td>\n",
       "      <td>Tribe<\/td>\n",
       "      <td>0<\/td>\n",
       "      <td>False<\/td>\n",
       "      <td>False<\/td>\n",
       "      <td>NaN<\/td>\n",
       "      <td>NaN<\/td>\n",
       "      <td>37416.0<\/td>\n",
       "    <\/tr>\n",
       "    <tr>\n",
       "      <th>4<\/th>\n",
       "      <td>Kalispel Tribe of Indians<\/td>\n",
       "      <td>Reduced Reporter<\/td>\n",
       "      <td>Tribe<\/td>\n",
       "      <td>0<\/td>\n",
       "      <td>False<\/td>\n",
       "      <td>True<\/td>\n",
       "      <td>NaN<\/td>\n",
       "      <td>NaN<\/td>\n",
       "      <td>345789.0<\/td>\n",
       "    <\/tr>\n",
       "  <\/tbody>\n",
       "<\/table>\n",
       "<\/div>"
      ]
     },
     "metadata":{},
     "output_type":"display_data"
    }
   ],
   "metadata":{
    "datalore":{
     "node_id":"2rkrmL21x8YJb1C3qQWCZb",
     "type":"CODE",
     "hide_input_from_viewers":true,
     "hide_output_from_viewers":true
    }
   }
  },
  {
   "cell_type":"code",
   "source":[
    "frame.info(memory_usage='deep')"
   ],
   "execution_count":33,
   "outputs":[
    {
     "name":"stdout",
     "text":[
      "<class 'pandas.core.frame.DataFrame'>\n",
      "RangeIndex: 17844 entries, 0 to 17843\n",
      "Data columns (total 9 columns):\n",
      " #   Column          Non-Null Count  Dtype   \n",
      "---  ------          --------------  -----   \n",
      " 0   Agency          17844 non-null  category\n",
      " 1   ReporterType    17844 non-null  category\n",
      " 2   OrgType         17759 non-null  category\n",
      " 3   Population      17844 non-null  int64   \n",
      " 4   IsRail          17844 non-null  bool    \n",
      " 5   IsFixedRoute    17844 non-null  bool    \n",
      " 6   ServiceCost     10262 non-null  float64 \n",
      " 7   TiresTubeCosts  5615 non-null   float64 \n",
      " 8   TotalExpenses   17844 non-null  float64 \n",
      "dtypes: bool(2), category(3), float64(3), int64(1)\n",
      "memory usage: 916.1 KB\n"
     ],
     "output_type":"stream"
    }
   ],
   "metadata":{
    "datalore":{
     "node_id":"S2fjAleLocv3KdoEsAW0dY",
     "type":"CODE",
     "hide_input_from_viewers":true,
     "hide_output_from_viewers":true
    }
   }
  },
  {
   "cell_type":"code",
   "source":[
    "# Zmieniamy sposób zapisu wartości w kolumnach, uwzględniając wielkość znaków (krok opcjonalny)\n",
    "frame['Agency'] = frame['Agency'].str.title().astype('category')\n",
    "frame['ReporterType'] = frame['ReporterType'].str.title().astype('category')\n",
    "frame['OrgType'] = frame['OrgType'].str.title().astype('category')\n",
    "\n",
    "frame.head()"
   ],
   "execution_count":35,
   "outputs":[
    {
     "data":{
      "text\/html":[
       "<div>\n",
       "<style scoped>\n",
       "    .dataframe tbody tr th:only-of-type {\n",
       "        vertical-align: middle;\n",
       "    }\n",
       "\n",
       "    .dataframe tbody tr th {\n",
       "        vertical-align: top;\n",
       "    }\n",
       "\n",
       "    .dataframe thead th {\n",
       "        text-align: right;\n",
       "    }\n",
       "<\/style>\n",
       "<table border=\"1\" class=\"dataframe\">\n",
       "  <thead>\n",
       "    <tr style=\"text-align: right;\">\n",
       "      <th><\/th>\n",
       "      <th>Agency<\/th>\n",
       "      <th>ReporterType<\/th>\n",
       "      <th>OrgType<\/th>\n",
       "      <th>Population<\/th>\n",
       "      <th>IsRail<\/th>\n",
       "      <th>IsFixedRoute<\/th>\n",
       "      <th>ServiceCost<\/th>\n",
       "      <th>TiresTubeCosts<\/th>\n",
       "      <th>TotalExpenses<\/th>\n",
       "    <\/tr>\n",
       "  <\/thead>\n",
       "  <tbody>\n",
       "    <tr>\n",
       "      <th>0<\/th>\n",
       "      <td>Washington County Commissioners<\/td>\n",
       "      <td>Reduced Reporter<\/td>\n",
       "      <td>NaN<\/td>\n",
       "      <td>0<\/td>\n",
       "      <td>False<\/td>\n",
       "      <td>False<\/td>\n",
       "      <td>0.0<\/td>\n",
       "      <td>0.0<\/td>\n",
       "      <td>122524.0<\/td>\n",
       "    <\/tr>\n",
       "    <tr>\n",
       "      <th>1<\/th>\n",
       "      <td>Washington County Commissioners<\/td>\n",
       "      <td>Reduced Reporter<\/td>\n",
       "      <td>NaN<\/td>\n",
       "      <td>0<\/td>\n",
       "      <td>False<\/td>\n",
       "      <td>False<\/td>\n",
       "      <td>0.0<\/td>\n",
       "      <td>0.0<\/td>\n",
       "      <td>272715.0<\/td>\n",
       "    <\/tr>\n",
       "    <tr>\n",
       "      <th>2<\/th>\n",
       "      <td>Texoma Area Paratransit System, Inc<\/td>\n",
       "      <td>Full Reporter<\/td>\n",
       "      <td>NaN<\/td>\n",
       "      <td>0<\/td>\n",
       "      <td>False<\/td>\n",
       "      <td>False<\/td>\n",
       "      <td>NaN<\/td>\n",
       "      <td>NaN<\/td>\n",
       "      <td>7295.0<\/td>\n",
       "    <\/tr>\n",
       "    <tr>\n",
       "      <th>3<\/th>\n",
       "      <td>Kalispel Tribe Of Indians<\/td>\n",
       "      <td>Reduced Reporter<\/td>\n",
       "      <td>Tribe<\/td>\n",
       "      <td>0<\/td>\n",
       "      <td>False<\/td>\n",
       "      <td>False<\/td>\n",
       "      <td>NaN<\/td>\n",
       "      <td>NaN<\/td>\n",
       "      <td>37416.0<\/td>\n",
       "    <\/tr>\n",
       "    <tr>\n",
       "      <th>4<\/th>\n",
       "      <td>Kalispel Tribe Of Indians<\/td>\n",
       "      <td>Reduced Reporter<\/td>\n",
       "      <td>Tribe<\/td>\n",
       "      <td>0<\/td>\n",
       "      <td>False<\/td>\n",
       "      <td>True<\/td>\n",
       "      <td>NaN<\/td>\n",
       "      <td>NaN<\/td>\n",
       "      <td>345789.0<\/td>\n",
       "    <\/tr>\n",
       "  <\/tbody>\n",
       "<\/table>\n",
       "<\/div>"
      ]
     },
     "metadata":{},
     "output_type":"display_data"
    }
   ],
   "metadata":{
    "datalore":{
     "node_id":"TSPipFUmVDRc09AlKpT9M9",
     "type":"CODE",
     "hide_input_from_viewers":true,
     "hide_output_from_viewers":true
    }
   }
  },
  {
   "cell_type":"code",
   "source":[
    "frame.info(memory_usage='deep')"
   ],
   "execution_count":36,
   "outputs":[
    {
     "name":"stdout",
     "text":[
      "<class 'pandas.core.frame.DataFrame'>\n",
      "RangeIndex: 17844 entries, 0 to 17843\n",
      "Data columns (total 9 columns):\n",
      " #   Column          Non-Null Count  Dtype   \n",
      "---  ------          --------------  -----   \n",
      " 0   Agency          17844 non-null  category\n",
      " 1   ReporterType    17844 non-null  category\n",
      " 2   OrgType         17759 non-null  category\n",
      " 3   Population      17844 non-null  int64   \n",
      " 4   IsRail          17844 non-null  bool    \n",
      " 5   IsFixedRoute    17844 non-null  bool    \n",
      " 6   ServiceCost     10262 non-null  float64 \n",
      " 7   TiresTubeCosts  5615 non-null   float64 \n",
      " 8   TotalExpenses   17844 non-null  float64 \n",
      "dtypes: bool(2), category(3), float64(3), int64(1)\n",
      "memory usage: 915.8 KB\n"
     ],
     "output_type":"stream"
    }
   ],
   "metadata":{
    "datalore":{
     "node_id":"XKgofmhbnuWpPJVPXJeOKW",
     "type":"CODE",
     "hide_input_from_viewers":true,
     "hide_output_from_viewers":true
    }
   }
  },
  {
   "cell_type":"markdown",
   "source":[
    "# Zadanie"
   ],
   "attachments":{},
   "metadata":{
    "datalore":{
     "node_id":"Zadanie",
     "type":"MD",
     "hide_input_from_viewers":false,
     "hide_output_from_viewers":false,
     "sheet_delimiter":true
    }
   }
  },
  {
   "cell_type":"code",
   "source":[
    "fb = pd.read_csv('http:\/\/piotrdomagala.pl\/data\/mrbean_facebook_statuses_with_nulls.csv',\n",
    "                    low_memory=False)\n",
    "fb.head()"
   ],
   "execution_count":39,
   "outputs":[
    {
     "data":{
      "text\/html":[
       "<div>\n",
       "<style scoped>\n",
       "    .dataframe tbody tr th:only-of-type {\n",
       "        vertical-align: middle;\n",
       "    }\n",
       "\n",
       "    .dataframe tbody tr th {\n",
       "        vertical-align: top;\n",
       "    }\n",
       "\n",
       "    .dataframe thead th {\n",
       "        text-align: right;\n",
       "    }\n",
       "<\/style>\n",
       "<table border=\"1\" class=\"dataframe\">\n",
       "  <thead>\n",
       "    <tr style=\"text-align: right;\">\n",
       "      <th><\/th>\n",
       "      <th>status_id<\/th>\n",
       "      <th>status_message<\/th>\n",
       "      <th>link_name<\/th>\n",
       "      <th>status_type<\/th>\n",
       "      <th>status_link<\/th>\n",
       "      <th>status_published<\/th>\n",
       "      <th>num_reactions<\/th>\n",
       "      <th>num_comments<\/th>\n",
       "      <th>num_shares<\/th>\n",
       "      <th>num_likes<\/th>\n",
       "      <th>num_loves<\/th>\n",
       "      <th>num_wows<\/th>\n",
       "      <th>num_hahas<\/th>\n",
       "      <th>num_sads<\/th>\n",
       "      <th>num_angrys<\/th>\n",
       "    <\/tr>\n",
       "  <\/thead>\n",
       "  <tbody>\n",
       "    <tr>\n",
       "      <th>0<\/th>\n",
       "      <td>17774451468_10154154735571469<\/td>\n",
       "      <td>It's time for Mr Bean and Teddy to get ready f...<\/td>\n",
       "      <td>Mr Bean - Preparing To Go Camping<\/td>\n",
       "      <td>video<\/td>\n",
       "      <td>https:\/\/youtu.be\/fgURU75gTMQ<\/td>\n",
       "      <td>2016-06-23 11:35:48<\/td>\n",
       "      <td>16570.0<\/td>\n",
       "      <td>223.0<\/td>\n",
       "      <td>338.0<\/td>\n",
       "      <td>16079<\/td>\n",
       "      <td>166<\/td>\n",
       "      <td>6<\/td>\n",
       "      <td>320<\/td>\n",
       "      <td>0<\/td>\n",
       "      <td>0<\/td>\n",
       "    <\/tr>\n",
       "    <tr>\n",
       "      <th>1<\/th>\n",
       "      <td>17774451468_10154146584106469<\/td>\n",
       "      <td>NaN<\/td>\n",
       "      <td>Timeline Photos<\/td>\n",
       "      <td>photo<\/td>\n",
       "      <td>https:\/\/www.facebook.com\/MrBean\/photos\/a.10150...<\/td>\n",
       "      <td>2016-06-21 10:00:01<\/td>\n",
       "      <td>119886.0<\/td>\n",
       "      <td>2171.0<\/td>\n",
       "      <td>1657.0<\/td>\n",
       "      <td>114008<\/td>\n",
       "      <td>946<\/td>\n",
       "      <td>104<\/td>\n",
       "      <td>4795<\/td>\n",
       "      <td>16<\/td>\n",
       "      <td>17<\/td>\n",
       "    <\/tr>\n",
       "    <tr>\n",
       "      <th>2<\/th>\n",
       "      <td>17774451468_10154135502911469<\/td>\n",
       "      <td>NaN<\/td>\n",
       "      <td>Timeline Photos<\/td>\n",
       "      <td>photo<\/td>\n",
       "      <td>https:\/\/www.facebook.com\/MrBean\/photos\/a.10150...<\/td>\n",
       "      <td>2016-06-19 10:00:01<\/td>\n",
       "      <td>NaN<\/td>\n",
       "      <td>2395.0<\/td>\n",
       "      <td>10050.0<\/td>\n",
       "      <td>218579<\/td>\n",
       "      <td>2988<\/td>\n",
       "      <td>188<\/td>\n",
       "      <td>13992<\/td>\n",
       "      <td>52<\/td>\n",
       "      <td>53<\/td>\n",
       "    <\/tr>\n",
       "    <tr>\n",
       "      <th>3<\/th>\n",
       "      <td>17774451468_10154138120151469<\/td>\n",
       "      <td>Mr Bean is ready to do some shopping but bewar...<\/td>\n",
       "      <td>www.youtube.com<\/td>\n",
       "      <td>video<\/td>\n",
       "      <td>https:\/\/www.youtube.com\/watch?v=58Z8J0PbLS8<\/td>\n",
       "      <td>2016-06-18 11:00:02<\/td>\n",
       "      <td>20913.0<\/td>\n",
       "      <td>214.0<\/td>\n",
       "      <td>257.0<\/td>\n",
       "      <td>20338<\/td>\n",
       "      <td>211<\/td>\n",
       "      <td>20<\/td>\n",
       "      <td>336<\/td>\n",
       "      <td>0<\/td>\n",
       "      <td>8<\/td>\n",
       "    <\/tr>\n",
       "    <tr>\n",
       "      <th>4<\/th>\n",
       "      <td>17774451468_10154135502476469<\/td>\n",
       "      <td>NaN<\/td>\n",
       "      <td>Timeline Photos<\/td>\n",
       "      <td>photo<\/td>\n",
       "      <td>https:\/\/www.facebook.com\/MrBean\/photos\/a.10150...<\/td>\n",
       "      <td>2016-06-17 09:00:01<\/td>\n",
       "      <td>223602.0<\/td>\n",
       "      <td>880.0<\/td>\n",
       "      <td>2228.0<\/td>\n",
       "      <td>215591<\/td>\n",
       "      <td>2872<\/td>\n",
       "      <td>259<\/td>\n",
       "      <td>4814<\/td>\n",
       "      <td>27<\/td>\n",
       "      <td>39<\/td>\n",
       "    <\/tr>\n",
       "  <\/tbody>\n",
       "<\/table>\n",
       "<\/div>"
      ]
     },
     "metadata":{},
     "output_type":"display_data"
    }
   ],
   "metadata":{
    "datalore":{
     "node_id":"Us7jlIovreq7fGSMA99GbK",
     "type":"CODE",
     "hide_input_from_viewers":true,
     "hide_output_from_viewers":true
    }
   }
  },
  {
   "cell_type":"code",
   "source":[
    "fb.info(memory_usage='deep')"
   ],
   "execution_count":41,
   "outputs":[
    {
     "name":"stdout",
     "text":[
      "<class 'pandas.core.frame.DataFrame'>\n",
      "RangeIndex: 56 entries, 0 to 55\n",
      "Data columns (total 15 columns):\n",
      " #   Column            Non-Null Count  Dtype  \n",
      "---  ------            --------------  -----  \n",
      " 0   status_id         56 non-null     object \n",
      " 1   status_message    40 non-null     object \n",
      " 2   link_name         56 non-null     object \n",
      " 3   status_type       56 non-null     object \n",
      " 4   status_link       56 non-null     object \n",
      " 5   status_published  56 non-null     object \n",
      " 6   num_reactions     54 non-null     float64\n",
      " 7   num_comments      55 non-null     float64\n",
      " 8   num_shares        56 non-null     float64\n",
      " 9   num_likes         56 non-null     int64  \n",
      " 10  num_loves         56 non-null     int64  \n",
      " 11  num_wows          56 non-null     int64  \n",
      " 12  num_hahas         56 non-null     int64  \n",
      " 13  num_sads          56 non-null     int64  \n",
      " 14  num_angrys        56 non-null     int64  \n",
      "dtypes: float64(3), int64(6), object(6)\n",
      "memory usage: 34.4 KB\n"
     ],
     "output_type":"stream"
    }
   ],
   "metadata":{
    "datalore":{
     "node_id":"hbJTG4pd2R5pGwYB1bSWY9",
     "type":"CODE",
     "hide_input_from_viewers":true,
     "hide_output_from_viewers":true
    }
   }
  },
  {
   "cell_type":"code",
   "source":[
    "fb = pd.read_csv('http:\/\/piotrdomagala.pl\/data\/mrbean_facebook_statuses_with_nulls.csv',\n",
    "                 low_memory=False,\n",
    "                 usecols=[\"status_message\", \"status_type\", \"link_name\",\"num_reactions\", \"num_shares\", \"num_likes\"])\n",
    "fb.head()"
   ],
   "execution_count":42,
   "outputs":[
    {
     "data":{
      "text\/html":[
       "<div>\n",
       "<style scoped>\n",
       "    .dataframe tbody tr th:only-of-type {\n",
       "        vertical-align: middle;\n",
       "    }\n",
       "\n",
       "    .dataframe tbody tr th {\n",
       "        vertical-align: top;\n",
       "    }\n",
       "\n",
       "    .dataframe thead th {\n",
       "        text-align: right;\n",
       "    }\n",
       "<\/style>\n",
       "<table border=\"1\" class=\"dataframe\">\n",
       "  <thead>\n",
       "    <tr style=\"text-align: right;\">\n",
       "      <th><\/th>\n",
       "      <th>status_message<\/th>\n",
       "      <th>link_name<\/th>\n",
       "      <th>status_type<\/th>\n",
       "      <th>num_reactions<\/th>\n",
       "      <th>num_shares<\/th>\n",
       "      <th>num_likes<\/th>\n",
       "    <\/tr>\n",
       "  <\/thead>\n",
       "  <tbody>\n",
       "    <tr>\n",
       "      <th>0<\/th>\n",
       "      <td>It's time for Mr Bean and Teddy to get ready f...<\/td>\n",
       "      <td>Mr Bean - Preparing To Go Camping<\/td>\n",
       "      <td>video<\/td>\n",
       "      <td>16570.0<\/td>\n",
       "      <td>338.0<\/td>\n",
       "      <td>16079<\/td>\n",
       "    <\/tr>\n",
       "    <tr>\n",
       "      <th>1<\/th>\n",
       "      <td>NaN<\/td>\n",
       "      <td>Timeline Photos<\/td>\n",
       "      <td>photo<\/td>\n",
       "      <td>119886.0<\/td>\n",
       "      <td>1657.0<\/td>\n",
       "      <td>114008<\/td>\n",
       "    <\/tr>\n",
       "    <tr>\n",
       "      <th>2<\/th>\n",
       "      <td>NaN<\/td>\n",
       "      <td>Timeline Photos<\/td>\n",
       "      <td>photo<\/td>\n",
       "      <td>NaN<\/td>\n",
       "      <td>10050.0<\/td>\n",
       "      <td>218579<\/td>\n",
       "    <\/tr>\n",
       "    <tr>\n",
       "      <th>3<\/th>\n",
       "      <td>Mr Bean is ready to do some shopping but bewar...<\/td>\n",
       "      <td>www.youtube.com<\/td>\n",
       "      <td>video<\/td>\n",
       "      <td>20913.0<\/td>\n",
       "      <td>257.0<\/td>\n",
       "      <td>20338<\/td>\n",
       "    <\/tr>\n",
       "    <tr>\n",
       "      <th>4<\/th>\n",
       "      <td>NaN<\/td>\n",
       "      <td>Timeline Photos<\/td>\n",
       "      <td>photo<\/td>\n",
       "      <td>223602.0<\/td>\n",
       "      <td>2228.0<\/td>\n",
       "      <td>215591<\/td>\n",
       "    <\/tr>\n",
       "  <\/tbody>\n",
       "<\/table>\n",
       "<\/div>"
      ]
     },
     "metadata":{},
     "output_type":"display_data"
    }
   ],
   "metadata":{
    "datalore":{
     "node_id":"MVMtjBLrc57tVpR2WJwMhB",
     "type":"CODE",
     "hide_input_from_viewers":true,
     "hide_output_from_viewers":true
    }
   }
  },
  {
   "cell_type":"code",
   "source":[
    "fb.info(memory_usage='deep')"
   ],
   "execution_count":43,
   "outputs":[
    {
     "name":"stdout",
     "text":[
      "<class 'pandas.core.frame.DataFrame'>\n",
      "RangeIndex: 56 entries, 0 to 55\n",
      "Data columns (total 6 columns):\n",
      " #   Column          Non-Null Count  Dtype  \n",
      "---  ------          --------------  -----  \n",
      " 0   status_message  40 non-null     object \n",
      " 1   link_name       56 non-null     object \n",
      " 2   status_type     56 non-null     object \n",
      " 3   num_reactions   54 non-null     float64\n",
      " 4   num_shares      56 non-null     float64\n",
      " 5   num_likes       56 non-null     int64  \n",
      "dtypes: float64(2), int64(1), object(3)\n",
      "memory usage: 16.1 KB\n"
     ],
     "output_type":"stream"
    }
   ],
   "metadata":{
    "datalore":{
     "node_id":"WVjzV2FOxX6fax9izmuFzq",
     "type":"CODE",
     "hide_input_from_viewers":true,
     "hide_output_from_viewers":true
    }
   }
  },
  {
   "cell_type":"code",
   "source":[
    "fb['status_type'].nunique()"
   ],
   "execution_count":45,
   "outputs":[
    {
     "data":{
      "text\/plain":[
       "3"
      ]
     },
     "metadata":{},
     "output_type":"display_data"
    }
   ],
   "metadata":{
    "datalore":{
     "node_id":"WsooAUp9JQVQTIcriAgROo",
     "type":"CODE",
     "hide_input_from_viewers":true,
     "hide_output_from_viewers":true
    }
   }
  },
  {
   "cell_type":"code",
   "source":[
    "fb['status_type'].value_counts()"
   ],
   "execution_count":46,
   "outputs":[
    {
     "data":{
      "text\/html":[
       "<pre>video    32\n",
       "photo    22\n",
       "link      2\n",
       "Name: status_type, dtype: int64<\/pre>"
      ]
     },
     "metadata":{},
     "output_type":"display_data"
    }
   ],
   "metadata":{
    "datalore":{
     "node_id":"Lyi23hAzNjPnbeF8DMyue8",
     "type":"CODE",
     "hide_input_from_viewers":true,
     "hide_output_from_viewers":true
    }
   }
  },
  {
   "cell_type":"code",
   "source":[
    "fb['status_type'] = fb['status_type'].astype('category')"
   ],
   "execution_count":47,
   "outputs":[],
   "metadata":{
    "datalore":{
     "node_id":"D5aXDokgqB4pbmzwfKSgPi",
     "type":"CODE",
     "hide_input_from_viewers":true,
     "hide_output_from_viewers":true
    }
   }
  },
  {
   "cell_type":"code",
   "source":[
    "fb['link_name'].nunique()"
   ],
   "execution_count":48,
   "outputs":[
    {
     "data":{
      "text\/plain":[
       "32"
      ]
     },
     "metadata":{},
     "output_type":"display_data"
    }
   ],
   "metadata":{
    "datalore":{
     "node_id":"6MB8pbARXEofx3t9YAIMpW",
     "type":"CODE",
     "hide_input_from_viewers":true,
     "hide_output_from_viewers":true
    }
   }
  },
  {
   "cell_type":"code",
   "source":[
    "fb['link_name'].value_counts()"
   ],
   "execution_count":49,
   "outputs":[
    {
     "data":{
      "text\/html":[
       "<pre>Timeline Photos                                                               22\n",
       "www.youtube.com                                                                4\n",
       "Mr. Bean - Sneezing and Snoozing In Church                                     1\n",
       "Mr. Bean - Mystery creature                                                    1\n",
       "Mr. Bean - Saxophone Player                                                    1\n",
       "Mr. Bean - Elderly people on stairs                                            1\n",
       "Rowan Atkinson: I will never wave goodbye to Mr Bean                           1\n",
       "Mr. Bean's Happy Moments                                                       1\n",
       "Mr. Bean - At the Disco                                                        1\n",
       "Mr Bean - Preparing To Go Camping                                              1\n",
       "Mr. Bean - Shopping for Towels                                                 1\n",
       "Mr. Bean - Counting Sheep.                                                     1\n",
       "Mr. Bean - High Dive                                                           1\n",
       "Mr. Bean (NEW series) - The Lift                                               1\n",
       "Mr Bean - Country fete games -- Volksfest Spiele                               1\n",
       "Even in LEGO, Mr. Bean travels in comfort | The Brothers Brick | LEGO Blog     1\n",
       "Mr. Bean - Making A Sandwich                                                   1\n",
       "Mr. Bean (NEW series) - Ice Cream                                              1\n",
       "Mr Bean - Crazy Golf                                                           1\n",
       "Mr. Bean - Fixing Your Own Teeth                                               1\n",
       "Mr Bean - Restaurant Etiquette                                                 1\n",
       "Mr Bean (NEW series) - Litterbugs Clip                                         1\n",
       "Mr. Bean - Alarm Clock                                                         1\n",
       "Mr. Bean (NEW Series) - Dancing Bean                                           1\n",
       "Mr. Bean - Embarrassing Moments Compilation                                    1\n",
       "Mr. Bean - How to stop a baby from crying                                      1\n",
       "Mr Bean - Dinner for Two                                                       1\n",
       "Mr Bean - Chemistry experiment                                                 1\n",
       "Mr Bean - Sun Block                                                            1\n",
       "Mr Bean - Ray Of Sunshine                                                      1\n",
       "Mr Bean - Broken Tooth                                                         1\n",
       "Mr Bean - Prison Break                                                         1\n",
       "Name: link_name, dtype: int64<\/pre>"
      ]
     },
     "metadata":{},
     "output_type":"display_data"
    }
   ],
   "metadata":{
    "datalore":{
     "node_id":"EjBSsrUuF4Az3SGiMC7DSc",
     "type":"CODE",
     "hide_input_from_viewers":true,
     "hide_output_from_viewers":true
    }
   }
  },
  {
   "cell_type":"code",
   "source":[
    "fb['link_name'] = fb['link_name'].astype('category')"
   ],
   "execution_count":50,
   "outputs":[],
   "metadata":{
    "datalore":{
     "node_id":"5hyxLXRm4awi3fRQqLXCqo",
     "type":"CODE",
     "hide_input_from_viewers":true,
     "hide_output_from_viewers":true
    }
   }
  },
  {
   "cell_type":"code",
   "source":[
    "fb.info(memory_usage='deep')"
   ],
   "execution_count":51,
   "outputs":[
    {
     "name":"stdout",
     "text":[
      "<class 'pandas.core.frame.DataFrame'>\n",
      "RangeIndex: 56 entries, 0 to 55\n",
      "Data columns (total 6 columns):\n",
      " #   Column          Non-Null Count  Dtype   \n",
      "---  ------          --------------  -----   \n",
      " 0   status_message  40 non-null     object  \n",
      " 1   link_name       56 non-null     category\n",
      " 2   status_type     56 non-null     category\n",
      " 3   num_reactions   54 non-null     float64 \n",
      " 4   num_shares      56 non-null     float64 \n",
      " 5   num_likes       56 non-null     int64   \n",
      "dtypes: category(2), float64(2), int64(1), object(1)\n",
      "memory usage: 12.4 KB\n"
     ],
     "output_type":"stream"
    }
   ],
   "metadata":{
    "datalore":{
     "node_id":"AVtAcEf9z7FZwM2xHLZLd7",
     "type":"CODE",
     "hide_input_from_viewers":true,
     "hide_output_from_viewers":true
    }
   }
  },
  {
   "cell_type":"code",
   "source":[
    "fb['num_reactions'].fillna(0, inplace=True)\n",
    "fb['num_shares'].fillna(0, inplace=True)\n",
    "\n",
    "fb.head()"
   ],
   "execution_count":54,
   "outputs":[
    {
     "data":{
      "text\/html":[
       "<div>\n",
       "<style scoped>\n",
       "    .dataframe tbody tr th:only-of-type {\n",
       "        vertical-align: middle;\n",
       "    }\n",
       "\n",
       "    .dataframe tbody tr th {\n",
       "        vertical-align: top;\n",
       "    }\n",
       "\n",
       "    .dataframe thead th {\n",
       "        text-align: right;\n",
       "    }\n",
       "<\/style>\n",
       "<table border=\"1\" class=\"dataframe\">\n",
       "  <thead>\n",
       "    <tr style=\"text-align: right;\">\n",
       "      <th><\/th>\n",
       "      <th>status_message<\/th>\n",
       "      <th>link_name<\/th>\n",
       "      <th>status_type<\/th>\n",
       "      <th>num_reactions<\/th>\n",
       "      <th>num_shares<\/th>\n",
       "      <th>num_likes<\/th>\n",
       "    <\/tr>\n",
       "  <\/thead>\n",
       "  <tbody>\n",
       "    <tr>\n",
       "      <th>0<\/th>\n",
       "      <td>It's time for Mr Bean and Teddy to get ready f...<\/td>\n",
       "      <td>Mr Bean - Preparing To Go Camping<\/td>\n",
       "      <td>video<\/td>\n",
       "      <td>0<\/td>\n",
       "      <td>0<\/td>\n",
       "      <td>16079<\/td>\n",
       "    <\/tr>\n",
       "    <tr>\n",
       "      <th>1<\/th>\n",
       "      <td>NaN<\/td>\n",
       "      <td>Timeline Photos<\/td>\n",
       "      <td>photo<\/td>\n",
       "      <td>0<\/td>\n",
       "      <td>0<\/td>\n",
       "      <td>114008<\/td>\n",
       "    <\/tr>\n",
       "    <tr>\n",
       "      <th>2<\/th>\n",
       "      <td>NaN<\/td>\n",
       "      <td>Timeline Photos<\/td>\n",
       "      <td>photo<\/td>\n",
       "      <td>0<\/td>\n",
       "      <td>0<\/td>\n",
       "      <td>218579<\/td>\n",
       "    <\/tr>\n",
       "    <tr>\n",
       "      <th>3<\/th>\n",
       "      <td>Mr Bean is ready to do some shopping but bewar...<\/td>\n",
       "      <td>www.youtube.com<\/td>\n",
       "      <td>video<\/td>\n",
       "      <td>0<\/td>\n",
       "      <td>0<\/td>\n",
       "      <td>20338<\/td>\n",
       "    <\/tr>\n",
       "    <tr>\n",
       "      <th>4<\/th>\n",
       "      <td>NaN<\/td>\n",
       "      <td>Timeline Photos<\/td>\n",
       "      <td>photo<\/td>\n",
       "      <td>0<\/td>\n",
       "      <td>0<\/td>\n",
       "      <td>215591<\/td>\n",
       "    <\/tr>\n",
       "  <\/tbody>\n",
       "<\/table>\n",
       "<\/div>"
      ]
     },
     "metadata":{},
     "output_type":"display_data"
    }
   ],
   "metadata":{
    "datalore":{
     "node_id":"5Mu43wJWGJUu2vOXy1z2qq",
     "type":"CODE",
     "hide_input_from_viewers":true,
     "hide_output_from_viewers":true
    }
   }
  },
  {
   "cell_type":"code",
   "source":[
    "fb[\"num_reactions\"] = fb[\"num_reactions\"].astype('int')\n",
    "fb[\"num_shares\"] = fb[\"num_shares\"].astype('int')\n",
    "fb[\"num_likes\"] = fb[\"num_likes\"].astype('int')"
   ],
   "execution_count":55,
   "outputs":[],
   "metadata":{
    "datalore":{
     "node_id":"TcNApKYTxvWUXaIBomtNRI",
     "type":"CODE",
     "hide_input_from_viewers":true,
     "hide_output_from_viewers":true
    }
   }
  },
  {
   "cell_type":"code",
   "source":[
    "fb.info(memory_usage='deep')"
   ],
   "execution_count":56,
   "outputs":[
    {
     "name":"stdout",
     "text":[
      "<class 'pandas.core.frame.DataFrame'>\n",
      "RangeIndex: 56 entries, 0 to 55\n",
      "Data columns (total 6 columns):\n",
      " #   Column          Non-Null Count  Dtype   \n",
      "---  ------          --------------  -----   \n",
      " 0   status_message  40 non-null     object  \n",
      " 1   link_name       56 non-null     category\n",
      " 2   status_type     56 non-null     category\n",
      " 3   num_reactions   56 non-null     int64   \n",
      " 4   num_shares      56 non-null     int64   \n",
      " 5   num_likes       56 non-null     int64   \n",
      "dtypes: category(2), int64(3), object(1)\n",
      "memory usage: 12.4 KB\n"
     ],
     "output_type":"stream"
    }
   ],
   "metadata":{
    "datalore":{
     "node_id":"wtKUmUAhqf9KyAQqdbDURO",
     "type":"CODE",
     "hide_input_from_viewers":true,
     "hide_output_from_viewers":true
    }
   }
  }
 ],
 "metadata":{
  "kernelspec":{
   "display_name":"Python",
   "language":"python",
   "name":"python"
  },
  "datalore":{
   "computation_mode":"JUPYTER",
   "package_manager":"pip",
   "base_environment":"default",
   "packages":[],
   "report_row_ids":[],
   "version":3
  }
 },
 "nbformat":4,
 "nbformat_minor":4
}