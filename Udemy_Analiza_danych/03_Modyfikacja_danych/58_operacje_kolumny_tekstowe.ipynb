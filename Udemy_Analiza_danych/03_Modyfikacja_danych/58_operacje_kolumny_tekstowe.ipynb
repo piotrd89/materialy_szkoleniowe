{
 "cells":[
  {
   "cell_type":"markdown",
   "source":[
    "# Wstęp"
   ],
   "attachments":{},
   "metadata":{
    "datalore":{
     "node_id":"Wstęp",
     "type":"MD",
     "hide_input_from_viewers":false,
     "hide_output_from_viewers":false,
     "sheet_delimiter":true
    }
   }
  },
  {
   "cell_type":"code",
   "source":[
    "import pandas as pd\n",
    "import numpy as np"
   ],
   "execution_count":1,
   "outputs":[],
   "metadata":{
    "datalore":{
     "node_id":"S2H0JOegf8JF8BxjnSsYYw",
     "type":"CODE",
     "hide_input_from_viewers":true,
     "hide_output_from_viewers":true
    }
   }
  },
  {
   "cell_type":"code",
   "source":[
    "frame = pd.read_csv('http:\/\/piotrdomagala.pl\/data\/PublicTransitExpenses.csv',\n",
    "                    usecols=['Agency', 'Reporter Type','Total Operating Expenses'])"
   ],
   "execution_count":2,
   "outputs":[],
   "metadata":{
    "datalore":{
     "node_id":"XBJntzED1XUxBtj8DJI4oO",
     "type":"CODE",
     "hide_input_from_viewers":true,
     "hide_output_from_viewers":true
    }
   }
  },
  {
   "cell_type":"code",
   "source":[
    "frame.head()"
   ],
   "execution_count":3,
   "outputs":[
    {
     "data":{
      "text\/html":[
       "<div>\n",
       "<style scoped>\n",
       "    .dataframe tbody tr th:only-of-type {\n",
       "        vertical-align: middle;\n",
       "    }\n",
       "\n",
       "    .dataframe tbody tr th {\n",
       "        vertical-align: top;\n",
       "    }\n",
       "\n",
       "    .dataframe thead th {\n",
       "        text-align: right;\n",
       "    }\n",
       "<\/style>\n",
       "<table border=\"1\" class=\"dataframe\">\n",
       "  <thead>\n",
       "    <tr style=\"text-align: right;\">\n",
       "      <th><\/th>\n",
       "      <th>Agency<\/th>\n",
       "      <th>Reporter Type<\/th>\n",
       "      <th>Total Operating Expenses<\/th>\n",
       "    <\/tr>\n",
       "  <\/thead>\n",
       "  <tbody>\n",
       "    <tr>\n",
       "      <th>0<\/th>\n",
       "      <td>Washington County Commissioners<\/td>\n",
       "      <td>Reduced Reporter<\/td>\n",
       "      <td>$122524.00<\/td>\n",
       "    <\/tr>\n",
       "    <tr>\n",
       "      <th>1<\/th>\n",
       "      <td>Washington County Commissioners<\/td>\n",
       "      <td>Reduced Reporter<\/td>\n",
       "      <td>$272715.00<\/td>\n",
       "    <\/tr>\n",
       "    <tr>\n",
       "      <th>2<\/th>\n",
       "      <td>Texoma Area Paratransit System, Inc<\/td>\n",
       "      <td>Full Reporter<\/td>\n",
       "      <td>$7295.00<\/td>\n",
       "    <\/tr>\n",
       "    <tr>\n",
       "      <th>3<\/th>\n",
       "      <td>Kalispel Tribe of Indians<\/td>\n",
       "      <td>Reduced Reporter<\/td>\n",
       "      <td>$37416.00<\/td>\n",
       "    <\/tr>\n",
       "    <tr>\n",
       "      <th>4<\/th>\n",
       "      <td>Kalispel Tribe of Indians<\/td>\n",
       "      <td>Reduced Reporter<\/td>\n",
       "      <td>$345789.00<\/td>\n",
       "    <\/tr>\n",
       "  <\/tbody>\n",
       "<\/table>\n",
       "<\/div>"
      ]
     },
     "metadata":{},
     "output_type":"display_data"
    }
   ],
   "metadata":{
    "datalore":{
     "node_id":"kPpGxhmMR5SzyJvvQZyl4l",
     "type":"CODE",
     "hide_input_from_viewers":true,
     "hide_output_from_viewers":true
    }
   }
  },
  {
   "cell_type":"code",
   "source":[
    "frameWashington = frame['Agency'].str.contains('Washington')"
   ],
   "execution_count":4,
   "outputs":[],
   "metadata":{
    "datalore":{
     "node_id":"9qyYrXRlnEXo6WJwI4alxy",
     "type":"CODE",
     "hide_input_from_viewers":true,
     "hide_output_from_viewers":true
    }
   }
  },
  {
   "cell_type":"code",
   "source":[
    "frame[frameWashington]"
   ],
   "execution_count":5,
   "outputs":[
    {
     "data":{
      "text\/html":[
       "<div>\n",
       "<style scoped>\n",
       "    .dataframe tbody tr th:only-of-type {\n",
       "        vertical-align: middle;\n",
       "    }\n",
       "\n",
       "    .dataframe tbody tr th {\n",
       "        vertical-align: top;\n",
       "    }\n",
       "\n",
       "    .dataframe thead th {\n",
       "        text-align: right;\n",
       "    }\n",
       "<\/style>\n",
       "<table border=\"1\" class=\"dataframe\">\n",
       "  <thead>\n",
       "    <tr style=\"text-align: right;\">\n",
       "      <th><\/th>\n",
       "      <th>Agency<\/th>\n",
       "      <th>Reporter Type<\/th>\n",
       "      <th>Total Operating Expenses<\/th>\n",
       "    <\/tr>\n",
       "  <\/thead>\n",
       "  <tbody>\n",
       "    <tr>\n",
       "      <th>0<\/th>\n",
       "      <td>Washington County Commissioners<\/td>\n",
       "      <td>Reduced Reporter<\/td>\n",
       "      <td>$122524.00<\/td>\n",
       "    <\/tr>\n",
       "    <tr>\n",
       "      <th>1<\/th>\n",
       "      <td>Washington County Commissioners<\/td>\n",
       "      <td>Reduced Reporter<\/td>\n",
       "      <td>$272715.00<\/td>\n",
       "    <\/tr>\n",
       "    <tr>\n",
       "      <th>199<\/th>\n",
       "      <td>Washington State Ferries<\/td>\n",
       "      <td>Full Reporter<\/td>\n",
       "      <td>$16215777.00<\/td>\n",
       "    <\/tr>\n",
       "    <tr>\n",
       "      <th>213<\/th>\n",
       "      <td>Washington State Ferries<\/td>\n",
       "      <td>Full Reporter<\/td>\n",
       "      <td>$11132493.00<\/td>\n",
       "    <\/tr>\n",
       "    <tr>\n",
       "      <th>364<\/th>\n",
       "      <td>Washington State Ferries<\/td>\n",
       "      <td>Full Reporter<\/td>\n",
       "      <td>$11750411.00<\/td>\n",
       "    <\/tr>\n",
       "    <tr>\n",
       "      <th>...<\/th>\n",
       "      <td>...<\/td>\n",
       "      <td>...<\/td>\n",
       "      <td>...<\/td>\n",
       "    <\/tr>\n",
       "    <tr>\n",
       "      <th>15871<\/th>\n",
       "      <td>Washington Hancock Community Agency<\/td>\n",
       "      <td>Rural Reporter<\/td>\n",
       "      <td>$995395.00<\/td>\n",
       "    <\/tr>\n",
       "    <tr>\n",
       "      <th>16213<\/th>\n",
       "      <td>City of Washington<\/td>\n",
       "      <td>Rural Reporter<\/td>\n",
       "      <td>$105117.00<\/td>\n",
       "    <\/tr>\n",
       "    <tr>\n",
       "      <th>16313<\/th>\n",
       "      <td>City of Washington<\/td>\n",
       "      <td>Rural Reporter<\/td>\n",
       "      <td>$102799.00<\/td>\n",
       "    <\/tr>\n",
       "    <tr>\n",
       "      <th>16316<\/th>\n",
       "      <td>Washington Parish Council on Aging<\/td>\n",
       "      <td>Rural Reporter<\/td>\n",
       "      <td>$546300.00<\/td>\n",
       "    <\/tr>\n",
       "    <tr>\n",
       "      <th>16780<\/th>\n",
       "      <td>Washington Parish Council on Aging<\/td>\n",
       "      <td>Rural Reporter<\/td>\n",
       "      <td>$550224.00<\/td>\n",
       "    <\/tr>\n",
       "  <\/tbody>\n",
       "<\/table>\n",
       "<p>137 rows × 3 columns<\/p>\n",
       "<\/div>"
      ]
     },
     "metadata":{},
     "output_type":"display_data"
    }
   ],
   "metadata":{
    "datalore":{
     "node_id":"0gOn1LvVfagyCst8XZ5ype",
     "type":"CODE",
     "hide_input_from_viewers":true,
     "hide_output_from_viewers":true
    }
   }
  },
  {
   "cell_type":"code",
   "source":[
    "frame['Agency'] = frame['Agency'].str.lower()\n",
    "frame.head()"
   ],
   "execution_count":6,
   "outputs":[
    {
     "data":{
      "text\/html":[
       "<div>\n",
       "<style scoped>\n",
       "    .dataframe tbody tr th:only-of-type {\n",
       "        vertical-align: middle;\n",
       "    }\n",
       "\n",
       "    .dataframe tbody tr th {\n",
       "        vertical-align: top;\n",
       "    }\n",
       "\n",
       "    .dataframe thead th {\n",
       "        text-align: right;\n",
       "    }\n",
       "<\/style>\n",
       "<table border=\"1\" class=\"dataframe\">\n",
       "  <thead>\n",
       "    <tr style=\"text-align: right;\">\n",
       "      <th><\/th>\n",
       "      <th>Agency<\/th>\n",
       "      <th>Reporter Type<\/th>\n",
       "      <th>Total Operating Expenses<\/th>\n",
       "    <\/tr>\n",
       "  <\/thead>\n",
       "  <tbody>\n",
       "    <tr>\n",
       "      <th>0<\/th>\n",
       "      <td>washington county commissioners<\/td>\n",
       "      <td>Reduced Reporter<\/td>\n",
       "      <td>$122524.00<\/td>\n",
       "    <\/tr>\n",
       "    <tr>\n",
       "      <th>1<\/th>\n",
       "      <td>washington county commissioners<\/td>\n",
       "      <td>Reduced Reporter<\/td>\n",
       "      <td>$272715.00<\/td>\n",
       "    <\/tr>\n",
       "    <tr>\n",
       "      <th>2<\/th>\n",
       "      <td>texoma area paratransit system, inc<\/td>\n",
       "      <td>Full Reporter<\/td>\n",
       "      <td>$7295.00<\/td>\n",
       "    <\/tr>\n",
       "    <tr>\n",
       "      <th>3<\/th>\n",
       "      <td>kalispel tribe of indians<\/td>\n",
       "      <td>Reduced Reporter<\/td>\n",
       "      <td>$37416.00<\/td>\n",
       "    <\/tr>\n",
       "    <tr>\n",
       "      <th>4<\/th>\n",
       "      <td>kalispel tribe of indians<\/td>\n",
       "      <td>Reduced Reporter<\/td>\n",
       "      <td>$345789.00<\/td>\n",
       "    <\/tr>\n",
       "  <\/tbody>\n",
       "<\/table>\n",
       "<\/div>"
      ]
     },
     "metadata":{},
     "output_type":"display_data"
    }
   ],
   "metadata":{
    "datalore":{
     "node_id":"tdw6TCfZt0hlga8EodjJBy",
     "type":"CODE",
     "hide_input_from_viewers":true,
     "hide_output_from_viewers":true
    }
   }
  },
  {
   "cell_type":"code",
   "source":[
    "frame[frame['Agency'].str.contains('washington')]"
   ],
   "execution_count":7,
   "outputs":[
    {
     "data":{
      "text\/html":[
       "<div>\n",
       "<style scoped>\n",
       "    .dataframe tbody tr th:only-of-type {\n",
       "        vertical-align: middle;\n",
       "    }\n",
       "\n",
       "    .dataframe tbody tr th {\n",
       "        vertical-align: top;\n",
       "    }\n",
       "\n",
       "    .dataframe thead th {\n",
       "        text-align: right;\n",
       "    }\n",
       "<\/style>\n",
       "<table border=\"1\" class=\"dataframe\">\n",
       "  <thead>\n",
       "    <tr style=\"text-align: right;\">\n",
       "      <th><\/th>\n",
       "      <th>Agency<\/th>\n",
       "      <th>Reporter Type<\/th>\n",
       "      <th>Total Operating Expenses<\/th>\n",
       "    <\/tr>\n",
       "  <\/thead>\n",
       "  <tbody>\n",
       "    <tr>\n",
       "      <th>0<\/th>\n",
       "      <td>washington county commissioners<\/td>\n",
       "      <td>Reduced Reporter<\/td>\n",
       "      <td>$122524.00<\/td>\n",
       "    <\/tr>\n",
       "    <tr>\n",
       "      <th>1<\/th>\n",
       "      <td>washington county commissioners<\/td>\n",
       "      <td>Reduced Reporter<\/td>\n",
       "      <td>$272715.00<\/td>\n",
       "    <\/tr>\n",
       "    <tr>\n",
       "      <th>199<\/th>\n",
       "      <td>washington state ferries<\/td>\n",
       "      <td>Full Reporter<\/td>\n",
       "      <td>$16215777.00<\/td>\n",
       "    <\/tr>\n",
       "    <tr>\n",
       "      <th>213<\/th>\n",
       "      <td>washington state ferries<\/td>\n",
       "      <td>Full Reporter<\/td>\n",
       "      <td>$11132493.00<\/td>\n",
       "    <\/tr>\n",
       "    <tr>\n",
       "      <th>364<\/th>\n",
       "      <td>washington state ferries<\/td>\n",
       "      <td>Full Reporter<\/td>\n",
       "      <td>$11750411.00<\/td>\n",
       "    <\/tr>\n",
       "    <tr>\n",
       "      <th>...<\/th>\n",
       "      <td>...<\/td>\n",
       "      <td>...<\/td>\n",
       "      <td>...<\/td>\n",
       "    <\/tr>\n",
       "    <tr>\n",
       "      <th>15871<\/th>\n",
       "      <td>washington hancock community agency<\/td>\n",
       "      <td>Rural Reporter<\/td>\n",
       "      <td>$995395.00<\/td>\n",
       "    <\/tr>\n",
       "    <tr>\n",
       "      <th>16213<\/th>\n",
       "      <td>city of washington<\/td>\n",
       "      <td>Rural Reporter<\/td>\n",
       "      <td>$105117.00<\/td>\n",
       "    <\/tr>\n",
       "    <tr>\n",
       "      <th>16313<\/th>\n",
       "      <td>city of washington<\/td>\n",
       "      <td>Rural Reporter<\/td>\n",
       "      <td>$102799.00<\/td>\n",
       "    <\/tr>\n",
       "    <tr>\n",
       "      <th>16316<\/th>\n",
       "      <td>washington parish council on aging<\/td>\n",
       "      <td>Rural Reporter<\/td>\n",
       "      <td>$546300.00<\/td>\n",
       "    <\/tr>\n",
       "    <tr>\n",
       "      <th>16780<\/th>\n",
       "      <td>washington parish council on aging<\/td>\n",
       "      <td>Rural Reporter<\/td>\n",
       "      <td>$550224.00<\/td>\n",
       "    <\/tr>\n",
       "  <\/tbody>\n",
       "<\/table>\n",
       "<p>137 rows × 3 columns<\/p>\n",
       "<\/div>"
      ]
     },
     "metadata":{},
     "output_type":"display_data"
    }
   ],
   "metadata":{
    "datalore":{
     "node_id":"1XroJFce6Ge5VW5EBQLePw",
     "type":"CODE",
     "hide_input_from_viewers":true,
     "hide_output_from_viewers":true
    }
   }
  },
  {
   "cell_type":"code",
   "source":[
    "frame[frame['Agency'].str.endswith('ferries')]"
   ],
   "execution_count":8,
   "outputs":[
    {
     "data":{
      "text\/html":[
       "<div>\n",
       "<style scoped>\n",
       "    .dataframe tbody tr th:only-of-type {\n",
       "        vertical-align: middle;\n",
       "    }\n",
       "\n",
       "    .dataframe tbody tr th {\n",
       "        vertical-align: top;\n",
       "    }\n",
       "\n",
       "    .dataframe thead th {\n",
       "        text-align: right;\n",
       "    }\n",
       "<\/style>\n",
       "<table border=\"1\" class=\"dataframe\">\n",
       "  <thead>\n",
       "    <tr style=\"text-align: right;\">\n",
       "      <th><\/th>\n",
       "      <th>Agency<\/th>\n",
       "      <th>Reporter Type<\/th>\n",
       "      <th>Total Operating Expenses<\/th>\n",
       "    <\/tr>\n",
       "  <\/thead>\n",
       "  <tbody>\n",
       "    <tr>\n",
       "      <th>199<\/th>\n",
       "      <td>washington state ferries<\/td>\n",
       "      <td>Full Reporter<\/td>\n",
       "      <td>$16215777.00<\/td>\n",
       "    <\/tr>\n",
       "    <tr>\n",
       "      <th>213<\/th>\n",
       "      <td>washington state ferries<\/td>\n",
       "      <td>Full Reporter<\/td>\n",
       "      <td>$11132493.00<\/td>\n",
       "    <\/tr>\n",
       "    <tr>\n",
       "      <th>364<\/th>\n",
       "      <td>washington state ferries<\/td>\n",
       "      <td>Full Reporter<\/td>\n",
       "      <td>$11750411.00<\/td>\n",
       "    <\/tr>\n",
       "    <tr>\n",
       "      <th>397<\/th>\n",
       "      <td>washington state ferries<\/td>\n",
       "      <td>Full Reporter<\/td>\n",
       "      <td>$22400732.00<\/td>\n",
       "    <\/tr>\n",
       "    <tr>\n",
       "      <th>604<\/th>\n",
       "      <td>washington state ferries<\/td>\n",
       "      <td>Full Reporter<\/td>\n",
       "      <td>$17715787.00<\/td>\n",
       "    <\/tr>\n",
       "    <tr>\n",
       "      <th>634<\/th>\n",
       "      <td>washington state ferries<\/td>\n",
       "      <td>Full Reporter<\/td>\n",
       "      <td>$236320045.00<\/td>\n",
       "    <\/tr>\n",
       "    <tr>\n",
       "      <th>653<\/th>\n",
       "      <td>washington state ferries<\/td>\n",
       "      <td>Full Reporter<\/td>\n",
       "      <td>$184425025.00<\/td>\n",
       "    <\/tr>\n",
       "    <tr>\n",
       "      <th>684<\/th>\n",
       "      <td>washington state ferries<\/td>\n",
       "      <td>Full Reporter<\/td>\n",
       "      <td>$186344635.00<\/td>\n",
       "    <\/tr>\n",
       "    <tr>\n",
       "      <th>915<\/th>\n",
       "      <td>washington state ferries<\/td>\n",
       "      <td>Full Reporter<\/td>\n",
       "      <td>$236711555.00<\/td>\n",
       "    <\/tr>\n",
       "    <tr>\n",
       "      <th>1114<\/th>\n",
       "      <td>washington state ferries<\/td>\n",
       "      <td>Full Reporter<\/td>\n",
       "      <td>$23046740.00<\/td>\n",
       "    <\/tr>\n",
       "  <\/tbody>\n",
       "<\/table>\n",
       "<\/div>"
      ]
     },
     "metadata":{},
     "output_type":"display_data"
    }
   ],
   "metadata":{
    "datalore":{
     "node_id":"EFbY60sNrgrNk6XasjtKrK",
     "type":"CODE",
     "hide_input_from_viewers":true,
     "hide_output_from_viewers":true
    }
   }
  },
  {
   "cell_type":"code",
   "source":[
    "endsWithFerries = frame['Agency'].str.lower().str.strip().str.endswith('ferries')\n",
    "frame[endsWithFerries]"
   ],
   "execution_count":9,
   "outputs":[
    {
     "data":{
      "text\/html":[
       "<div>\n",
       "<style scoped>\n",
       "    .dataframe tbody tr th:only-of-type {\n",
       "        vertical-align: middle;\n",
       "    }\n",
       "\n",
       "    .dataframe tbody tr th {\n",
       "        vertical-align: top;\n",
       "    }\n",
       "\n",
       "    .dataframe thead th {\n",
       "        text-align: right;\n",
       "    }\n",
       "<\/style>\n",
       "<table border=\"1\" class=\"dataframe\">\n",
       "  <thead>\n",
       "    <tr style=\"text-align: right;\">\n",
       "      <th><\/th>\n",
       "      <th>Agency<\/th>\n",
       "      <th>Reporter Type<\/th>\n",
       "      <th>Total Operating Expenses<\/th>\n",
       "    <\/tr>\n",
       "  <\/thead>\n",
       "  <tbody>\n",
       "    <tr>\n",
       "      <th>199<\/th>\n",
       "      <td>washington state ferries<\/td>\n",
       "      <td>Full Reporter<\/td>\n",
       "      <td>$16215777.00<\/td>\n",
       "    <\/tr>\n",
       "    <tr>\n",
       "      <th>213<\/th>\n",
       "      <td>washington state ferries<\/td>\n",
       "      <td>Full Reporter<\/td>\n",
       "      <td>$11132493.00<\/td>\n",
       "    <\/tr>\n",
       "    <tr>\n",
       "      <th>364<\/th>\n",
       "      <td>washington state ferries<\/td>\n",
       "      <td>Full Reporter<\/td>\n",
       "      <td>$11750411.00<\/td>\n",
       "    <\/tr>\n",
       "    <tr>\n",
       "      <th>397<\/th>\n",
       "      <td>washington state ferries<\/td>\n",
       "      <td>Full Reporter<\/td>\n",
       "      <td>$22400732.00<\/td>\n",
       "    <\/tr>\n",
       "    <tr>\n",
       "      <th>604<\/th>\n",
       "      <td>washington state ferries<\/td>\n",
       "      <td>Full Reporter<\/td>\n",
       "      <td>$17715787.00<\/td>\n",
       "    <\/tr>\n",
       "    <tr>\n",
       "      <th>634<\/th>\n",
       "      <td>washington state ferries<\/td>\n",
       "      <td>Full Reporter<\/td>\n",
       "      <td>$236320045.00<\/td>\n",
       "    <\/tr>\n",
       "    <tr>\n",
       "      <th>653<\/th>\n",
       "      <td>washington state ferries<\/td>\n",
       "      <td>Full Reporter<\/td>\n",
       "      <td>$184425025.00<\/td>\n",
       "    <\/tr>\n",
       "    <tr>\n",
       "      <th>684<\/th>\n",
       "      <td>washington state ferries<\/td>\n",
       "      <td>Full Reporter<\/td>\n",
       "      <td>$186344635.00<\/td>\n",
       "    <\/tr>\n",
       "    <tr>\n",
       "      <th>915<\/th>\n",
       "      <td>washington state ferries<\/td>\n",
       "      <td>Full Reporter<\/td>\n",
       "      <td>$236711555.00<\/td>\n",
       "    <\/tr>\n",
       "    <tr>\n",
       "      <th>1114<\/th>\n",
       "      <td>washington state ferries<\/td>\n",
       "      <td>Full Reporter<\/td>\n",
       "      <td>$23046740.00<\/td>\n",
       "    <\/tr>\n",
       "  <\/tbody>\n",
       "<\/table>\n",
       "<\/div>"
      ]
     },
     "metadata":{},
     "output_type":"display_data"
    }
   ],
   "metadata":{
    "datalore":{
     "node_id":"3zwZdlW00JpLhYdyn8hizz",
     "type":"CODE",
     "hide_input_from_viewers":true,
     "hide_output_from_viewers":true
    }
   }
  },
  {
   "cell_type":"code",
   "source":[
    "frame.set_index('Agency', inplace=True)"
   ],
   "execution_count":10,
   "outputs":[],
   "metadata":{
    "datalore":{
     "node_id":"JqkzBKmz3RdiLLmISFsROd",
     "type":"CODE",
     "hide_input_from_viewers":true,
     "hide_output_from_viewers":true
    }
   }
  },
  {
   "cell_type":"code",
   "source":[
    "frame.head()"
   ],
   "execution_count":11,
   "outputs":[
    {
     "data":{
      "text\/html":[
       "<div>\n",
       "<style scoped>\n",
       "    .dataframe tbody tr th:only-of-type {\n",
       "        vertical-align: middle;\n",
       "    }\n",
       "\n",
       "    .dataframe tbody tr th {\n",
       "        vertical-align: top;\n",
       "    }\n",
       "\n",
       "    .dataframe thead th {\n",
       "        text-align: right;\n",
       "    }\n",
       "<\/style>\n",
       "<table border=\"1\" class=\"dataframe\">\n",
       "  <thead>\n",
       "    <tr style=\"text-align: right;\">\n",
       "      <th><\/th>\n",
       "      <th>Reporter Type<\/th>\n",
       "      <th>Total Operating Expenses<\/th>\n",
       "    <\/tr>\n",
       "    <tr>\n",
       "      <th>Agency<\/th>\n",
       "      <th><\/th>\n",
       "      <th><\/th>\n",
       "    <\/tr>\n",
       "  <\/thead>\n",
       "  <tbody>\n",
       "    <tr>\n",
       "      <th>washington county commissioners<\/th>\n",
       "      <td>Reduced Reporter<\/td>\n",
       "      <td>$122524.00<\/td>\n",
       "    <\/tr>\n",
       "    <tr>\n",
       "      <th>washington county commissioners<\/th>\n",
       "      <td>Reduced Reporter<\/td>\n",
       "      <td>$272715.00<\/td>\n",
       "    <\/tr>\n",
       "    <tr>\n",
       "      <th>texoma area paratransit system, inc<\/th>\n",
       "      <td>Full Reporter<\/td>\n",
       "      <td>$7295.00<\/td>\n",
       "    <\/tr>\n",
       "    <tr>\n",
       "      <th>kalispel tribe of indians<\/th>\n",
       "      <td>Reduced Reporter<\/td>\n",
       "      <td>$37416.00<\/td>\n",
       "    <\/tr>\n",
       "    <tr>\n",
       "      <th>kalispel tribe of indians<\/th>\n",
       "      <td>Reduced Reporter<\/td>\n",
       "      <td>$345789.00<\/td>\n",
       "    <\/tr>\n",
       "  <\/tbody>\n",
       "<\/table>\n",
       "<\/div>"
      ]
     },
     "metadata":{},
     "output_type":"display_data"
    }
   ],
   "metadata":{
    "datalore":{
     "node_id":"Q88YYFwInuz9ILgDN2ZWws",
     "type":"CODE",
     "hide_input_from_viewers":true,
     "hide_output_from_viewers":true
    }
   }
  },
  {
   "cell_type":"code",
   "source":[
    "frame.index = frame.index.str.strip().str.upper()\n",
    "frame.head()"
   ],
   "execution_count":12,
   "outputs":[
    {
     "data":{
      "text\/html":[
       "<div>\n",
       "<style scoped>\n",
       "    .dataframe tbody tr th:only-of-type {\n",
       "        vertical-align: middle;\n",
       "    }\n",
       "\n",
       "    .dataframe tbody tr th {\n",
       "        vertical-align: top;\n",
       "    }\n",
       "\n",
       "    .dataframe thead th {\n",
       "        text-align: right;\n",
       "    }\n",
       "<\/style>\n",
       "<table border=\"1\" class=\"dataframe\">\n",
       "  <thead>\n",
       "    <tr style=\"text-align: right;\">\n",
       "      <th><\/th>\n",
       "      <th>Reporter Type<\/th>\n",
       "      <th>Total Operating Expenses<\/th>\n",
       "    <\/tr>\n",
       "    <tr>\n",
       "      <th>Agency<\/th>\n",
       "      <th><\/th>\n",
       "      <th><\/th>\n",
       "    <\/tr>\n",
       "  <\/thead>\n",
       "  <tbody>\n",
       "    <tr>\n",
       "      <th>WASHINGTON COUNTY COMMISSIONERS<\/th>\n",
       "      <td>Reduced Reporter<\/td>\n",
       "      <td>$122524.00<\/td>\n",
       "    <\/tr>\n",
       "    <tr>\n",
       "      <th>WASHINGTON COUNTY COMMISSIONERS<\/th>\n",
       "      <td>Reduced Reporter<\/td>\n",
       "      <td>$272715.00<\/td>\n",
       "    <\/tr>\n",
       "    <tr>\n",
       "      <th>TEXOMA AREA PARATRANSIT SYSTEM, INC<\/th>\n",
       "      <td>Full Reporter<\/td>\n",
       "      <td>$7295.00<\/td>\n",
       "    <\/tr>\n",
       "    <tr>\n",
       "      <th>KALISPEL TRIBE OF INDIANS<\/th>\n",
       "      <td>Reduced Reporter<\/td>\n",
       "      <td>$37416.00<\/td>\n",
       "    <\/tr>\n",
       "    <tr>\n",
       "      <th>KALISPEL TRIBE OF INDIANS<\/th>\n",
       "      <td>Reduced Reporter<\/td>\n",
       "      <td>$345789.00<\/td>\n",
       "    <\/tr>\n",
       "  <\/tbody>\n",
       "<\/table>\n",
       "<\/div>"
      ]
     },
     "metadata":{},
     "output_type":"display_data"
    }
   ],
   "metadata":{
    "datalore":{
     "node_id":"KnF12dOIbrM8m4xAvQvGo1",
     "type":"CODE",
     "hide_input_from_viewers":true,
     "hide_output_from_viewers":true
    }
   }
  },
  {
   "cell_type":"code",
   "source":[
    "frame['Reporter Type'].value_counts().head()"
   ],
   "execution_count":13,
   "outputs":[
    {
     "data":{
      "text\/html":[
       "<pre>Full Reporter       13345\n",
       "Rural Reporter       3116\n",
       "Reduced Reporter     1313\n",
       "Separate Service       70\n",
       "Name: Reporter Type, dtype: int64<\/pre>"
      ]
     },
     "metadata":{},
     "output_type":"display_data"
    }
   ],
   "metadata":{
    "datalore":{
     "node_id":"QDAZdYMjEbnYioaHxQMTo3",
     "type":"CODE",
     "hide_input_from_viewers":true,
     "hide_output_from_viewers":true
    }
   }
  },
  {
   "cell_type":"code",
   "source":[
    "# frame['Reporter Type'].str.split(' ').head()"
   ],
   "execution_count":14,
   "outputs":[],
   "metadata":{
    "datalore":{
     "node_id":"nDqZhbvszhx9ZkNxoTGNWl",
     "type":"CODE",
     "hide_input_from_viewers":true,
     "hide_output_from_viewers":true
    }
   }
  },
  {
   "cell_type":"code",
   "source":[
    "# frame['Reporter Type'].str.split(' ').str[0].head()"
   ],
   "execution_count":15,
   "outputs":[],
   "metadata":{
    "datalore":{
     "node_id":"6HRC7pWtagpitPrTIAvgLh",
     "type":"CODE",
     "hide_input_from_viewers":true,
     "hide_output_from_viewers":true
    }
   }
  },
  {
   "cell_type":"code",
   "source":[
    "frame['Reporter Type1','Reporter Type1'].str.split(' ', expand=True).str[0].head() "
   ],
   "execution_count":16,
   "outputs":[
    {
     "ename":"KeyError",
     "evalue":"KeyError: ('Reporter Type1', 'Reporter Type1')",
     "traceback":[
      "\u001b[0;31m---------------------------------------------------------------------------",
      "Traceback (most recent call last)",
      "    at line 1 in <module>",
      "    at line 3807 in __getitem__(self, key)",
      "    at line 3804 in get_loc(self, key, method, tolerance)",
      "KeyError: ('Reporter Type1', 'Reporter Type1')"
     ],
     "output_type":"error"
    }
   ],
   "metadata":{
    "datalore":{
     "node_id":"DAs5naV4CIu57kPad8xQpZ",
     "type":"CODE",
     "hide_input_from_viewers":true,
     "hide_output_from_viewers":true
    }
   }
  },
  {
   "cell_type":"code",
   "source":[
    "frame['Agency2'] = frame.index\n",
    "frame.head()"
   ],
   "execution_count":17,
   "outputs":[
    {
     "data":{
      "text\/html":[
       "<div>\n",
       "<style scoped>\n",
       "    .dataframe tbody tr th:only-of-type {\n",
       "        vertical-align: middle;\n",
       "    }\n",
       "\n",
       "    .dataframe tbody tr th {\n",
       "        vertical-align: top;\n",
       "    }\n",
       "\n",
       "    .dataframe thead th {\n",
       "        text-align: right;\n",
       "    }\n",
       "<\/style>\n",
       "<table border=\"1\" class=\"dataframe\">\n",
       "  <thead>\n",
       "    <tr style=\"text-align: right;\">\n",
       "      <th><\/th>\n",
       "      <th>Reporter Type<\/th>\n",
       "      <th>Total Operating Expenses<\/th>\n",
       "      <th>Agency2<\/th>\n",
       "    <\/tr>\n",
       "    <tr>\n",
       "      <th>Agency<\/th>\n",
       "      <th><\/th>\n",
       "      <th><\/th>\n",
       "      <th><\/th>\n",
       "    <\/tr>\n",
       "  <\/thead>\n",
       "  <tbody>\n",
       "    <tr>\n",
       "      <th>WASHINGTON COUNTY COMMISSIONERS<\/th>\n",
       "      <td>Reduced Reporter<\/td>\n",
       "      <td>$122524.00<\/td>\n",
       "      <td>WASHINGTON COUNTY COMMISSIONERS<\/td>\n",
       "    <\/tr>\n",
       "    <tr>\n",
       "      <th>WASHINGTON COUNTY COMMISSIONERS<\/th>\n",
       "      <td>Reduced Reporter<\/td>\n",
       "      <td>$272715.00<\/td>\n",
       "      <td>WASHINGTON COUNTY COMMISSIONERS<\/td>\n",
       "    <\/tr>\n",
       "    <tr>\n",
       "      <th>TEXOMA AREA PARATRANSIT SYSTEM, INC<\/th>\n",
       "      <td>Full Reporter<\/td>\n",
       "      <td>$7295.00<\/td>\n",
       "      <td>TEXOMA AREA PARATRANSIT SYSTEM, INC<\/td>\n",
       "    <\/tr>\n",
       "    <tr>\n",
       "      <th>KALISPEL TRIBE OF INDIANS<\/th>\n",
       "      <td>Reduced Reporter<\/td>\n",
       "      <td>$37416.00<\/td>\n",
       "      <td>KALISPEL TRIBE OF INDIANS<\/td>\n",
       "    <\/tr>\n",
       "    <tr>\n",
       "      <th>KALISPEL TRIBE OF INDIANS<\/th>\n",
       "      <td>Reduced Reporter<\/td>\n",
       "      <td>$345789.00<\/td>\n",
       "      <td>KALISPEL TRIBE OF INDIANS<\/td>\n",
       "    <\/tr>\n",
       "  <\/tbody>\n",
       "<\/table>\n",
       "<\/div>"
      ]
     },
     "metadata":{},
     "output_type":"display_data"
    }
   ],
   "metadata":{
    "datalore":{
     "node_id":"jZW9YcPHBZkk5p8ev2kizk",
     "type":"CODE",
     "hide_input_from_viewers":true,
     "hide_output_from_viewers":true
    }
   }
  },
  {
   "cell_type":"code",
   "source":[
    "frame['Agency2'].str.split(' ', expand=True, n=10).head()"
   ],
   "execution_count":18,
   "outputs":[
    {
     "data":{
      "text\/html":[
       "<div>\n",
       "<style scoped>\n",
       "    .dataframe tbody tr th:only-of-type {\n",
       "        vertical-align: middle;\n",
       "    }\n",
       "\n",
       "    .dataframe tbody tr th {\n",
       "        vertical-align: top;\n",
       "    }\n",
       "\n",
       "    .dataframe thead th {\n",
       "        text-align: right;\n",
       "    }\n",
       "<\/style>\n",
       "<table border=\"1\" class=\"dataframe\">\n",
       "  <thead>\n",
       "    <tr style=\"text-align: right;\">\n",
       "      <th><\/th>\n",
       "      <th>0<\/th>\n",
       "      <th>1<\/th>\n",
       "      <th>2<\/th>\n",
       "      <th>3<\/th>\n",
       "      <th>4<\/th>\n",
       "      <th>5<\/th>\n",
       "      <th>6<\/th>\n",
       "      <th>7<\/th>\n",
       "      <th>8<\/th>\n",
       "      <th>9<\/th>\n",
       "      <th>10<\/th>\n",
       "    <\/tr>\n",
       "    <tr>\n",
       "      <th>Agency<\/th>\n",
       "      <th><\/th>\n",
       "      <th><\/th>\n",
       "      <th><\/th>\n",
       "      <th><\/th>\n",
       "      <th><\/th>\n",
       "      <th><\/th>\n",
       "      <th><\/th>\n",
       "      <th><\/th>\n",
       "      <th><\/th>\n",
       "      <th><\/th>\n",
       "      <th><\/th>\n",
       "    <\/tr>\n",
       "  <\/thead>\n",
       "  <tbody>\n",
       "    <tr>\n",
       "      <th>WASHINGTON COUNTY COMMISSIONERS<\/th>\n",
       "      <td>WASHINGTON<\/td>\n",
       "      <td>COUNTY<\/td>\n",
       "      <td>COMMISSIONERS<\/td>\n",
       "      <td>None<\/td>\n",
       "      <td>None<\/td>\n",
       "      <td>None<\/td>\n",
       "      <td>None<\/td>\n",
       "      <td>None<\/td>\n",
       "      <td>None<\/td>\n",
       "      <td>None<\/td>\n",
       "      <td>None<\/td>\n",
       "    <\/tr>\n",
       "    <tr>\n",
       "      <th>WASHINGTON COUNTY COMMISSIONERS<\/th>\n",
       "      <td>WASHINGTON<\/td>\n",
       "      <td>COUNTY<\/td>\n",
       "      <td>COMMISSIONERS<\/td>\n",
       "      <td>None<\/td>\n",
       "      <td>None<\/td>\n",
       "      <td>None<\/td>\n",
       "      <td>None<\/td>\n",
       "      <td>None<\/td>\n",
       "      <td>None<\/td>\n",
       "      <td>None<\/td>\n",
       "      <td>None<\/td>\n",
       "    <\/tr>\n",
       "    <tr>\n",
       "      <th>TEXOMA AREA PARATRANSIT SYSTEM, INC<\/th>\n",
       "      <td>TEXOMA<\/td>\n",
       "      <td>AREA<\/td>\n",
       "      <td>PARATRANSIT<\/td>\n",
       "      <td>SYSTEM,<\/td>\n",
       "      <td>INC<\/td>\n",
       "      <td>None<\/td>\n",
       "      <td>None<\/td>\n",
       "      <td>None<\/td>\n",
       "      <td>None<\/td>\n",
       "      <td>None<\/td>\n",
       "      <td>None<\/td>\n",
       "    <\/tr>\n",
       "    <tr>\n",
       "      <th>KALISPEL TRIBE OF INDIANS<\/th>\n",
       "      <td>KALISPEL<\/td>\n",
       "      <td>TRIBE<\/td>\n",
       "      <td>OF<\/td>\n",
       "      <td>INDIANS<\/td>\n",
       "      <td>None<\/td>\n",
       "      <td>None<\/td>\n",
       "      <td>None<\/td>\n",
       "      <td>None<\/td>\n",
       "      <td>None<\/td>\n",
       "      <td>None<\/td>\n",
       "      <td>None<\/td>\n",
       "    <\/tr>\n",
       "    <tr>\n",
       "      <th>KALISPEL TRIBE OF INDIANS<\/th>\n",
       "      <td>KALISPEL<\/td>\n",
       "      <td>TRIBE<\/td>\n",
       "      <td>OF<\/td>\n",
       "      <td>INDIANS<\/td>\n",
       "      <td>None<\/td>\n",
       "      <td>None<\/td>\n",
       "      <td>None<\/td>\n",
       "      <td>None<\/td>\n",
       "      <td>None<\/td>\n",
       "      <td>None<\/td>\n",
       "      <td>None<\/td>\n",
       "    <\/tr>\n",
       "  <\/tbody>\n",
       "<\/table>\n",
       "<\/div>"
      ]
     },
     "metadata":{},
     "output_type":"display_data"
    }
   ],
   "metadata":{
    "datalore":{
     "node_id":"dM6cI5DkcQesWFzOx3twou",
     "type":"CODE",
     "hide_input_from_viewers":true,
     "hide_output_from_viewers":true
    }
   }
  },
  {
   "cell_type":"code",
   "source":[
    "def getComment(row):\n",
    "    reporterType = row['Reporter Type']\n",
    "    cost = float(row['Total Operating Expenses'].replace('$',''))\n",
    "\n",
    "    if(cost> 200000):\n",
    "        comment='CLASS A'\n",
    "    else:\n",
    "        comment='CLASS B'\n",
    "    return (reporterType+'\/'+comment)"
   ],
   "execution_count":19,
   "outputs":[],
   "metadata":{
    "datalore":{
     "node_id":"WsHpAWW0hbK72HtwZVQ74I",
     "type":"CODE",
     "hide_input_from_viewers":true,
     "hide_output_from_viewers":true
    }
   }
  },
  {
   "cell_type":"code",
   "source":[
    "frame.apply(getComment, axis=1).head()"
   ],
   "execution_count":20,
   "outputs":[
    {
     "data":{
      "text\/html":[
       "<pre>Agency\n",
       "WASHINGTON COUNTY COMMISSIONERS        Reduced Reporter\/CLASS B\n",
       "WASHINGTON COUNTY COMMISSIONERS        Reduced Reporter\/CLASS A\n",
       "TEXOMA AREA PARATRANSIT SYSTEM, INC       Full Reporter\/CLASS B\n",
       "KALISPEL TRIBE OF INDIANS              Reduced Reporter\/CLASS B\n",
       "KALISPEL TRIBE OF INDIANS              Reduced Reporter\/CLASS A\n",
       "dtype: object<\/pre>"
      ]
     },
     "metadata":{},
     "output_type":"display_data"
    }
   ],
   "metadata":{
    "datalore":{
     "node_id":"NaB2MnQ7lgqEe1JM8OJBfj",
     "type":"CODE",
     "hide_input_from_viewers":true,
     "hide_output_from_viewers":true
    }
   }
  },
  {
   "cell_type":"markdown",
   "source":[
    "# Zadanie"
   ],
   "attachments":{},
   "metadata":{
    "datalore":{
     "node_id":"Zadanie",
     "type":"MD",
     "hide_input_from_viewers":false,
     "hide_output_from_viewers":false,
     "sheet_delimiter":true
    }
   }
  },
  {
   "cell_type":"code",
   "source":[
    "fortune = pd.read_csv('http:\/\/piotrdomagala.pl\/data\/Fortune_500_2017.csv',\n",
    "                    usecols=['Rank', 'Title','Industry', 'Hqlocation','Sector'])"
   ],
   "execution_count":21,
   "outputs":[],
   "metadata":{
    "datalore":{
     "node_id":"Wl9EdgaEfyy80qAUShf6K7",
     "type":"CODE",
     "hide_input_from_viewers":true,
     "hide_output_from_viewers":true
    }
   }
  },
  {
   "cell_type":"code",
   "source":[
    "fortune['Sector'] = fortune['Sector'].str.upper()\n",
    "fortune.head()"
   ],
   "execution_count":26,
   "outputs":[
    {
     "data":{
      "text\/html":[
       "<div>\n",
       "<style scoped>\n",
       "    .dataframe tbody tr th:only-of-type {\n",
       "        vertical-align: middle;\n",
       "    }\n",
       "\n",
       "    .dataframe tbody tr th {\n",
       "        vertical-align: top;\n",
       "    }\n",
       "\n",
       "    .dataframe thead th {\n",
       "        text-align: right;\n",
       "    }\n",
       "<\/style>\n",
       "<table border=\"1\" class=\"dataframe\">\n",
       "  <thead>\n",
       "    <tr style=\"text-align: right;\">\n",
       "      <th><\/th>\n",
       "      <th>Rank<\/th>\n",
       "      <th>Title<\/th>\n",
       "      <th>Sector<\/th>\n",
       "      <th>Industry<\/th>\n",
       "      <th>Hqlocation<\/th>\n",
       "    <\/tr>\n",
       "  <\/thead>\n",
       "  <tbody>\n",
       "    <tr>\n",
       "      <th>0<\/th>\n",
       "      <td>1<\/td>\n",
       "      <td>Walmart<\/td>\n",
       "      <td>RETAILING<\/td>\n",
       "      <td>General Merchandisers<\/td>\n",
       "      <td>Bentonville, AR<\/td>\n",
       "    <\/tr>\n",
       "    <tr>\n",
       "      <th>1<\/th>\n",
       "      <td>2<\/td>\n",
       "      <td>Berkshire Hathaway<\/td>\n",
       "      <td>FINANCIALS<\/td>\n",
       "      <td>Insurance: Property and Casualty (Stock)<\/td>\n",
       "      <td>Omaha, NE<\/td>\n",
       "    <\/tr>\n",
       "    <tr>\n",
       "      <th>2<\/th>\n",
       "      <td>3<\/td>\n",
       "      <td>Apple<\/td>\n",
       "      <td>TECHNOLOGY<\/td>\n",
       "      <td>Computers, Office Equipment<\/td>\n",
       "      <td>Cupertino, CA<\/td>\n",
       "    <\/tr>\n",
       "    <tr>\n",
       "      <th>3<\/th>\n",
       "      <td>4<\/td>\n",
       "      <td>Exxon Mobil<\/td>\n",
       "      <td>ENERGY<\/td>\n",
       "      <td>Petroleum Refining<\/td>\n",
       "      <td>Irving, TX<\/td>\n",
       "    <\/tr>\n",
       "    <tr>\n",
       "      <th>4<\/th>\n",
       "      <td>5<\/td>\n",
       "      <td>McKesson<\/td>\n",
       "      <td>WHOLESALERS<\/td>\n",
       "      <td>Wholesalers: Health Care<\/td>\n",
       "      <td>San Francisco, CA<\/td>\n",
       "    <\/tr>\n",
       "  <\/tbody>\n",
       "<\/table>\n",
       "<\/div>"
      ]
     },
     "metadata":{},
     "output_type":"display_data"
    }
   ],
   "metadata":{
    "datalore":{
     "node_id":"h60TImUjk0EU51U15R7eCW",
     "type":"CODE",
     "hide_input_from_viewers":true,
     "hide_output_from_viewers":true
    }
   }
  },
  {
   "cell_type":"code",
   "source":[
    "fortuneComp = fortune['Industry'].str.lower().str.contains('comp')\n",
    "fortune[fortuneComp].head()"
   ],
   "execution_count":28,
   "outputs":[
    {
     "data":{
      "text\/html":[
       "<div>\n",
       "<style scoped>\n",
       "    .dataframe tbody tr th:only-of-type {\n",
       "        vertical-align: middle;\n",
       "    }\n",
       "\n",
       "    .dataframe tbody tr th {\n",
       "        vertical-align: top;\n",
       "    }\n",
       "\n",
       "    .dataframe thead th {\n",
       "        text-align: right;\n",
       "    }\n",
       "<\/style>\n",
       "<table border=\"1\" class=\"dataframe\">\n",
       "  <thead>\n",
       "    <tr style=\"text-align: right;\">\n",
       "      <th><\/th>\n",
       "      <th>Rank<\/th>\n",
       "      <th>Title<\/th>\n",
       "      <th>Sector<\/th>\n",
       "      <th>Industry<\/th>\n",
       "      <th>Hqlocation<\/th>\n",
       "    <\/tr>\n",
       "  <\/thead>\n",
       "  <tbody>\n",
       "    <tr>\n",
       "      <th>2<\/th>\n",
       "      <td>3<\/td>\n",
       "      <td>Apple<\/td>\n",
       "      <td>TECHNOLOGY<\/td>\n",
       "      <td>Computers, Office Equipment<\/td>\n",
       "      <td>Cupertino, CA<\/td>\n",
       "    <\/tr>\n",
       "    <tr>\n",
       "      <th>27<\/th>\n",
       "      <td>28<\/td>\n",
       "      <td>Microsoft<\/td>\n",
       "      <td>TECHNOLOGY<\/td>\n",
       "      <td>Computer Software<\/td>\n",
       "      <td>Redmond, WA<\/td>\n",
       "    <\/tr>\n",
       "    <tr>\n",
       "      <th>40<\/th>\n",
       "      <td>41<\/td>\n",
       "      <td>Dell Technologies<\/td>\n",
       "      <td>TECHNOLOGY<\/td>\n",
       "      <td>Computers, Office Equipment<\/td>\n",
       "      <td>Round Rock, TX<\/td>\n",
       "    <\/tr>\n",
       "    <tr>\n",
       "      <th>46<\/th>\n",
       "      <td>47<\/td>\n",
       "      <td>Intel<\/td>\n",
       "      <td>TECHNOLOGY<\/td>\n",
       "      <td>Semiconductors and Other Electronic Components<\/td>\n",
       "      <td>Santa Clara, CA<\/td>\n",
       "    <\/tr>\n",
       "    <tr>\n",
       "      <th>60<\/th>\n",
       "      <td>61<\/td>\n",
       "      <td>HP<\/td>\n",
       "      <td>TECHNOLOGY<\/td>\n",
       "      <td>Computers, Office Equipment<\/td>\n",
       "      <td>Palo Alto, CA<\/td>\n",
       "    <\/tr>\n",
       "  <\/tbody>\n",
       "<\/table>\n",
       "<\/div>"
      ]
     },
     "metadata":{},
     "output_type":"display_data"
    }
   ],
   "metadata":{
    "datalore":{
     "node_id":"bJoYY6FepCtvpmKlABUlli",
     "type":"CODE",
     "hide_input_from_viewers":true,
     "hide_output_from_viewers":true
    }
   }
  },
  {
   "cell_type":"code",
   "source":[
    "fortune[['City','State']] = fortune[\"Hqlocation\"].str.split(\",\",expand=True)\n",
    "fortune.head()"
   ],
   "execution_count":29,
   "outputs":[
    {
     "data":{
      "text\/html":[
       "<div>\n",
       "<style scoped>\n",
       "    .dataframe tbody tr th:only-of-type {\n",
       "        vertical-align: middle;\n",
       "    }\n",
       "\n",
       "    .dataframe tbody tr th {\n",
       "        vertical-align: top;\n",
       "    }\n",
       "\n",
       "    .dataframe thead th {\n",
       "        text-align: right;\n",
       "    }\n",
       "<\/style>\n",
       "<table border=\"1\" class=\"dataframe\">\n",
       "  <thead>\n",
       "    <tr style=\"text-align: right;\">\n",
       "      <th><\/th>\n",
       "      <th>Rank<\/th>\n",
       "      <th>Title<\/th>\n",
       "      <th>Sector<\/th>\n",
       "      <th>Industry<\/th>\n",
       "      <th>Hqlocation<\/th>\n",
       "      <th>City<\/th>\n",
       "      <th>State<\/th>\n",
       "    <\/tr>\n",
       "  <\/thead>\n",
       "  <tbody>\n",
       "    <tr>\n",
       "      <th>0<\/th>\n",
       "      <td>1<\/td>\n",
       "      <td>Walmart<\/td>\n",
       "      <td>RETAILING<\/td>\n",
       "      <td>General Merchandisers<\/td>\n",
       "      <td>Bentonville, AR<\/td>\n",
       "      <td>Bentonville<\/td>\n",
       "      <td>AR<\/td>\n",
       "    <\/tr>\n",
       "    <tr>\n",
       "      <th>1<\/th>\n",
       "      <td>2<\/td>\n",
       "      <td>Berkshire Hathaway<\/td>\n",
       "      <td>FINANCIALS<\/td>\n",
       "      <td>Insurance: Property and Casualty (Stock)<\/td>\n",
       "      <td>Omaha, NE<\/td>\n",
       "      <td>Omaha<\/td>\n",
       "      <td>NE<\/td>\n",
       "    <\/tr>\n",
       "    <tr>\n",
       "      <th>2<\/th>\n",
       "      <td>3<\/td>\n",
       "      <td>Apple<\/td>\n",
       "      <td>TECHNOLOGY<\/td>\n",
       "      <td>Computers, Office Equipment<\/td>\n",
       "      <td>Cupertino, CA<\/td>\n",
       "      <td>Cupertino<\/td>\n",
       "      <td>CA<\/td>\n",
       "    <\/tr>\n",
       "    <tr>\n",
       "      <th>3<\/th>\n",
       "      <td>4<\/td>\n",
       "      <td>Exxon Mobil<\/td>\n",
       "      <td>ENERGY<\/td>\n",
       "      <td>Petroleum Refining<\/td>\n",
       "      <td>Irving, TX<\/td>\n",
       "      <td>Irving<\/td>\n",
       "      <td>TX<\/td>\n",
       "    <\/tr>\n",
       "    <tr>\n",
       "      <th>4<\/th>\n",
       "      <td>5<\/td>\n",
       "      <td>McKesson<\/td>\n",
       "      <td>WHOLESALERS<\/td>\n",
       "      <td>Wholesalers: Health Care<\/td>\n",
       "      <td>San Francisco, CA<\/td>\n",
       "      <td>San Francisco<\/td>\n",
       "      <td>CA<\/td>\n",
       "    <\/tr>\n",
       "  <\/tbody>\n",
       "<\/table>\n",
       "<\/div>"
      ]
     },
     "metadata":{},
     "output_type":"display_data"
    }
   ],
   "metadata":{
    "datalore":{
     "node_id":"Qu8M2gmsThy3tFyHgtZCPm",
     "type":"CODE",
     "hide_input_from_viewers":true,
     "hide_output_from_viewers":true
    }
   }
  },
  {
   "cell_type":"code",
   "source":[
    "def BuildShortCut(row):\n",
    "    result = ''\n",
    "    industry = row['Industry']\n",
    "    for i in industry.split(' '):\n",
    "        result += i[0]\n",
    "    return result"
   ],
   "execution_count":30,
   "outputs":[],
   "metadata":{
    "datalore":{
     "node_id":"WHLzvFjlfI9Xhp5maRivz4",
     "type":"CODE",
     "hide_input_from_viewers":true,
     "hide_output_from_viewers":true
    }
   }
  },
  {
   "cell_type":"code",
   "source":[
    "BuildShortCut({'Industry':'Factory Under Newspaper'})"
   ],
   "execution_count":31,
   "outputs":[
    {
     "data":{
      "text\/plain":[
       "'FUN'"
      ]
     },
     "metadata":{},
     "output_type":"display_data"
    }
   ],
   "metadata":{
    "datalore":{
     "node_id":"ABOBQ01XAVS2dnNeyaMr1q",
     "type":"CODE",
     "hide_input_from_viewers":true,
     "hide_output_from_viewers":true
    }
   }
  },
  {
   "cell_type":"code",
   "source":[
    "fortune['IndustryShort'] = fortune.apply(BuildShortCut,axis=1)\n",
    "fortune.head()"
   ],
   "execution_count":33,
   "outputs":[
    {
     "data":{
      "text\/html":[
       "<div>\n",
       "<style scoped>\n",
       "    .dataframe tbody tr th:only-of-type {\n",
       "        vertical-align: middle;\n",
       "    }\n",
       "\n",
       "    .dataframe tbody tr th {\n",
       "        vertical-align: top;\n",
       "    }\n",
       "\n",
       "    .dataframe thead th {\n",
       "        text-align: right;\n",
       "    }\n",
       "<\/style>\n",
       "<table border=\"1\" class=\"dataframe\">\n",
       "  <thead>\n",
       "    <tr style=\"text-align: right;\">\n",
       "      <th><\/th>\n",
       "      <th>Rank<\/th>\n",
       "      <th>Title<\/th>\n",
       "      <th>Sector<\/th>\n",
       "      <th>Industry<\/th>\n",
       "      <th>Hqlocation<\/th>\n",
       "      <th>City<\/th>\n",
       "      <th>State<\/th>\n",
       "      <th>IndustryShort<\/th>\n",
       "    <\/tr>\n",
       "  <\/thead>\n",
       "  <tbody>\n",
       "    <tr>\n",
       "      <th>0<\/th>\n",
       "      <td>1<\/td>\n",
       "      <td>Walmart<\/td>\n",
       "      <td>RETAILING<\/td>\n",
       "      <td>General Merchandisers<\/td>\n",
       "      <td>Bentonville, AR<\/td>\n",
       "      <td>Bentonville<\/td>\n",
       "      <td>AR<\/td>\n",
       "      <td>GM<\/td>\n",
       "    <\/tr>\n",
       "    <tr>\n",
       "      <th>1<\/th>\n",
       "      <td>2<\/td>\n",
       "      <td>Berkshire Hathaway<\/td>\n",
       "      <td>FINANCIALS<\/td>\n",
       "      <td>Insurance: Property and Casualty (Stock)<\/td>\n",
       "      <td>Omaha, NE<\/td>\n",
       "      <td>Omaha<\/td>\n",
       "      <td>NE<\/td>\n",
       "      <td>IPaC(<\/td>\n",
       "    <\/tr>\n",
       "    <tr>\n",
       "      <th>2<\/th>\n",
       "      <td>3<\/td>\n",
       "      <td>Apple<\/td>\n",
       "      <td>TECHNOLOGY<\/td>\n",
       "      <td>Computers, Office Equipment<\/td>\n",
       "      <td>Cupertino, CA<\/td>\n",
       "      <td>Cupertino<\/td>\n",
       "      <td>CA<\/td>\n",
       "      <td>COE<\/td>\n",
       "    <\/tr>\n",
       "    <tr>\n",
       "      <th>3<\/th>\n",
       "      <td>4<\/td>\n",
       "      <td>Exxon Mobil<\/td>\n",
       "      <td>ENERGY<\/td>\n",
       "      <td>Petroleum Refining<\/td>\n",
       "      <td>Irving, TX<\/td>\n",
       "      <td>Irving<\/td>\n",
       "      <td>TX<\/td>\n",
       "      <td>PR<\/td>\n",
       "    <\/tr>\n",
       "    <tr>\n",
       "      <th>4<\/th>\n",
       "      <td>5<\/td>\n",
       "      <td>McKesson<\/td>\n",
       "      <td>WHOLESALERS<\/td>\n",
       "      <td>Wholesalers: Health Care<\/td>\n",
       "      <td>San Francisco, CA<\/td>\n",
       "      <td>San Francisco<\/td>\n",
       "      <td>CA<\/td>\n",
       "      <td>WHC<\/td>\n",
       "    <\/tr>\n",
       "  <\/tbody>\n",
       "<\/table>\n",
       "<\/div>"
      ]
     },
     "metadata":{},
     "output_type":"display_data"
    }
   ],
   "metadata":{
    "datalore":{
     "node_id":"NzOFt3oleEn9rCp07aHhuQ",
     "type":"CODE",
     "hide_input_from_viewers":true,
     "hide_output_from_viewers":true
    }
   }
  }
 ],
 "metadata":{
  "kernelspec":{
   "display_name":"Python",
   "language":"python",
   "name":"python"
  },
  "datalore":{
   "computation_mode":"JUPYTER",
   "package_manager":"pip",
   "base_environment":"default",
   "packages":[],
   "report_row_ids":[],
   "version":3
  }
 },
 "nbformat":4,
 "nbformat_minor":4
}