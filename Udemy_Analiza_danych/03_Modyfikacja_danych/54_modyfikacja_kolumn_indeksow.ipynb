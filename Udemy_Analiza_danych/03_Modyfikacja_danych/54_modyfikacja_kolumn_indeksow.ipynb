{
 "cells":[
  {
   "cell_type":"markdown",
   "source":[
    "# Wstęp"
   ],
   "attachments":{},
   "metadata":{
    "datalore":{
     "node_id":"Wstęp",
     "type":"MD",
     "hide_input_from_viewers":false,
     "hide_output_from_viewers":false,
     "sheet_delimiter":true
    }
   }
  },
  {
   "cell_type":"code",
   "source":[
    "import pandas as pd\n",
    "import numpy as np"
   ],
   "execution_count":1,
   "outputs":[],
   "metadata":{
    "datalore":{
     "node_id":"UtVBERucvGBchtjS2BMbYT",
     "type":"CODE",
     "hide_input_from_viewers":true,
     "hide_output_from_viewers":true
    }
   }
  },
  {
   "cell_type":"code",
   "source":[
    "animals = pd.read_csv('http:\/\/piotrdomagala.pl\/data\/mammals.csv')"
   ],
   "execution_count":2,
   "outputs":[],
   "metadata":{
    "datalore":{
     "node_id":"E7vzunwgCkPdukMdqtTzIf",
     "type":"CODE",
     "hide_input_from_viewers":true,
     "hide_output_from_viewers":true
    }
   }
  },
  {
   "cell_type":"code",
   "source":[
    "animals.head()"
   ],
   "execution_count":3,
   "outputs":[
    {
     "data":{
      "text\/html":[
       "<div>\n",
       "<style scoped>\n",
       "    .dataframe tbody tr th:only-of-type {\n",
       "        vertical-align: middle;\n",
       "    }\n",
       "\n",
       "    .dataframe tbody tr th {\n",
       "        vertical-align: top;\n",
       "    }\n",
       "\n",
       "    .dataframe thead th {\n",
       "        text-align: right;\n",
       "    }\n",
       "<\/style>\n",
       "<table border=\"1\" class=\"dataframe\">\n",
       "  <thead>\n",
       "    <tr style=\"text-align: right;\">\n",
       "      <th><\/th>\n",
       "      <th>name<\/th>\n",
       "      <th>body<\/th>\n",
       "      <th>brain<\/th>\n",
       "    <\/tr>\n",
       "  <\/thead>\n",
       "  <tbody>\n",
       "    <tr>\n",
       "      <th>0<\/th>\n",
       "      <td>Arctic fox<\/td>\n",
       "      <td>3.385<\/td>\n",
       "      <td>44.5<\/td>\n",
       "    <\/tr>\n",
       "    <tr>\n",
       "      <th>1<\/th>\n",
       "      <td>Owl monkey<\/td>\n",
       "      <td>0.480<\/td>\n",
       "      <td>15.5<\/td>\n",
       "    <\/tr>\n",
       "    <tr>\n",
       "      <th>2<\/th>\n",
       "      <td>Mountain beaver<\/td>\n",
       "      <td>1.350<\/td>\n",
       "      <td>8.1<\/td>\n",
       "    <\/tr>\n",
       "    <tr>\n",
       "      <th>3<\/th>\n",
       "      <td>Cow<\/td>\n",
       "      <td>465.000<\/td>\n",
       "      <td>423.0<\/td>\n",
       "    <\/tr>\n",
       "    <tr>\n",
       "      <th>4<\/th>\n",
       "      <td>Grey wolf<\/td>\n",
       "      <td>36.330<\/td>\n",
       "      <td>119.5<\/td>\n",
       "    <\/tr>\n",
       "  <\/tbody>\n",
       "<\/table>\n",
       "<\/div>"
      ]
     },
     "metadata":{},
     "output_type":"display_data"
    }
   ],
   "metadata":{
    "datalore":{
     "node_id":"3QfOhvH2OJdcnlc2Rzxd0I",
     "type":"CODE",
     "hide_input_from_viewers":true,
     "hide_output_from_viewers":true
    }
   }
  },
  {
   "cell_type":"code",
   "source":[
    "animals.columns"
   ],
   "execution_count":4,
   "outputs":[
    {
     "data":{
      "text\/plain":[
       "Index(['name', 'body', 'brain'], dtype='object')"
      ]
     },
     "metadata":{},
     "output_type":"display_data"
    }
   ],
   "metadata":{
    "datalore":{
     "node_id":"4XAu3q7I80OP5JXnndxgFS",
     "type":"CODE",
     "hide_input_from_viewers":true,
     "hide_output_from_viewers":true
    }
   }
  },
  {
   "cell_type":"code",
   "source":[
    "animals.columns = ['name','bodyKg','brainKg']"
   ],
   "execution_count":5,
   "outputs":[],
   "metadata":{
    "datalore":{
     "node_id":"wt5kD3afV3tRMwbQRy7OYs",
     "type":"CODE",
     "hide_input_from_viewers":true,
     "hide_output_from_viewers":true
    }
   }
  },
  {
   "cell_type":"code",
   "source":[
    "animals.head()"
   ],
   "execution_count":6,
   "outputs":[
    {
     "data":{
      "text\/html":[
       "<div>\n",
       "<style scoped>\n",
       "    .dataframe tbody tr th:only-of-type {\n",
       "        vertical-align: middle;\n",
       "    }\n",
       "\n",
       "    .dataframe tbody tr th {\n",
       "        vertical-align: top;\n",
       "    }\n",
       "\n",
       "    .dataframe thead th {\n",
       "        text-align: right;\n",
       "    }\n",
       "<\/style>\n",
       "<table border=\"1\" class=\"dataframe\">\n",
       "  <thead>\n",
       "    <tr style=\"text-align: right;\">\n",
       "      <th><\/th>\n",
       "      <th>name<\/th>\n",
       "      <th>bodyKg<\/th>\n",
       "      <th>brainKg<\/th>\n",
       "    <\/tr>\n",
       "  <\/thead>\n",
       "  <tbody>\n",
       "    <tr>\n",
       "      <th>0<\/th>\n",
       "      <td>Arctic fox<\/td>\n",
       "      <td>3.385<\/td>\n",
       "      <td>44.5<\/td>\n",
       "    <\/tr>\n",
       "    <tr>\n",
       "      <th>1<\/th>\n",
       "      <td>Owl monkey<\/td>\n",
       "      <td>0.480<\/td>\n",
       "      <td>15.5<\/td>\n",
       "    <\/tr>\n",
       "    <tr>\n",
       "      <th>2<\/th>\n",
       "      <td>Mountain beaver<\/td>\n",
       "      <td>1.350<\/td>\n",
       "      <td>8.1<\/td>\n",
       "    <\/tr>\n",
       "    <tr>\n",
       "      <th>3<\/th>\n",
       "      <td>Cow<\/td>\n",
       "      <td>465.000<\/td>\n",
       "      <td>423.0<\/td>\n",
       "    <\/tr>\n",
       "    <tr>\n",
       "      <th>4<\/th>\n",
       "      <td>Grey wolf<\/td>\n",
       "      <td>36.330<\/td>\n",
       "      <td>119.5<\/td>\n",
       "    <\/tr>\n",
       "  <\/tbody>\n",
       "<\/table>\n",
       "<\/div>"
      ]
     },
     "metadata":{},
     "output_type":"display_data"
    }
   ],
   "metadata":{
    "datalore":{
     "node_id":"iYJrIKALbjnvE7kiKWYe1P",
     "type":"CODE",
     "hide_input_from_viewers":true,
     "hide_output_from_viewers":true
    }
   }
  },
  {
   "cell_type":"code",
   "source":[
    "newColumnNames = {'bodyKg':'body_kg', 'brainKg':'brain_kg'}"
   ],
   "execution_count":7,
   "outputs":[],
   "metadata":{
    "datalore":{
     "node_id":"Mrl2WnyNf1gz35jfVvjNKZ",
     "type":"CODE",
     "hide_input_from_viewers":true,
     "hide_output_from_viewers":true
    }
   }
  },
  {
   "cell_type":"code",
   "source":[
    "animals.rename(columns=newColumnNames, inplace=True)\n",
    "animals.head()"
   ],
   "execution_count":8,
   "outputs":[
    {
     "data":{
      "text\/html":[
       "<div>\n",
       "<style scoped>\n",
       "    .dataframe tbody tr th:only-of-type {\n",
       "        vertical-align: middle;\n",
       "    }\n",
       "\n",
       "    .dataframe tbody tr th {\n",
       "        vertical-align: top;\n",
       "    }\n",
       "\n",
       "    .dataframe thead th {\n",
       "        text-align: right;\n",
       "    }\n",
       "<\/style>\n",
       "<table border=\"1\" class=\"dataframe\">\n",
       "  <thead>\n",
       "    <tr style=\"text-align: right;\">\n",
       "      <th><\/th>\n",
       "      <th>name<\/th>\n",
       "      <th>body_kg<\/th>\n",
       "      <th>brain_kg<\/th>\n",
       "    <\/tr>\n",
       "  <\/thead>\n",
       "  <tbody>\n",
       "    <tr>\n",
       "      <th>0<\/th>\n",
       "      <td>Arctic fox<\/td>\n",
       "      <td>3.385<\/td>\n",
       "      <td>44.5<\/td>\n",
       "    <\/tr>\n",
       "    <tr>\n",
       "      <th>1<\/th>\n",
       "      <td>Owl monkey<\/td>\n",
       "      <td>0.480<\/td>\n",
       "      <td>15.5<\/td>\n",
       "    <\/tr>\n",
       "    <tr>\n",
       "      <th>2<\/th>\n",
       "      <td>Mountain beaver<\/td>\n",
       "      <td>1.350<\/td>\n",
       "      <td>8.1<\/td>\n",
       "    <\/tr>\n",
       "    <tr>\n",
       "      <th>3<\/th>\n",
       "      <td>Cow<\/td>\n",
       "      <td>465.000<\/td>\n",
       "      <td>423.0<\/td>\n",
       "    <\/tr>\n",
       "    <tr>\n",
       "      <th>4<\/th>\n",
       "      <td>Grey wolf<\/td>\n",
       "      <td>36.330<\/td>\n",
       "      <td>119.5<\/td>\n",
       "    <\/tr>\n",
       "  <\/tbody>\n",
       "<\/table>\n",
       "<\/div>"
      ]
     },
     "metadata":{},
     "output_type":"display_data"
    }
   ],
   "metadata":{
    "datalore":{
     "node_id":"UCZse2CPYphJUG7Lir4VIK",
     "type":"CODE",
     "hide_input_from_viewers":true,
     "hide_output_from_viewers":true
    }
   }
  },
  {
   "cell_type":"code",
   "source":[
    "animals2 = pd.read_csv('http:\/\/piotrdomagala.pl\/data\/mammals.csv',\n",
    "                       index_col='name')"
   ],
   "execution_count":9,
   "outputs":[],
   "metadata":{
    "datalore":{
     "node_id":"YSrh8dOjuCy0j4MWggdFmf",
     "type":"CODE",
     "hide_input_from_viewers":true,
     "hide_output_from_viewers":true
    }
   }
  },
  {
   "cell_type":"code",
   "source":[
    "animals2.head()"
   ],
   "execution_count":10,
   "outputs":[
    {
     "data":{
      "text\/html":[
       "<div>\n",
       "<style scoped>\n",
       "    .dataframe tbody tr th:only-of-type {\n",
       "        vertical-align: middle;\n",
       "    }\n",
       "\n",
       "    .dataframe tbody tr th {\n",
       "        vertical-align: top;\n",
       "    }\n",
       "\n",
       "    .dataframe thead th {\n",
       "        text-align: right;\n",
       "    }\n",
       "<\/style>\n",
       "<table border=\"1\" class=\"dataframe\">\n",
       "  <thead>\n",
       "    <tr style=\"text-align: right;\">\n",
       "      <th><\/th>\n",
       "      <th>body<\/th>\n",
       "      <th>brain<\/th>\n",
       "    <\/tr>\n",
       "    <tr>\n",
       "      <th>name<\/th>\n",
       "      <th><\/th>\n",
       "      <th><\/th>\n",
       "    <\/tr>\n",
       "  <\/thead>\n",
       "  <tbody>\n",
       "    <tr>\n",
       "      <th>Arctic fox<\/th>\n",
       "      <td>3.385<\/td>\n",
       "      <td>44.5<\/td>\n",
       "    <\/tr>\n",
       "    <tr>\n",
       "      <th>Owl monkey<\/th>\n",
       "      <td>0.480<\/td>\n",
       "      <td>15.5<\/td>\n",
       "    <\/tr>\n",
       "    <tr>\n",
       "      <th>Mountain beaver<\/th>\n",
       "      <td>1.350<\/td>\n",
       "      <td>8.1<\/td>\n",
       "    <\/tr>\n",
       "    <tr>\n",
       "      <th>Cow<\/th>\n",
       "      <td>465.000<\/td>\n",
       "      <td>423.0<\/td>\n",
       "    <\/tr>\n",
       "    <tr>\n",
       "      <th>Grey wolf<\/th>\n",
       "      <td>36.330<\/td>\n",
       "      <td>119.5<\/td>\n",
       "    <\/tr>\n",
       "  <\/tbody>\n",
       "<\/table>\n",
       "<\/div>"
      ]
     },
     "metadata":{},
     "output_type":"display_data"
    }
   ],
   "metadata":{
    "datalore":{
     "node_id":"HeaF2s19RztMh9Ke5QiH5P",
     "type":"CODE",
     "hide_input_from_viewers":true,
     "hide_output_from_viewers":true
    }
   }
  },
  {
   "cell_type":"code",
   "source":[
    "animals2.rename(index={'Cow':'Land cow'}, inplace=True)"
   ],
   "execution_count":11,
   "outputs":[],
   "metadata":{
    "datalore":{
     "node_id":"pYIjB0Rve8tyjBzSf7OgzJ",
     "type":"CODE",
     "hide_input_from_viewers":true,
     "hide_output_from_viewers":true
    }
   }
  },
  {
   "cell_type":"code",
   "source":[
    "animals2.head()"
   ],
   "execution_count":12,
   "outputs":[
    {
     "data":{
      "text\/html":[
       "<div>\n",
       "<style scoped>\n",
       "    .dataframe tbody tr th:only-of-type {\n",
       "        vertical-align: middle;\n",
       "    }\n",
       "\n",
       "    .dataframe tbody tr th {\n",
       "        vertical-align: top;\n",
       "    }\n",
       "\n",
       "    .dataframe thead th {\n",
       "        text-align: right;\n",
       "    }\n",
       "<\/style>\n",
       "<table border=\"1\" class=\"dataframe\">\n",
       "  <thead>\n",
       "    <tr style=\"text-align: right;\">\n",
       "      <th><\/th>\n",
       "      <th>body<\/th>\n",
       "      <th>brain<\/th>\n",
       "    <\/tr>\n",
       "    <tr>\n",
       "      <th>name<\/th>\n",
       "      <th><\/th>\n",
       "      <th><\/th>\n",
       "    <\/tr>\n",
       "  <\/thead>\n",
       "  <tbody>\n",
       "    <tr>\n",
       "      <th>Arctic fox<\/th>\n",
       "      <td>3.385<\/td>\n",
       "      <td>44.5<\/td>\n",
       "    <\/tr>\n",
       "    <tr>\n",
       "      <th>Owl monkey<\/th>\n",
       "      <td>0.480<\/td>\n",
       "      <td>15.5<\/td>\n",
       "    <\/tr>\n",
       "    <tr>\n",
       "      <th>Mountain beaver<\/th>\n",
       "      <td>1.350<\/td>\n",
       "      <td>8.1<\/td>\n",
       "    <\/tr>\n",
       "    <tr>\n",
       "      <th>Land cow<\/th>\n",
       "      <td>465.000<\/td>\n",
       "      <td>423.0<\/td>\n",
       "    <\/tr>\n",
       "    <tr>\n",
       "      <th>Grey wolf<\/th>\n",
       "      <td>36.330<\/td>\n",
       "      <td>119.5<\/td>\n",
       "    <\/tr>\n",
       "  <\/tbody>\n",
       "<\/table>\n",
       "<\/div>"
      ]
     },
     "metadata":{},
     "output_type":"display_data"
    }
   ],
   "metadata":{
    "datalore":{
     "node_id":"3402UGQonYiPwrrgEZFgkG",
     "type":"CODE",
     "hide_input_from_viewers":true,
     "hide_output_from_viewers":true
    }
   }
  },
  {
   "cell_type":"code",
   "source":[
    "animals2Copy = animals2"
   ],
   "execution_count":13,
   "outputs":[],
   "metadata":{
    "datalore":{
     "node_id":"MONHWOJmoMGQO2vKcWJU5T",
     "type":"CODE",
     "hide_input_from_viewers":true,
     "hide_output_from_viewers":true
    }
   }
  },
  {
   "cell_type":"code",
   "source":[
    "animals2Copy.loc['Arctic fox','body'] = 5"
   ],
   "execution_count":14,
   "outputs":[],
   "metadata":{
    "datalore":{
     "node_id":"cdj8eNFmNdAR9PN0TJ3HGw",
     "type":"CODE",
     "hide_input_from_viewers":true,
     "hide_output_from_viewers":true
    }
   }
  },
  {
   "cell_type":"code",
   "source":[
    "animals2Copy.head()"
   ],
   "execution_count":15,
   "outputs":[
    {
     "data":{
      "text\/html":[
       "<div>\n",
       "<style scoped>\n",
       "    .dataframe tbody tr th:only-of-type {\n",
       "        vertical-align: middle;\n",
       "    }\n",
       "\n",
       "    .dataframe tbody tr th {\n",
       "        vertical-align: top;\n",
       "    }\n",
       "\n",
       "    .dataframe thead th {\n",
       "        text-align: right;\n",
       "    }\n",
       "<\/style>\n",
       "<table border=\"1\" class=\"dataframe\">\n",
       "  <thead>\n",
       "    <tr style=\"text-align: right;\">\n",
       "      <th><\/th>\n",
       "      <th>body<\/th>\n",
       "      <th>brain<\/th>\n",
       "    <\/tr>\n",
       "    <tr>\n",
       "      <th>name<\/th>\n",
       "      <th><\/th>\n",
       "      <th><\/th>\n",
       "    <\/tr>\n",
       "  <\/thead>\n",
       "  <tbody>\n",
       "    <tr>\n",
       "      <th>Arctic fox<\/th>\n",
       "      <td>5.00<\/td>\n",
       "      <td>44.5<\/td>\n",
       "    <\/tr>\n",
       "    <tr>\n",
       "      <th>Owl monkey<\/th>\n",
       "      <td>0.48<\/td>\n",
       "      <td>15.5<\/td>\n",
       "    <\/tr>\n",
       "    <tr>\n",
       "      <th>Mountain beaver<\/th>\n",
       "      <td>1.35<\/td>\n",
       "      <td>8.1<\/td>\n",
       "    <\/tr>\n",
       "    <tr>\n",
       "      <th>Land cow<\/th>\n",
       "      <td>465.00<\/td>\n",
       "      <td>423.0<\/td>\n",
       "    <\/tr>\n",
       "    <tr>\n",
       "      <th>Grey wolf<\/th>\n",
       "      <td>36.33<\/td>\n",
       "      <td>119.5<\/td>\n",
       "    <\/tr>\n",
       "  <\/tbody>\n",
       "<\/table>\n",
       "<\/div>"
      ]
     },
     "metadata":{},
     "output_type":"display_data"
    }
   ],
   "metadata":{
    "datalore":{
     "node_id":"2OzjEGrbZuefFlg8WqJWzn",
     "type":"CODE",
     "hide_input_from_viewers":true,
     "hide_output_from_viewers":true
    }
   }
  },
  {
   "cell_type":"code",
   "source":[
    "animals2.head()"
   ],
   "execution_count":16,
   "outputs":[
    {
     "data":{
      "text\/html":[
       "<div>\n",
       "<style scoped>\n",
       "    .dataframe tbody tr th:only-of-type {\n",
       "        vertical-align: middle;\n",
       "    }\n",
       "\n",
       "    .dataframe tbody tr th {\n",
       "        vertical-align: top;\n",
       "    }\n",
       "\n",
       "    .dataframe thead th {\n",
       "        text-align: right;\n",
       "    }\n",
       "<\/style>\n",
       "<table border=\"1\" class=\"dataframe\">\n",
       "  <thead>\n",
       "    <tr style=\"text-align: right;\">\n",
       "      <th><\/th>\n",
       "      <th>body<\/th>\n",
       "      <th>brain<\/th>\n",
       "    <\/tr>\n",
       "    <tr>\n",
       "      <th>name<\/th>\n",
       "      <th><\/th>\n",
       "      <th><\/th>\n",
       "    <\/tr>\n",
       "  <\/thead>\n",
       "  <tbody>\n",
       "    <tr>\n",
       "      <th>Arctic fox<\/th>\n",
       "      <td>5.00<\/td>\n",
       "      <td>44.5<\/td>\n",
       "    <\/tr>\n",
       "    <tr>\n",
       "      <th>Owl monkey<\/th>\n",
       "      <td>0.48<\/td>\n",
       "      <td>15.5<\/td>\n",
       "    <\/tr>\n",
       "    <tr>\n",
       "      <th>Mountain beaver<\/th>\n",
       "      <td>1.35<\/td>\n",
       "      <td>8.1<\/td>\n",
       "    <\/tr>\n",
       "    <tr>\n",
       "      <th>Land cow<\/th>\n",
       "      <td>465.00<\/td>\n",
       "      <td>423.0<\/td>\n",
       "    <\/tr>\n",
       "    <tr>\n",
       "      <th>Grey wolf<\/th>\n",
       "      <td>36.33<\/td>\n",
       "      <td>119.5<\/td>\n",
       "    <\/tr>\n",
       "  <\/tbody>\n",
       "<\/table>\n",
       "<\/div>"
      ]
     },
     "metadata":{},
     "output_type":"display_data"
    }
   ],
   "metadata":{
    "datalore":{
     "node_id":"JIzWVm4IIBxzGtItXnMCji",
     "type":"CODE",
     "hide_input_from_viewers":true,
     "hide_output_from_viewers":true
    }
   }
  },
  {
   "cell_type":"code",
   "source":[
    "animals2Copy = animals2.copy()"
   ],
   "execution_count":17,
   "outputs":[],
   "metadata":{
    "datalore":{
     "node_id":"Km9zuCwOrwDi8VGOAsZjjs",
     "type":"CODE",
     "hide_input_from_viewers":true,
     "hide_output_from_viewers":true
    }
   }
  },
  {
   "cell_type":"code",
   "source":[
    "animals2Copy.loc['Grey wolf','body'] = 40"
   ],
   "execution_count":18,
   "outputs":[],
   "metadata":{
    "datalore":{
     "node_id":"NcKpGAgEgsiVgQd1GR2GkX",
     "type":"CODE",
     "hide_input_from_viewers":true,
     "hide_output_from_viewers":true
    }
   }
  },
  {
   "cell_type":"code",
   "source":[
    "animals2Copy.head()"
   ],
   "execution_count":19,
   "outputs":[
    {
     "data":{
      "text\/html":[
       "<div>\n",
       "<style scoped>\n",
       "    .dataframe tbody tr th:only-of-type {\n",
       "        vertical-align: middle;\n",
       "    }\n",
       "\n",
       "    .dataframe tbody tr th {\n",
       "        vertical-align: top;\n",
       "    }\n",
       "\n",
       "    .dataframe thead th {\n",
       "        text-align: right;\n",
       "    }\n",
       "<\/style>\n",
       "<table border=\"1\" class=\"dataframe\">\n",
       "  <thead>\n",
       "    <tr style=\"text-align: right;\">\n",
       "      <th><\/th>\n",
       "      <th>body<\/th>\n",
       "      <th>brain<\/th>\n",
       "    <\/tr>\n",
       "    <tr>\n",
       "      <th>name<\/th>\n",
       "      <th><\/th>\n",
       "      <th><\/th>\n",
       "    <\/tr>\n",
       "  <\/thead>\n",
       "  <tbody>\n",
       "    <tr>\n",
       "      <th>Arctic fox<\/th>\n",
       "      <td>5.00<\/td>\n",
       "      <td>44.5<\/td>\n",
       "    <\/tr>\n",
       "    <tr>\n",
       "      <th>Owl monkey<\/th>\n",
       "      <td>0.48<\/td>\n",
       "      <td>15.5<\/td>\n",
       "    <\/tr>\n",
       "    <tr>\n",
       "      <th>Mountain beaver<\/th>\n",
       "      <td>1.35<\/td>\n",
       "      <td>8.1<\/td>\n",
       "    <\/tr>\n",
       "    <tr>\n",
       "      <th>Land cow<\/th>\n",
       "      <td>465.00<\/td>\n",
       "      <td>423.0<\/td>\n",
       "    <\/tr>\n",
       "    <tr>\n",
       "      <th>Grey wolf<\/th>\n",
       "      <td>40.00<\/td>\n",
       "      <td>119.5<\/td>\n",
       "    <\/tr>\n",
       "  <\/tbody>\n",
       "<\/table>\n",
       "<\/div>"
      ]
     },
     "metadata":{},
     "output_type":"display_data"
    }
   ],
   "metadata":{
    "datalore":{
     "node_id":"gf5GOqdmRlUN8rqxYCzW3i",
     "type":"CODE",
     "hide_input_from_viewers":true,
     "hide_output_from_viewers":true
    }
   }
  },
  {
   "cell_type":"code",
   "source":[
    "animals2.head()"
   ],
   "execution_count":20,
   "outputs":[
    {
     "data":{
      "text\/html":[
       "<div>\n",
       "<style scoped>\n",
       "    .dataframe tbody tr th:only-of-type {\n",
       "        vertical-align: middle;\n",
       "    }\n",
       "\n",
       "    .dataframe tbody tr th {\n",
       "        vertical-align: top;\n",
       "    }\n",
       "\n",
       "    .dataframe thead th {\n",
       "        text-align: right;\n",
       "    }\n",
       "<\/style>\n",
       "<table border=\"1\" class=\"dataframe\">\n",
       "  <thead>\n",
       "    <tr style=\"text-align: right;\">\n",
       "      <th><\/th>\n",
       "      <th>body<\/th>\n",
       "      <th>brain<\/th>\n",
       "    <\/tr>\n",
       "    <tr>\n",
       "      <th>name<\/th>\n",
       "      <th><\/th>\n",
       "      <th><\/th>\n",
       "    <\/tr>\n",
       "  <\/thead>\n",
       "  <tbody>\n",
       "    <tr>\n",
       "      <th>Arctic fox<\/th>\n",
       "      <td>5.00<\/td>\n",
       "      <td>44.5<\/td>\n",
       "    <\/tr>\n",
       "    <tr>\n",
       "      <th>Owl monkey<\/th>\n",
       "      <td>0.48<\/td>\n",
       "      <td>15.5<\/td>\n",
       "    <\/tr>\n",
       "    <tr>\n",
       "      <th>Mountain beaver<\/th>\n",
       "      <td>1.35<\/td>\n",
       "      <td>8.1<\/td>\n",
       "    <\/tr>\n",
       "    <tr>\n",
       "      <th>Land cow<\/th>\n",
       "      <td>465.00<\/td>\n",
       "      <td>423.0<\/td>\n",
       "    <\/tr>\n",
       "    <tr>\n",
       "      <th>Grey wolf<\/th>\n",
       "      <td>36.33<\/td>\n",
       "      <td>119.5<\/td>\n",
       "    <\/tr>\n",
       "  <\/tbody>\n",
       "<\/table>\n",
       "<\/div>"
      ]
     },
     "metadata":{},
     "output_type":"display_data"
    }
   ],
   "metadata":{
    "datalore":{
     "node_id":"2FcqUqHnOUEH1sPLMb8sOz",
     "type":"CODE",
     "hide_input_from_viewers":true,
     "hide_output_from_viewers":true
    }
   }
  },
  {
   "cell_type":"markdown",
   "source":[
    "# Zadanie"
   ],
   "attachments":{},
   "metadata":{
    "datalore":{
     "node_id":"Zadanie",
     "type":"MD",
     "hide_input_from_viewers":false,
     "hide_output_from_viewers":false,
     "sheet_delimiter":true
    }
   }
  },
  {
   "cell_type":"code",
   "source":[
    "import pandas as pd\n",
    "import numpy as np"
   ],
   "execution_count":23,
   "outputs":[],
   "metadata":{
    "datalore":{
     "node_id":"wG5VTKcnqpRm2eSbwhLDyP",
     "type":"CODE",
     "hide_input_from_viewers":true,
     "hide_output_from_viewers":true
    }
   }
  },
  {
   "cell_type":"code",
   "source":[
    "professions = pd.read_csv('http:\/\/piotrdomagala.pl\/data\/Prestige.csv',\n",
    "                          index_col='name')\n",
    "professions.head()"
   ],
   "execution_count":25,
   "outputs":[
    {
     "data":{
      "text\/html":[
       "<div>\n",
       "<style scoped>\n",
       "    .dataframe tbody tr th:only-of-type {\n",
       "        vertical-align: middle;\n",
       "    }\n",
       "\n",
       "    .dataframe tbody tr th {\n",
       "        vertical-align: top;\n",
       "    }\n",
       "\n",
       "    .dataframe thead th {\n",
       "        text-align: right;\n",
       "    }\n",
       "<\/style>\n",
       "<table border=\"1\" class=\"dataframe\">\n",
       "  <thead>\n",
       "    <tr style=\"text-align: right;\">\n",
       "      <th><\/th>\n",
       "      <th>education<\/th>\n",
       "      <th>income<\/th>\n",
       "      <th>women<\/th>\n",
       "      <th>prestige<\/th>\n",
       "      <th>census<\/th>\n",
       "      <th>type<\/th>\n",
       "    <\/tr>\n",
       "    <tr>\n",
       "      <th>name<\/th>\n",
       "      <th><\/th>\n",
       "      <th><\/th>\n",
       "      <th><\/th>\n",
       "      <th><\/th>\n",
       "      <th><\/th>\n",
       "      <th><\/th>\n",
       "    <\/tr>\n",
       "  <\/thead>\n",
       "  <tbody>\n",
       "    <tr>\n",
       "      <th>gov.administrators<\/th>\n",
       "      <td>13.11<\/td>\n",
       "      <td>12351<\/td>\n",
       "      <td>11.16<\/td>\n",
       "      <td>68.8<\/td>\n",
       "      <td>1113<\/td>\n",
       "      <td>prof<\/td>\n",
       "    <\/tr>\n",
       "    <tr>\n",
       "      <th>general.managers<\/th>\n",
       "      <td>12.26<\/td>\n",
       "      <td>25879<\/td>\n",
       "      <td>4.02<\/td>\n",
       "      <td>69.1<\/td>\n",
       "      <td>1130<\/td>\n",
       "      <td>prof<\/td>\n",
       "    <\/tr>\n",
       "    <tr>\n",
       "      <th>accountants<\/th>\n",
       "      <td>12.77<\/td>\n",
       "      <td>9271<\/td>\n",
       "      <td>15.70<\/td>\n",
       "      <td>63.4<\/td>\n",
       "      <td>1171<\/td>\n",
       "      <td>prof<\/td>\n",
       "    <\/tr>\n",
       "    <tr>\n",
       "      <th>purchasing.officers<\/th>\n",
       "      <td>11.42<\/td>\n",
       "      <td>8865<\/td>\n",
       "      <td>9.11<\/td>\n",
       "      <td>56.8<\/td>\n",
       "      <td>1175<\/td>\n",
       "      <td>prof<\/td>\n",
       "    <\/tr>\n",
       "    <tr>\n",
       "      <th>chemists<\/th>\n",
       "      <td>14.62<\/td>\n",
       "      <td>8403<\/td>\n",
       "      <td>11.68<\/td>\n",
       "      <td>73.5<\/td>\n",
       "      <td>2111<\/td>\n",
       "      <td>prof<\/td>\n",
       "    <\/tr>\n",
       "  <\/tbody>\n",
       "<\/table>\n",
       "<\/div>"
      ]
     },
     "metadata":{},
     "output_type":"display_data"
    }
   ],
   "metadata":{
    "datalore":{
     "node_id":"SLV98MtFEUyNKj1HQk2IAM",
     "type":"CODE",
     "hide_input_from_viewers":true,
     "hide_output_from_viewers":true
    }
   }
  },
  {
   "cell_type":"code",
   "source":[
    "professionsOriginal = professions.copy()"
   ],
   "execution_count":26,
   "outputs":[],
   "metadata":{
    "datalore":{
     "node_id":"y88gZpIcAF2pM5R0LFk3JK",
     "type":"CODE",
     "hide_input_from_viewers":true,
     "hide_output_from_viewers":true
    }
   }
  },
  {
   "cell_type":"code",
   "source":[
    "professions.rename(columns={'income':'incomePerYear'}, inplace=True)\n",
    "professions.head()"
   ],
   "execution_count":28,
   "outputs":[
    {
     "data":{
      "text\/html":[
       "<div>\n",
       "<style scoped>\n",
       "    .dataframe tbody tr th:only-of-type {\n",
       "        vertical-align: middle;\n",
       "    }\n",
       "\n",
       "    .dataframe tbody tr th {\n",
       "        vertical-align: top;\n",
       "    }\n",
       "\n",
       "    .dataframe thead th {\n",
       "        text-align: right;\n",
       "    }\n",
       "<\/style>\n",
       "<table border=\"1\" class=\"dataframe\">\n",
       "  <thead>\n",
       "    <tr style=\"text-align: right;\">\n",
       "      <th><\/th>\n",
       "      <th>education<\/th>\n",
       "      <th>incomePerYear<\/th>\n",
       "      <th>women<\/th>\n",
       "      <th>prestige<\/th>\n",
       "      <th>census<\/th>\n",
       "      <th>type<\/th>\n",
       "    <\/tr>\n",
       "    <tr>\n",
       "      <th>name<\/th>\n",
       "      <th><\/th>\n",
       "      <th><\/th>\n",
       "      <th><\/th>\n",
       "      <th><\/th>\n",
       "      <th><\/th>\n",
       "      <th><\/th>\n",
       "    <\/tr>\n",
       "  <\/thead>\n",
       "  <tbody>\n",
       "    <tr>\n",
       "      <th>gov.administrators<\/th>\n",
       "      <td>13.11<\/td>\n",
       "      <td>12351<\/td>\n",
       "      <td>11.16<\/td>\n",
       "      <td>68.8<\/td>\n",
       "      <td>1113<\/td>\n",
       "      <td>prof<\/td>\n",
       "    <\/tr>\n",
       "    <tr>\n",
       "      <th>general.managers<\/th>\n",
       "      <td>12.26<\/td>\n",
       "      <td>25879<\/td>\n",
       "      <td>4.02<\/td>\n",
       "      <td>69.1<\/td>\n",
       "      <td>1130<\/td>\n",
       "      <td>prof<\/td>\n",
       "    <\/tr>\n",
       "    <tr>\n",
       "      <th>accountants<\/th>\n",
       "      <td>12.77<\/td>\n",
       "      <td>9271<\/td>\n",
       "      <td>15.70<\/td>\n",
       "      <td>63.4<\/td>\n",
       "      <td>1171<\/td>\n",
       "      <td>prof<\/td>\n",
       "    <\/tr>\n",
       "    <tr>\n",
       "      <th>purchasing.officers<\/th>\n",
       "      <td>11.42<\/td>\n",
       "      <td>8865<\/td>\n",
       "      <td>9.11<\/td>\n",
       "      <td>56.8<\/td>\n",
       "      <td>1175<\/td>\n",
       "      <td>prof<\/td>\n",
       "    <\/tr>\n",
       "    <tr>\n",
       "      <th>chemists<\/th>\n",
       "      <td>14.62<\/td>\n",
       "      <td>8403<\/td>\n",
       "      <td>11.68<\/td>\n",
       "      <td>73.5<\/td>\n",
       "      <td>2111<\/td>\n",
       "      <td>prof<\/td>\n",
       "    <\/tr>\n",
       "  <\/tbody>\n",
       "<\/table>\n",
       "<\/div>"
      ]
     },
     "metadata":{},
     "output_type":"display_data"
    }
   ],
   "metadata":{
    "datalore":{
     "node_id":"ThZlqpnFg2JHQDJEEBsUDJ",
     "type":"CODE",
     "hide_input_from_viewers":true,
     "hide_output_from_viewers":true
    }
   }
  },
  {
   "cell_type":"code",
   "source":[
    "professions.rename(columns={'prestige':'prestigeIndicator', 'women':'womenPercent'}, inplace=True)\n",
    "professions.head()"
   ],
   "execution_count":29,
   "outputs":[
    {
     "data":{
      "text\/html":[
       "<div>\n",
       "<style scoped>\n",
       "    .dataframe tbody tr th:only-of-type {\n",
       "        vertical-align: middle;\n",
       "    }\n",
       "\n",
       "    .dataframe tbody tr th {\n",
       "        vertical-align: top;\n",
       "    }\n",
       "\n",
       "    .dataframe thead th {\n",
       "        text-align: right;\n",
       "    }\n",
       "<\/style>\n",
       "<table border=\"1\" class=\"dataframe\">\n",
       "  <thead>\n",
       "    <tr style=\"text-align: right;\">\n",
       "      <th><\/th>\n",
       "      <th>education<\/th>\n",
       "      <th>incomePerYear<\/th>\n",
       "      <th>womenPercent<\/th>\n",
       "      <th>prestigeIndicator<\/th>\n",
       "      <th>census<\/th>\n",
       "      <th>type<\/th>\n",
       "    <\/tr>\n",
       "    <tr>\n",
       "      <th>name<\/th>\n",
       "      <th><\/th>\n",
       "      <th><\/th>\n",
       "      <th><\/th>\n",
       "      <th><\/th>\n",
       "      <th><\/th>\n",
       "      <th><\/th>\n",
       "    <\/tr>\n",
       "  <\/thead>\n",
       "  <tbody>\n",
       "    <tr>\n",
       "      <th>gov.administrators<\/th>\n",
       "      <td>13.11<\/td>\n",
       "      <td>12351<\/td>\n",
       "      <td>11.16<\/td>\n",
       "      <td>68.8<\/td>\n",
       "      <td>1113<\/td>\n",
       "      <td>prof<\/td>\n",
       "    <\/tr>\n",
       "    <tr>\n",
       "      <th>general.managers<\/th>\n",
       "      <td>12.26<\/td>\n",
       "      <td>25879<\/td>\n",
       "      <td>4.02<\/td>\n",
       "      <td>69.1<\/td>\n",
       "      <td>1130<\/td>\n",
       "      <td>prof<\/td>\n",
       "    <\/tr>\n",
       "    <tr>\n",
       "      <th>accountants<\/th>\n",
       "      <td>12.77<\/td>\n",
       "      <td>9271<\/td>\n",
       "      <td>15.70<\/td>\n",
       "      <td>63.4<\/td>\n",
       "      <td>1171<\/td>\n",
       "      <td>prof<\/td>\n",
       "    <\/tr>\n",
       "    <tr>\n",
       "      <th>purchasing.officers<\/th>\n",
       "      <td>11.42<\/td>\n",
       "      <td>8865<\/td>\n",
       "      <td>9.11<\/td>\n",
       "      <td>56.8<\/td>\n",
       "      <td>1175<\/td>\n",
       "      <td>prof<\/td>\n",
       "    <\/tr>\n",
       "    <tr>\n",
       "      <th>chemists<\/th>\n",
       "      <td>14.62<\/td>\n",
       "      <td>8403<\/td>\n",
       "      <td>11.68<\/td>\n",
       "      <td>73.5<\/td>\n",
       "      <td>2111<\/td>\n",
       "      <td>prof<\/td>\n",
       "    <\/tr>\n",
       "  <\/tbody>\n",
       "<\/table>\n",
       "<\/div>"
      ]
     },
     "metadata":{},
     "output_type":"display_data"
    }
   ],
   "metadata":{
    "datalore":{
     "node_id":"WiZpbwA34NAAxBMunScJ1h",
     "type":"CODE",
     "hide_input_from_viewers":true,
     "hide_output_from_viewers":true
    }
   }
  },
  {
   "cell_type":"code",
   "source":[
    "professions.rename(index={'accountants':'bookkeepers', 'general.managers':'managers'}, inplace=True)\n",
    "professions.head()"
   ],
   "execution_count":30,
   "outputs":[
    {
     "data":{
      "text\/html":[
       "<div>\n",
       "<style scoped>\n",
       "    .dataframe tbody tr th:only-of-type {\n",
       "        vertical-align: middle;\n",
       "    }\n",
       "\n",
       "    .dataframe tbody tr th {\n",
       "        vertical-align: top;\n",
       "    }\n",
       "\n",
       "    .dataframe thead th {\n",
       "        text-align: right;\n",
       "    }\n",
       "<\/style>\n",
       "<table border=\"1\" class=\"dataframe\">\n",
       "  <thead>\n",
       "    <tr style=\"text-align: right;\">\n",
       "      <th><\/th>\n",
       "      <th>education<\/th>\n",
       "      <th>incomePerYear<\/th>\n",
       "      <th>womenPercent<\/th>\n",
       "      <th>prestigeIndicator<\/th>\n",
       "      <th>census<\/th>\n",
       "      <th>type<\/th>\n",
       "    <\/tr>\n",
       "    <tr>\n",
       "      <th>name<\/th>\n",
       "      <th><\/th>\n",
       "      <th><\/th>\n",
       "      <th><\/th>\n",
       "      <th><\/th>\n",
       "      <th><\/th>\n",
       "      <th><\/th>\n",
       "    <\/tr>\n",
       "  <\/thead>\n",
       "  <tbody>\n",
       "    <tr>\n",
       "      <th>gov.administrators<\/th>\n",
       "      <td>13.11<\/td>\n",
       "      <td>12351<\/td>\n",
       "      <td>11.16<\/td>\n",
       "      <td>68.8<\/td>\n",
       "      <td>1113<\/td>\n",
       "      <td>prof<\/td>\n",
       "    <\/tr>\n",
       "    <tr>\n",
       "      <th>managers<\/th>\n",
       "      <td>12.26<\/td>\n",
       "      <td>25879<\/td>\n",
       "      <td>4.02<\/td>\n",
       "      <td>69.1<\/td>\n",
       "      <td>1130<\/td>\n",
       "      <td>prof<\/td>\n",
       "    <\/tr>\n",
       "    <tr>\n",
       "      <th>bookkeepers<\/th>\n",
       "      <td>12.77<\/td>\n",
       "      <td>9271<\/td>\n",
       "      <td>15.70<\/td>\n",
       "      <td>63.4<\/td>\n",
       "      <td>1171<\/td>\n",
       "      <td>prof<\/td>\n",
       "    <\/tr>\n",
       "    <tr>\n",
       "      <th>purchasing.officers<\/th>\n",
       "      <td>11.42<\/td>\n",
       "      <td>8865<\/td>\n",
       "      <td>9.11<\/td>\n",
       "      <td>56.8<\/td>\n",
       "      <td>1175<\/td>\n",
       "      <td>prof<\/td>\n",
       "    <\/tr>\n",
       "    <tr>\n",
       "      <th>chemists<\/th>\n",
       "      <td>14.62<\/td>\n",
       "      <td>8403<\/td>\n",
       "      <td>11.68<\/td>\n",
       "      <td>73.5<\/td>\n",
       "      <td>2111<\/td>\n",
       "      <td>prof<\/td>\n",
       "    <\/tr>\n",
       "  <\/tbody>\n",
       "<\/table>\n",
       "<\/div>"
      ]
     },
     "metadata":{},
     "output_type":"display_data"
    }
   ],
   "metadata":{
    "datalore":{
     "node_id":"VlHLW0GD6NjsOk2oue3Rsr",
     "type":"CODE",
     "hide_input_from_viewers":true,
     "hide_output_from_viewers":true
    }
   }
  },
  {
   "cell_type":"code",
   "source":[
    "professionsOriginal.columns"
   ],
   "execution_count":31,
   "outputs":[
    {
     "data":{
      "text\/plain":[
       "Index(['education', 'income', 'women', 'prestige', 'census', 'type'], dtype='object')"
      ]
     },
     "metadata":{},
     "output_type":"display_data"
    }
   ],
   "metadata":{
    "datalore":{
     "node_id":"uC6Zi3jSmyT6TQNQUwWGS3",
     "type":"CODE",
     "hide_input_from_viewers":true,
     "hide_output_from_viewers":true
    }
   }
  },
  {
   "cell_type":"code",
   "source":[
    "professions.columns"
   ],
   "execution_count":32,
   "outputs":[
    {
     "data":{
      "text\/plain":[
       "Index(['education', 'incomePerYear', 'womenPercent', 'prestigeIndicator',\n",
       "       'census', 'type'],\n",
       "      dtype='object')"
      ]
     },
     "metadata":{},
     "output_type":"display_data"
    }
   ],
   "metadata":{
    "datalore":{
     "node_id":"dVlLfcJpAtdmb8lAV2WcPn",
     "type":"CODE",
     "hide_input_from_viewers":true,
     "hide_output_from_viewers":true
    }
   }
  }
 ],
 "metadata":{
  "kernelspec":{
   "display_name":"Python",
   "language":"python",
   "name":"python"
  },
  "datalore":{
   "computation_mode":"JUPYTER",
   "package_manager":"pip",
   "base_environment":"default",
   "packages":[],
   "report_row_ids":[],
   "version":3
  }
 },
 "nbformat":4,
 "nbformat_minor":4
}