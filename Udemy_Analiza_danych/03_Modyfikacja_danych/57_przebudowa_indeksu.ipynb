{
 "cells":[
  {
   "cell_type":"markdown",
   "source":[
    "# Wstęp"
   ],
   "attachments":{},
   "metadata":{
    "datalore":{
     "node_id":"Wstęp",
     "type":"MD",
     "hide_input_from_viewers":false,
     "hide_output_from_viewers":false,
     "sheet_delimiter":true
    }
   }
  },
  {
   "cell_type":"code",
   "source":[
    "import pandas as pd\n",
    "import numpy as np"
   ],
   "execution_count":2,
   "outputs":[],
   "metadata":{
    "datalore":{
     "node_id":"hpqWjY45mgnPjy1tqzO2bZ",
     "type":"CODE",
     "hide_input_from_viewers":true,
     "hide_output_from_viewers":true
    }
   }
  },
  {
   "cell_type":"code",
   "source":[
    "frame = pd.read_csv('http:\/\/piotrdomagala.pl\/data\/mammals.csv')"
   ],
   "execution_count":3,
   "outputs":[],
   "metadata":{
    "datalore":{
     "node_id":"rZ1hHwg9YzPCLzhNR9obqg",
     "type":"CODE",
     "hide_input_from_viewers":true,
     "hide_output_from_viewers":true
    }
   }
  },
  {
   "cell_type":"code",
   "source":[
    "frame.head()"
   ],
   "execution_count":4,
   "outputs":[
    {
     "data":{
      "text\/html":[
       "<div>\n",
       "<style scoped>\n",
       "    .dataframe tbody tr th:only-of-type {\n",
       "        vertical-align: middle;\n",
       "    }\n",
       "\n",
       "    .dataframe tbody tr th {\n",
       "        vertical-align: top;\n",
       "    }\n",
       "\n",
       "    .dataframe thead th {\n",
       "        text-align: right;\n",
       "    }\n",
       "<\/style>\n",
       "<table border=\"1\" class=\"dataframe\">\n",
       "  <thead>\n",
       "    <tr style=\"text-align: right;\">\n",
       "      <th><\/th>\n",
       "      <th>name<\/th>\n",
       "      <th>body<\/th>\n",
       "      <th>brain<\/th>\n",
       "    <\/tr>\n",
       "  <\/thead>\n",
       "  <tbody>\n",
       "    <tr>\n",
       "      <th>0<\/th>\n",
       "      <td>Arctic fox<\/td>\n",
       "      <td>3.385<\/td>\n",
       "      <td>44.5<\/td>\n",
       "    <\/tr>\n",
       "    <tr>\n",
       "      <th>1<\/th>\n",
       "      <td>Owl monkey<\/td>\n",
       "      <td>0.480<\/td>\n",
       "      <td>15.5<\/td>\n",
       "    <\/tr>\n",
       "    <tr>\n",
       "      <th>2<\/th>\n",
       "      <td>Mountain beaver<\/td>\n",
       "      <td>1.350<\/td>\n",
       "      <td>8.1<\/td>\n",
       "    <\/tr>\n",
       "    <tr>\n",
       "      <th>3<\/th>\n",
       "      <td>Cow<\/td>\n",
       "      <td>465.000<\/td>\n",
       "      <td>423.0<\/td>\n",
       "    <\/tr>\n",
       "    <tr>\n",
       "      <th>4<\/th>\n",
       "      <td>Grey wolf<\/td>\n",
       "      <td>36.330<\/td>\n",
       "      <td>119.5<\/td>\n",
       "    <\/tr>\n",
       "  <\/tbody>\n",
       "<\/table>\n",
       "<\/div>"
      ]
     },
     "metadata":{},
     "output_type":"display_data"
    }
   ],
   "metadata":{
    "datalore":{
     "node_id":"lomiyz7Z5iXjNJGyiKGbCZ",
     "type":"CODE",
     "hide_input_from_viewers":true,
     "hide_output_from_viewers":true
    }
   }
  },
  {
   "cell_type":"code",
   "source":[
    "frame = pd.read_csv('http:\/\/piotrdomagala.pl\/data\/mammals.csv',\n",
    "                    index_col='name'\n",
    "                    )"
   ],
   "execution_count":5,
   "outputs":[],
   "metadata":{
    "datalore":{
     "node_id":"rcEV6aky8LsxLCsO0ziZnQ",
     "type":"CODE",
     "hide_input_from_viewers":true,
     "hide_output_from_viewers":true
    }
   }
  },
  {
   "cell_type":"code",
   "source":[
    "frame.head()"
   ],
   "execution_count":6,
   "outputs":[
    {
     "data":{
      "text\/html":[
       "<div>\n",
       "<style scoped>\n",
       "    .dataframe tbody tr th:only-of-type {\n",
       "        vertical-align: middle;\n",
       "    }\n",
       "\n",
       "    .dataframe tbody tr th {\n",
       "        vertical-align: top;\n",
       "    }\n",
       "\n",
       "    .dataframe thead th {\n",
       "        text-align: right;\n",
       "    }\n",
       "<\/style>\n",
       "<table border=\"1\" class=\"dataframe\">\n",
       "  <thead>\n",
       "    <tr style=\"text-align: right;\">\n",
       "      <th><\/th>\n",
       "      <th>body<\/th>\n",
       "      <th>brain<\/th>\n",
       "    <\/tr>\n",
       "    <tr>\n",
       "      <th>name<\/th>\n",
       "      <th><\/th>\n",
       "      <th><\/th>\n",
       "    <\/tr>\n",
       "  <\/thead>\n",
       "  <tbody>\n",
       "    <tr>\n",
       "      <th>Arctic fox<\/th>\n",
       "      <td>3.385<\/td>\n",
       "      <td>44.5<\/td>\n",
       "    <\/tr>\n",
       "    <tr>\n",
       "      <th>Owl monkey<\/th>\n",
       "      <td>0.480<\/td>\n",
       "      <td>15.5<\/td>\n",
       "    <\/tr>\n",
       "    <tr>\n",
       "      <th>Mountain beaver<\/th>\n",
       "      <td>1.350<\/td>\n",
       "      <td>8.1<\/td>\n",
       "    <\/tr>\n",
       "    <tr>\n",
       "      <th>Cow<\/th>\n",
       "      <td>465.000<\/td>\n",
       "      <td>423.0<\/td>\n",
       "    <\/tr>\n",
       "    <tr>\n",
       "      <th>Grey wolf<\/th>\n",
       "      <td>36.330<\/td>\n",
       "      <td>119.5<\/td>\n",
       "    <\/tr>\n",
       "  <\/tbody>\n",
       "<\/table>\n",
       "<\/div>"
      ]
     },
     "metadata":{},
     "output_type":"display_data"
    }
   ],
   "metadata":{
    "datalore":{
     "node_id":"Myi0HWiuUSrWeMjyO9RRF1",
     "type":"CODE",
     "hide_input_from_viewers":true,
     "hide_output_from_viewers":true
    }
   }
  },
  {
   "cell_type":"code",
   "source":[
    "frame.reset_index('name', inplace=True)"
   ],
   "execution_count":8,
   "outputs":[],
   "metadata":{
    "datalore":{
     "node_id":"NHcAQ9UtdO0k5pZaZ3QisV",
     "type":"CODE",
     "hide_input_from_viewers":true,
     "hide_output_from_viewers":true
    }
   }
  },
  {
   "cell_type":"code",
   "source":[
    "frame.head()"
   ],
   "execution_count":9,
   "outputs":[
    {
     "data":{
      "text\/html":[
       "<div>\n",
       "<style scoped>\n",
       "    .dataframe tbody tr th:only-of-type {\n",
       "        vertical-align: middle;\n",
       "    }\n",
       "\n",
       "    .dataframe tbody tr th {\n",
       "        vertical-align: top;\n",
       "    }\n",
       "\n",
       "    .dataframe thead th {\n",
       "        text-align: right;\n",
       "    }\n",
       "<\/style>\n",
       "<table border=\"1\" class=\"dataframe\">\n",
       "  <thead>\n",
       "    <tr style=\"text-align: right;\">\n",
       "      <th><\/th>\n",
       "      <th>name<\/th>\n",
       "      <th>body<\/th>\n",
       "      <th>brain<\/th>\n",
       "    <\/tr>\n",
       "  <\/thead>\n",
       "  <tbody>\n",
       "    <tr>\n",
       "      <th>0<\/th>\n",
       "      <td>Arctic fox<\/td>\n",
       "      <td>3.385<\/td>\n",
       "      <td>44.5<\/td>\n",
       "    <\/tr>\n",
       "    <tr>\n",
       "      <th>1<\/th>\n",
       "      <td>Owl monkey<\/td>\n",
       "      <td>0.480<\/td>\n",
       "      <td>15.5<\/td>\n",
       "    <\/tr>\n",
       "    <tr>\n",
       "      <th>2<\/th>\n",
       "      <td>Mountain beaver<\/td>\n",
       "      <td>1.350<\/td>\n",
       "      <td>8.1<\/td>\n",
       "    <\/tr>\n",
       "    <tr>\n",
       "      <th>3<\/th>\n",
       "      <td>Cow<\/td>\n",
       "      <td>465.000<\/td>\n",
       "      <td>423.0<\/td>\n",
       "    <\/tr>\n",
       "    <tr>\n",
       "      <th>4<\/th>\n",
       "      <td>Grey wolf<\/td>\n",
       "      <td>36.330<\/td>\n",
       "      <td>119.5<\/td>\n",
       "    <\/tr>\n",
       "  <\/tbody>\n",
       "<\/table>\n",
       "<\/div>"
      ]
     },
     "metadata":{},
     "output_type":"display_data"
    }
   ],
   "metadata":{
    "datalore":{
     "node_id":"vXV86f2STI08u0lUYB4yN2",
     "type":"CODE",
     "hide_input_from_viewers":true,
     "hide_output_from_viewers":true
    }
   }
  },
  {
   "cell_type":"code",
   "source":[
    "frame.set_index('brain', inplace=True)\n",
    "frame.head()"
   ],
   "execution_count":10,
   "outputs":[
    {
     "data":{
      "text\/html":[
       "<div>\n",
       "<style scoped>\n",
       "    .dataframe tbody tr th:only-of-type {\n",
       "        vertical-align: middle;\n",
       "    }\n",
       "\n",
       "    .dataframe tbody tr th {\n",
       "        vertical-align: top;\n",
       "    }\n",
       "\n",
       "    .dataframe thead th {\n",
       "        text-align: right;\n",
       "    }\n",
       "<\/style>\n",
       "<table border=\"1\" class=\"dataframe\">\n",
       "  <thead>\n",
       "    <tr style=\"text-align: right;\">\n",
       "      <th><\/th>\n",
       "      <th>name<\/th>\n",
       "      <th>body<\/th>\n",
       "    <\/tr>\n",
       "    <tr>\n",
       "      <th>brain<\/th>\n",
       "      <th><\/th>\n",
       "      <th><\/th>\n",
       "    <\/tr>\n",
       "  <\/thead>\n",
       "  <tbody>\n",
       "    <tr>\n",
       "      <th>44.5<\/th>\n",
       "      <td>Arctic fox<\/td>\n",
       "      <td>3.385<\/td>\n",
       "    <\/tr>\n",
       "    <tr>\n",
       "      <th>15.5<\/th>\n",
       "      <td>Owl monkey<\/td>\n",
       "      <td>0.480<\/td>\n",
       "    <\/tr>\n",
       "    <tr>\n",
       "      <th>8.1<\/th>\n",
       "      <td>Mountain beaver<\/td>\n",
       "      <td>1.350<\/td>\n",
       "    <\/tr>\n",
       "    <tr>\n",
       "      <th>423.0<\/th>\n",
       "      <td>Cow<\/td>\n",
       "      <td>465.000<\/td>\n",
       "    <\/tr>\n",
       "    <tr>\n",
       "      <th>119.5<\/th>\n",
       "      <td>Grey wolf<\/td>\n",
       "      <td>36.330<\/td>\n",
       "    <\/tr>\n",
       "  <\/tbody>\n",
       "<\/table>\n",
       "<\/div>"
      ]
     },
     "metadata":{},
     "output_type":"display_data"
    }
   ],
   "metadata":{
    "datalore":{
     "node_id":"bTVG3uAV5LuJ0d3JAXoW9P",
     "type":"CODE",
     "hide_input_from_viewers":true,
     "hide_output_from_viewers":true
    }
   }
  },
  {
   "cell_type":"code",
   "source":[
    "frame.set_index('name', inplace=True)\n",
    "frame.head()"
   ],
   "execution_count":11,
   "outputs":[
    {
     "data":{
      "text\/html":[
       "<div>\n",
       "<style scoped>\n",
       "    .dataframe tbody tr th:only-of-type {\n",
       "        vertical-align: middle;\n",
       "    }\n",
       "\n",
       "    .dataframe tbody tr th {\n",
       "        vertical-align: top;\n",
       "    }\n",
       "\n",
       "    .dataframe thead th {\n",
       "        text-align: right;\n",
       "    }\n",
       "<\/style>\n",
       "<table border=\"1\" class=\"dataframe\">\n",
       "  <thead>\n",
       "    <tr style=\"text-align: right;\">\n",
       "      <th><\/th>\n",
       "      <th>body<\/th>\n",
       "    <\/tr>\n",
       "    <tr>\n",
       "      <th>name<\/th>\n",
       "      <th><\/th>\n",
       "    <\/tr>\n",
       "  <\/thead>\n",
       "  <tbody>\n",
       "    <tr>\n",
       "      <th>Arctic fox<\/th>\n",
       "      <td>3.385<\/td>\n",
       "    <\/tr>\n",
       "    <tr>\n",
       "      <th>Owl monkey<\/th>\n",
       "      <td>0.480<\/td>\n",
       "    <\/tr>\n",
       "    <tr>\n",
       "      <th>Mountain beaver<\/th>\n",
       "      <td>1.350<\/td>\n",
       "    <\/tr>\n",
       "    <tr>\n",
       "      <th>Cow<\/th>\n",
       "      <td>465.000<\/td>\n",
       "    <\/tr>\n",
       "    <tr>\n",
       "      <th>Grey wolf<\/th>\n",
       "      <td>36.330<\/td>\n",
       "    <\/tr>\n",
       "  <\/tbody>\n",
       "<\/table>\n",
       "<\/div>"
      ]
     },
     "metadata":{},
     "output_type":"display_data"
    }
   ],
   "metadata":{
    "datalore":{
     "node_id":"Oro1sSopavIYQJmxMYApfl",
     "type":"CODE",
     "hide_input_from_viewers":true,
     "hide_output_from_viewers":true
    }
   }
  },
  {
   "cell_type":"code",
   "source":[
    "frame2 = pd.read_csv('http:\/\/piotrdomagala.pl\/data\/mammals.csv',\n",
    "                    index_col='name'\n",
    "                    )\n",
    "frame2.reset_index()\n",
    "frame2.head()"
   ],
   "execution_count":20,
   "outputs":[
    {
     "data":{
      "text\/html":[
       "<div>\n",
       "<style scoped>\n",
       "    .dataframe tbody tr th:only-of-type {\n",
       "        vertical-align: middle;\n",
       "    }\n",
       "\n",
       "    .dataframe tbody tr th {\n",
       "        vertical-align: top;\n",
       "    }\n",
       "\n",
       "    .dataframe thead th {\n",
       "        text-align: right;\n",
       "    }\n",
       "<\/style>\n",
       "<table border=\"1\" class=\"dataframe\">\n",
       "  <thead>\n",
       "    <tr style=\"text-align: right;\">\n",
       "      <th><\/th>\n",
       "      <th>body<\/th>\n",
       "      <th>brain<\/th>\n",
       "    <\/tr>\n",
       "    <tr>\n",
       "      <th>name<\/th>\n",
       "      <th><\/th>\n",
       "      <th><\/th>\n",
       "    <\/tr>\n",
       "  <\/thead>\n",
       "  <tbody>\n",
       "    <tr>\n",
       "      <th>Arctic fox<\/th>\n",
       "      <td>3.385<\/td>\n",
       "      <td>44.5<\/td>\n",
       "    <\/tr>\n",
       "    <tr>\n",
       "      <th>Owl monkey<\/th>\n",
       "      <td>0.480<\/td>\n",
       "      <td>15.5<\/td>\n",
       "    <\/tr>\n",
       "    <tr>\n",
       "      <th>Mountain beaver<\/th>\n",
       "      <td>1.350<\/td>\n",
       "      <td>8.1<\/td>\n",
       "    <\/tr>\n",
       "    <tr>\n",
       "      <th>Cow<\/th>\n",
       "      <td>465.000<\/td>\n",
       "      <td>423.0<\/td>\n",
       "    <\/tr>\n",
       "    <tr>\n",
       "      <th>Grey wolf<\/th>\n",
       "      <td>36.330<\/td>\n",
       "      <td>119.5<\/td>\n",
       "    <\/tr>\n",
       "  <\/tbody>\n",
       "<\/table>\n",
       "<\/div>"
      ]
     },
     "metadata":{},
     "output_type":"display_data"
    }
   ],
   "metadata":{
    "datalore":{
     "node_id":"P5VuQOYXaVSkp8Wd9tDbKG",
     "type":"CODE",
     "hide_input_from_viewers":true,
     "hide_output_from_viewers":true
    }
   }
  },
  {
   "cell_type":"code",
   "source":[
    "frame2.set_index('brain', inplace=True)\n",
    "frame2.head()"
   ],
   "execution_count":19,
   "outputs":[
    {
     "data":{
      "text\/html":[
       "<div>\n",
       "<style scoped>\n",
       "    .dataframe tbody tr th:only-of-type {\n",
       "        vertical-align: middle;\n",
       "    }\n",
       "\n",
       "    .dataframe tbody tr th {\n",
       "        vertical-align: top;\n",
       "    }\n",
       "\n",
       "    .dataframe thead th {\n",
       "        text-align: right;\n",
       "    }\n",
       "<\/style>\n",
       "<table border=\"1\" class=\"dataframe\">\n",
       "  <thead>\n",
       "    <tr style=\"text-align: right;\">\n",
       "      <th><\/th>\n",
       "      <th>body<\/th>\n",
       "    <\/tr>\n",
       "    <tr>\n",
       "      <th>brain<\/th>\n",
       "      <th><\/th>\n",
       "    <\/tr>\n",
       "  <\/thead>\n",
       "  <tbody>\n",
       "    <tr>\n",
       "      <th>44.5<\/th>\n",
       "      <td>3.385<\/td>\n",
       "    <\/tr>\n",
       "    <tr>\n",
       "      <th>15.5<\/th>\n",
       "      <td>0.480<\/td>\n",
       "    <\/tr>\n",
       "    <tr>\n",
       "      <th>8.1<\/th>\n",
       "      <td>1.350<\/td>\n",
       "    <\/tr>\n",
       "    <tr>\n",
       "      <th>423.0<\/th>\n",
       "      <td>465.000<\/td>\n",
       "    <\/tr>\n",
       "    <tr>\n",
       "      <th>119.5<\/th>\n",
       "      <td>36.330<\/td>\n",
       "    <\/tr>\n",
       "  <\/tbody>\n",
       "<\/table>\n",
       "<\/div>"
      ]
     },
     "metadata":{},
     "output_type":"display_data"
    }
   ],
   "metadata":{
    "datalore":{
     "node_id":"6hQocxDPy6I5JZ02dhndUZ",
     "type":"CODE",
     "hide_input_from_viewers":true,
     "hide_output_from_viewers":true
    }
   }
  },
  {
   "cell_type":"code",
   "source":[
    "frame2.reset_index()"
   ],
   "execution_count":17,
   "outputs":[
    {
     "data":{
      "text\/html":[
       "<div>\n",
       "<style scoped>\n",
       "    .dataframe tbody tr th:only-of-type {\n",
       "        vertical-align: middle;\n",
       "    }\n",
       "\n",
       "    .dataframe tbody tr th {\n",
       "        vertical-align: top;\n",
       "    }\n",
       "\n",
       "    .dataframe thead th {\n",
       "        text-align: right;\n",
       "    }\n",
       "<\/style>\n",
       "<table border=\"1\" class=\"dataframe\">\n",
       "  <thead>\n",
       "    <tr style=\"text-align: right;\">\n",
       "      <th><\/th>\n",
       "      <th>brain<\/th>\n",
       "      <th>body<\/th>\n",
       "    <\/tr>\n",
       "  <\/thead>\n",
       "  <tbody>\n",
       "    <tr>\n",
       "      <th>0<\/th>\n",
       "      <td>44.5<\/td>\n",
       "      <td>3.385<\/td>\n",
       "    <\/tr>\n",
       "    <tr>\n",
       "      <th>1<\/th>\n",
       "      <td>15.5<\/td>\n",
       "      <td>0.480<\/td>\n",
       "    <\/tr>\n",
       "    <tr>\n",
       "      <th>2<\/th>\n",
       "      <td>8.1<\/td>\n",
       "      <td>1.350<\/td>\n",
       "    <\/tr>\n",
       "    <tr>\n",
       "      <th>3<\/th>\n",
       "      <td>423.0<\/td>\n",
       "      <td>465.000<\/td>\n",
       "    <\/tr>\n",
       "    <tr>\n",
       "      <th>4<\/th>\n",
       "      <td>119.5<\/td>\n",
       "      <td>36.330<\/td>\n",
       "    <\/tr>\n",
       "    <tr>\n",
       "      <th>...<\/th>\n",
       "      <td>...<\/td>\n",
       "      <td>...<\/td>\n",
       "    <\/tr>\n",
       "    <tr>\n",
       "      <th>57<\/th>\n",
       "      <td>169.0<\/td>\n",
       "      <td>160.000<\/td>\n",
       "    <\/tr>\n",
       "    <tr>\n",
       "      <th>58<\/th>\n",
       "      <td>2.6<\/td>\n",
       "      <td>0.900<\/td>\n",
       "    <\/tr>\n",
       "    <tr>\n",
       "      <th>59<\/th>\n",
       "      <td>11.4<\/td>\n",
       "      <td>1.620<\/td>\n",
       "    <\/tr>\n",
       "    <tr>\n",
       "      <th>60<\/th>\n",
       "      <td>2.5<\/td>\n",
       "      <td>0.104<\/td>\n",
       "    <\/tr>\n",
       "    <tr>\n",
       "      <th>61<\/th>\n",
       "      <td>50.4<\/td>\n",
       "      <td>4.235<\/td>\n",
       "    <\/tr>\n",
       "  <\/tbody>\n",
       "<\/table>\n",
       "<p>62 rows × 2 columns<\/p>\n",
       "<\/div>"
      ]
     },
     "metadata":{},
     "output_type":"display_data"
    }
   ],
   "metadata":{
    "datalore":{
     "node_id":"AMLlThOF1x6L6JQzglu4cO",
     "type":"CODE",
     "hide_input_from_viewers":true,
     "hide_output_from_viewers":true
    }
   }
  }
 ],
 "metadata":{
  "kernelspec":{
   "display_name":"Python",
   "language":"python",
   "name":"python"
  },
  "datalore":{
   "computation_mode":"JUPYTER",
   "package_manager":"pip",
   "base_environment":"default",
   "packages":[],
   "report_row_ids":[],
   "version":3
  }
 },
 "nbformat":4,
 "nbformat_minor":4
}