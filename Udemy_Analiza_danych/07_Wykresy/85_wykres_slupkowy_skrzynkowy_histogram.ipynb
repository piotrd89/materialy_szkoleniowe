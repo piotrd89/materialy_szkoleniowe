{
 "cells":[
  {
   "cell_type":"markdown",
   "source":[
    "# Wstęp"
   ],
   "attachments":{},
   "metadata":{
    "datalore":{
     "node_id":"Wstęp",
     "type":"MD",
     "hide_input_from_viewers":false,
     "hide_output_from_viewers":false,
     "sheet_delimiter":true
    }
   }
  },
  {
   "cell_type":"code",
   "source":[
    "import pandas as pd\n",
    "import numpy as np\n",
    "import matplotlib as plt\n",
    "%matplotlib inline\n",
    "\n",
    "'''\n",
    "%matplotlib inline  - pozwala na rysowanie wykresów w notatniku\n",
    "'''"
   ],
   "execution_count":1,
   "outputs":[
    {
     "data":{
      "text\/plain":[
       "'\\n%matplotlib inline  - pozwala na rysowanie wykresów w notatniku\\n'"
      ]
     },
     "metadata":{},
     "output_type":"display_data"
    }
   ],
   "metadata":{
    "datalore":{
     "node_id":"NVplye3l19YxNAIjBeT9zN",
     "type":"CODE",
     "hide_input_from_viewers":true,
     "hide_output_from_viewers":true
    }
   }
  },
  {
   "cell_type":"code",
   "source":[
    "bar = pd.read_csv('http:\/\/piotrdomagala.pl\/data\/weather_barcelona.csv', index_col='Date')\n",
    "rom = pd.read_csv('http:\/\/piotrdomagala.pl\/data\/weather_rome.csv', index_col='Date')\n",
    "ams = pd.read_csv('http:\/\/piotrdomagala.pl\/data\/weather_amsterdam.csv', index_col='Date')"
   ],
   "execution_count":2,
   "outputs":[],
   "metadata":{
    "datalore":{
     "node_id":"D2wiP5G8lykuBIrlQDHP1M",
     "type":"CODE",
     "hide_input_from_viewers":true,
     "hide_output_from_viewers":true
    }
   }
  },
  {
   "cell_type":"code",
   "source":[
    "temp_max = pd.DataFrame(index=bar.index)\n",
    "temp_max['Barcelona'] = bar['TempMax']\n",
    "temp_max['Rome'] = rom['TempMax']\n",
    "temp_max['Amsterdam'] = ams['TempMax']"
   ],
   "execution_count":3,
   "outputs":[],
   "metadata":{
    "datalore":{
     "node_id":"LIB0MnKp56YxkC8vNlUx17",
     "type":"CODE",
     "hide_input_from_viewers":true,
     "hide_output_from_viewers":true
    }
   }
  },
  {
   "cell_type":"code",
   "source":[
    "temp_max.head()"
   ],
   "execution_count":4,
   "outputs":[
    {
     "data":{
      "text\/html":[
       "<div>\n",
       "<style scoped>\n",
       "    .dataframe tbody tr th:only-of-type {\n",
       "        vertical-align: middle;\n",
       "    }\n",
       "\n",
       "    .dataframe tbody tr th {\n",
       "        vertical-align: top;\n",
       "    }\n",
       "\n",
       "    .dataframe thead th {\n",
       "        text-align: right;\n",
       "    }\n",
       "<\/style>\n",
       "<table border=\"1\" class=\"dataframe\">\n",
       "  <thead>\n",
       "    <tr style=\"text-align: right;\">\n",
       "      <th><\/th>\n",
       "      <th>Barcelona<\/th>\n",
       "      <th>Rome<\/th>\n",
       "      <th>Amsterdam<\/th>\n",
       "    <\/tr>\n",
       "    <tr>\n",
       "      <th>Date<\/th>\n",
       "      <th><\/th>\n",
       "      <th><\/th>\n",
       "      <th><\/th>\n",
       "    <\/tr>\n",
       "  <\/thead>\n",
       "  <tbody>\n",
       "    <tr>\n",
       "      <th>2018-01-01<\/th>\n",
       "      <td>17<\/td>\n",
       "      <td>14<\/td>\n",
       "      <td>8<\/td>\n",
       "    <\/tr>\n",
       "    <tr>\n",
       "      <th>2018-01-02<\/th>\n",
       "      <td>19<\/td>\n",
       "      <td>13<\/td>\n",
       "      <td>9<\/td>\n",
       "    <\/tr>\n",
       "    <tr>\n",
       "      <th>2018-01-03<\/th>\n",
       "      <td>23<\/td>\n",
       "      <td>14<\/td>\n",
       "      <td>11<\/td>\n",
       "    <\/tr>\n",
       "    <tr>\n",
       "      <th>2018-01-04<\/th>\n",
       "      <td>24<\/td>\n",
       "      <td>16<\/td>\n",
       "      <td>11<\/td>\n",
       "    <\/tr>\n",
       "    <tr>\n",
       "      <th>2018-01-05<\/th>\n",
       "      <td>20<\/td>\n",
       "      <td>17<\/td>\n",
       "      <td>8<\/td>\n",
       "    <\/tr>\n",
       "  <\/tbody>\n",
       "<\/table>\n",
       "<\/div>"
      ]
     },
     "metadata":{},
     "output_type":"display_data"
    }
   ],
   "metadata":{
    "datalore":{
     "node_id":"PzLdeFsoZ4ZuhldZeSRcCY",
     "type":"CODE",
     "hide_input_from_viewers":true,
     "hide_output_from_viewers":true
    }
   }
  },
  {
   "cell_type":"code",
   "source":[
    "def GradeDay(row):\n",
    "    if(row['TempMax'] >= row['AvgTempMax']):\n",
    "        return 'PLUS'\n",
    "    else:\n",
    "        return 'MINUS'"
   ],
   "execution_count":5,
   "outputs":[],
   "metadata":{
    "datalore":{
     "node_id":"vjcDUDYk2hWUPPUsjtGcR1",
     "type":"CODE",
     "hide_input_from_viewers":true,
     "hide_output_from_viewers":true
    }
   }
  },
  {
   "cell_type":"code",
   "source":[
    "cities3 = pd.DataFrame(index=['MINUS','PLUS'])\n",
    "cities3['Barcelona'] = bar['GradeDay'].value_counts()\n",
    "cities3['Rome'] = rom['GradeDay'].value_counts()\n",
    "cities3['Amsterdam'] = ams['GradeDay'].value_counts()"
   ],
   "execution_count":6,
   "outputs":[
    {
     "ename":"KeyError",
     "evalue":"KeyError: 'GradeDay'",
     "traceback":[
      "\u001b[0;31m---------------------------------------------------------------------------",
      "Traceback (most recent call last)",
      "    at line 2 in <module>",
      "    at line 3807 in __getitem__(self, key)",
      "    at line 3804 in get_loc(self, key, method, tolerance)",
      "KeyError: 'GradeDay'"
     ],
     "output_type":"error"
    }
   ],
   "metadata":{
    "datalore":{
     "node_id":"1lPzYWMmhocIA6IE1Gd1vC",
     "type":"CODE",
     "hide_input_from_viewers":true,
     "hide_output_from_viewers":true
    }
   }
  },
  {
   "cell_type":"code",
   "source":[
    "cities3"
   ],
   "execution_count":7,
   "outputs":[
    {
     "data":{
      "text\/html":[
       "<div>\n",
       "<style scoped>\n",
       "    .dataframe tbody tr th:only-of-type {\n",
       "        vertical-align: middle;\n",
       "    }\n",
       "\n",
       "    .dataframe tbody tr th {\n",
       "        vertical-align: top;\n",
       "    }\n",
       "\n",
       "    .dataframe thead th {\n",
       "        text-align: right;\n",
       "    }\n",
       "<\/style>\n",
       "<table border=\"1\" class=\"dataframe\">\n",
       "  <thead>\n",
       "    <tr style=\"text-align: right;\">\n",
       "      <th><\/th>\n",
       "    <\/tr>\n",
       "  <\/thead>\n",
       "  <tbody>\n",
       "    <tr>\n",
       "      <th>MINUS<\/th>\n",
       "    <\/tr>\n",
       "    <tr>\n",
       "      <th>PLUS<\/th>\n",
       "    <\/tr>\n",
       "  <\/tbody>\n",
       "<\/table>\n",
       "<\/div>"
      ]
     },
     "metadata":{},
     "output_type":"display_data"
    }
   ],
   "metadata":{
    "datalore":{
     "node_id":"KPHxoW70Jy5G8Z8JYPOZtU",
     "type":"CODE",
     "hide_input_from_viewers":true,
     "hide_output_from_viewers":true
    }
   }
  },
  {
   "cell_type":"code",
   "source":[
    "cities3['Barcelona'].plot(kind='bar')"
   ],
   "execution_count":8,
   "outputs":[
    {
     "ename":"KeyError",
     "evalue":"KeyError: 'Barcelona'",
     "traceback":[
      "\u001b[0;31m---------------------------------------------------------------------------",
      "Traceback (most recent call last)",
      "    at line 1 in <module>",
      "    at line 3807 in __getitem__(self, key)",
      "    at line 3804 in get_loc(self, key, method, tolerance)",
      "KeyError: 'Barcelona'"
     ],
     "output_type":"error"
    }
   ],
   "metadata":{
    "datalore":{
     "node_id":"rv5fCBNYblHLJo6V9jiKz7",
     "type":"CODE",
     "hide_input_from_viewers":true,
     "hide_output_from_viewers":true
    }
   }
  },
  {
   "cell_type":"code",
   "source":[
    "cities3['Barcelona'].plot(kind='barh')\n",
    "\n",
    "# kind='barh' wykres poziomy"
   ],
   "execution_count":9,
   "outputs":[
    {
     "ename":"KeyError",
     "evalue":"KeyError: 'Barcelona'",
     "traceback":[
      "\u001b[0;31m---------------------------------------------------------------------------",
      "Traceback (most recent call last)",
      "    at line 1 in <module>",
      "    at line 3807 in __getitem__(self, key)",
      "    at line 3804 in get_loc(self, key, method, tolerance)",
      "KeyError: 'Barcelona'"
     ],
     "output_type":"error"
    }
   ],
   "metadata":{
    "datalore":{
     "node_id":"I5JbRTfQlfWFC97KFBnSsP",
     "type":"CODE",
     "hide_input_from_viewers":true,
     "hide_output_from_viewers":true
    }
   }
  },
  {
   "cell_type":"code",
   "source":[
    "cities3.plot(kind='barh')"
   ],
   "execution_count":10,
   "outputs":[
    {
     "ename":"TypeError",
     "evalue":"TypeError: no numeric data to plot",
     "traceback":[
      "\u001b[0;31m---------------------------------------------------------------------------",
      "Traceback (most recent call last)",
      "    at line 1 in <module>",
      "    at line 1000 in __call__(self, *args, **kwargs)",
      "    at line 71 in plot(data, kind, **kwargs)",
      "    at line 450 in generate(self)",
      "    at line 635 in _compute_plot_data(self)",
      "TypeError: no numeric data to plot"
     ],
     "output_type":"error"
    }
   ],
   "metadata":{
    "datalore":{
     "node_id":"TBFEuQQENNwbQG0p7QpsEf",
     "type":"CODE",
     "hide_input_from_viewers":true,
     "hide_output_from_viewers":true
    }
   }
  },
  {
   "cell_type":"code",
   "source":[
    "cities3.plot(kind='bar', stacked=True)\n",
    "\n",
    "# stacked - nakładamy wartości słupkowe na siebie"
   ],
   "execution_count":11,
   "outputs":[
    {
     "ename":"TypeError",
     "evalue":"TypeError: no numeric data to plot",
     "traceback":[
      "\u001b[0;31m---------------------------------------------------------------------------",
      "Traceback (most recent call last)",
      "    at line 1 in <module>",
      "    at line 1000 in __call__(self, *args, **kwargs)",
      "    at line 71 in plot(data, kind, **kwargs)",
      "    at line 450 in generate(self)",
      "    at line 635 in _compute_plot_data(self)",
      "TypeError: no numeric data to plot"
     ],
     "output_type":"error"
    }
   ],
   "metadata":{
    "datalore":{
     "node_id":"NxkJEa6qzA3DPPtOEup8UL",
     "type":"CODE",
     "hide_input_from_viewers":true,
     "hide_output_from_viewers":true
    }
   }
  },
  {
   "cell_type":"code",
   "source":[
    "cities3.plot(kind='barh', stacked=True)"
   ],
   "execution_count":12,
   "outputs":[
    {
     "ename":"TypeError",
     "evalue":"TypeError: no numeric data to plot",
     "traceback":[
      "\u001b[0;31m---------------------------------------------------------------------------",
      "Traceback (most recent call last)",
      "    at line 1 in <module>",
      "    at line 1000 in __call__(self, *args, **kwargs)",
      "    at line 71 in plot(data, kind, **kwargs)",
      "    at line 450 in generate(self)",
      "    at line 635 in _compute_plot_data(self)",
      "TypeError: no numeric data to plot"
     ],
     "output_type":"error"
    }
   ],
   "metadata":{
    "datalore":{
     "node_id":"rQxq2VjTbNIh3L6Dg7Qza1",
     "type":"CODE",
     "hide_input_from_viewers":true,
     "hide_output_from_viewers":true
    }
   }
  },
  {
   "cell_type":"code",
   "source":[
    "temp_max.plot(kind='box')\n",
    "\n",
    "# zielona kreska - mediana dla serii danych\n",
    "# wąsy górny i dolny - wartość max i min serii"
   ],
   "execution_count":13,
   "outputs":[
    {
     "data":{
      "text\/plain":[
       "<Axes: >"
      ]
     },
     "metadata":{},
     "output_type":"display_data"
    },
    {
     "data":{
      "image\/png":"[encoded data removed]"
     },
     "metadata":{
      "image\/png":{}
     },
     "output_type":"display_data"
    }
   ],
   "metadata":{
    "datalore":{
     "node_id":"c6inc0J5R5doXlce8iRPSU",
     "type":"CODE",
     "hide_input_from_viewers":true,
     "hide_output_from_viewers":true
    }
   }
  },
  {
   "cell_type":"code",
   "source":[
    "color = dict(boxes='DarkGreen', whiskers='DarkOrange', medians='DarkBlue', caps='Gray')"
   ],
   "execution_count":14,
   "outputs":[],
   "metadata":{
    "datalore":{
     "node_id":"lQBKtS2FF4uiZTmxova2BC",
     "type":"CODE",
     "hide_input_from_viewers":true,
     "hide_output_from_viewers":true
    }
   }
  },
  {
   "cell_type":"code",
   "source":[
    "temp_max.plot(kind='box', color=color)"
   ],
   "execution_count":15,
   "outputs":[
    {
     "data":{
      "text\/plain":[
       "<Axes: >"
      ]
     },
     "metadata":{},
     "output_type":"display_data"
    },
    {
     "data":{
      "image\/png":"[encoded data removed]"
     },
     "metadata":{
      "image\/png":{}
     },
     "output_type":"display_data"
    }
   ],
   "metadata":{
    "datalore":{
     "node_id":"bt5GK8ICmfkmOuH4Bqj6FR",
     "type":"CODE",
     "hide_input_from_viewers":true,
     "hide_output_from_viewers":true
    }
   }
  },
  {
   "cell_type":"code",
   "source":[
    "bar['TempMax'].plot(kind='hist')"
   ],
   "execution_count":16,
   "outputs":[
    {
     "data":{
      "text\/plain":[
       "<Axes: ylabel='Frequency'>"
      ]
     },
     "metadata":{},
     "output_type":"display_data"
    },
    {
     "data":{
      "image\/png":"[encoded data removed]"
     },
     "metadata":{
      "image\/png":{}
     },
     "output_type":"display_data"
    }
   ],
   "metadata":{
    "datalore":{
     "node_id":"9iRtgcwq8MdCUujL3h7b0Y",
     "type":"CODE",
     "hide_input_from_viewers":true,
     "hide_output_from_viewers":true
    }
   }
  },
  {
   "cell_type":"code",
   "source":[
    "bar['TempMax'].value_counts().sort_index()"
   ],
   "execution_count":17,
   "outputs":[
    {
     "data":{
      "text\/html":[
       "<pre>5      1\n",
       "7      1\n",
       "9      1\n",
       "10     3\n",
       "11     4\n",
       "12     8\n",
       "13     4\n",
       "14    10\n",
       "15    17\n",
       "16    11\n",
       "17     9\n",
       "18     8\n",
       "19     4\n",
       "20     4\n",
       "21     1\n",
       "22     1\n",
       "23     1\n",
       "24     2\n",
       "Name: TempMax, dtype: int64<\/pre>"
      ]
     },
     "metadata":{},
     "output_type":"display_data"
    }
   ],
   "metadata":{
    "datalore":{
     "node_id":"OlemDiqF9SPhtlOi544DL1",
     "type":"CODE",
     "hide_input_from_viewers":true,
     "hide_output_from_viewers":true
    }
   }
  },
  {
   "cell_type":"code",
   "source":[
    "bar['TempMax'].nunique()"
   ],
   "execution_count":18,
   "outputs":[
    {
     "data":{
      "text\/plain":[
       "18"
      ]
     },
     "metadata":{},
     "output_type":"display_data"
    }
   ],
   "metadata":{
    "datalore":{
     "node_id":"X76pzZzOpaI2FGDkqxK6ww",
     "type":"CODE",
     "hide_input_from_viewers":true,
     "hide_output_from_viewers":true
    }
   }
  },
  {
   "cell_type":"code",
   "source":[
    "bar['TempMax'].plot(kind='hist', bins=18)\n",
    "\n",
    "# bins - liczba słupków dla histogramu"
   ],
   "execution_count":19,
   "outputs":[
    {
     "data":{
      "text\/plain":[
       "<Axes: ylabel='Frequency'>"
      ]
     },
     "metadata":{},
     "output_type":"display_data"
    },
    {
     "data":{
      "image\/png":"[encoded data removed]"
     },
     "metadata":{
      "image\/png":{}
     },
     "output_type":"display_data"
    }
   ],
   "metadata":{
    "datalore":{
     "node_id":"iRj4axgdj2ynUsVv1hqbtl",
     "type":"CODE",
     "hide_input_from_viewers":true,
     "hide_output_from_viewers":true
    }
   }
  },
  {
   "cell_type":"markdown",
   "source":[
    "# Zadanie"
   ],
   "attachments":{},
   "metadata":{
    "datalore":{
     "node_id":"Zadanie",
     "type":"MD",
     "hide_input_from_viewers":false,
     "hide_output_from_viewers":false,
     "sheet_delimiter":true
    }
   }
  },
  {
   "cell_type":"code",
   "source":[
    "# check if '40K' column contains non numeric or incomplete values\n",
    "def is_valid_time(x):\n",
    "    try:\n",
    "        pd.Timedelta(x)\n",
    "        return True\n",
    "    except:\n",
    "        return False\n",
    "\n",
    "# apply the function to the '40K' column\n",
    "valid = marathon[\"40K\"].apply(is_valid_time)\n",
    "\n",
    "# replace invalid entries with NaN\n",
    "marathon.loc[~valid, \"40K\"] = pd.NaT\n",
    "\n",
    "# apply pd.Timedelta where it is possible\n",
    "marathon[\"TimeSeconds\"] = marathon[\"40K\"].apply(lambda x: pd.Timedelta(x).total_seconds() if pd.notnull(x) else np.nan)\n",
    "\n",
    "# next steps are identical to the original cell\n",
    "groupMF = marathon[ marathon[\"Country\"].isin([\"USA\",\"CAN\"]) ].groupby(by=[\"Country\",\"M\/F\"])\n",
    "groupMF = groupMF.agg({\"TimeSeconds\": [\"mean\"]})\n",
    "groupMF = groupMF.unstack()\n",
    "groupMF.columns = groupMF.columns.droplevel().droplevel()\n",
    "groupMF"
   ],
   "execution_count":21,
   "outputs":[
    {
     "data":{
      "text\/html":[
       "<div>\n",
       "<style scoped>\n",
       "    .dataframe tbody tr th:only-of-type {\n",
       "        vertical-align: middle;\n",
       "    }\n",
       "\n",
       "    .dataframe tbody tr th {\n",
       "        vertical-align: top;\n",
       "    }\n",
       "\n",
       "    .dataframe thead th {\n",
       "        text-align: right;\n",
       "    }\n",
       "<\/style>\n",
       "<table border=\"1\" class=\"dataframe\">\n",
       "  <thead>\n",
       "    <tr style=\"text-align: right;\">\n",
       "      <th>M\/F<\/th>\n",
       "      <th>F<\/th>\n",
       "      <th>M<\/th>\n",
       "    <\/tr>\n",
       "    <tr>\n",
       "      <th>Country<\/th>\n",
       "      <th><\/th>\n",
       "      <th><\/th>\n",
       "    <\/tr>\n",
       "  <\/thead>\n",
       "  <tbody>\n",
       "    <tr>\n",
       "      <th>CAN<\/th>\n",
       "      <td>13618.346012<\/td>\n",
       "      <td>12527.160190<\/td>\n",
       "    <\/tr>\n",
       "    <tr>\n",
       "      <th>USA<\/th>\n",
       "      <td>14188.759649<\/td>\n",
       "      <td>13004.157656<\/td>\n",
       "    <\/tr>\n",
       "  <\/tbody>\n",
       "<\/table>\n",
       "<\/div>"
      ]
     },
     "metadata":{},
     "output_type":"display_data"
    }
   ],
   "metadata":{
    "datalore":{
     "node_id":"wxeZ8ve7FP2CDHXCJBSXhK",
     "type":"CODE",
     "hide_input_from_viewers":true,
     "hide_output_from_viewers":true
    }
   }
  },
  {
   "cell_type":"code",
   "source":[
    "groupMF.plot(kind='barh',\n",
    "             stacked=True)"
   ],
   "execution_count":24,
   "outputs":[
    {
     "data":{
      "text\/plain":[
       "<Axes: ylabel='Country'>"
      ]
     },
     "metadata":{},
     "output_type":"display_data"
    },
    {
     "data":{
      "image\/png":"[encoded data removed]"
     },
     "metadata":{
      "image\/png":{}
     },
     "output_type":"display_data"
    }
   ],
   "metadata":{
    "datalore":{
     "node_id":"OEfY0npplEml9t26SVFnee",
     "type":"CODE",
     "hide_input_from_viewers":true,
     "hide_output_from_viewers":true
    }
   }
  },
  {
   "cell_type":"code",
   "source":[
    "age_data = marathon[marathon[\"Country\"].isin([\"USA\"])]\n",
    "age_data.head()"
   ],
   "execution_count":27,
   "outputs":[
    {
     "data":{
      "text\/html":[
       "<div>\n",
       "<style scoped>\n",
       "    .dataframe tbody tr th:only-of-type {\n",
       "        vertical-align: middle;\n",
       "    }\n",
       "\n",
       "    .dataframe tbody tr th {\n",
       "        vertical-align: top;\n",
       "    }\n",
       "\n",
       "    .dataframe thead th {\n",
       "        text-align: right;\n",
       "    }\n",
       "<\/style>\n",
       "<table border=\"1\" class=\"dataframe\">\n",
       "  <thead>\n",
       "    <tr style=\"text-align: right;\">\n",
       "      <th><\/th>\n",
       "      <th>Age<\/th>\n",
       "      <th>M\/F<\/th>\n",
       "      <th>Country<\/th>\n",
       "      <th>40K<\/th>\n",
       "      <th>TimeSeconds<\/th>\n",
       "    <\/tr>\n",
       "  <\/thead>\n",
       "  <tbody>\n",
       "    <tr>\n",
       "      <th>1<\/th>\n",
       "      <td>30<\/td>\n",
       "      <td>M<\/td>\n",
       "      <td>USA<\/td>\n",
       "      <td>2:03:14<\/td>\n",
       "      <td>7394.0<\/td>\n",
       "    <\/tr>\n",
       "    <tr>\n",
       "      <th>3<\/th>\n",
       "      <td>32<\/td>\n",
       "      <td>M<\/td>\n",
       "      <td>USA<\/td>\n",
       "      <td>2:04:35<\/td>\n",
       "      <td>7475.0<\/td>\n",
       "    <\/tr>\n",
       "    <tr>\n",
       "      <th>5<\/th>\n",
       "      <td>40<\/td>\n",
       "      <td>M<\/td>\n",
       "      <td>USA<\/td>\n",
       "      <td>2:05:21<\/td>\n",
       "      <td>7521.0<\/td>\n",
       "    <\/tr>\n",
       "    <tr>\n",
       "      <th>6<\/th>\n",
       "      <td>33<\/td>\n",
       "      <td>M<\/td>\n",
       "      <td>USA<\/td>\n",
       "      <td>2:05:41<\/td>\n",
       "      <td>7541.0<\/td>\n",
       "    <\/tr>\n",
       "    <tr>\n",
       "      <th>8<\/th>\n",
       "      <td>27<\/td>\n",
       "      <td>M<\/td>\n",
       "      <td>USA<\/td>\n",
       "      <td>2:07:17<\/td>\n",
       "      <td>7637.0<\/td>\n",
       "    <\/tr>\n",
       "  <\/tbody>\n",
       "<\/table>\n",
       "<\/div>"
      ]
     },
     "metadata":{},
     "output_type":"display_data"
    }
   ],
   "metadata":{
    "datalore":{
     "node_id":"VqiyBdwCI7gYDBYhFysGEY",
     "type":"CODE",
     "hide_input_from_viewers":true,
     "hide_output_from_viewers":true
    }
   }
  },
  {
   "cell_type":"code",
   "source":[
    "age_data['Age'].plot(kind='hist')"
   ],
   "execution_count":28,
   "outputs":[
    {
     "data":{
      "text\/plain":[
       "<Axes: ylabel='Frequency'>"
      ]
     },
     "metadata":{},
     "output_type":"display_data"
    },
    {
     "data":{
      "image\/png":"[encoded data removed]"
     },
     "metadata":{
      "image\/png":{}
     },
     "output_type":"display_data"
    }
   ],
   "metadata":{
    "datalore":{
     "node_id":"xPqltmA9QRfN8Q0DEUGCMz",
     "type":"CODE",
     "hide_input_from_viewers":true,
     "hide_output_from_viewers":true
    }
   }
  },
  {
   "cell_type":"code",
   "source":[
    "uniqe_age=age_data['Age'].nunique()"
   ],
   "execution_count":31,
   "outputs":[],
   "metadata":{
    "datalore":{
     "node_id":"zNIWxXSQfDZlQV2FyPVCcO",
     "type":"CODE",
     "hide_input_from_viewers":true,
     "hide_output_from_viewers":true
    }
   }
  },
  {
   "cell_type":"code",
   "source":[
    "age_data['Age'].plot(kind='hist', bins=uniqe_age)"
   ],
   "execution_count":32,
   "outputs":[
    {
     "data":{
      "text\/plain":[
       "<Axes: ylabel='Frequency'>"
      ]
     },
     "metadata":{},
     "output_type":"display_data"
    },
    {
     "data":{
      "image\/png":"[encoded data removed]"
     },
     "metadata":{
      "image\/png":{}
     },
     "output_type":"display_data"
    }
   ],
   "metadata":{
    "datalore":{
     "node_id":"bxUtTEGfAzrgHKc8Bjwcdk",
     "type":"CODE",
     "hide_input_from_viewers":true,
     "hide_output_from_viewers":true
    }
   }
  },
  {
   "cell_type":"code",
   "source":[
    "data_USA = marathon[ marathon[\"Country\"].isin([\"USA\"]) ]\n",
    "data_USA.head()"
   ],
   "execution_count":33,
   "outputs":[
    {
     "data":{
      "text\/html":[
       "<div>\n",
       "<style scoped>\n",
       "    .dataframe tbody tr th:only-of-type {\n",
       "        vertical-align: middle;\n",
       "    }\n",
       "\n",
       "    .dataframe tbody tr th {\n",
       "        vertical-align: top;\n",
       "    }\n",
       "\n",
       "    .dataframe thead th {\n",
       "        text-align: right;\n",
       "    }\n",
       "<\/style>\n",
       "<table border=\"1\" class=\"dataframe\">\n",
       "  <thead>\n",
       "    <tr style=\"text-align: right;\">\n",
       "      <th><\/th>\n",
       "      <th>Age<\/th>\n",
       "      <th>M\/F<\/th>\n",
       "      <th>Country<\/th>\n",
       "      <th>40K<\/th>\n",
       "      <th>TimeSeconds<\/th>\n",
       "    <\/tr>\n",
       "  <\/thead>\n",
       "  <tbody>\n",
       "    <tr>\n",
       "      <th>1<\/th>\n",
       "      <td>30<\/td>\n",
       "      <td>M<\/td>\n",
       "      <td>USA<\/td>\n",
       "      <td>2:03:14<\/td>\n",
       "      <td>7394.0<\/td>\n",
       "    <\/tr>\n",
       "    <tr>\n",
       "      <th>3<\/th>\n",
       "      <td>32<\/td>\n",
       "      <td>M<\/td>\n",
       "      <td>USA<\/td>\n",
       "      <td>2:04:35<\/td>\n",
       "      <td>7475.0<\/td>\n",
       "    <\/tr>\n",
       "    <tr>\n",
       "      <th>5<\/th>\n",
       "      <td>40<\/td>\n",
       "      <td>M<\/td>\n",
       "      <td>USA<\/td>\n",
       "      <td>2:05:21<\/td>\n",
       "      <td>7521.0<\/td>\n",
       "    <\/tr>\n",
       "    <tr>\n",
       "      <th>6<\/th>\n",
       "      <td>33<\/td>\n",
       "      <td>M<\/td>\n",
       "      <td>USA<\/td>\n",
       "      <td>2:05:41<\/td>\n",
       "      <td>7541.0<\/td>\n",
       "    <\/tr>\n",
       "    <tr>\n",
       "      <th>8<\/th>\n",
       "      <td>27<\/td>\n",
       "      <td>M<\/td>\n",
       "      <td>USA<\/td>\n",
       "      <td>2:07:17<\/td>\n",
       "      <td>7637.0<\/td>\n",
       "    <\/tr>\n",
       "  <\/tbody>\n",
       "<\/table>\n",
       "<\/div>"
      ]
     },
     "metadata":{},
     "output_type":"display_data"
    }
   ],
   "metadata":{
    "datalore":{
     "node_id":"piaXNptnT67ZejBc5R7mMN",
     "type":"CODE",
     "hide_input_from_viewers":true,
     "hide_output_from_viewers":true
    }
   }
  },
  {
   "cell_type":"code",
   "source":[
    "data_USA['Age'].plot(kind='box')"
   ],
   "execution_count":35,
   "outputs":[
    {
     "data":{
      "text\/plain":[
       "<Axes: >"
      ]
     },
     "metadata":{},
     "output_type":"display_data"
    },
    {
     "data":{
      "image\/png":"[encoded data removed]"
     },
     "metadata":{
      "image\/png":{}
     },
     "output_type":"display_data"
    }
   ],
   "metadata":{
    "datalore":{
     "node_id":"uVqYXYQ4SfBLzJGKIiejf0",
     "type":"CODE",
     "hide_input_from_viewers":true,
     "hide_output_from_viewers":true
    }
   }
  },
  {
   "cell_type":"code",
   "source":[
    "USA = marathon[ marathon[\"Country\"].isin([\"USA\"]) ][\"Age\"]\n",
    "CAN = marathon[ marathon[\"Country\"].isin([\"CAN\"]) ][\"Age\"]\n",
    "df = pd.DataFrame({'USA':USA, 'CAN':CAN})\n",
    "df.head()"
   ],
   "execution_count":36,
   "outputs":[
    {
     "data":{
      "text\/html":[
       "<div>\n",
       "<style scoped>\n",
       "    .dataframe tbody tr th:only-of-type {\n",
       "        vertical-align: middle;\n",
       "    }\n",
       "\n",
       "    .dataframe tbody tr th {\n",
       "        vertical-align: top;\n",
       "    }\n",
       "\n",
       "    .dataframe thead th {\n",
       "        text-align: right;\n",
       "    }\n",
       "<\/style>\n",
       "<table border=\"1\" class=\"dataframe\">\n",
       "  <thead>\n",
       "    <tr style=\"text-align: right;\">\n",
       "      <th><\/th>\n",
       "      <th>USA<\/th>\n",
       "      <th>CAN<\/th>\n",
       "    <\/tr>\n",
       "  <\/thead>\n",
       "  <tbody>\n",
       "    <tr>\n",
       "      <th>1<\/th>\n",
       "      <td>30.0<\/td>\n",
       "      <td>NaN<\/td>\n",
       "    <\/tr>\n",
       "    <tr>\n",
       "      <th>3<\/th>\n",
       "      <td>32.0<\/td>\n",
       "      <td>NaN<\/td>\n",
       "    <\/tr>\n",
       "    <tr>\n",
       "      <th>5<\/th>\n",
       "      <td>40.0<\/td>\n",
       "      <td>NaN<\/td>\n",
       "    <\/tr>\n",
       "    <tr>\n",
       "      <th>6<\/th>\n",
       "      <td>33.0<\/td>\n",
       "      <td>NaN<\/td>\n",
       "    <\/tr>\n",
       "    <tr>\n",
       "      <th>8<\/th>\n",
       "      <td>27.0<\/td>\n",
       "      <td>NaN<\/td>\n",
       "    <\/tr>\n",
       "  <\/tbody>\n",
       "<\/table>\n",
       "<\/div>"
      ]
     },
     "metadata":{},
     "output_type":"display_data"
    }
   ],
   "metadata":{
    "datalore":{
     "node_id":"8LZZUi9jBlYFSCgQHrqKQP",
     "type":"CODE",
     "hide_input_from_viewers":true,
     "hide_output_from_viewers":true
    }
   }
  },
  {
   "cell_type":"code",
   "source":[
    "df.plot(kind='box')"
   ],
   "execution_count":37,
   "outputs":[
    {
     "data":{
      "text\/plain":[
       "<Axes: >"
      ]
     },
     "metadata":{},
     "output_type":"display_data"
    },
    {
     "data":{
      "image\/png":"[encoded data removed]"
     },
     "metadata":{
      "image\/png":{}
     },
     "output_type":"display_data"
    }
   ],
   "metadata":{
    "datalore":{
     "node_id":"SwboAY22BOZ0OUBJEkLHud",
     "type":"CODE",
     "hide_input_from_viewers":true,
     "hide_output_from_viewers":true
    }
   }
  }
 ],
 "metadata":{
  "kernelspec":{
   "display_name":"Python",
   "language":"python",
   "name":"python"
  },
  "datalore":{
   "computation_mode":"JUPYTER",
   "package_manager":"pip",
   "base_environment":"default",
   "packages":[],
   "report_row_ids":[],
   "version":3
  }
 },
 "nbformat":4,
 "nbformat_minor":4
}