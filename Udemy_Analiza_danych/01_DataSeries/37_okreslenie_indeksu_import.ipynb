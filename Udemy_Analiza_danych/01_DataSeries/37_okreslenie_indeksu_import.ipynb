{
 "cells":[
  {
   "cell_type":"code",
   "source":[
    "import pandas as pd\n",
    "import numpy as np\n",
    "import matplotlib.pyplot as plt\n",
    "import math"
   ],
   "execution_count":2,
   "outputs":[],
   "metadata":{
    "datalore":{
     "node_id":"bGGxA4X6PpH8J4jLCYsvUg",
     "type":"CODE",
     "hide_input_from_viewers":true,
     "hide_output_from_viewers":true
    }
   }
  },
  {
   "cell_type":"code",
   "source":[
    "pd.read_csv(\"..\/workspace_files\/pokemon.csv\")"
   ],
   "execution_count":3,
   "outputs":[
    {
     "data":{
      "text\/html":[
       "<div>\n",
       "<style scoped>\n",
       "    .dataframe tbody tr th:only-of-type {\n",
       "        vertical-align: middle;\n",
       "    }\n",
       "\n",
       "    .dataframe tbody tr th {\n",
       "        vertical-align: top;\n",
       "    }\n",
       "\n",
       "    .dataframe thead th {\n",
       "        text-align: right;\n",
       "    }\n",
       "<\/style>\n",
       "<table border=\"1\" class=\"dataframe\">\n",
       "  <thead>\n",
       "    <tr style=\"text-align: right;\">\n",
       "      <th><\/th>\n",
       "      <th>#<\/th>\n",
       "      <th>Name<\/th>\n",
       "      <th>Type 1<\/th>\n",
       "      <th>Type 2<\/th>\n",
       "      <th>Total<\/th>\n",
       "      <th>HP<\/th>\n",
       "      <th>Attack<\/th>\n",
       "      <th>Defense<\/th>\n",
       "      <th>Sp. Atk<\/th>\n",
       "      <th>Sp. Def<\/th>\n",
       "      <th>Speed<\/th>\n",
       "      <th>Generation<\/th>\n",
       "      <th>Legendary<\/th>\n",
       "    <\/tr>\n",
       "  <\/thead>\n",
       "  <tbody>\n",
       "    <tr>\n",
       "      <th>0<\/th>\n",
       "      <td>1<\/td>\n",
       "      <td>Bulbasaur<\/td>\n",
       "      <td>Grass<\/td>\n",
       "      <td>Poison<\/td>\n",
       "      <td>318<\/td>\n",
       "      <td>45<\/td>\n",
       "      <td>49<\/td>\n",
       "      <td>49<\/td>\n",
       "      <td>65<\/td>\n",
       "      <td>65<\/td>\n",
       "      <td>45<\/td>\n",
       "      <td>1<\/td>\n",
       "      <td>False<\/td>\n",
       "    <\/tr>\n",
       "    <tr>\n",
       "      <th>1<\/th>\n",
       "      <td>2<\/td>\n",
       "      <td>Ivysaur<\/td>\n",
       "      <td>Grass<\/td>\n",
       "      <td>Poison<\/td>\n",
       "      <td>405<\/td>\n",
       "      <td>60<\/td>\n",
       "      <td>62<\/td>\n",
       "      <td>63<\/td>\n",
       "      <td>80<\/td>\n",
       "      <td>80<\/td>\n",
       "      <td>60<\/td>\n",
       "      <td>1<\/td>\n",
       "      <td>False<\/td>\n",
       "    <\/tr>\n",
       "    <tr>\n",
       "      <th>2<\/th>\n",
       "      <td>3<\/td>\n",
       "      <td>Venusaur<\/td>\n",
       "      <td>Grass<\/td>\n",
       "      <td>Poison<\/td>\n",
       "      <td>525<\/td>\n",
       "      <td>80<\/td>\n",
       "      <td>82<\/td>\n",
       "      <td>83<\/td>\n",
       "      <td>100<\/td>\n",
       "      <td>100<\/td>\n",
       "      <td>80<\/td>\n",
       "      <td>1<\/td>\n",
       "      <td>False<\/td>\n",
       "    <\/tr>\n",
       "    <tr>\n",
       "      <th>3<\/th>\n",
       "      <td>3<\/td>\n",
       "      <td>VenusaurMega Venusaur<\/td>\n",
       "      <td>Grass<\/td>\n",
       "      <td>Poison<\/td>\n",
       "      <td>625<\/td>\n",
       "      <td>80<\/td>\n",
       "      <td>100<\/td>\n",
       "      <td>123<\/td>\n",
       "      <td>122<\/td>\n",
       "      <td>120<\/td>\n",
       "      <td>80<\/td>\n",
       "      <td>1<\/td>\n",
       "      <td>False<\/td>\n",
       "    <\/tr>\n",
       "    <tr>\n",
       "      <th>4<\/th>\n",
       "      <td>4<\/td>\n",
       "      <td>Charmander<\/td>\n",
       "      <td>Fire<\/td>\n",
       "      <td>NaN<\/td>\n",
       "      <td>309<\/td>\n",
       "      <td>39<\/td>\n",
       "      <td>52<\/td>\n",
       "      <td>43<\/td>\n",
       "      <td>60<\/td>\n",
       "      <td>50<\/td>\n",
       "      <td>65<\/td>\n",
       "      <td>1<\/td>\n",
       "      <td>False<\/td>\n",
       "    <\/tr>\n",
       "    <tr>\n",
       "      <th>...<\/th>\n",
       "      <td>...<\/td>\n",
       "      <td>...<\/td>\n",
       "      <td>...<\/td>\n",
       "      <td>...<\/td>\n",
       "      <td>...<\/td>\n",
       "      <td>...<\/td>\n",
       "      <td>...<\/td>\n",
       "      <td>...<\/td>\n",
       "      <td>...<\/td>\n",
       "      <td>...<\/td>\n",
       "      <td>...<\/td>\n",
       "      <td>...<\/td>\n",
       "      <td>...<\/td>\n",
       "    <\/tr>\n",
       "    <tr>\n",
       "      <th>795<\/th>\n",
       "      <td>719<\/td>\n",
       "      <td>Diancie<\/td>\n",
       "      <td>Rock<\/td>\n",
       "      <td>Fairy<\/td>\n",
       "      <td>600<\/td>\n",
       "      <td>50<\/td>\n",
       "      <td>100<\/td>\n",
       "      <td>150<\/td>\n",
       "      <td>100<\/td>\n",
       "      <td>150<\/td>\n",
       "      <td>50<\/td>\n",
       "      <td>6<\/td>\n",
       "      <td>True<\/td>\n",
       "    <\/tr>\n",
       "    <tr>\n",
       "      <th>796<\/th>\n",
       "      <td>719<\/td>\n",
       "      <td>DiancieMega Diancie<\/td>\n",
       "      <td>Rock<\/td>\n",
       "      <td>Fairy<\/td>\n",
       "      <td>700<\/td>\n",
       "      <td>50<\/td>\n",
       "      <td>160<\/td>\n",
       "      <td>110<\/td>\n",
       "      <td>160<\/td>\n",
       "      <td>110<\/td>\n",
       "      <td>110<\/td>\n",
       "      <td>6<\/td>\n",
       "      <td>True<\/td>\n",
       "    <\/tr>\n",
       "    <tr>\n",
       "      <th>797<\/th>\n",
       "      <td>720<\/td>\n",
       "      <td>HoopaHoopa Confined<\/td>\n",
       "      <td>Psychic<\/td>\n",
       "      <td>Ghost<\/td>\n",
       "      <td>600<\/td>\n",
       "      <td>80<\/td>\n",
       "      <td>110<\/td>\n",
       "      <td>60<\/td>\n",
       "      <td>150<\/td>\n",
       "      <td>130<\/td>\n",
       "      <td>70<\/td>\n",
       "      <td>6<\/td>\n",
       "      <td>True<\/td>\n",
       "    <\/tr>\n",
       "    <tr>\n",
       "      <th>798<\/th>\n",
       "      <td>720<\/td>\n",
       "      <td>HoopaHoopa Unbound<\/td>\n",
       "      <td>Psychic<\/td>\n",
       "      <td>Dark<\/td>\n",
       "      <td>680<\/td>\n",
       "      <td>80<\/td>\n",
       "      <td>160<\/td>\n",
       "      <td>60<\/td>\n",
       "      <td>170<\/td>\n",
       "      <td>130<\/td>\n",
       "      <td>80<\/td>\n",
       "      <td>6<\/td>\n",
       "      <td>True<\/td>\n",
       "    <\/tr>\n",
       "    <tr>\n",
       "      <th>799<\/th>\n",
       "      <td>721<\/td>\n",
       "      <td>Volcanion<\/td>\n",
       "      <td>Fire<\/td>\n",
       "      <td>Water<\/td>\n",
       "      <td>600<\/td>\n",
       "      <td>80<\/td>\n",
       "      <td>110<\/td>\n",
       "      <td>120<\/td>\n",
       "      <td>130<\/td>\n",
       "      <td>90<\/td>\n",
       "      <td>70<\/td>\n",
       "      <td>6<\/td>\n",
       "      <td>True<\/td>\n",
       "    <\/tr>\n",
       "  <\/tbody>\n",
       "<\/table>\n",
       "<p>800 rows × 13 columns<\/p>\n",
       "<\/div>"
      ]
     },
     "metadata":{},
     "output_type":"display_data"
    }
   ],
   "metadata":{
    "datalore":{
     "node_id":"Hy6sa21XsMLaqKjnCXoea5",
     "type":"CODE",
     "hide_input_from_viewers":true,
     "hide_output_from_viewers":true
    }
   }
  },
  {
   "cell_type":"code",
   "source":[
    "pd.read_csv(\"..\/workspace_files\/pokemon.csv\", usecols=['Attack']).squeeze()"
   ],
   "execution_count":4,
   "outputs":[
    {
     "data":{
      "text\/html":[
       "<pre>0       49\n",
       "1       62\n",
       "2       82\n",
       "3      100\n",
       "4       52\n",
       "      ... \n",
       "795    100\n",
       "796    160\n",
       "797    110\n",
       "798    160\n",
       "799    110\n",
       "Name: Attack, Length: 800, dtype: int64<\/pre>"
      ]
     },
     "metadata":{},
     "output_type":"display_data"
    }
   ],
   "metadata":{
    "datalore":{
     "node_id":"ls5vZupCNaohJRrnZlPWk1",
     "type":"CODE",
     "hide_input_from_viewers":true,
     "hide_output_from_viewers":true
    }
   }
  },
  {
   "cell_type":"code",
   "source":[
    "ser1 = pd.read_csv(\"..\/workspace_files\/pokemon.csv\", usecols=['Attack','#'], index_col='#').squeeze()"
   ],
   "execution_count":6,
   "outputs":[],
   "metadata":{
    "datalore":{
     "node_id":"cLfU5oSqizhxJQeexhbblL",
     "type":"CODE",
     "hide_input_from_viewers":true,
     "hide_output_from_viewers":true
    }
   }
  },
  {
   "cell_type":"code",
   "source":[
    "ser1[6]"
   ],
   "execution_count":7,
   "outputs":[
    {
     "data":{
      "text\/html":[
       "<pre>#\n",
       "6     84\n",
       "6    130\n",
       "6    104\n",
       "Name: Attack, dtype: int64<\/pre>"
      ]
     },
     "metadata":{},
     "output_type":"display_data"
    }
   ],
   "metadata":{
    "datalore":{
     "node_id":"uvuBpWud91jQTMGl4JcU7p",
     "type":"CODE",
     "hide_input_from_viewers":true,
     "hide_output_from_viewers":true
    }
   }
  },
  {
   "cell_type":"code",
   "source":[
    "ser1[5]"
   ],
   "execution_count":8,
   "outputs":[
    {
     "data":{
      "text\/plain":[
       "64"
      ]
     },
     "metadata":{},
     "output_type":"display_data"
    }
   ],
   "metadata":{
    "datalore":{
     "node_id":"qracI7lUV61vbtark2F1jS",
     "type":"CODE",
     "hide_input_from_viewers":true,
     "hide_output_from_viewers":true
    }
   }
  },
  {
   "cell_type":"code",
   "source":[
    "ser1[5:9]"
   ],
   "execution_count":9,
   "outputs":[
    {
     "data":{
      "text\/html":[
       "<pre>#\n",
       "5     64\n",
       "6     84\n",
       "6    130\n",
       "6    104\n",
       "Name: Attack, dtype: int64<\/pre>"
      ]
     },
     "metadata":{},
     "output_type":"display_data"
    }
   ],
   "metadata":{
    "datalore":{
     "node_id":"j1jHFawXQN55uAnQ6wsKFP",
     "type":"CODE",
     "hide_input_from_viewers":true,
     "hide_output_from_viewers":true
    }
   }
  },
  {
   "cell_type":"code",
   "source":[
    "ser1[[1,11,111]]"
   ],
   "execution_count":10,
   "outputs":[
    {
     "data":{
      "text\/html":[
       "<pre>#\n",
       "1      49\n",
       "11     20\n",
       "111    85\n",
       "Name: Attack, dtype: int64<\/pre>"
      ]
     },
     "metadata":{},
     "output_type":"display_data"
    }
   ],
   "metadata":{
    "datalore":{
     "node_id":"peQr36wVmlzbuJDQCkjHnn",
     "type":"CODE",
     "hide_input_from_viewers":true,
     "hide_output_from_viewers":true
    }
   }
  },
  {
   "cell_type":"code",
   "source":[
    "ser2 = pd.read_csv(\"..\/workspace_files\/pokemon.csv\", usecols=['Name','Attack'], index_col='Name').squeeze()"
   ],
   "execution_count":14,
   "outputs":[],
   "metadata":{
    "datalore":{
     "node_id":"rmmWruCVhg9EXfcEDcpZrQ",
     "type":"CODE",
     "hide_input_from_viewers":true,
     "hide_output_from_viewers":true
    }
   }
  },
  {
   "cell_type":"code",
   "source":[
    "ser2.head()"
   ],
   "execution_count":15,
   "outputs":[
    {
     "data":{
      "text\/html":[
       "<pre>Name\n",
       "Bulbasaur                 49\n",
       "Ivysaur                   62\n",
       "Venusaur                  82\n",
       "VenusaurMega Venusaur    100\n",
       "Charmander                52\n",
       "Name: Attack, dtype: int64<\/pre>"
      ]
     },
     "metadata":{},
     "output_type":"display_data"
    }
   ],
   "metadata":{
    "datalore":{
     "node_id":"uWvTjU3waXiKexXhFnDrBc",
     "type":"CODE",
     "hide_input_from_viewers":true,
     "hide_output_from_viewers":true
    }
   }
  },
  {
   "cell_type":"code",
   "source":[
    "ser2['Charmander']"
   ],
   "execution_count":16,
   "outputs":[
    {
     "data":{
      "text\/plain":[
       "52"
      ]
     },
     "metadata":{},
     "output_type":"display_data"
    }
   ],
   "metadata":{
    "datalore":{
     "node_id":"3X6oXEUvF1ANK68MlCkt38",
     "type":"CODE",
     "hide_input_from_viewers":true,
     "hide_output_from_viewers":true
    }
   }
  },
  {
   "cell_type":"code",
   "source":[
    "ser2['Ivysaur':'Charmander']"
   ],
   "execution_count":17,
   "outputs":[
    {
     "data":{
      "text\/html":[
       "<pre>Name\n",
       "Ivysaur                   62\n",
       "Venusaur                  82\n",
       "VenusaurMega Venusaur    100\n",
       "Charmander                52\n",
       "Name: Attack, dtype: int64<\/pre>"
      ]
     },
     "metadata":{},
     "output_type":"display_data"
    }
   ],
   "metadata":{
    "datalore":{
     "node_id":"2vpJ76KS2XluC9SsPPQwMJ",
     "type":"CODE",
     "hide_input_from_viewers":true,
     "hide_output_from_viewers":true
    }
   }
  },
  {
   "cell_type":"code",
   "source":[
    "ser2[['Ivysaur','Venusaur','Charmander']]"
   ],
   "execution_count":19,
   "outputs":[
    {
     "data":{
      "text\/html":[
       "<pre>Name\n",
       "Ivysaur       62\n",
       "Venusaur      82\n",
       "Charmander    52\n",
       "Name: Attack, dtype: int64<\/pre>"
      ]
     },
     "metadata":{},
     "output_type":"display_data"
    }
   ],
   "metadata":{
    "datalore":{
     "node_id":"CrXQOLplUZk5dMCJCdPlsg",
     "type":"CODE",
     "hide_input_from_viewers":true,
     "hide_output_from_viewers":true
    }
   }
  },
  {
   "cell_type":"code",
   "source":[
    "# ---------------------------------- ZADANIE -----------------------------\n",
    "\n",
    "fortune500 = pd.read_csv(\"..\/workspace_files\/Fortune 500 2017 - Fortune 500.csv\", usecols=['Rank','Title'], index_col='Rank').squeeze()"
   ],
   "execution_count":23,
   "outputs":[],
   "metadata":{
    "datalore":{
     "node_id":"f49rBAegwTbb0oZU1c7a29",
     "type":"CODE",
     "hide_input_from_viewers":true,
     "hide_output_from_viewers":true
    }
   }
  },
  {
   "cell_type":"code",
   "source":[
    "fortune500.head(10)"
   ],
   "execution_count":25,
   "outputs":[
    {
     "data":{
      "text\/html":[
       "<pre>Rank\n",
       "1                Walmart\n",
       "2     Berkshire Hathaway\n",
       "3                  Apple\n",
       "4            Exxon Mobil\n",
       "5               McKesson\n",
       "6     UnitedHealth Group\n",
       "7             CVS Health\n",
       "8         General Motors\n",
       "9                   AT&T\n",
       "10            Ford Motor\n",
       "Name: Title, dtype: object<\/pre>"
      ]
     },
     "metadata":{},
     "output_type":"display_data"
    }
   ],
   "metadata":{
    "datalore":{
     "node_id":"qjQm4cxld88SPdlRphGKWm",
     "type":"CODE",
     "hide_input_from_viewers":true,
     "hide_output_from_viewers":true
    }
   }
  },
  {
   "cell_type":"code",
   "source":[
    "fortune500.tail(50)"
   ],
   "execution_count":26,
   "outputs":[
    {
     "data":{
      "text\/html":[
       "<pre>Rank\n",
       "451              Citizens Financial Group\n",
       "452                        United Rentals\n",
       "453                                Clorox\n",
       "454                    Genesis Healthcare\n",
       "455                        M&T Bank Corp.\n",
       "456                             Ingredion\n",
       "457                                   UGI\n",
       "458                         Owens Corning\n",
       "459                            S&P Global\n",
       "460                                Markel\n",
       "461                     Wyndham Worldwide\n",
       "462                   Arthur J. Gallagher\n",
       "463                     Burlington Stores\n",
       "464              First American Financial\n",
       "465                              Symantec\n",
       "466                             Patterson\n",
       "467                                  Olin\n",
       "468                                NetApp\n",
       "469               Raymond James Financial\n",
       "470              TravelCenters of America\n",
       "471                                Fiserv\n",
       "472                 Host Hotels & Resorts\n",
       "473                   Insight Enterprises\n",
       "474                                Mattel\n",
       "475            AmTrust Financial Services\n",
       "476                  Cincinnati Financial\n",
       "477                  Simon Property Group\n",
       "478                         Western Union\n",
       "479                               KeyCorp\n",
       "480                     Delek US Holdings\n",
       "481           Booz Allen Hamilton Holding\n",
       "482                              Chemours\n",
       "483    Western & Southern Financial Group\n",
       "484                              Celanese\n",
       "485                   Windstream Holdings\n",
       "486                              Seaboard\n",
       "487                             Essendant\n",
       "488                                Apache\n",
       "489                                Airgas\n",
       "490                        Kelly Services\n",
       "491                         Liberty Media\n",
       "492                      Rockwell Collins\n",
       "493             Robert Half International\n",
       "494                             CH2M Hill\n",
       "495                              Big Lots\n",
       "496                         Michaels Cos.\n",
       "497                         Toll Brothers\n",
       "498                                 Yahoo\n",
       "499                         Vistra Energy\n",
       "500                        ABM Industries\n",
       "Name: Title, dtype: object<\/pre>"
      ]
     },
     "metadata":{},
     "output_type":"display_data"
    }
   ],
   "metadata":{
    "datalore":{
     "node_id":"P3lryJ5QCAJ0pwg40hFSMQ",
     "type":"CODE",
     "hide_input_from_viewers":true,
     "hide_output_from_viewers":true
    }
   }
  },
  {
   "cell_type":"code",
   "source":[
    "fortune500 = pd.read_csv(\"..\/workspace_files\/Fortune 500 2017 - Fortune 500.csv\", usecols=['Employees','Title'], index_col='Title').squeeze()"
   ],
   "execution_count":27,
   "outputs":[],
   "metadata":{
    "datalore":{
     "node_id":"aUjnu1vyIQyb4Er6IiuI2x",
     "type":"CODE",
     "hide_input_from_viewers":true,
     "hide_output_from_viewers":true
    }
   }
  },
  {
   "cell_type":"code",
   "source":[
    "fortune500.head()"
   ],
   "execution_count":28,
   "outputs":[
    {
     "data":{
      "text\/html":[
       "<pre>Title\n",
       "Walmart               2300000\n",
       "Berkshire Hathaway     367700\n",
       "Apple                  116000\n",
       "Exxon Mobil             72700\n",
       "McKesson                68000\n",
       "Name: Employees, dtype: int64<\/pre>"
      ]
     },
     "metadata":{},
     "output_type":"display_data"
    }
   ],
   "metadata":{
    "datalore":{
     "node_id":"qV9BUnkxmvxPRRnEEiYsNH",
     "type":"CODE",
     "hide_input_from_viewers":true,
     "hide_output_from_viewers":true
    }
   }
  },
  {
   "cell_type":"code",
   "source":[
    "fortune500[['IBM', 'Facebook', 'Apple', 'Alphabet']]"
   ],
   "execution_count":31,
   "outputs":[
    {
     "data":{
      "text\/html":[
       "<pre>Title\n",
       "IBM         414400\n",
       "Facebook     17048\n",
       "Apple       116000\n",
       "Alphabet     72053\n",
       "Name: Employees, dtype: int64<\/pre>"
      ]
     },
     "metadata":{},
     "output_type":"display_data"
    }
   ],
   "metadata":{
    "datalore":{
     "node_id":"dxqJ5kcx6Z2PWgoac3xxAw",
     "type":"CODE",
     "hide_input_from_viewers":true,
     "hide_output_from_viewers":true
    }
   }
  },
  {
   "cell_type":"code",
   "source":[
    "fortune500['IBM':'Intel']"
   ],
   "execution_count":32,
   "outputs":[
    {
     "data":{
      "text\/html":[
       "<pre>Title\n",
       "IBM                          414400\n",
       "State Farm Insurance Cos.     68234\n",
       "Phillips 66                   14800\n",
       "Johnson & Johnson            126400\n",
       "Procter & Gamble             105000\n",
       "Valero Energy                  9996\n",
       "Target                       323000\n",
       "Freddie Mac                    5982\n",
       "Lowe’s                       240000\n",
       "Dell Technologies            138000\n",
       "MetLife                       58000\n",
       "Aetna                         49500\n",
       "PepsiCo                      264000\n",
       "Archer Daniels Midland        31800\n",
       "UPS                          335520\n",
       "Intel                        106000\n",
       "Name: Employees, dtype: int64<\/pre>"
      ]
     },
     "metadata":{},
     "output_type":"display_data"
    }
   ],
   "metadata":{
    "datalore":{
     "node_id":"HCwGibsFS1m0svonI6XlvK",
     "type":"CODE",
     "hide_input_from_viewers":true,
     "hide_output_from_viewers":true
    }
   }
  }
 ],
 "metadata":{
  "kernelspec":{
   "display_name":"Python",
   "language":"python",
   "name":"python"
  },
  "datalore":{
   "computation_mode":"JUPYTER",
   "package_manager":"pip",
   "base_environment":"default",
   "packages":[],
   "report_row_ids":[],
   "version":3
  }
 },
 "nbformat":4,
 "nbformat_minor":4
}