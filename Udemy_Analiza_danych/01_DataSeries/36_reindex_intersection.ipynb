{
 "cells":[
  {
   "cell_type":"code",
   "source":[
    "import pandas as pd\n",
    "index = ['a','b','c','d','e1','e2']\n",
    "values = ['Austria', 'Belgia', 'Kanada', 'Dania', 'Anglia','Estonia']\n",
    "s = pd.Series(values,index)"
   ],
   "execution_count":1,
   "outputs":[],
   "metadata":{
    "datalore":{
     "node_id":"PgzWdlKkxIIy0gDeaqGKbs",
     "type":"CODE",
     "hide_input_from_viewers":true,
     "hide_output_from_viewers":true
    }
   }
  },
  {
   "cell_type":"code",
   "source":[
    "searchList = ['a','b']\n",
    "s.loc[searchList]"
   ],
   "execution_count":3,
   "outputs":[
    {
     "data":{
      "text\/html":[
       "<pre>a    Austria\n",
       "b     Belgia\n",
       "dtype: object<\/pre>"
      ]
     },
     "metadata":{},
     "output_type":"display_data"
    }
   ],
   "metadata":{
    "datalore":{
     "node_id":"n6NbAkueLtmRbpjJxnMVEz",
     "type":"CODE",
     "hide_input_from_viewers":true,
     "hide_output_from_viewers":true
    }
   }
  },
  {
   "cell_type":"code",
   "source":[
    "searchListNotFound = ['a','b','f']\n",
    "s.loc[searchListNotFound]"
   ],
   "execution_count":4,
   "outputs":[
    {
     "ename":"KeyError",
     "evalue":"KeyError: \"['f'] not in index\"",
     "traceback":[
      "\u001b[0;31m---------------------------------------------------------------------------",
      "Traceback (most recent call last)",
      "    at line 2 in <module>",
      "    at line 1073 in __getitem__(self, key)",
      "    at line 1301 in _getitem_axis(self, key, axis)",
      "    at line 1239 in _getitem_iterable(self, key, axis)",
      "    at line 1432 in _get_listlike_indexer(self, key, axis)",
      "    at line 6070 in _get_indexer_strict(self, key, axis_name)",
      "    at line 6133 in _raise_if_missing(self, key, indexer, axis_name)",
      "KeyError: \"['f'] not in index\""
     ],
     "output_type":"error"
    }
   ],
   "metadata":{
    "datalore":{
     "node_id":"UnwbZTABddKV3SdRdKtfbr",
     "type":"CODE",
     "hide_input_from_viewers":true,
     "hide_output_from_viewers":true
    }
   }
  },
  {
   "cell_type":"code",
   "source":[
    "s.reindex(searchListNotFound)"
   ],
   "execution_count":5,
   "outputs":[
    {
     "data":{
      "text\/html":[
       "<pre>a    Austria\n",
       "b     Belgia\n",
       "f        NaN\n",
       "dtype: object<\/pre>"
      ]
     },
     "metadata":{},
     "output_type":"display_data"
    }
   ],
   "metadata":{
    "datalore":{
     "node_id":"bNqehh28Fw2kq9MV6HScI1",
     "type":"CODE",
     "hide_input_from_viewers":true,
     "hide_output_from_viewers":true
    }
   }
  },
  {
   "cell_type":"code",
   "source":[
    "s.index"
   ],
   "execution_count":6,
   "outputs":[
    {
     "data":{
      "text\/plain":[
       "Index(['a', 'b', 'c', 'd', 'e1', 'e2'], dtype='object')"
      ]
     },
     "metadata":{},
     "output_type":"display_data"
    }
   ],
   "metadata":{
    "datalore":{
     "node_id":"6ZRlMF8xq6nBmnq3aODt82",
     "type":"CODE",
     "hide_input_from_viewers":true,
     "hide_output_from_viewers":true
    }
   }
  },
  {
   "cell_type":"code",
   "source":[
    "s.index.intersection(searchListNotFound)"
   ],
   "execution_count":7,
   "outputs":[
    {
     "data":{
      "text\/plain":[
       "Index(['a', 'b'], dtype='object')"
      ]
     },
     "metadata":{},
     "output_type":"display_data"
    }
   ],
   "metadata":{
    "datalore":{
     "node_id":"FAzKeMPKnCnPM37xj1TAXn",
     "type":"CODE",
     "hide_input_from_viewers":true,
     "hide_output_from_viewers":true
    }
   }
  },
  {
   "cell_type":"code",
   "source":[
    "s.loc[s.index.intersection(searchListNotFound)]"
   ],
   "execution_count":8,
   "outputs":[
    {
     "data":{
      "text\/html":[
       "<pre>a    Austria\n",
       "b     Belgia\n",
       "dtype: object<\/pre>"
      ]
     },
     "metadata":{},
     "output_type":"display_data"
    }
   ],
   "metadata":{
    "datalore":{
     "node_id":"HjVq5j88tyGduJjV3ecCOY",
     "type":"CODE",
     "hide_input_from_viewers":true,
     "hide_output_from_viewers":true
    }
   }
  },
  {
   "cell_type":"code",
   "source":[
    "index = ['a','b','c','d','e','e']\n",
    "values = ['Austria', 'Belgia', 'Kanada', 'Dania', 'Anglia','Estonia']\n",
    "s = pd.Series(values,index)"
   ],
   "execution_count":10,
   "outputs":[],
   "metadata":{
    "datalore":{
     "node_id":"gNFViE6HKMsflNfyCCwMde",
     "type":"CODE",
     "hide_input_from_viewers":true,
     "hide_output_from_viewers":true
    }
   }
  },
  {
   "cell_type":"code",
   "source":[
    "s.loc[s.reindex(searchListNotFound)] #funkcja reindex nie radzi sobie z seriami, w których występują nieunikalne indeksy"
   ],
   "execution_count":17,
   "outputs":[
    {
     "name":"stderr",
     "text":[
      "<ipython-input-17-b965ac4286c6>:1: FutureWarning: reindexing with a non-unique Index is deprecated and will raise in a future version.\n",
      "  s.loc[s.reindex(searchListNotFound)] #funkcja reindex nie radzi sobie z seriami, w których występują nieunikalne indeksy\n"
     ],
     "output_type":"stream"
    },
    {
     "ename":"ValueError",
     "evalue":"ValueError: cannot reindex on an axis with duplicate labels",
     "traceback":[
      "\u001b[0;31m---------------------------------------------------------------------------",
      "Traceback (most recent call last)",
      "    at line 1 in <module>",
      "    at line 5094 in reindex(self, *args, **kwargs)",
      "    at line 5289 in reindex(self, *args, **kwargs)",
      "    at line 5309 in _reindex_axes(self, axes, level, limit, tolerance, method, fill_value, copy)",
      "    at line 5355 in _reindex_with_indexers(self, reindexers, fill_value, copy, allow_dups)",
      "    at line 737 in reindex_indexer(self, new_axis, indexer, axis, fill_value, allow_dups, copy, only_slice, use_na_proxy)",
      "    at line 4316 in _validate_can_reindex(self, indexer)",
      "ValueError: cannot reindex on an axis with duplicate labels"
     ],
     "output_type":"error"
    }
   ],
   "metadata":{
    "datalore":{
     "node_id":"6DKQczqnDKhI3OGtXlGGvK",
     "type":"CODE",
     "hide_input_from_viewers":true,
     "hide_output_from_viewers":true
    }
   }
  },
  {
   "cell_type":"code",
   "source":[
    "s.loc[s.index.intersection(searchListNotFound)]"
   ],
   "execution_count":15,
   "outputs":[
    {
     "data":{
      "text\/html":[
       "<pre>a    Austria\n",
       "b     Belgia\n",
       "dtype: object<\/pre>"
      ]
     },
     "metadata":{},
     "output_type":"display_data"
    }
   ],
   "metadata":{
    "datalore":{
     "node_id":"CHbzeW4phKMeq8JADpfwPn",
     "type":"CODE",
     "hide_input_from_viewers":true,
     "hide_output_from_viewers":true
    }
   }
  },
  {
   "cell_type":"code",
   "source":[
    "searchListNotFound += 'e'\n",
    "searchListNotFound"
   ],
   "execution_count":18,
   "outputs":[
    {
     "data":{
      "text\/plain":[
       "['a', 'b', 'f', 'e']"
      ]
     },
     "metadata":{},
     "output_type":"display_data"
    }
   ],
   "metadata":{
    "datalore":{
     "node_id":"mEbiGGamJmWMI4xEOrjzSh",
     "type":"CODE",
     "hide_input_from_viewers":true,
     "hide_output_from_viewers":true
    }
   }
  },
  {
   "cell_type":"code",
   "source":[
    "s.loc[s.index.intersection(searchListNotFound)]"
   ],
   "execution_count":19,
   "outputs":[
    {
     "data":{
      "text\/html":[
       "<pre>a    Austria\n",
       "b     Belgia\n",
       "e     Anglia\n",
       "e    Estonia\n",
       "dtype: object<\/pre>"
      ]
     },
     "metadata":{},
     "output_type":"display_data"
    }
   ],
   "metadata":{
    "datalore":{
     "node_id":"zbZ9Pg1GO2CoW1FDhNABuV",
     "type":"CODE",
     "hide_input_from_viewers":true,
     "hide_output_from_viewers":true
    }
   }
  },
  {
   "cell_type":"code",
   "source":[
    "# -------------------------- ZADANIE ---------------------------\n",
    "\n",
    "countries = pd.read_csv(\"..\/workspace_files\/countries.csv\", usecols=['Symbol','Name'], index_col='Symbol').squeeze()\n",
    "countries.dropna(inplace=True)"
   ],
   "execution_count":4,
   "outputs":[],
   "metadata":{
    "datalore":{
     "node_id":"8F1lTK1cNH0KsOyNLJPx8l",
     "type":"CODE",
     "hide_input_from_viewers":true,
     "hide_output_from_viewers":true
    }
   }
  },
  {
   "cell_type":"code",
   "source":[
    "countries.head(20)"
   ],
   "execution_count":5,
   "outputs":[
    {
     "data":{
      "text\/html":[
       "<pre>Symbol\n",
       "AF            Afghanistan\n",
       "AL                Albania\n",
       "DZ                Algeria\n",
       "AD                Andorra\n",
       "AO                 Angola\n",
       "AI               Anguilla\n",
       "AQ             Antarctica\n",
       "AG    Antigua and Barbuda\n",
       "SA           Saudi Arabia\n",
       "AR              Argentina\n",
       "AM                Armenia\n",
       "AW                  Aruba\n",
       "AU              Australia\n",
       "AT                Austria\n",
       "AZ             Azerbaijan\n",
       "BS                Bahamas\n",
       "BH                Bahrain\n",
       "BD             Bangladesh\n",
       "BB               Barbados\n",
       "BE                Belgium\n",
       "Name: Name, dtype: object<\/pre>"
      ]
     },
     "metadata":{},
     "output_type":"display_data"
    }
   ],
   "metadata":{
    "datalore":{
     "node_id":"mi1v8gg2Nbv4tb9LBkuZ8U",
     "type":"CODE",
     "hide_input_from_viewers":true,
     "hide_output_from_viewers":true
    }
   }
  },
  {
   "cell_type":"code",
   "source":[
    "toFind = [\n",
    "    'BB',\n",
    "    'AA',\n",
    "    'BS'\n",
    "]"
   ],
   "execution_count":6,
   "outputs":[],
   "metadata":{
    "datalore":{
     "node_id":"W63FTzIzl6dB04y6ncbQRN",
     "type":"CODE",
     "hide_input_from_viewers":true,
     "hide_output_from_viewers":true
    }
   }
  },
  {
   "cell_type":"code",
   "source":[
    "countries.loc[toFind]"
   ],
   "execution_count":9,
   "outputs":[
    {
     "ename":"KeyError",
     "evalue":"KeyError: \"['AA'] not in index\"",
     "traceback":[
      "\u001b[0;31m---------------------------------------------------------------------------",
      "Traceback (most recent call last)",
      "    at line 1 in <module>",
      "    at line 1073 in __getitem__(self, key)",
      "    at line 1301 in _getitem_axis(self, key, axis)",
      "    at line 1239 in _getitem_iterable(self, key, axis)",
      "    at line 1432 in _get_listlike_indexer(self, key, axis)",
      "    at line 6070 in _get_indexer_strict(self, key, axis_name)",
      "    at line 6133 in _raise_if_missing(self, key, indexer, axis_name)",
      "KeyError: \"['AA'] not in index\""
     ],
     "output_type":"error"
    }
   ],
   "metadata":{
    "datalore":{
     "node_id":"SuiR2RtLVxgevzHVsYdmeX",
     "type":"CODE",
     "hide_input_from_viewers":true,
     "hide_output_from_viewers":true
    }
   }
  },
  {
   "cell_type":"code",
   "source":[
    "countries.reindex(toFind)"
   ],
   "execution_count":7,
   "outputs":[
    {
     "data":{
      "text\/html":[
       "<pre>Symbol\n",
       "BB    Barbados\n",
       "AA         NaN\n",
       "BS     Bahamas\n",
       "Name: Name, dtype: object<\/pre>"
      ]
     },
     "metadata":{},
     "output_type":"display_data"
    }
   ],
   "metadata":{
    "datalore":{
     "node_id":"zFmFFPBIqG1Uq33QFWHjpN",
     "type":"CODE",
     "hide_input_from_viewers":true,
     "hide_output_from_viewers":true
    }
   }
  },
  {
   "cell_type":"code",
   "source":[
    "countries.index.intersection(toFind)"
   ],
   "execution_count":10,
   "outputs":[
    {
     "data":{
      "text\/plain":[
       "Index(['BS', 'BB'], dtype='object', name='Symbol')"
      ]
     },
     "metadata":{},
     "output_type":"display_data"
    }
   ],
   "metadata":{
    "datalore":{
     "node_id":"OJo73DQySKsT8yLcEYcLHD",
     "type":"CODE",
     "hide_input_from_viewers":true,
     "hide_output_from_viewers":true
    }
   }
  },
  {
   "cell_type":"code",
   "source":[
    "countries.loc[countries.index.intersection(toFind)]"
   ],
   "execution_count":8,
   "outputs":[
    {
     "data":{
      "text\/html":[
       "<pre>Symbol\n",
       "BS     Bahamas\n",
       "BB    Barbados\n",
       "Name: Name, dtype: object<\/pre>"
      ]
     },
     "metadata":{},
     "output_type":"display_data"
    }
   ],
   "metadata":{
    "datalore":{
     "node_id":"LTpZF7LINt7wspTq5VR7lT",
     "type":"CODE",
     "hide_input_from_viewers":true,
     "hide_output_from_viewers":true
    }
   }
  }
 ],
 "metadata":{
  "kernelspec":{
   "display_name":"Python",
   "language":"python",
   "name":"python"
  },
  "datalore":{
   "computation_mode":"JUPYTER",
   "package_manager":"pip",
   "base_environment":"default",
   "packages":[],
   "report_row_ids":[],
   "version":3
  }
 },
 "nbformat":4,
 "nbformat_minor":4
}